{
 "cells": [
  {
   "cell_type": "code",
   "execution_count": 1,
   "metadata": {},
   "outputs": [],
   "source": [
    "#BLOCO 1: CONFIGURAÇÕES DO PROGRAMA\n",
    "\n",
    "import random as rd\n",
    "import numpy as np\n",
    "import string\n",
    "try:\n",
    "    import matplotlib.pyplot as plt\n",
    "except:\n",
    "    print('Erro ao importar biblioteca  \"matplotlib.pyplot\"!')\n",
    "    \n",
    "#VARIÁVEIS GLOBAIS QUE DITAM O COMPORTAMENTO DA POPULAÇÃO\n",
    "CROSSOVER_RATE = 1\n",
    "MUTATION_RATE = 0.05\n",
    "COPIAS = 100\n",
    "GABARITO = 'ME*THINKS*IT*IS*LIKE*A*WEASEL'\n",
    "TAMANHO = len(GABARITO)"
   ]
  },
  {
   "cell_type": "code",
   "execution_count": 2,
   "metadata": {},
   "outputs": [],
   "source": [
    "#BLOCO 2: FUNÇÃO PARA CRIAR A STRING INICIAL \n",
    "\n",
    "def criaString():\n",
    "    #sorteia N caracteres aleatórios para ser a palavra inicial\n",
    "    palavra = ''                                                               #palavra inicia vazia\n",
    "    for tam in range(0,TAMANHO):                                                                         \n",
    "        letra = rd.choice(string.ascii_uppercase + string.digits + '*')        #sorteia um caractere       \n",
    "        palavra = palavra + letra                                              #concatena o caractere com a palavra\n",
    "    return palavra"
   ]
  },
  {
   "cell_type": "code",
   "execution_count": 3,
   "metadata": {},
   "outputs": [
    {
     "name": "stdout",
     "output_type": "stream",
     "text": [
      "ET83VYVEGLMXYFCEFW2YBMWC6LUG7\n"
     ]
    }
   ],
   "source": [
    "#BLOCO 3: TESTE DA FUNÇÃO ACIMA\n",
    "palavra = criaString()\n",
    "print(palavra)"
   ]
  },
  {
   "cell_type": "code",
   "execution_count": 4,
   "metadata": {},
   "outputs": [],
   "source": [
    "#BLOCO 4: CRIA A POPULAÇÃO\n",
    "\n",
    "def criaPop(individuo):\n",
    "    pop = list()                                                    #cria uma lista para armazenar a população\n",
    "    for tam in range(0,COPIAS):\n",
    "        pop.append(individuo)                                       #cria um número X de cópias do individuo\n",
    "    return pop"
   ]
  },
  {
   "cell_type": "code",
   "execution_count": 5,
   "metadata": {},
   "outputs": [
    {
     "name": "stdout",
     "output_type": "stream",
     "text": [
      "['ET83VYVEGLMXYFCEFW2YBMWC6LUG7', 'ET83VYVEGLMXYFCEFW2YBMWC6LUG7', 'ET83VYVEGLMXYFCEFW2YBMWC6LUG7', 'ET83VYVEGLMXYFCEFW2YBMWC6LUG7', 'ET83VYVEGLMXYFCEFW2YBMWC6LUG7', 'ET83VYVEGLMXYFCEFW2YBMWC6LUG7', 'ET83VYVEGLMXYFCEFW2YBMWC6LUG7', 'ET83VYVEGLMXYFCEFW2YBMWC6LUG7', 'ET83VYVEGLMXYFCEFW2YBMWC6LUG7', 'ET83VYVEGLMXYFCEFW2YBMWC6LUG7', 'ET83VYVEGLMXYFCEFW2YBMWC6LUG7', 'ET83VYVEGLMXYFCEFW2YBMWC6LUG7', 'ET83VYVEGLMXYFCEFW2YBMWC6LUG7', 'ET83VYVEGLMXYFCEFW2YBMWC6LUG7', 'ET83VYVEGLMXYFCEFW2YBMWC6LUG7', 'ET83VYVEGLMXYFCEFW2YBMWC6LUG7', 'ET83VYVEGLMXYFCEFW2YBMWC6LUG7', 'ET83VYVEGLMXYFCEFW2YBMWC6LUG7', 'ET83VYVEGLMXYFCEFW2YBMWC6LUG7', 'ET83VYVEGLMXYFCEFW2YBMWC6LUG7', 'ET83VYVEGLMXYFCEFW2YBMWC6LUG7', 'ET83VYVEGLMXYFCEFW2YBMWC6LUG7', 'ET83VYVEGLMXYFCEFW2YBMWC6LUG7', 'ET83VYVEGLMXYFCEFW2YBMWC6LUG7', 'ET83VYVEGLMXYFCEFW2YBMWC6LUG7', 'ET83VYVEGLMXYFCEFW2YBMWC6LUG7', 'ET83VYVEGLMXYFCEFW2YBMWC6LUG7', 'ET83VYVEGLMXYFCEFW2YBMWC6LUG7', 'ET83VYVEGLMXYFCEFW2YBMWC6LUG7', 'ET83VYVEGLMXYFCEFW2YBMWC6LUG7', 'ET83VYVEGLMXYFCEFW2YBMWC6LUG7', 'ET83VYVEGLMXYFCEFW2YBMWC6LUG7', 'ET83VYVEGLMXYFCEFW2YBMWC6LUG7', 'ET83VYVEGLMXYFCEFW2YBMWC6LUG7', 'ET83VYVEGLMXYFCEFW2YBMWC6LUG7', 'ET83VYVEGLMXYFCEFW2YBMWC6LUG7', 'ET83VYVEGLMXYFCEFW2YBMWC6LUG7', 'ET83VYVEGLMXYFCEFW2YBMWC6LUG7', 'ET83VYVEGLMXYFCEFW2YBMWC6LUG7', 'ET83VYVEGLMXYFCEFW2YBMWC6LUG7', 'ET83VYVEGLMXYFCEFW2YBMWC6LUG7', 'ET83VYVEGLMXYFCEFW2YBMWC6LUG7', 'ET83VYVEGLMXYFCEFW2YBMWC6LUG7', 'ET83VYVEGLMXYFCEFW2YBMWC6LUG7', 'ET83VYVEGLMXYFCEFW2YBMWC6LUG7', 'ET83VYVEGLMXYFCEFW2YBMWC6LUG7', 'ET83VYVEGLMXYFCEFW2YBMWC6LUG7', 'ET83VYVEGLMXYFCEFW2YBMWC6LUG7', 'ET83VYVEGLMXYFCEFW2YBMWC6LUG7', 'ET83VYVEGLMXYFCEFW2YBMWC6LUG7', 'ET83VYVEGLMXYFCEFW2YBMWC6LUG7', 'ET83VYVEGLMXYFCEFW2YBMWC6LUG7', 'ET83VYVEGLMXYFCEFW2YBMWC6LUG7', 'ET83VYVEGLMXYFCEFW2YBMWC6LUG7', 'ET83VYVEGLMXYFCEFW2YBMWC6LUG7', 'ET83VYVEGLMXYFCEFW2YBMWC6LUG7', 'ET83VYVEGLMXYFCEFW2YBMWC6LUG7', 'ET83VYVEGLMXYFCEFW2YBMWC6LUG7', 'ET83VYVEGLMXYFCEFW2YBMWC6LUG7', 'ET83VYVEGLMXYFCEFW2YBMWC6LUG7', 'ET83VYVEGLMXYFCEFW2YBMWC6LUG7', 'ET83VYVEGLMXYFCEFW2YBMWC6LUG7', 'ET83VYVEGLMXYFCEFW2YBMWC6LUG7', 'ET83VYVEGLMXYFCEFW2YBMWC6LUG7', 'ET83VYVEGLMXYFCEFW2YBMWC6LUG7', 'ET83VYVEGLMXYFCEFW2YBMWC6LUG7', 'ET83VYVEGLMXYFCEFW2YBMWC6LUG7', 'ET83VYVEGLMXYFCEFW2YBMWC6LUG7', 'ET83VYVEGLMXYFCEFW2YBMWC6LUG7', 'ET83VYVEGLMXYFCEFW2YBMWC6LUG7', 'ET83VYVEGLMXYFCEFW2YBMWC6LUG7', 'ET83VYVEGLMXYFCEFW2YBMWC6LUG7', 'ET83VYVEGLMXYFCEFW2YBMWC6LUG7', 'ET83VYVEGLMXYFCEFW2YBMWC6LUG7', 'ET83VYVEGLMXYFCEFW2YBMWC6LUG7', 'ET83VYVEGLMXYFCEFW2YBMWC6LUG7', 'ET83VYVEGLMXYFCEFW2YBMWC6LUG7', 'ET83VYVEGLMXYFCEFW2YBMWC6LUG7', 'ET83VYVEGLMXYFCEFW2YBMWC6LUG7', 'ET83VYVEGLMXYFCEFW2YBMWC6LUG7', 'ET83VYVEGLMXYFCEFW2YBMWC6LUG7', 'ET83VYVEGLMXYFCEFW2YBMWC6LUG7', 'ET83VYVEGLMXYFCEFW2YBMWC6LUG7', 'ET83VYVEGLMXYFCEFW2YBMWC6LUG7', 'ET83VYVEGLMXYFCEFW2YBMWC6LUG7', 'ET83VYVEGLMXYFCEFW2YBMWC6LUG7', 'ET83VYVEGLMXYFCEFW2YBMWC6LUG7', 'ET83VYVEGLMXYFCEFW2YBMWC6LUG7', 'ET83VYVEGLMXYFCEFW2YBMWC6LUG7', 'ET83VYVEGLMXYFCEFW2YBMWC6LUG7', 'ET83VYVEGLMXYFCEFW2YBMWC6LUG7', 'ET83VYVEGLMXYFCEFW2YBMWC6LUG7', 'ET83VYVEGLMXYFCEFW2YBMWC6LUG7', 'ET83VYVEGLMXYFCEFW2YBMWC6LUG7', 'ET83VYVEGLMXYFCEFW2YBMWC6LUG7', 'ET83VYVEGLMXYFCEFW2YBMWC6LUG7', 'ET83VYVEGLMXYFCEFW2YBMWC6LUG7', 'ET83VYVEGLMXYFCEFW2YBMWC6LUG7', 'ET83VYVEGLMXYFCEFW2YBMWC6LUG7', 'ET83VYVEGLMXYFCEFW2YBMWC6LUG7']\n"
     ]
    }
   ],
   "source": [
    "#BLOCO 5: TESTE DA FUNÇÃO ACIMA\n",
    "pop = criaPop(palavra)\n",
    "print(pop)"
   ]
  },
  {
   "cell_type": "code",
   "execution_count": 6,
   "metadata": {},
   "outputs": [],
   "source": [
    "#BLOCO 6: FUNÇÃO DA MUTAÇÃO\n",
    "\n",
    "def mutation(pop, MUTATION_RATE):\n",
    "    new_pop = list()                                                                            #cria uma lista para armazenar a nova população\n",
    "    cont = 1                                                                                    #cria um contador para diferenciar o primeiro individuo dos demais\n",
    "    for c in pop:                                                                               #laço que varre todas as cópias\n",
    "        if cont == 1:                                                                           #analisa o primeiro inidivíduo\n",
    "            new_pop.append(c)                                                                   #o primeiro individuo é adicionado a nova população sem sofrer nenhuma mutação\n",
    "        else:                                                                                   #analisa os demais indivíduos\n",
    "            caracteres = list()                                                                 #cria uma lista vazia para armazenar os caracteres do indivíduo\n",
    "            for i in range (0,TAMANHO):                                                         #varre todos os caracteres do indivíduo\n",
    "                letra = c[i]                                                                    #armazena o caractere atual na variavel LETRA\n",
    "                if(rd.random() < MUTATION_RATE):                                                #analisa se terá mutação ou não\n",
    "                    letra = rd.choice(string.ascii_uppercase + string.digits + '*')             #caso tenha, sorteia uma letra aleatória para a variável LETRA\n",
    "                    while letra == c[i]:                                                        #laço que garante que a letra sorteada será diferente da atual\n",
    "                        letra = rd.choice(string.ascii_uppercase + string.digits + '*')\n",
    "                caracteres.append(letra)                                                        #adiciona a variavel LETRA na lista caracteres\n",
    "            palavra = ''.join(caracteres)                                                       #junta todos os caracteres da lista em uma string\n",
    "            new_pop.append(palavra)                                                             #adiciona essa nova string a nova população\n",
    "            caracteres.clear()                                                                  #limpa a lista caracteres\n",
    "        cont +=1                                                                                #incrementa o contador de individuos\n",
    "    return new_pop"
   ]
  },
  {
   "cell_type": "code",
   "execution_count": 7,
   "metadata": {},
   "outputs": [
    {
     "name": "stdout",
     "output_type": "stream",
     "text": [
      "['ET83VYVEGLMXYFCEFW2YBMWC6LUG7', 'ET83VYVEGLMXYFCEF*2Y6MWC6LUG7', 'ET83V5VEGLMXYFCEFW2YBMWC6LUG7', 'ET83VYVEGLMXYFCEFW2YBMWC6LUG7', 'ET83VYY*GLMXXFCEFW2YBMQC6LUG7', 'ET83VYVEGLMXYFCEFW2YBMWC6LU63', 'ET83VYVEGLMXYFCEFW2YBMWC6LUG7', 'ET83VLVEGLMXYFCEFW2YBMWC6LUG7', 'EI83VYVEGLMXYFCEFW2YBWWC6LUG7', 'ET83VYVEGLMXYFCEFW2YIM2C6LUG7', 'ET83VYVEGLMXY*CEFW2YBMWC6LUG7', 'ET83VYVEGLMXYFCEFW2YBMWC6LUG7', 'ET83VYVEGLMXYFCEFW2YBMWC6LUG7', 'ET83VYVEGLMXYFCEFW8YBMWC6LUG7', 'ET83VYVEGLMXYFCEFW2YBMWC6LUG7', 'ET83VYVEGXMXYMCEFW2YBMWC6LUG7', 'ET83VYVEGLMFYFCEFW2YKMWC6LCG7', 'ET83VY8EGLMXYFCEFW2YBMWC6LUG7', 'ET83VYVEGLMXYFCEFW2YBMWC6LUG7', 'ET83VYVEGLMXYFSEFW2YBMWC6LUG7', 'ET83VYVEI5MXYFCEFW2YBMWC6LUG7', 'ET83VYVEGLMXYFCEFK2YBMWC6LUG7', 'ET83VYVEGLMXYFCEFO2YBMWC6LUG7', 'ET83VYVEGLMXYFCEFW2YBMWC6LUG7', 'ET83VYVEGLMXYFCEFW2YBMWC6LUG7', 'ET83VY2G3LMXYFCEFW2YBMWA6L4G7', 'EK83VYVEGLMXYFCEFW2YBWWC6LUG7', 'ET83VYVEGLMXYFCEFW2YBMWC6LUG7', 'ET83VYVEGLMXYFCEFW2YBMWC6LUG7', 'ET83VYVEGLMXYFCEFW2YXMWC6LUG7', 'ET83VYVEGLMXYFCEFW2YBMWC6LUG7', 'ET83VHVEGLMXYFCEFW2WBMWC6LUG7', 'ET83VYVEGLMXYFCEFW2YBMWC6LUG7', 'QT83VYVEGLMXYFCEFW2YBMWC6VUA7', 'ET83VYVTGLMXYFCEFW2YBMWC6LUG7', 'ET83VYVEGLMXYFCEFWEYBMWC6LUG7', 'ET8SGYV7GLMXYFCEFW2YBMWC6LUGL', 'ET83VYVEGLMXYFCEFW2YBMWC6LUG7', 'ET83VYVEGLMXYFCEFW2YBMWC6TU57', 'ET8LVYVEGLMXYFCEFW2YBMWC6OUG7', 'ET83VYV75LMXYFCEFW2YBMWC6LUG7', 'ET83VYVEGLMXYFCEFW2YBMWC6LUG7', 'ET83VYVEGLMXYFCEFW2YBMWC6LUG7', 'ET83VY5EGLMXYFCEFW2YBMWC6LUG7', 'ET88VYVEGLMXYFCEFW2YBMWC6LUG7', 'ET83VYVEGLMXYFCEFW2YBMWC6LUG7', 'ET8OVYVEGLMXYFCEFW2YBMWC6LUG7', 'ET83VYVEGDMXYFCEFW2YBMWC6LUGA', 'ET83VUVEGLMXYFCEFW2YBGWC6LUG7', 'ET83VYVEGLMXYFCEFW2KBMWC6LUG7', 'ET83VYVEGLMXYFCEFW8YBMWC6LUG7', 'EK83VYVE*LMXYFCEFW2YBMWC6LUG7', 'ET83VYVEGLMXYFCEFW2YBMWT6LUG7', 'ET53VYVEGLMXYFCEFW2YBRWC6LUG7', 'ET83VWVEGLMXYFCEFW2YBMW26LUG7', 'ET83VYVEGLMXYFCEFW2YBZWC6LUG7', 'HT83VYVYGLMXYFCEFW2YBNWC6LUG7', 'OT83VYVEGLM8YFCEFW2YBMWC6LUG7', 'ET83VYVEGLMXUFCEFW2YBMWC6LUG7', 'ET83VYVEGLMXYFCEFW2YBMWC6LUG7', 'ET83VYVEGLMX1FCEFWNYBMWC6EUG7', 'ET837YVEGLMXYFCEFW2YBMWC6LUG7', 'ET83VYIEGUMXYFCEFW2YBMWC6LUG7', 'ET83VYVEGLMXYFCEFWWYBMWC6LUG7', 'ET83VYVEFLMXYFCEFW2YBMWCELUG7', 'ET83VYVEGLMXYFCEFW2YBMWC6LUG7', 'ET83VYVEGLMXYFCEFW2YBMWC6LUG7', 'ET83VYVCGLMXYFCE8W2YBMWC6LUG7', 'ET83VYVEGLZXYFCEFW2YBMWC6LUG7', 'ET83VYVEGLMXYFCEFW2YBMWC6*UG7', 'ET83VYVEGLMXYFCEFW2YBMWC6LUG7', 'ET83VYVEGLMXYFCEFW2YBMWC6LUG7', 'ET83VYVEGLMXYFCEFW2YBMWC6LUGG', 'ET83VYVWG6MXYFCEFI2YBMWC6LUG7', 'ET83VY3EGLMXYYCEFW2YBMWC8LU47', 'ET83VYPEG0IXYFCEFW2YBMWC6LUG7', 'ET83VYVEGLMXYFCEFW2YBMWC6LUGT', 'ET93VYVEGLMXYFCEP32YBMWC6LUG7', 'EA83VYVEGLMXYFCEFW2YBMWC6LUG7', '0T83VYVEGLMXYFCEDW2YBMWC6LUG7', 'ET83VYVEGLMXYFCEFW2YBMWC6LUG7', 'ET83VYVCGLMXYFCEFW2YBMWC6LUG7', 'ET83VYVEGLTXYFCEF92YBMWC6LUG7', 'ETP3VYVEGLM6YFCEFW0YBMWC6LUG7', 'ET83VYVEGLMXYFCEFWNYBMWC6LUG7', 'EO83VYVEGLMXYFCEFW2YBMWC6LUG7', 'ET8EVYVEGLMOYFNEFW2YBMW*6LUG7', 'ET83VYVEGLMXYFCEFW9YBMWC6LUG7', 'IT83VYVEGLMXYFCEFW2YBMWC6LUG7', 'ET83VYVEGLMXYFCEFW5KIMWC6LUG7', 'ET43VYVEGLMXYFCEFW2YBMWB6LUG7', '4T83VYVMGLMXYFCEFW2YBMWC6LUG7', 'ET89VYVEGLMXYFCEFW2YBM0C6LUG7', 'ET83VYVEGLMXYFCEFW2YBMWC6LUG7', 'ET83VYVEGLMXYFCEFW2YBMEC6LUG7', 'ET83VYVEGLMXYFCEFW3YBMWC6LUG7', 'ET83VYVEGLMXYRCEFW2YBMWC6LUG7', 'ET83VYVEGLMXYFCEFW2YBMWG6LUG7', 'ET83OWVEGLMXYFCEFW2YBMWC6LUG7', 'ET03WYVEGLXXBFCEFW2YBMWC65UG7']\n"
     ]
    }
   ],
   "source": [
    "#BLOCO 7: TESTE DA FUNÇÃO ACIMA\n",
    "pop = mutation(pop, MUTATION_RATE)\n",
    "print(pop)"
   ]
  },
  {
   "cell_type": "code",
   "execution_count": 8,
   "metadata": {},
   "outputs": [],
   "source": [
    "#BLOCO 8: ANALISA O FITNESS DA STRING\n",
    "\n",
    "def analisaCaso(palavra, gabarito=GABARITO):\n",
    "    fitness = 0                                             #inicia fitness com 0\n",
    "    for tam in range(0,TAMANHO):                            #varre todos os caracteres da palavra\n",
    "        if gabarito[tam] == palavra[tam]:                   #compara o enésimo-caractere da palavra com o enésimo-caractere do string desejada\n",
    "            fitness+=1                                      #incrementa o fitness caso os caracteres sejam iguais\n",
    "    return fitness"
   ]
  },
  {
   "cell_type": "code",
   "execution_count": 9,
   "metadata": {},
   "outputs": [
    {
     "name": "stdout",
     "output_type": "stream",
     "text": [
      "29\n"
     ]
    }
   ],
   "source": [
    "#BLOCO 9: TESTE DA FUNÇÃO ACIMA\n",
    "fitness = analisaCaso('ME*THINKS*IT*IS*LIKE*A*WEASEL')  \n",
    "print(fitness)"
   ]
  },
  {
   "cell_type": "code",
   "execution_count": 10,
   "metadata": {},
   "outputs": [],
   "source": [
    "#BLOCO 10: DEFINE O FITNESS DA POPULAÇÃO\n",
    "\n",
    "def popFitness(pop):\n",
    "    pop_fitness = [analisaCaso(each_solution) for each_solution in pop]      #analisa o fitness de todos os elementos de pop e o armazena em uma lista      \n",
    "    return pop_fitness"
   ]
  },
  {
   "cell_type": "code",
   "execution_count": 11,
   "metadata": {},
   "outputs": [
    {
     "name": "stdout",
     "output_type": "stream",
     "text": [
      "[0, 0, 0, 0, 0, 0, 0, 0, 0, 0, 0, 0, 0, 0, 0, 0, 0, 0, 0, 1, 0, 0, 0, 0, 0, 0, 0, 0, 0, 0, 0, 0, 0, 0, 0, 0, 1, 0, 0, 0, 0, 0, 0, 0, 0, 0, 0, 0, 0, 0, 0, 0, 0, 0, 0, 0, 0, 0, 0, 0, 0, 0, 0, 0, 1, 0, 0, 0, 0, 0, 0, 0, 0, 1, 0, 1, 0, 0, 0, 0, 0, 0, 0, 0, 0, 0, 0, 0, 0, 0, 0, 0, 0, 0, 0, 0, 0, 0, 0, 0]\n"
     ]
    }
   ],
   "source": [
    "#BLOCO 11: TESTE DA FUNÇÃO ACIMA\n",
    "pop_fitness = popFitness(pop)\n",
    "print(pop_fitness)\n"
   ]
  },
  {
   "cell_type": "code",
   "execution_count": 12,
   "metadata": {},
   "outputs": [],
   "source": [
    "#BLOCO 12: FUNÇÃO PARA GERAR O GRÁFICO\n",
    "\n",
    "try: \n",
    "    def grafico(geracoes,bests):\n",
    "        figura = plt.figure(figsize=(20,4))                         #cria gráfico vazio\n",
    "        figura.add_subplot(131)                                     #define o espaço em que o gráfico sera plotado\n",
    "        plt.plot(geracoes,bests)                                    #plota o gráfico com as duas listas\n",
    "        plt.xlabel('GERAÇÃO')                                       #nomeia o eixo x\n",
    "        plt.ylabel('BEST FITNESS')                                  #nomeia o eixo y\n",
    "        plt.title('Best Fitness x Gerações')                        #nomeia o titulo\n",
    "        plt.show()                                                  #mostra o gráfico\n",
    "except:\n",
    "    print('Erro ao criar função \"def grafico(geracoes,bests):\"!')"
   ]
  },
  {
   "cell_type": "code",
   "execution_count": 13,
   "metadata": {},
   "outputs": [
    {
     "name": "stdout",
     "output_type": "stream",
     "text": [
      "String inicial: WLQ5PNVKRLFOLELPNXELLR021F54R\n",
      "Melhor indíviduo da 10º geração: ML*THNNKS4FKLEL*N2ELLA*WHF54C\n",
      "Melhor indíviduo da 20º geração: ML*THINKS4HZ*8S*F2EELA*WEA3EC\n",
      "Melhor indíviduo da 30º geração: ML*THINKS4IZ*8S*F1CE*A*WEA3EC\n",
      "Melhor indíviduo da 40º geração: ML*THINKS4IZ*8S*F1CE*A*WEA3EL\n",
      "Melhor indíviduo da 50º geração: ML*THINKS4IZ*8S*LIIE*A*WEASEL\n",
      "Melhor indíviduo da 60º geração: ME*THINKS4IZ*8S*LIIE*A*WEASEL\n",
      "Melhor indíviduo da 70º geração: ME*THINKS4IZ*8S*LIKE*A*WEASEL\n",
      "Melhor indíviduo da 80º geração: ME*THINKS4IZ*8S*LIKE*A*WEASEL\n",
      "Melhor indíviduo da 90º geração: ME*THINKS*IZ*8S*LIKE*A*WEASEL\n",
      "Melhor indíviduo da 100º geração: ME*THINKS*IZ*8S*LIKE*A*WEASEL\n",
      "Melhor indíviduo da 110º geração: ME*THINKS*IZ*8S*LIKE*A*WEASEL\n",
      "Melhor indíviduo da 120º geração: ME*THINKS*IZ*8S*LIKE*A*WEASEL\n",
      "Melhor indíviduo da 130º geração: ME*THINKS*IT*8S*LIKE*A*WEASEL\n",
      "String final: ME*THINKS*IT*IS*LIKE*A*WEASEL\n",
      "Número de caracteres iguais: 29\n",
      "Geração final: 139º\n"
     ]
    },
    {
     "data": {
      "image/png": "[encoded data removed]",
      "text/plain": [
       "<Figure size 1440x288 with 1 Axes>"
      ]
     },
     "metadata": {
      "needs_background": "light"
     },
     "output_type": "display_data"
    }
   ],
   "source": [
    "#BLOCO 13: ALGORITMO GENÉTICO COMPLETO\n",
    "bests = list()                                                           #cria uma lista para armazenar dados\n",
    "geracoes = list()                                                        #cria uma lista para armazenar dados\n",
    "palavra = criaString()                                                   #gera uma palavra aleatória\n",
    "best = analisaCaso(palavra)                                              #analisa o fitness da palavra\n",
    "pop = [palavra]                                                          #população inicial contém apenas a palavra sorteada    \n",
    "i = 0                                                                    #contador de gerações\n",
    "print(f'String inicial: {palavra}')  \n",
    "while best!=TAMANHO:\n",
    "    i+=1                                                                 #incrementa um ao número da geração\n",
    "    if(rd.random()<CROSSOVER_RATE):                                      #analisa se tem cruzamento ou não\n",
    "        pop = criaPop(palavra)                                           #cria as 100 cópias\n",
    "        pop = mutation(pop, MUTATION_RATE)                               #aplica as mutações nas 100 cópias\n",
    "    pop_fitness = popFitness(pop)                                        #analisa o fitness da população\n",
    "    best = max(pop_fitness)                                              #descobre o melhor fitness\n",
    "    pos_best = pop_fitness.index(best)                                   #descobre a posição do melhor fitness\n",
    "    palavra = pop[pos_best]                                              #descobre o indivíduo com melhor fitness\n",
    "    bests.append(best)                                                   #adiciona informação na lista de dados\n",
    "    geracoes.append(i)                                                   #adiciona informação na lista de dados\n",
    "    if(i%10 == 0):\n",
    "        print(f'Melhor indíviduo da {i}º geração: {palavra}')            #printa o melhor indivíduo a cada 10 gerações\n",
    "#INFORMAÇÕES FINAIS\n",
    "print(f'String final: {palavra}')\n",
    "print(f'Número de caracteres iguais: {best}')\n",
    "print(f'Geração final: {i}º')\n",
    "try:\n",
    "    grafico(geracoes,bests)\n",
    "except:\n",
    "    print('Erro ao gerar gráfico!')"
   ]
  },
  {
   "cell_type": "markdown",
   "metadata": {},
   "source": [
    "# **RELATÓRIO WEASEL PROBLEM**\n",
    "### Aluno 1: Vando Carlos Diniz Reis - 2019057195 \n",
    "### Aluno 2: Rafael Moura Marques - 2019089305\n",
    "---\n",
    "# _*INTRODUÇÃO*_: \n",
    "O 'Weasel Program' é uma experiência feita para demonstrar como uma população de strings pode evoluir até convergir para uma string específica, no caso:\n",
    "\n",
    "    'ME*THINKS*IT*IS*LIKE*A*WEASEL'\n",
    "\n",
    "\n",
    "Esse programa é inspirado no 'teorema do macaco infinito', que diz que um macaco digitando aleatoriamente em um teclado por um intervalo de tempo infinito, eventualmente irá criar qualquer texto desejado, como por exemplo uma obra de William Shakespeare. Entretanto, esse cenário é praticamente impossível, pois a chance do macaco digitar a frase de 29 caracteres que queremos é praticamente nula. \n",
    "\n",
    "Podemos contornar esse imprevisto com um algoritmo genético computacional, pois além de digitar inúmeros indivíduos de 29 caracteres em uma velocidade incrivelmente mais rápida, os descendentes estão sujeitos a mutações aleatórias, que diversificam a população, e consequentemente agilizam ainda mais o nosso objetivo. Uma ou mais mutações podem ser as responsáveis pelo aparecimento dos nossos caracteres desejados em uma troca de gerações.  <span style=\"color:red\">*[Resposta da pergunta número 2]*</span>\n",
    "\n",
    "O programa gera aleatoriamente uma string de 29 caracteres e realiza N cópias da mesma. Entretanto, cada cópia possui uma certa chance de mutação em cada um dos caracteres. Feito isso, ele avalia todos os indivíduos da população e seleciona o mais próximo da frase desejada. Ele será a string base para a próxima geração e o processo se repete até que a frase seja alcançada.\n",
    "\n",
    "Exemplo: \n",
    "\n",
    "    Geração 1: WDLTMNLT DTJBKWIRZREZLMQCO P \n",
    "\n",
    "    Geração 2: WDLTMNLT DTJBSWIRZREZLMQCO L \n",
    "\n",
    "    Geração 10: MDLDMNLS ITJISWHRZREZ MECS L \n",
    "\n",
    "    Geração 20: MELDINLS IT ISWPRKE Z WECSEL \n",
    "    \n",
    "    Geração 30: METHINGS IT ISWLIKE B WECSEL \n",
    "    \n",
    "    Geração X: METHINKS IT IS LIKE A WEASEL\n",
    "\n",
    "\n",
    "\n",
    "---\n",
    "# *_IMPLEMENTAÇÃO_*: \n",
    "### <ins>Representação escolhida:</ins>\n",
    "Um indivíduo é representado por uma string de 29 caracteres, podendo ser dígitos, letras maiúsculas ou espaços. Os espaços são representados pelo símbolo  ‘*’.\n",
    "\n",
    "    Exemplo: “ 9AUMH8NXDJVT39V*Z5LC*2*WE5QEL\n",
    "\t\n",
    "Já a população é representada por uma lista de 100 indivíduos, chamada ‘pop’. Para mais detalhes olhar os  <span style=\"color:GREEN\">*[BLOCOS 2 E 4]*</span> no código disponibilizado. \n",
    "\n",
    "\t\n",
    "Nota: Como temos 37 opções disponíveis para um caractere, a chance de inicializarmos com um indivíduo perfeito é de 1 em 37^29. Ou seja, praticamente nulas! <span style=\"color:red\">*[Resposta da pergunta número 1]*</span>\n",
    "\n",
    "### <ins>Função de Aptidão:</ins>\n",
    "A função de aptidão define a qualidade de uma solução candidata. Para o tipo de representação adotado, bastou-se comparar os caracteres da string selecionada com os caracteres da string desejada. Cada caractere semelhante garante aquele indivíduo 1 ponto. \n",
    "\n",
    "Já para analisar a aptidão da população, é preciso usar essa função em todos os elementos de ‘pop’. Esses dados são armazenados em uma outra lista chamada de ‘pop_fitness’.\n",
    "\n",
    "Para mais detalhes olhar os <span style=\"color:green\">*[BLOCOS 8 e 10]*</span> no código disponibilizado.\n",
    "\n",
    "\n",
    "### <ins>Operador de Seleção:</ins>\n",
    "Como não foi imposto nenhum método específico no roteiro, optamos pelo uso da seleção elitista.  Ela consiste em selecionar o melhor indivíduo da geração para reintroduzi-lo na geração seguinte, dessa forma evitando perdas de informações importantes que poderiam ser perdidas durante o processo de evolução. Portanto, pegamos o indivíduo com o melhor fitness da população para ser o progenitor da próxima geração. Fizemos isso com o método max(pop_fitness) da linguagem Python. \n",
    "\n",
    "### <ins>Gráfico:</ins>\n",
    "Ao final do programa, é gerado um gráfico informativo do melhor fitness ao longo das gerações. Para que ele funcione é necessário instalar e importar a biblioteca matpltlib.pyplot. Qualquer erro na importação dessa biblioteca não compromete o funcionamento do código, apenas não será mostrado o gráfico ao final do programa. O programa coleta informações do melhor indivíduo e das gerações enquanto é executado e as armazena em duas listas separadas. Essas listas são usadas para plotar o gráfico. Para mais detalhes olhar o <span style=\"color:green\">*[BLOCO 12]*</span> no código disponibilizado.\n",
    "\n",
    "### <ins>Condição de Parada:</ins>\n",
    "O código termina somente quando a solução ótima é encontrada.\n",
    "\n",
    "### <ins>Código Principal</ins>\n",
    "\n",
    "Olhar o <span style=\"color:green\">*[BLoco 13]*</span>\n",
    "\n",
    "### <ins>Testes:</ins>\n",
    "Todas as funções criadas foram testadas no bloco seguinte para garantir o sucesso do código.\n",
    "\n",
    "Olhar os <span style=\"color:green\">*[BLOCOS 3, 5, 7, 9 e 11]*</span>\n",
    "\n",
    "# *_ANÁLISE DOS RESULTADOS_*: \n",
    "### <ins>Crossover Rate:</ins>\n",
    "Para testarmos a implicancia de mudanças na taxa do crossover_rate no número de gerações necessárias para chegar ao gabarito decidimos simular o código 100 vezes para duas taxas de crossover diferentes (1 e 0.5). Obtendo assim os gráficos abaixo:\n",
    "\n",
    "<img src=img/Image5.png alt=\"CrossoverRate1\" width=\"550\"/>\n",
    "\n",
    "Podemos analisar então que no primeiro gráfico (crossover_rate = 1), no qual acontece o crossover em todas as gerações, a média de gerações necessárias para alcançarmos a solução correta foi 112,76.\n",
    "\n",
    "<img src=img/Image3.png alt=\"CrossoverRate2\" width=\"550\"/>\n",
    "\n",
    "Já no segundo gráfico (crossover_rate = 0,5), o crossover só acontece em aproximadamente metade dos casos. Isso faz com que o gráfico, de modo geral, seja deslocado para a direita e que a média das gerações com solução aumente drasticamente, sendo igual a 218,74.\n",
    "\n",
    "Conclui-se então que quanto mais alto o crossover rate, mais rápido e de maneira exponencial a população converge para a solução desejada. Simulando 100 vezes o programa, para cada Crossover Rate em um intervalo de 0.1, chegamos ao seguinte gráfico:\n",
    "\n",
    "<img src=img/Image4.jpg alt=\"CrossoverRate\" width=\"550\"/>\n",
    "\n",
    "### <ins>Mutation Rate:</ins>\n",
    "Com o objetivo de observarmos como a taxa de mutação implica nas simulações optamos por simular 100 vezes para valores de mutation_rate entre 0,01 e 0,25. Obtendo, portanto, a média de gerações necessárias em cada uma das taxas para convergir para a string desejada. \n",
    "No gráfico abaixo iremos demonstrar uma curva que contém a média de gerações para cada taxa:\n",
    "\n",
    "<img src=img/Image2.jpg alt=\"MutationRate\" width=\"550\"/>\n",
    "\n",
    "Conclui-se que quanto maior a taxa de mutação, mais gerações são necessárias para a convergência. Pelo gráfico, é possível perceber que isso ocorre de forma exponencial. Isso se deve, pois uma alta taxa de mutação implica numa frequente troca de caracteres, inclusive os corretos. Assim, as características herdadas das gerações são facilmente perdidas, ficando aquém da sorte para alcançar a string desejada. E como vimos anteriormente, a chance de gerar a string correta aleatoriamente é extremamente baixa.\n",
    "\n",
    "\n",
    "### <ins>Considerações Finais:</ins>\n",
    "- Comportamento das simulações: \n",
    "\n",
    "    <img src=img/Image1.png alt=\"Simulacao\" width=\"550\"/>\n",
    "\n",
    "\tComo podemos ver, o Best Fitness nunca diminui nesse algoritmo. Isso acontece pois o progenitor não sofre mutações. Logo, caso as mutações nas 99 cópias não sejam suficientes para gerar um indivíduo com um maior fitness, ele continuará sendo o escolhido para a próxima geração. Esse processo se repete até que uma string com um maior fitness seja obtida. \n",
    "\n",
    "- As mutações são essenciais para a convergência da nossa string, porém como vimos anteriormente, uma alta taxa de mutação pode atrapalhar o algoritmo.\n",
    "\n",
    "\n",
    "- Após toda essa pesquisa, percebe-se que o algoritmo mais eficiente é aquele com crossover_rate = 1 e mutation_rate = 0.05. A média de gerações para a convergência nesse caso é de 112,76 gerações!\n",
    "\n"
   ]
  }
 ],
 "metadata": {
  "interpreter": {
   "hash": "20099c77346fa184342f5a0e1dc2579955983be62f07a7f263c863d4bded7e85"
  },
  "kernelspec": {
   "display_name": "Python 3.10.0 64-bit (windows store)",
   "language": "python",
   "name": "python3"
  },
  "language_info": {
   "codemirror_mode": {
    "name": "ipython",
    "version": 3
   },
   "file_extension": ".py",
   "mimetype": "text/x-python",
   "name": "python",
   "nbconvert_exporter": "python",
   "pygments_lexer": "ipython3",
   "version": "3.10.2"
  },
  "orig_nbformat": 4
 },
 "nbformat": 4,
 "nbformat_minor": 2
}
