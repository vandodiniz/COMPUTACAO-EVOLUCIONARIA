{
 "cells": [
  {
   "cell_type": "code",
   "execution_count": 82,
   "metadata": {},
   "outputs": [],
   "source": [
    "import random as rd\n",
    "import numpy as np\n",
    "try:\n",
    "    import matplotlib.pyplot as plt\n",
    "except:\n",
    "    print('Erro ao importar biblioteca  \"matplotlib.pyplot\"!')\n",
    "    \n",
    "#VARIÁVEIS GLOBAIS QUE DITAM O COMPORTAMENTO DA POPULAÇÃO\n",
    "TAMANHO_POP=8\n",
    "CAPACIDADE_DA_MOCHILA = 35\n",
    "NUMERO_DE_OBJETOS = 8\n",
    "CROSSOVER_RATE = 0.8\n",
    "MUTATION_RATE = 0.05\n",
    "PROPRIEDADES = [[10,5],[18,8],[12,7],[14,6],[13,9],[11,5],[8,4],[6,3]]                  #lista contendo o peso acompanhado do valor de cada objeto\n"
   ]
  },
  {
   "cell_type": "code",
   "execution_count": 83,
   "metadata": {},
   "outputs": [],
   "source": [
    "def criaPop(tamanho=TAMANHO_POP, num = NUMERO_DE_OBJETOS):\n",
    "    pop = list()                                                #lista para armazenar a população\n",
    "    individuo = list()                                          #lista para armazenar um individuo\n",
    "    for c in range(0,tamanho):                                  #laço para gerar os N individuos da população\n",
    "        for x in range(0,num):                                  #laço para gerar um individuo\n",
    "            n = rd.randint(0,1)                                 #sorteia um valor de n\n",
    "            individuo.append(n)                                 #adiciona esse valor a lista do inidividuo\n",
    "        pop.append(individuo[:])                                #adiciona na lista pop o individuo gerado   \n",
    "        individuo.clear()                                       #limpa a lista do individuo e repete o processo\n",
    "    return pop\n",
    "            \n",
    "    "
   ]
  },
  {
   "cell_type": "code",
   "execution_count": 84,
   "metadata": {},
   "outputs": [
    {
     "name": "stdout",
     "output_type": "stream",
     "text": [
      "[[1, 1, 1, 0, 0, 0, 1, 1], [1, 0, 1, 1, 1, 0, 0, 1], [1, 0, 0, 0, 1, 0, 1, 0], [0, 0, 1, 0, 0, 0, 0, 1], [1, 0, 1, 1, 1, 0, 0, 1], [1, 1, 0, 0, 1, 1, 0, 1], [0, 1, 1, 0, 1, 1, 0, 0], [1, 1, 0, 0, 1, 0, 1, 1]]\n"
     ]
    }
   ],
   "source": [
    "#TESTE DA FUNÇÃO ACIMA\n",
    "pop_teste = criaPop()\n",
    "print(pop_teste)"
   ]
  },
  {
   "cell_type": "code",
   "execution_count": 85,
   "metadata": {},
   "outputs": [],
   "source": [
    "def individualFitness(individuo, propriedades = PROPRIEDADES, cap = CAPACIDADE_DA_MOCHILA):\n",
    "    rho_possivel = list()                                           #lista para armazenar os possiveis rhos \n",
    "    beneficio = peso_total = 0                                      #beneficio e peso total da solução candidata\n",
    "    for c in propriedades:                                          \n",
    "        rho_possivel.append(c[1]/c[0])                              #armazena todos os rhos possiveis\n",
    "    rho = max(rho_possivel)                                         #descobre o rho\n",
    "    for c in range(0,NUMERO_DE_OBJETOS):                            #laço para analisar o individuo\n",
    "        if individuo[c] == 1:                                       #verifica se ele contem o objeto\n",
    "            beneficio += propriedades[c][1]                         #incrementa o valor do beneficio\n",
    "            peso_total += propriedades[c][0]                        #incremeta o valor do peso total\n",
    "    if peso_total > cap:                                            #verifica se tem penalidade\n",
    "        fitness = beneficio - rho*(peso_total-cap)                  #aplica penalidade, caso tenha\n",
    "    else:\n",
    "        fitness = beneficio                                         \n",
    "    return fitness\n",
    "    "
   ]
  },
  {
   "cell_type": "code",
   "execution_count": 86,
   "metadata": {},
   "outputs": [
    {
     "name": "stdout",
     "output_type": "stream",
     "text": [
      "21\n"
     ]
    }
   ],
   "source": [
    "#TESTE DA FUNÇÃO ACIMA\n",
    "fitness = individualFitness([1, 0, 1, 0, 1, 0, 0, 0])\n",
    "print(fitness)"
   ]
  },
  {
   "cell_type": "code",
   "execution_count": 87,
   "metadata": {},
   "outputs": [],
   "source": [
    "def popFitness(pop):\n",
    "    pop_fitness = list()                                        #lista para armazenar os fitness\n",
    "    for individuo in pop:                                       #varre a população\n",
    "        pop_fitness.append(individualFitness(individuo))        #armazena o fitness do individuo na lista\n",
    "    return pop_fitness"
   ]
  },
  {
   "cell_type": "code",
   "execution_count": 88,
   "metadata": {},
   "outputs": [
    {
     "name": "stdout",
     "output_type": "stream",
     "text": [
      "[13.846153846153847, 16.153846153846153, 18, 10, 16.153846153846153, 14.076923076923077, 15.846153846153847, 15.153846153846153]\n"
     ]
    }
   ],
   "source": [
    "#TESTE DA FUNÇÃO ACIMA\n",
    "pop_fitness = popFitness(pop_teste)\n",
    "print(pop_fitness)"
   ]
  },
  {
   "cell_type": "code",
   "execution_count": 89,
   "metadata": {},
   "outputs": [],
   "source": [
    "def roletaPais(pop):\n",
    "    pais = list()                                   #lista para armazenar os roletados\n",
    "    porcentagens = list()                           #lista para armazenar as porcentagens de cada individuo\n",
    "    pop_fitness = popFitness(pop)                   #armazena o fitness da população\n",
    "    fitness_total = por = 0                         #variaveis para definir as porcentagens\n",
    "\n",
    "    for fitness in pop_fitness:\n",
    "        fitness_total += fitness                    #soma todos os fitness da população\n",
    "    \n",
    "    for fitness in pop_fitness:                     #varre todos os fitness da população\n",
    "        por += (fitness/fitness_total)              #calcula a porcentagem do individuo\n",
    "        porcentagens.append(por)                    #adiciona a porcentagem na lista\n",
    "    \n",
    "    for c in range(0,TAMANHO_POP):                  #laço para sortear os individuos\n",
    "        n = rd.random()                             #roleta um numero\n",
    "        for i in range(0,TAMANHO_POP):              #analisa qual individuo foi sorteado\n",
    "            if n <= porcentagens[i]:\n",
    "                pais.append(pop[i])                 \n",
    "                break\n",
    "    return pais\n",
    "\n",
    "\n",
    "    "
   ]
  },
  {
   "cell_type": "code",
   "execution_count": 90,
   "metadata": {},
   "outputs": [
    {
     "name": "stdout",
     "output_type": "stream",
     "text": [
      "[[1, 1, 0, 0, 1, 0, 1, 1], [0, 0, 1, 0, 0, 0, 0, 1], [1, 0, 1, 1, 1, 0, 0, 1], [0, 1, 1, 0, 1, 1, 0, 0], [0, 0, 1, 0, 0, 0, 0, 1], [1, 1, 1, 0, 0, 0, 1, 1], [1, 1, 1, 0, 0, 0, 1, 1], [1, 0, 0, 0, 1, 0, 1, 0]]\n"
     ]
    }
   ],
   "source": [
    "#TESTE DA FUNÇÃO ACIMA\n",
    "pais_teste = roletaPais(pop_teste)\n",
    "print(pais_teste)"
   ]
  },
  {
   "cell_type": "code",
   "execution_count": 91,
   "metadata": {},
   "outputs": [],
   "source": [
    "def cruzamento(pais, crossover_rate=CROSSOVER_RATE):\n",
    "    pop = list()\n",
    "    filho = list()\n",
    "    for c in range(0,TAMANHO_POP,2):\n",
    "        if rd.random() < crossover_rate:\n",
    "            ponto_de_corte = rd.randint(1,NUMERO_DE_OBJETOS-1)\n",
    "            for i in range(0,ponto_de_corte):\n",
    "                filho.append(pais[c][i])\n",
    "            for i in range(ponto_de_corte,TAMANHO_POP):\n",
    "                filho.append(pais[c+1][i])\n",
    "            pop.append(filho[:])\n",
    "            filho.clear()\n",
    "            for i in range(0,ponto_de_corte):\n",
    "                filho.append(pais[c+1][i])\n",
    "            for i in range(ponto_de_corte,TAMANHO_POP):\n",
    "                filho.append(pais[c][i])\n",
    "            pop.append(filho[:])\n",
    "            filho.clear()   \n",
    "        else:\n",
    "            pop.append(pais[c])\n",
    "            pop.append(pais[c+1])\n",
    "    return pop\n"
   ]
  },
  {
   "cell_type": "code",
   "execution_count": 92,
   "metadata": {},
   "outputs": [
    {
     "name": "stdout",
     "output_type": "stream",
     "text": [
      "[[1, 1, 0, 0, 1, 0, 1, 1], [0, 0, 1, 0, 0, 0, 0, 1], [1, 0, 1, 1, 1, 1, 0, 0], [0, 1, 1, 0, 1, 0, 0, 1], [0, 0, 1, 0, 0, 0, 1, 1], [1, 1, 1, 0, 0, 0, 0, 1], [1, 1, 1, 0, 0, 0, 1, 0], [1, 0, 0, 0, 1, 0, 1, 1]]\n"
     ]
    }
   ],
   "source": [
    "#TESTE DA FUNCAO ACIMA\n",
    "pop_teste = cruzamento(pais_teste)\n",
    "print(pop_teste)"
   ]
  },
  {
   "cell_type": "code",
   "execution_count": 93,
   "metadata": {},
   "outputs": [],
   "source": [
    "def mutation(pop, mutation_rate=MUTATION_RATE):\n",
    "    nova_pop = list()                                           #lista para a população com mutação\n",
    "    for individuo in pop:                                       #varre a população sem mutação\n",
    "        if(rd.random() < mutation_rate):                        #verifica se o individuo será mutado\n",
    "            bit_flip = rd.randint(0,7)                          #define em qual posição acontecerá a mutação\n",
    "            if individuo[bit_flip] == 0:                        \n",
    "                individuo[bit_flip] = 1                         #inverte o bit do individuo\n",
    "            else:\n",
    "                individuo[bit_flip] = 0                         #inverte o bit do individuo\n",
    "            nova_pop.append(individuo)                          #adiciona o individuo na nova população\n",
    "        else:\n",
    "            nova_pop.append(individuo)                          #caso não tenha mutação, adiciona o individuo sem alterações na nova população \n",
    "    return nova_pop"
   ]
  },
  {
   "cell_type": "code",
   "execution_count": 94,
   "metadata": {},
   "outputs": [
    {
     "name": "stdout",
     "output_type": "stream",
     "text": [
      "[[1, 1, 0, 0, 1, 0, 1, 1], [0, 0, 1, 0, 0, 0, 0, 1], [1, 0, 1, 1, 1, 1, 0, 0], [0, 1, 1, 0, 1, 0, 0, 1], [0, 0, 1, 0, 0, 0, 1, 1], [1, 1, 1, 0, 0, 0, 0, 1], [1, 1, 1, 0, 0, 0, 1, 0], [1, 0, 0, 0, 1, 0, 1, 1]]\n"
     ]
    }
   ],
   "source": [
    "#TESTE DA FUNÇÃO ACIMA\n",
    "pop_teste = mutation(pop_teste)\n",
    "print(pop_teste)"
   ]
  },
  {
   "cell_type": "code",
   "execution_count": 95,
   "metadata": {},
   "outputs": [],
   "source": [
    "def coletaDados(bests, bests_medio, geracoes, pop_fitness, geracao_atual):\n",
    "    bests.append(max(pop_fitness))                                                  #adiciona o melhor individuo na lista dos melhores\n",
    "    geracoes.append(geracao_atual)                                                  #adiciona a geração atual na lista de gerações\n",
    "    media = 0                                                                       \n",
    "    for c in pop_fitness:\n",
    "        media += c                                                                  #soma todos os fitness da geração atual\n",
    "    media = media/len(pop_fitness)                                                  #calcula a media dos fitness\n",
    "    bests_medio.append(media)                                                       #adiciona a media dos fitness na lista"
   ]
  },
  {
   "cell_type": "code",
   "execution_count": 96,
   "metadata": {},
   "outputs": [],
   "source": [
    "try: \n",
    "    def grafico(x,y,x_title, y_title,title):\n",
    "        figura = plt.figure(figsize=(20,4))                         #cria gráfico vazio\n",
    "        figura.add_subplot(131)                                     #define o espaço em que o gráfico sera plotado\n",
    "        plt.plot(x,y)                                               #plota o gráfico com as duas listas\n",
    "        plt.xlabel(x_title)                                         #nomeia o eixo x\n",
    "        plt.ylabel(y_title)                                         #nomeia o eixo y\n",
    "        plt.title(title)                                            #nomeia o titulo\n",
    "        plt.show()                                                  #mostra o gráfico\n",
    "except:\n",
    "    print('Erro ao criar função \"def grafico(geracoes,bests):\"!')"
   ]
  },
  {
   "cell_type": "code",
   "execution_count": 97,
   "metadata": {},
   "outputs": [
    {
     "name": "stdout",
     "output_type": "stream",
     "text": [
      "Melhor indivíduo inicial: [0, 0, 0, 0, 1, 1, 0, 1]; Fitness: 17.000\n",
      "Numero de gerações: 228\n",
      "Melhor indivíduo final: [1, 0, 1, 0, 1, 0, 0, 0]; Fitness: 21.000\n"
     ]
    },
    {
     "data": {
      "image/png": "[encoded data removed]",
      "text/plain": [
       "<Figure size 1440x288 with 1 Axes>"
      ]
     },
     "metadata": {
      "needs_background": "light"
     },
     "output_type": "display_data"
    },
    {
     "data": {
      "image/png": "[encoded data removed]",
      "text/plain": [
       "<Figure size 1440x288 with 1 Axes>"
      ]
     },
     "metadata": {
      "needs_background": "light"
     },
     "output_type": "display_data"
    }
   ],
   "source": [
    "#ALGORITMO GENÉTICO COMPLETO\n",
    "\n",
    "#listas de informações para os gráficos\n",
    "bests = list()\n",
    "bests_medio = list()\n",
    "geracoes = list()\n",
    "\n",
    "pop = criaPop()                                                                     #cria a população inicial\n",
    "pop_fitness = popFitness(pop)                                                       #analisa o fitness da população\n",
    "best = max(pop_fitness)                                                             #descobre o melhor fitness da população inicial\n",
    "pos_best = pop_fitness.index(best)                                                  #descobre a posição do melhor individuo\n",
    "print(f'Melhor indivíduo inicial: {pop[pos_best]}; Fitness: {best:.3f}')\n",
    "i = 1                                                                               #contador de gerações\n",
    "coletaDados(bests, bests_medio, geracoes, pop_fitness, i)                           #coleta dados para o gráfico\n",
    "while i<1000 and best !=21:                                                         #faz 1000 iterações ou acha o indivíduo perfeito\n",
    "    pais = roletaPais(pop)                                                          #escolhe os pais da geração\n",
    "    pop = cruzamento(pais)                                                          #cruza os pais e substitui a população\n",
    "    pop = mutation(pop)                                                             #aplica a mutação\n",
    "    pop_fitness = popFitness(pop)                                                   #analisa o fitness da nova população\n",
    "    best = max(pop_fitness)                                                         #descobre o melhor individuo da nova geração\n",
    "    i += 1                                                                          #incrementa o contador de gerações\n",
    "    coletaDados(bests, bests_medio, geracoes, pop_fitness, i)                       #coleta dados para o gráfico\n",
    "pos_best = pop_fitness.index(best)                                                  #descobre a posição do melhor individuo\n",
    "print(f'Numero de gerações: {i}')                                              \n",
    "print(f'Melhor indivíduo final: {pop[pos_best]}; Fitness: {best:.3f}')\n",
    "try:\n",
    "    grafico(geracoes,bests, 'GERAÇÕES', 'BEST_FITNESS', 'Best Fitness x Gerações')\n",
    "    grafico(geracoes,bests_medio, 'GERAÇÕES', 'FITNESS_MEDIO', 'Fitness Médio x Gerações')\n",
    "except:\n",
    "    print('Erro ao gerar gráfico!')\n",
    "    "
   ]
  }
 ],
 "metadata": {
  "interpreter": {
   "hash": "20099c77346fa184342f5a0e1dc2579955983be62f07a7f263c863d4bded7e85"
  },
  "kernelspec": {
   "display_name": "Python 3.10.1 64-bit (windows store)",
   "language": "python",
   "name": "python3"
  },
  "language_info": {
   "codemirror_mode": {
    "name": "ipython",
    "version": 3
   },
   "file_extension": ".py",
   "mimetype": "text/x-python",
   "name": "python",
   "nbconvert_exporter": "python",
   "pygments_lexer": "ipython3",
   "version": "3.10.1"
  },
  "orig_nbformat": 4
 },
 "nbformat": 4,
 "nbformat_minor": 2
}
