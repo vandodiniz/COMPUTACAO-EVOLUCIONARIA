{
 "cells": [
  {
   "cell_type": "code",
   "execution_count": null,
   "metadata": {},
   "outputs": [],
   "source": [
    "#BLOCO 1: \n",
    "import numpy as np\n",
    "from itertools import product\n",
    "import matplotlib.pyplot as plt\n",
    "from mpl_toolkits.mplot3d import Axes3D\n",
    "import random as rd\n",
    "\n",
    "#propriedades do problema\n",
    "N = 50\n",
    "minimum_global = -6.5511\n",
    "F = 0.8\n",
    "C = 0.7\n",
    "C1 = 1\n",
    "C2 = 1\n",
    "W = 0.7\n",
    "vmax = 1\n"
   ]
  },
  {
   "cell_type": "markdown",
   "metadata": {},
   "source": [
    "---\n",
    "<h3> Rastrigin Function </h3>"
   ]
  },
  {
   "cell_type": "code",
   "execution_count": null,
   "metadata": {},
   "outputs": [],
   "source": [
    "def peaks(x): # objective function\n",
    "    x = x.T\n",
    "    F = 3*(1-x[0])**2 * np.exp(-(x[0]**2) - (x[1]+1)**2) - 10*(x[0]/5 - x[0]**3 - x[1]**5) * np.exp(-x[0]**2-x[1]**2) - 1/3*np.exp(-(x[0]+1)**2 - x[1]**2)\n",
    "    return F"
   ]
  },
  {
   "cell_type": "code",
   "execution_count": null,
   "metadata": {},
   "outputs": [],
   "source": [
    "x1 = x2 = np.linspace(-3, 3, 150)\n",
    "x_p = np.array(list(product(x1,x2)))\n",
    "\n",
    "\n",
    "font_labels = {'fontsize': 14, 'fontweight': 150}\n",
    "\n",
    "fig = plt.figure(figsize=(12,8))\n",
    "ax = Axes3D(fig)\n",
    "ax.set_title('Função Peaks', fontdict={'fontsize':15})\n",
    "ax.set_xlabel('X1', fontdict=font_labels)\n",
    "ax.set_ylabel('X2', fontdict=font_labels)\n",
    "ax.set_zlabel('peaks(X1, X2)', fontdict=font_labels)\n",
    "surf = ax.plot_trisurf(x_p[:, 0], x_p[:, 1], [peaks(x_) for x_ in x_p], linewidth=0.1, color='orange')\n",
    "plt.show()"
   ]
  },
  {
   "cell_type": "markdown",
   "metadata": {},
   "source": [
    "---\n",
    "# IMPLEMENTAÇÃO\n"
   ]
  },
  {
   "cell_type": "code",
   "execution_count": null,
   "metadata": {},
   "outputs": [],
   "source": [
    "# BLOCO 2: GERANDO A POPULAÇÃO INICIAL\n",
    "def initPop(pop, velocidades):\n",
    "\n",
    "    for c in range(0,N):                                                        # laço para gerar os N indivíduos e suas velocidades\n",
    "        individuo = []                                                              # lista auxiliar para gerar 1 elemento indivíduo\n",
    "        velocidade = []                                                             # lista auxiliar para gerar 1 elemento velocidade\n",
    "        individuo.append(float(\"{:.4f}\".format(rd.uniform(-3,3))))                  # gera a coordenada x1 pro individuo\n",
    "        individuo.append(float(\"{:.4f}\".format(rd.uniform(-3,3))))                  # gera a coordenada x2 pro individuo\n",
    "        velocidade.append(float(\"{:.2f}\".format(rd.uniform(-vmax,vmax))))           # gera a velocidade v2 pro individuo\n",
    "        velocidade.append(float(\"{:.2f}\".format(rd.uniform(-vmax,vmax))))           # gera a velocidade v2 pro individuo\n",
    "        pop.append(individuo[:])                                                    # adiciona o individuo na população\n",
    "        velocidades.append(velocidade[:])\n",
    "        "
   ]
  },
  {
   "cell_type": "code",
   "execution_count": null,
   "metadata": {},
   "outputs": [],
   "source": [
    "# BLOCO 3: TESTANDO A FUNÇÃO ACIMA\n",
    "pop_teste = []\n",
    "velocidades_teste = []\n",
    "initPop(pop_teste, velocidades_teste)\n",
    "print(f'população teste: {pop_teste}\\n')\n",
    "print(f'vetor velocidade: {velocidades_teste}')"
   ]
  },
  {
   "cell_type": "code",
   "execution_count": null,
   "metadata": {},
   "outputs": [],
   "source": [
    "#BLOCO 4: CALCULANDO O F_DE_X DE UM INDIVIDUO\n",
    "def calcula_f_de_x(individuo):                \n",
    "    ar = np.array(individuo)                                    #converte a lista individuo para array\n",
    "    return float(\"{:.4f}\".format(peaks(ar)))                    #calcula o f(x) do individuo apartir da função rastringin"
   ]
  },
  {
   "cell_type": "code",
   "execution_count": null,
   "metadata": {},
   "outputs": [],
   "source": [
    "# BLOCO 5: TESTANDO A FUNÇÃO ACIMA\n",
    "f_de_x_teste = calcula_f_de_x(pop_teste[0])\n",
    "print(f_de_x_teste)"
   ]
  },
  {
   "cell_type": "code",
   "execution_count": null,
   "metadata": {},
   "outputs": [],
   "source": [
    "# BLOCO 6: GERANDO LISTA DE POP_FITNESS DA POPULAÇÃO\n",
    "def popfitness(pop):\n",
    "    pop_fitness = []                                                                #cria uma lista para armazenar o fitness da população   \n",
    "    for c in range(0,N):                                                            #laço para analisar os N individuos\n",
    "        fitness_ind = calcula_f_de_x(pop[c])                                               #calcula o fitness de cada individuo\n",
    "        pop_fitness.append(fitness_ind)                                                    #coloca o fitness na lista\n",
    "    return pop_fitness"
   ]
  },
  {
   "cell_type": "code",
   "execution_count": null,
   "metadata": {},
   "outputs": [],
   "source": [
    "# BLOCO 7: TESTANDO A FUNÇÃO ACIMA\n",
    "pop_fitness = popfitness(pop_teste)\n",
    "print(pop_fitness)"
   ]
  },
  {
   "cell_type": "code",
   "execution_count": null,
   "metadata": {},
   "outputs": [],
   "source": [
    "#BLOCO 8: CALCULANDO A NOVA POSIÇÃO DO INDIVÍDUO\n",
    "def movimentacao(individuo, velocidade):\n",
    "    individuo[0] = individuo[0] + velocidade[0]                 #calcula a posição final do individuo na coordenada x1\n",
    "    individuo[1] = individuo[1] + velocidade[1]                 #calcula a posição final do individuo na coordenada x2\n",
    "    for c in range(0,2):                                        #laço para analisar as suas coordenadas do individuo\n",
    "        if individuo[c] > 3:                                        #confere se houve um extrapolamento positivo da coordenada \n",
    "            reflexao = individuo[c] - 3                                 #em caso positivo, calcula a reflexão \n",
    "            individuo[c] = 3 - reflexao                                 #aplica a reflexão\n",
    "        if individuo[c] < -3:                                       #confere se houve um extrapolamento negativo da coordenada\n",
    "            reflexao = (individuo[c] + 2)                               #em caso positivo, calcula a reflexão\n",
    "            individuo[c] = -3 - reflexao                                #aplica a reflexão\n",
    "\n",
    "    "
   ]
  },
  {
   "cell_type": "code",
   "execution_count": null,
   "metadata": {},
   "outputs": [],
   "source": [
    "# BLOCO 9: TESTANDO A FUNÇÃO ACIMA\n",
    "\n",
    "#COM REFLEXÃO:\n",
    "pos_teste = [1.9, -1.4]\n",
    "velocidade_teste  = [1, -0.7]\n",
    "print(f'Posição inicial: {pos_teste} | Velocidade: {velocidade_teste}')\n",
    "movimentacao(pos_teste, velocidade_teste)\n",
    "print(f'Posição final: {pos_teste}')\n",
    "print('-'*20)\n",
    "\n",
    "#SEM REFLEXAO:\n",
    "pos_teste = [1, -0.5]\n",
    "velocidade_teste  = [0.5, -0.7]\n",
    "print(f'Posição inicial: {pos_teste} | Velocidade: {velocidade_teste}')\n",
    "movimentacao(pos_teste, velocidade_teste)\n",
    "print(f'Posição final: {pos_teste}')\n"
   ]
  },
  {
   "cell_type": "code",
   "execution_count": null,
   "metadata": {},
   "outputs": [],
   "source": [
    "#BLOCO 10: ATUALIZANDO O W \n",
    "def atualizaW(t):\n",
    "    w = 0.7 - ((0.7-0.3)/15)*t                              # formula para atualizar o W\n",
    "    \n",
    "    if w > 0.7:                                             #se passar do valor maximo, W vira 0.7\n",
    "        w = 0.7\n",
    "    \n",
    "    elif w< 0.3:                                            #se passar do valor minimo, W vira 0.3\n",
    "        w = 0.3\n",
    "    \n",
    "    return w\n",
    "\n"
   ]
  },
  {
   "cell_type": "code",
   "execution_count": null,
   "metadata": {},
   "outputs": [],
   "source": [
    "# BLOCO 11: FUNÇÃO GRÁFICA \n",
    "def grafico(pop, t):\n",
    "\n",
    "    fig, ax = plt.subplots()                                                                                                        #cria o gráfico vázio\n",
    "\n",
    "    min = [0.228, -1.625]                                                                                                           #define a coordenada que contém o minimo\n",
    "\n",
    "    curves = ax.tricontour(x_p[:, 0], x_p[:, 1], [peaks(x_) for x_ in x_p])                                                         #plota as curvas de nivel da superficie no gráfico\n",
    "    plt.scatter(min[0], min[1], color='red', s = 100)                                                                               #plota o minimo no gráfico com a cor vermelha\n",
    "    for c in range(0,N):                                                                                                            #laço para plotar os 50 individuos\n",
    "        plt.scatter(pop[c][0],pop[c][1], color='blue')                                                                                  #plota um individuo no gráfico com a cor azul\n",
    "\n",
    "    plt.xlim((-3,3))                                                                                                                #define os limites da coordenada x1 no gráfico\n",
    "    plt.ylim((-3,3))                                                                                                                #define os limites da coordenada x2 no gráfico\n",
    "\n",
    "    ax.set_title(f'Geração {t}', fontdict={'fontsize':15})                                                                          #nomeia o gráfico\n",
    "    ax.set_xlabel('X1', fontdict=font_labels)                                                                                       #nomeia o eixo x\n",
    "    ax.set_ylabel('X2', fontdict=font_labels)                                                                                       #nomeia o eixo y\n",
    "    plt.show()                                                                                                                      #mostra o gráfico\n"
   ]
  },
  {
   "cell_type": "code",
   "execution_count": null,
   "metadata": {},
   "outputs": [],
   "source": [
    "#BLOCO 12: BLOCO PRINCIPAL\n",
    "\n",
    "## inicialização da população\n",
    "Ws = []                                                                                                 #lista para armazenar os W ao longo das gerações\n",
    "pop = []                                                                                                #lista para armazenar a população \n",
    "velocidades = []                                                                                        #lista para armazenar as velocidades\n",
    "pbest = []                                                                                              #lista para armazenar a melhor posição de cada particula\n",
    "minimos = []                                                                                            #lista para armazenar o melhor f(x) de cada particula\n",
    "pg = []                                                                                                 #lista para armazenar a melhor posição já encontrada\n",
    "\n",
    "initPop(pop, velocidades)                                                                               #cria a população e as velocidades iniciais\n",
    "pop_fitness = popfitness(pop)                                                                           #analisa o fitness da população\n",
    "best = min(pop_fitness)                                                                                 #descobre o melhor f(x) da população inicial\n",
    "pos_best = pop_fitness.index(best)                                                                      #descobre a posição do melhor individuo\n",
    "\n",
    "pbest = pop[:]                                                                                          #preenche 'pbest' na geração inicial\n",
    "minimos = pop_fitness[:]                                                                                #preenche 'minimos' na geração inicial\n",
    "\n",
    "pg = (pop[pos_best])                                                                                    #preenche o pg na geração inicial\n",
    "t = 1                                                                                                   #contador de gerações                          \n",
    "\n",
    "print(f'Melhor indivíduo inicial: {pg}; Minímo da população: {best}')\n",
    "\n",
    "while best != minimum_global:                                                                           #laço até encontrar a solução perfeita\n",
    "                                                                                                 \n",
    "    for c in range(0,N):                                                                                #laço que percorre todos os indivíduos\n",
    "        if(calcula_f_de_x(pop[c]) < minimos[c]):                                                            #compara o f(x) de cada individuo da população atual com os da lista minimos\n",
    "            minimos[c] = calcula_f_de_x(pop[c])                                                                 #caso, o individuo da população atual seja melhor, atualiza minimos\n",
    "            pbest[c] = pop[c]                                                                                   #também salva a posição dele em pbest\n",
    "        best = min(minimos)                                                                                 #descobre o melhor f(x) da geração\n",
    "        pos_best = minimos.index(best)                                                                      #descobre a posição do melhor individuo\n",
    "        pg = pbest[pos_best]                                                                                #atualiza pg\n",
    "        \n",
    "        individuo = []\n",
    "        individuo.append(pop[c][0])              \n",
    "        individuo.append(pop[c][1])                                                                         #lista auxiliar para armazenar um individuo da população\n",
    "        for d in range(0,2):                                                                                #laço para ambas dimensoes do problema\n",
    "            P1 = rd.random()\n",
    "            P2 = rd.random()\n",
    "            t1 = P1*C1\n",
    "            t2 = P2*C2\n",
    "            vel = W*velocidades[c][d] + t1*(pbest[c][d] - individuo[d]) + t2*(pg[d] - individuo[d])                 #calcula uma coordenada do vetor velocidade do individuo\n",
    "            if(vel>vmax):                                                                                           #confere se a velocidade eh maior do que a permitida no problema\n",
    "                vel = vmax                                                                                                  #altera a velocidade para o valor máximo, caso positivo\n",
    "            elif(vel<-vmax):                                                                                        #confere se a velocidade eh menor do que a permitida no problema\n",
    "                vel = -vmax                                                                                                 #altera a velocidade para o valor minimo, caso positivo\n",
    "            velocidades[c][d] = vel                                                                                 #atualiza uma coordenada do vetor velocidade do individuo\n",
    "        \n",
    "        movimentacao(individuo, velocidades[c])                                                                     #movimenta o individuo\n",
    "        pop[c] = individuo[:]                                                                                       #atualiza a população\n",
    "\n",
    "    Ws.append(W)                                                                                                    #armazena o valor de W\n",
    "    W = atualizaW(t)                                                                                                #muda o valor de W para a próxima geração\n",
    "    grafico(pop, t)\n",
    "    t = t + 1                                                                                               #incrementa a geração \n",
    "    \n",
    "                                                                                                                                          \n",
    "#formatando os valores finais                                          \n",
    "pop[pos_best][0] = float(\"{:.3f}\".format(pop[pos_best][0]))\n",
    "pop[pos_best][1] = float(\"{:.3f}\".format(pop[pos_best][1]))\n",
    "\n",
    "print('GERAÇAO FINAL: ', t) \n",
    "print(f'Posição do melhor indivíduo final: [{pop[pos_best][0]}, {pop[pos_best][1]}]')\n",
    "print(f'Minímo da população: {best} \\n')\n",
    "print(f'Valor de W ao longo das gerações: {Ws}')\n"
   ]
  },
  {
   "cell_type": "markdown",
   "metadata": {},
   "source": [
    "# **RELATÓRIO EVOLUÇÃO DIFERENCIAL - FUNÇÃO PEAKS**\n",
    "### Aluno 1: Vando Carlos Diniz Reis - 2019057195 \n",
    "### Aluno 2: Rafael Moura Marques - 2019089305\n",
    "---\n",
    "# *_IMPLEMENTAÇÃO_*: \n",
    "\n",
    "### <ins>Criando a População:</ins>\n",
    "Inicialmente, foi preciso que o algoritmo criasse uma população. Um individuo é representado pela lista `individuo`, esta contendo 2 valores: o primeiro para a coordenada x1 e o segundo para a coordenada x2. Logo, foram gerados 2 números aleatórios entre -3 e 3 para cada indivíduo. No total, 50 indivíduos foram criados e armazenados em uma lista chamada `pop`. Para mais detalhes olhar o <span style=\"color:green\">*[BLOCO 2]*</span>.\n",
    "\n",
    "### <ins>Função de Aptidão:</ins>\n",
    "A função de aptidão define a qualidade de uma solução candidata. Optamos por utilizar o f(x) do individuo como o seu fitness. Ou seja, quanto menor o resultado da função peaks de um indivíduo, mais bem avaliado ele é. Nesse caso, quanto mais próximo de -6,5511, melhor. \n",
    "O processo foi feito em todos os indivíduos da população e o resultado foi armazenado em uma lista chama `pop_fitness`. Para mais detalhes olhar os <span style=\"color:green\">*[BLOCOS 4 e 6]*</span>.\n",
    "\n",
    "### <ins>Função de Movimentação:</ins>\n",
    "Essa função é responsável por movimentar um indíviduo. Os parâmetros recebidos por essa função são um `individuo` e uma `velocidade`. Esses parâmetros são somados atualizando assim os valores do `individuo`. Caso alguma dessas coordenadas ultrapasse o limite territorial do gráfico, ela é refletida. Feito isso, a função retorna o individuo atualizado. Para mais detalhes olhar o <span style=\"color:green\">*[BLOCO 8 e 9]*</span>.\n",
    "\n",
    "### <ins>Influência das Oscilações:</ins>\n",
    "\n",
    "Como foi mencionado nos slides base para a prática, o peso de inércia W pode ser alterado ao final de cada iteração. Optamos por utilizar tal método, pois ele é responsável por controlar intensidade das oscilações dos indivíduos. Esse mecanismo produz oscilações mais intensas no começo do código, o que facilita a encontrar novas depress~]oes na superfície, e produz oscilações mais suaves no final do código, o que faz com que os indivíduos se aproximem de forma mais precisa para nosso ponto desejado. Para mais detalhes olhar o <span style=\"color:green\">*[BLOCO 10]*</span>.\n",
    "\n",
    "### <ins>Função Gráfica:</ins>\n",
    "\n",
    "Ao final de cada iteração, um gráfico é plotado mostrando uma situação geral de tal geração. As linhas contínuas são as curvas de nível de nossa superfície. As linhas com tons esverdeados representam elevações em nossa superfície, enquanto as linhas com tons acizentados representam as suas depressões. Os pontos azuis representam a posição final dos indivíduos no final da geração, enquanto o ponto vermelho representa o minímo global, ou seja, onde eles precisam chegar. O gráfico foi feito a partir de funções da biblioteca `matplotlib`.  Para mais detalhes olhar o <span style=\"color:green\">*[BLOCO 11]*</span>.\n",
    "\n",
    "### <ins>Testes:</ins>\n",
    "\n",
    "Todas as funções importantes para o funcionamento do programa tem seus testes implementados no bloco subsequente. Olhar os <span style=\"color:green\">*[BLOCOS 3, 5, 7, 9]*</span>.\n",
    "\n",
    "### <ins>Condição de Parada:</ins>\n",
    "\n",
    "O algoritmo só termina quando encontra a solução perfeita. A solução perfeita é o minímo global que foi dado no enunciado (-6.5511). Quando o melhor indivíduo da população tiver o f(x) igual a esse valor, o algoritmo termina. Como dito anteriormente, o f(x) é calculado através da função peaks. A cada geração, o algoritmo confere o f(x) do melhor indivíduo. Para mais detalhes olhar o <span style=\"color:green\">*[BLOCOS 12]*</span>.\n",
    "\n",
    "### <ins>Código Principal:</ins>\n",
    "\n",
    "Olhar <span style=\"color:green\">*[BLOCO 12]*</span>.\n",
    "\n",
    "Inicialmente, criamos todas as listas e variáveis necessárias para o funcionamento do algoritmo. O comando `while` então é usado para controlar o avanço das gerações e a condição de parada do algoritmo.  O primeiro `for` que este bloco contém é rodado 50 vezes, uma para cada indivíduo na população. Nele é checado através de um `if`, se o f(x) do indivíduo é melhor que o melhor f(x) que ele já esteve. Caso seja, ele atualiza a  lista `minimos[c]` com esse valor, e a lista `pbest[c]` com tal posição. Ambas as listas possuem 50 elementos, um para cada individuo. Elas são responsáveis pela memória individual dos indivíduos. Em sequência, o algoritmo salva na variável `best` o menor valor da lista `minimos[c]`, e sua posição na lista `pg`. Estas variaveis são responsáveis pela memória coletiva da população. \n",
    "Em seguida, nesse mesmo `for` uma lista auxilar chamada `individuo` é criada para armazenar um individuo. Um segundo `for` então é utilizado 2 vezes, com o propósito de gerar o vetor velocidade da partícula. Caso essa velocidade ultrapasse a velocidade máxima estipulada pelo problema, ela toma o valor máximo. O mesmo acontece com o valor minímo. Feito isso, o código chama a função de movimentação e atualiza a população. \n",
    "Ao final de cada iteração do `while`, o W é atualizado apartir de uma função e a geração é incrementada. \n",
    "\n",
    "\n",
    "# _*ANÁLISE DOS RESULTADOS*_: \n",
    "\n",
    "### <ins>Eficiência:</ins>\n",
    "\n",
    "Para testarmos o funcionamento e a eficiência da função Peaks, decidimos simular o código 100 vezes para calcular o número médio de gerações que o algoritmo encontrava a solução desejada. No final, a média encontrada foi de 33,51 gerações.\n",
    "\n",
    "<img src=peaks.jpeg alt=\"Peaks\" width=\"800\"/>\n",
    "\n",
    "Reparamos também que independente da melhor solução inicial gerada, próxima do minímo global ou não, não houve uma grande variação no número de gerações para obtermos a solução desejada. Acreditamos que isso acontece porque no início do processo de otimazação temos muitos vetores-diferenças disponíveis, logo o algoritmo explora a maioria deles até descobrir os melhores, o que custa algumas gerações. Com o passar das gerações, os possíveis vetores-diferenças acabam ficando mais próximos e uniformes até convergirem para o resultado desejado. \n",
    "\n",
    "\n"
   ]
  }
 ],
 "metadata": {
  "kernelspec": {
   "display_name": "Python 3",
   "language": "python",
   "name": "python3"
  },
  "language_info": {
   "codemirror_mode": {
    "name": "ipython",
    "version": 3
   },
   "file_extension": ".py",
   "mimetype": "text/x-python",
   "name": "python",
   "nbconvert_exporter": "python",
   "pygments_lexer": "ipython3",
   "version": "3.10.2"
  }
 },
 "nbformat": 4,
 "nbformat_minor": 4
}
