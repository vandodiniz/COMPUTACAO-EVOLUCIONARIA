{
 "cells": [
  {
   "cell_type": "code",
   "execution_count": 157,
   "metadata": {},
   "outputs": [],
   "source": [
    "#BLOCO 1: \n",
    "import numpy as np\n",
    "from itertools import product\n",
    "import matplotlib.pyplot as plt\n",
    "from mpl_toolkits.mplot3d import Axes3D\n",
    "import random as rd\n",
    "\n",
    "N = 100\n",
    "minimum_global = -6.5511\n",
    "F = 0.8\n",
    "C = 0.7"
   ]
  },
  {
   "cell_type": "markdown",
   "metadata": {},
   "source": [
    "---\n",
    "<h3> Peaks Function </h3>"
   ]
  },
  {
   "cell_type": "code",
   "execution_count": 158,
   "metadata": {},
   "outputs": [],
   "source": [
    "def peaks(x): # objective function\n",
    "    x = x.T\n",
    "    F = 3*(1-x[0])**2 * np.exp(-(x[0]**2) - (x[1]+1)**2) - 10*(x[0]/5 - x[0]**3 - x[1]**5) * np.exp(-x[0]**2-x[1]**2) - 1/3*np.exp(-(x[0]+1)**2 - x[1]**2)\n",
    "    return F"
   ]
  },
  {
   "cell_type": "code",
   "execution_count": 159,
   "metadata": {},
   "outputs": [
    {
     "data": {
      "text/plain": [
       "\"x1 = x2 = np.linspace(-2, 2, 150)\\nx_p = np.array(list(product(x1,x2)))\\n\\n\\nfont_labels = {'fontsize': 14, 'fontweight': 150}\\n\\nfig = plt.figure(figsize=(12,8))\\nax = Axes3D(fig)\\nax.set_title('Função Peaks', fontdict={'fontsize':15})\\nax.set_xlabel('X1', fontdict=font_labels)\\nax.set_ylabel('X2', fontdict=font_labels)\\nax.set_zlabel('peaks(X1, X2)', fontdict=font_labels)\\nsurf = ax.plot_trisurf(x_p[:, 0], x_p[:, 1], [peaks(x_) for x_ in x_p], linewidth=0.1, color='orange')\\nplt.show()\""
      ]
     },
     "execution_count": 159,
     "metadata": {},
     "output_type": "execute_result"
    }
   ],
   "source": [
    "'''x1 = x2 = np.linspace(-2, 2, 150)\n",
    "x_p = np.array(list(product(x1,x2)))\n",
    "\n",
    "\n",
    "font_labels = {'fontsize': 14, 'fontweight': 150}\n",
    "\n",
    "fig = plt.figure(figsize=(12,8))\n",
    "ax = Axes3D(fig)\n",
    "ax.set_title('Função Peaks', fontdict={'fontsize':15})\n",
    "ax.set_xlabel('X1', fontdict=font_labels)\n",
    "ax.set_ylabel('X2', fontdict=font_labels)\n",
    "ax.set_zlabel('peaks(X1, X2)', fontdict=font_labels)\n",
    "surf = ax.plot_trisurf(x_p[:, 0], x_p[:, 1], [peaks(x_) for x_ in x_p], linewidth=0.1, color='orange')\n",
    "plt.show()'''"
   ]
  },
  {
   "cell_type": "markdown",
   "metadata": {},
   "source": [
    "---\n",
    "### IMPLEMENTAÇÃO\n"
   ]
  },
  {
   "cell_type": "code",
   "execution_count": 160,
   "metadata": {},
   "outputs": [],
   "source": [
    "# BLOCO 2: GERANDO A POPULAÇÃO INICIAL\n",
    "def initPop():\n",
    "    pop = []                                                         # lista para armazenar a população\n",
    "    individuo = []                                                   # lista para armazenar um individuo\n",
    "    for c in range(0,N):                                             # laço para gerar os N indivíduos\n",
    "        individuo.append(float(\"{:.4f}\".format(rd.uniform(-3,3))))   # gera a coordenada x1 pro individuo\n",
    "        individuo.append(float(\"{:.4f}\".format(rd.uniform(-3,3))))   # gera a coordenada x2 pro individuo\n",
    "        pop.append(individuo[:])                                     # adiciona o individuo na população\n",
    "        individuo.clear()                                            # limpa a lista\n",
    "\n",
    "    return pop"
   ]
  },
  {
   "cell_type": "code",
   "execution_count": 161,
   "metadata": {},
   "outputs": [
    {
     "name": "stdout",
     "output_type": "stream",
     "text": [
      "[[-0.0806, -2.3638], [-0.5338, 1.3436], [0.608, -2.1354], [2.5179, 2.9839], [-1.1995, -1.6077], [-2.3473, 1.0679], [1.4098, 0.842], [-2.5501, -0.6732], [0.9987, -0.592], [-1.2423, 0.9454], [0.7934, 0.5297], [0.2948, 2.9059], [2.525, -0.2958], [-0.5211, 2.4203], [0.1159, -2.4716], [1.1676, 1.1641], [-0.3648, -1.8733], [2.2595, -1.1978], [1.4846, -2.051], [1.8803, -0.1655], [-2.7661, -0.2756], [1.3042, 0.1962], [-0.9061, 0.2697], [-1.9318, -2.4551], [-1.1642, -0.6742], [-2.297, -0.8198], [-2.1111, 0.7816], [2.5495, -2.4752], [1.8809, 2.485], [1.2696, -0.801], [-0.8566, -0.426], [-0.0757, 0.0602], [0.2042, -0.8314], [2.7161, 0.5037], [-0.4672, 1.4383], [-0.7632, -1.5716], [-2.6744, -2.8442], [-0.3083, -1.3975], [-0.7818, -0.4868], [2.4015, 0.6562], [-1.7813, -1.5962], [-0.2193, -0.0394], [-0.0264, 2.7498], [-2.688, -2.632], [0.3803, -1.3034], [1.796, 1.6754], [2.1728, 0.0069], [2.8322, -2.1338], [-2.2089, 1.9671], [-0.4883, 0.6612], [-1.0875, -1.9032], [-1.1675, -1.9306], [1.6079, 0.3084], [-2.7976, 1.728], [-1.9933, 0.0333], [-1.0825, 0.1334], [-0.4916, -0.2467], [0.4625, 2.1585], [0.9558, 2.4018], [-0.2647, 1.681], [2.6187, -0.0528], [-1.1754, 1.2316], [-2.2972, -0.7537], [2.802, -2.0967], [1.1635, -1.6548], [-0.1392, -2.8767], [1.9944, -1.6708], [-1.6349, 2.3815], [-2.1498, 2.0741], [-2.5532, 1.2653], [-1.5308, 0.9453], [0.2921, -0.4545], [-2.7708, -0.1712], [-2.1188, -2.4578], [-2.3776, 1.3182], [0.4696, 0.4509], [0.2083, -0.8816], [0.1451, 2.0924], [0.9762, 1.0531], [-2.6666, 0.0012], [1.4115, 2.1954], [1.3601, -0.7973], [1.5423, -2.4403], [-0.8314, -1.5637], [-2.6079, -0.5434], [-0.0927, 2.6438], [-2.5263, -2.5498], [-0.8635, -0.4756], [2.9399, -2.8505], [-1.7465, 1.4042], [2.3944, 2.7529], [-0.3912, -0.0957], [-1.9575, 0.0847], [2.8385, 1.5299], [0.0847, -2.6844], [1.8189, -2.3455], [-0.9475, -2.7444], [-2.9109, 1.2518], [0.2253, -1.1702], [-1.9739, 1.8673]]\n"
     ]
    }
   ],
   "source": [
    "# BLOCO 3: TESTANDO A FUNÇÃO ACIMA\n",
    "pop_teste = initPop()\n",
    "print(pop_teste)"
   ]
  },
  {
   "cell_type": "code",
   "execution_count": 162,
   "metadata": {},
   "outputs": [],
   "source": [
    "# BLOCO 4: GERANDO O FITNESS DO INDIVIDUO\n",
    "def fitness(individuo):  \n",
    "    individuo_array = np.array(individuo)\n",
    "    f_de_x = peaks(individuo_array)\n",
    "    distancia = abs(minimum_global) + f_de_x\n",
    "    return distancia"
   ]
  },
  {
   "cell_type": "code",
   "execution_count": 163,
   "metadata": {},
   "outputs": [
    {
     "name": "stdout",
     "output_type": "stream",
     "text": [
      "4.347673850039033\n"
     ]
    }
   ],
   "source": [
    "# BLOCO 5: TESTANDO A FUNÇÃO ACIMA\n",
    "fitness_teste = fitness(pop_teste[0])\n",
    "print(fitness_teste)"
   ]
  },
  {
   "cell_type": "code",
   "execution_count": 164,
   "metadata": {},
   "outputs": [],
   "source": [
    "# BLOCO 6: GERANDO LISTA DE POP_FITNESS DA POPULAÇÃO\n",
    "def popfitness(pop):\n",
    "    pop_fitness = []\n",
    "    for c in range(0,N):\n",
    "        fitness_ind = fitness(pop[c])\n",
    "        pop_fitness.append(fitness_ind)\n",
    "    return pop_fitness"
   ]
  },
  {
   "cell_type": "code",
   "execution_count": 165,
   "metadata": {},
   "outputs": [
    {
     "name": "stdout",
     "output_type": "stream",
     "text": [
      "[4.347673850039033, 11.887627796742724, 3.4360948425814426, 6.5517043064133995, 6.719294593951422, 6.392362553946207, 8.53791062420338, 6.428419043077588, 8.426786173915692, 5.697136460537831, 8.086942793870714, 6.9596855596973235, 6.801542681278727, 8.358341530479974, 4.792550406069055, 8.857129491922972, 2.790318849043592, 6.703328981091031, 6.02910688291655, 8.363176926631162, 6.458585903792802, 9.999942671934168, 4.904144721332145, 6.569634565759397, 7.1739951194074765, 6.366787295897236, 5.9650098408389525, 6.549805507691226, 6.612220396355465, 8.128308828720083, 7.962831271488811, 7.6771079143781265, 6.219105043569738, 6.646421249177912, 12.77637585098187, 5.614024153177692, 6.551659357910222, 3.6750007619280467, 8.778720087993293, 6.826684258870107, 6.704968296091669, 8.376481815779735, 7.368262966053376, 6.552115266630495, 1.464433688684733, 6.99824870859288, 7.439219567687109, 6.551250499369311, 6.579854201506066, 7.264453055740048, 6.1816665361268965, 6.325495790467588, 9.196233447879777, 6.549250862076989, 5.187464479253292, 4.139924766357181, 9.122596196834799, 10.135771500657613, 7.561104690126339, 13.978443558319075, 6.737270099238729, 7.300968081683402, 6.328210962384009, 6.5513235258614975, 4.715842582465793, 6.171776889533822, 6.523511106327454, 6.722837497194246, 6.5883902489890005, 6.5070474263661895, 5.497727619172742, 7.13014385526862, 6.453773338544492, 6.563605434106756, 6.487428870790151, 6.787273033790527, 5.8033024345645075, 11.47502572968651, 9.131433228867959, 6.392026901249271, 7.140116091329036, 8.209598300885201, 6.361515313503616, 5.952934857059925, 6.424725025316404, 7.7309979985611275, 6.553631333945412, 8.169559112583695, 6.551079582156274, 6.559560737359387, 6.553936237044965, 8.678565083542795, 5.064524963976437, 6.560464859850049, 5.670051213040196, 6.465615816322714, 6.4307086968098846, 6.540194156008729, 2.810150242232526, 6.643071392193407]\n"
     ]
    }
   ],
   "source": [
    "# BLOCO 7: TESTANDO A FUNÇÃO ACIMA\n",
    "pop_fitness = popfitness(pop_teste)\n",
    "print(pop_fitness)"
   ]
  },
  {
   "cell_type": "code",
   "execution_count": 166,
   "metadata": {},
   "outputs": [],
   "source": [
    "#BLOCO 8: CALCULANDO O F_DE_X DE UM INDIVIDUO\n",
    "def calcula_f_de_x(individuo):\n",
    "    ar = np.array(individuo)\n",
    "    return float(\"{:.4f}\".format(peaks(ar)))\n"
   ]
  },
  {
   "cell_type": "code",
   "execution_count": 167,
   "metadata": {},
   "outputs": [
    {
     "name": "stdout",
     "output_type": "stream",
     "text": [
      "-2.2034\n"
     ]
    }
   ],
   "source": [
    "# BLOCO 9: TESTANDO A FUNÇÃO ACIMA\n",
    "f_de_x_teste = calcula_f_de_x(pop_teste[0])\n",
    "print(f_de_x_teste)"
   ]
  },
  {
   "cell_type": "code",
   "execution_count": 168,
   "metadata": {},
   "outputs": [
    {
     "name": "stdout",
     "output_type": "stream",
     "text": [
      "Melhor indivíduo inicial: [0.1288, -1.5769]; Minímo da população: -6.3996\n",
      "GERAÇAO:  27\n",
      "Melhor indivíduo final: [0.225, -1.626]; Minímo da população: -6.5511\n"
     ]
    }
   ],
   "source": [
    "#BLOCO 10: BLOCO PRINCIPAL\n",
    "\n",
    "## inicialização da população\n",
    "pop = initPop()                                                                     #cria a população inicial\n",
    "pop_fitness = popfitness(pop)                                                       #analisa o fitness da população\n",
    "best = min(pop_fitness)                                                             #descobre o melhor fitness da população inicial\n",
    "pos_best = pop_fitness.index(best)\n",
    "min_pop = calcula_f_de_x(pop[pos_best])                                                  #descobre a posição do melhor individuo\n",
    "t = 1                                                                               #contador de gerações                          \n",
    "print(f'Melhor indivíduo inicial: {pop[pos_best]}; Minímo da população: {min_pop}')\n",
    "while min_pop != minimum_global:\n",
    "    pop_mutante = []\n",
    "    individuo = []\n",
    "    for c in range(0,N):\n",
    "        a = rd.randint(0,N-1)\n",
    "        r1 = pop[a]\n",
    "        a = rd.randint(0,N-1)\n",
    "        r2 = pop[a]\n",
    "        a = rd.randint(0,N-1)\n",
    "        r3 = pop[a]\n",
    "        delta = pop[rd.randint(0,N-1)]   \n",
    "        \n",
    "        for j in range(0,2):\n",
    "            if (rd.random() <= C or delta == j):\n",
    "                vetor_diferenca = r2[j] - r3[j]       \n",
    "                solucao_mutante = r1[j] + F*vetor_diferenca      \n",
    "                individuo.append(solucao_mutante)\n",
    "            else:\n",
    "                individuo.append(pop[c][j]) \n",
    "        pop_mutante.append(individuo[:]) \n",
    "                       \n",
    "        if(fitness(pop_mutante[c]) <= fitness(pop[c])):\n",
    "            pop[c] = pop_mutante[c]  \n",
    "        individuo.clear()           \n",
    "    pop_mutante.clear()\n",
    "       \n",
    "    pop_fitness = popfitness(pop) \n",
    "    best = min(pop_fitness) \n",
    "    pos_best = pop_fitness.index(best)\n",
    "    min_pop = calcula_f_de_x(pop[pos_best])            \n",
    "    t = t + 1     \n",
    "                                                                                                                                    \n",
    "print('GERAÇAO: ', t)                                                               #contador de gerações      \n",
    "pop[pos_best][0] = float(\"{:.3f}\".format(pop[pos_best][0]))\n",
    "pop[pos_best][1] = float(\"{:.3f}\".format(pop[pos_best][1]))\n",
    "print(f'Melhor indivíduo final: {pop[pos_best]}; Minímo da população: {min_pop}')\n",
    "\n"
   ]
  }
 ],
 "metadata": {
  "kernelspec": {
   "display_name": "Python 3",
   "language": "python",
   "name": "python3"
  },
  "language_info": {
   "codemirror_mode": {
    "name": "ipython",
    "version": 3
   },
   "file_extension": ".py",
   "mimetype": "text/x-python",
   "name": "python",
   "nbconvert_exporter": "python",
   "pygments_lexer": "ipython3",
   "version": "3.10.1"
  }
 },
 "nbformat": 4,
 "nbformat_minor": 4
}
