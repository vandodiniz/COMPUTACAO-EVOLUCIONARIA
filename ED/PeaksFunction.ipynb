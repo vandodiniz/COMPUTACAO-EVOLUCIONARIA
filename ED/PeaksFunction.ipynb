{
 "cells": [
  {
   "cell_type": "code",
   "execution_count": 1,
   "metadata": {},
   "outputs": [],
   "source": [
    "#BLOCO 1: \n",
    "import numpy as np\n",
    "from itertools import product\n",
    "import matplotlib.pyplot as plt\n",
    "from mpl_toolkits.mplot3d import Axes3D\n",
    "import random as rd\n",
    "\n",
    "N = 100\n",
    "minimum_global = -6.5511\n",
    "F = 0.8\n",
    "C = 0.7"
   ]
  },
  {
   "cell_type": "markdown",
   "metadata": {},
   "source": [
    "---\n",
    "<h3> Peaks Function </h3>"
   ]
  },
  {
   "cell_type": "code",
   "execution_count": 2,
   "metadata": {},
   "outputs": [],
   "source": [
    "def peaks(x): # objective function\n",
    "    x = x.T\n",
    "    F = 3*(1-x[0])**2 * np.exp(-(x[0]**2) - (x[1]+1)**2) - 10*(x[0]/5 - x[0]**3 - x[1]**5) * np.exp(-x[0]**2-x[1]**2) - 1/3*np.exp(-(x[0]+1)**2 - x[1]**2)\n",
    "    return F"
   ]
  },
  {
   "cell_type": "code",
   "execution_count": 3,
   "metadata": {},
   "outputs": [
    {
     "data": {
      "text/plain": [
       "\"x1 = x2 = np.linspace(-2, 2, 150)\\nx_p = np.array(list(product(x1,x2)))\\n\\n\\nfont_labels = {'fontsize': 14, 'fontweight': 150}\\n\\nfig = plt.figure(figsize=(12,8))\\nax = Axes3D(fig)\\nax.set_title('Função Peaks', fontdict={'fontsize':15})\\nax.set_xlabel('X1', fontdict=font_labels)\\nax.set_ylabel('X2', fontdict=font_labels)\\nax.set_zlabel('peaks(X1, X2)', fontdict=font_labels)\\nsurf = ax.plot_trisurf(x_p[:, 0], x_p[:, 1], [peaks(x_) for x_ in x_p], linewidth=0.1, color='orange')\\nplt.show()\""
      ]
     },
     "execution_count": 3,
     "metadata": {},
     "output_type": "execute_result"
    }
   ],
   "source": [
    "'''x1 = x2 = np.linspace(-2, 2, 150)\n",
    "x_p = np.array(list(product(x1,x2)))\n",
    "\n",
    "\n",
    "font_labels = {'fontsize': 14, 'fontweight': 150}\n",
    "\n",
    "fig = plt.figure(figsize=(12,8))\n",
    "ax = Axes3D(fig)\n",
    "ax.set_title('Função Peaks', fontdict={'fontsize':15})\n",
    "ax.set_xlabel('X1', fontdict=font_labels)\n",
    "ax.set_ylabel('X2', fontdict=font_labels)\n",
    "ax.set_zlabel('peaks(X1, X2)', fontdict=font_labels)\n",
    "surf = ax.plot_trisurf(x_p[:, 0], x_p[:, 1], [peaks(x_) for x_ in x_p], linewidth=0.1, color='orange')\n",
    "plt.show()'''"
   ]
  },
  {
   "cell_type": "markdown",
   "metadata": {},
   "source": [
    "---\n",
    "### IMPLEMENTAÇÃO\n"
   ]
  },
  {
   "cell_type": "code",
   "execution_count": 4,
   "metadata": {},
   "outputs": [],
   "source": [
    "# BLOCO 2: GERANDO A POPULAÇÃO INICIAL\n",
    "def initPop():\n",
    "    pop = []                                                         # lista para armazenar a população\n",
    "    individuo = []                                                   # lista para armazenar um individuo\n",
    "    for c in range(0,N):                                             # laço para gerar os N indivíduos\n",
    "        individuo.append(float(\"{:.4f}\".format(rd.uniform(-3,3))))   # gera a coordenada x1 pro individuo\n",
    "        individuo.append(float(\"{:.4f}\".format(rd.uniform(-3,3))))   # gera a coordenada x2 pro individuo\n",
    "        pop.append(individuo[:])                                     # adiciona o individuo na população\n",
    "        individuo.clear()                                            # limpa a lista\n",
    "\n",
    "    return pop"
   ]
  },
  {
   "cell_type": "code",
   "execution_count": 5,
   "metadata": {},
   "outputs": [
    {
     "name": "stdout",
     "output_type": "stream",
     "text": [
      "[[-2.4912, -1.4129], [-0.7173, -2.2571], [-2.716, -1.6251], [0.0357, 0.3736], [-1.9173, 1.7001], [2.3917, 2.0757], [0.7289, -1.4637], [-1.122, 0.9918], [-0.3224, -1.5302], [-0.7199, 1.9574], [2.2978, -2.9581], [-0.0731, 2.8068], [0.3261, -1.3363], [-0.4463, 2.0377], [-0.0768, -0.3063], [-2.6675, -2.4444], [0.0153, 2.6913], [-0.7193, 1.2642], [-0.6606, -1.1732], [0.251, 2.8629], [0.5765, 2.0942], [-0.2154, 2.8614], [2.8996, -1.504], [2.6899, -2.2726], [0.221, -0.7866], [1.0158, -0.4517], [-0.5804, 1.0751], [-2.3168, 1.1673], [-1.0758, -1.9751], [-1.1048, -0.6951], [2.0788, 0.6586], [-0.0989, -0.7686], [-0.7512, 1.9028], [2.9204, 0.6424], [-0.545, 1.5812], [-0.326, 2.3114], [-1.9827, -0.3789], [2.5387, -1.9349], [2.7434, -1.3754], [0.8281, 0.2869], [0.5986, -1.2587], [0.6827, 0.2189], [-0.8454, 0.2173], [0.158, 1.5567], [0.6342, 2.2016], [-2.3883, 1.7555], [1.6537, 2.9228], [0.492, -2.479], [1.2935, -1.4649], [-0.4786, 2.4562], [-0.1129, 1.4495], [2.4473, 1.4381], [2.6105, -1.5198], [0.2777, 2.0476], [-0.8227, 0.7269], [0.4786, -2.3792], [1.5747, 2.9686], [2.3573, 1.1601], [-0.6502, -1.8357], [-0.8567, 2.2813], [1.8996, 1.9165], [-1.3973, -1.4187], [-0.0109, 1.7539], [0.8231, -1.4993], [-2.324, -2.69], [0.4678, -2.4793], [-1.8664, 2.4342], [-1.7119, -0.3723], [0.9839, 1.6247], [0.5947, -0.9516], [-2.7599, 1.6105], [0.0851, -2.2286], [1.0089, -0.5556], [-0.8213, 0.3372], [-0.5595, -1.7876], [-0.3945, 0.4289], [1.4517, 0.6007], [-2.4051, -0.142], [-1.6627, -0.0035], [1.0253, 1.1596], [-0.7223, 1.0078], [-0.6769, 0.5118], [0.2683, 0.0565], [-1.9244, -2.2649], [-1.5375, 0.1135], [-0.332, 2.4082], [2.9043, -2.6592], [-2.797, -2.6179], [-0.7161, 2.5575], [2.6477, 1.1651], [1.0507, 0.9963], [-0.8184, 1.1394], [0.4049, 2.5103], [1.3467, 1.6712], [-1.3013, 2.4626], [-0.8675, 1.0995], [-2.2154, 1.7701], [-0.5093, -0.1516], [2.6837, -0.1898], [0.2809, -1.8758]]\n"
     ]
    }
   ],
   "source": [
    "# BLOCO 3: TESTANDO A FUNÇÃO ACIMA\n",
    "pop_teste = initPop()\n",
    "print(pop_teste)"
   ]
  },
  {
   "cell_type": "code",
   "execution_count": 6,
   "metadata": {},
   "outputs": [],
   "source": [
    "# BLOCO 4: GERANDO O FITNESS DO INDIVIDUO\n",
    "def fitness(individuo):  \n",
    "    individuo_array = np.array(individuo)\n",
    "    f_de_x = peaks(individuo_array)\n",
    "    distancia = abs(minimum_global) + f_de_x\n",
    "    return distancia"
   ]
  },
  {
   "cell_type": "code",
   "execution_count": 7,
   "metadata": {},
   "outputs": [
    {
     "name": "stdout",
     "output_type": "stream",
     "text": [
      "6.551970734803217\n"
     ]
    }
   ],
   "source": [
    "# BLOCO 6: TESTANDO A FUNÇÃO ACIMA\n",
    "fitness_teste = fitness(pop_teste[0])\n",
    "print(fitness_teste)"
   ]
  },
  {
   "cell_type": "code",
   "execution_count": 8,
   "metadata": {},
   "outputs": [],
   "source": [
    "# BLOCO 5: GERANDO LISTA DE POP_FITNESS DA POPULAÇÃO\n",
    "def popfitness(pop):\n",
    "    pop_fitness = []\n",
    "    for c in range(0,N):\n",
    "        fitness_ind = fitness(pop[c])\n",
    "        pop_fitness.append(fitness_ind)\n",
    "    return pop_fitness"
   ]
  },
  {
   "cell_type": "code",
   "execution_count": 9,
   "metadata": {},
   "outputs": [
    {
     "name": "stdout",
     "output_type": "stream",
     "text": [
      "[6.551970734803217, 5.483207896588686, 6.55363467732023, 6.875777048271433, 6.649610216098318, 6.573923158684898, 2.1849366992251005, 6.258360844517513, 2.8546244349450305, 10.225559146962997, 6.549923239594056, 7.207715501393674, 1.1652261748071622, 11.07583154636512, 8.669373335965377, 6.552934596757189, 7.560417794543009, 10.137959656407041, 7.783212484991028, 7.048852059854176, 10.1557377455333, 7.060363334431183, 6.556715986696984, 6.550605400803638, 6.451177911191097, 8.947349986079193, 9.584999836061808, 6.420330628520697, 6.138634759497207, 7.573638776024943, 7.302134128604574, 8.501472035207856, 10.299416498707108, 6.583218880945278, 12.530639602054453, 9.38921867978208, 5.538474227494041, 6.551573085199519, 6.5676980650685195, 8.423864232754884, 2.4693077099056344, 7.664741719514103, 5.347833268257423, 14.42471934903964, 9.273919625787627, 6.554325708073461, 6.578623121717315, 5.044403007895371, 5.527592618513807, 8.255465338067856, 14.295409043383824, 6.615500982319771, 6.567598152085678, 11.57912047011693, 6.050040821601853, 4.538010528026131, 6.580294364574936, 6.699336659557205, 4.472663481862578, 8.166483292390149, 6.7735998236436545, 7.012205925101903, 14.204041827880026, 2.733763639758413, 6.554687861759287, 5.0169505516992565, 6.615741283802956, 4.995258474753998, 9.82496294928331, 4.929967539358129, 6.546454064658743, 3.298180536941545, 8.596193103300175, 5.358811296372211, 3.924794946436269, 7.234988285668101, 8.968760422806895, 6.152217050390271, 4.146196756474408, 9.254572648310702, 8.2682024933611, 6.183007763664961, 6.655521804280405, 6.5811621954480035, 3.741360429834312, 8.748830449532242, 6.551049507233816, 6.5517398083684215, 7.49439980592768, 6.598028712385802, 8.922567989701095, 8.661431206608661, 8.102019085054877, 8.069924109789746, 6.929191344902833, 8.099251373615937, 6.570255093205718, 8.63338895993586, 6.6894140032113665, 0.8443386272753237]\n"
     ]
    }
   ],
   "source": [
    "# BLOCO 6: TESTANDO A FUNÇÃO ACIMA\n",
    "pop_fitness = popfitness(pop_teste)\n",
    "print(pop_fitness)"
   ]
  },
  {
   "cell_type": "code",
   "execution_count": 10,
   "metadata": {},
   "outputs": [
    {
     "name": "stdout",
     "output_type": "stream",
     "text": [
      "Melhor indivíduo inicial: [-0.1246, -1.8696]; Fitness: 1.4841\n",
      "1.4841267924508683\n",
      "0.3353665671456456\n",
      "0.3353665671456456\n",
      "0.3353665671456456\n",
      "0.3353665671456456\n",
      "0.3353665671456456\n",
      "0.3353665671456456\n",
      "0.3353665671456456\n",
      "0.3353665671456456\n",
      "0.3353665671456456\n",
      "0.30955939266255594\n",
      "0.06612070653827828\n",
      "0.06612070653827828\n",
      "0.06612070653827828\n",
      "0.06612070653827828\n",
      "0.06612070653827828\n",
      "0.06612070653827828\n",
      "0.06612070653827828\n",
      "0.06348333697118136\n",
      "0.0597781724543891\n",
      "0.02835704167814246\n",
      "0.02835704167814246\n",
      "0.02835704167814246\n",
      "0.009151163546603946\n",
      "0.00045984969586854163\n",
      "0.00045984969586854163\n",
      "0.00045984969586854163\n",
      "0.00045984969586854163\n",
      "0.00045984969586854163\n",
      "0.00045984969586854163\n",
      "0.00045984969586854163\n",
      "0.00021551851285650514\n",
      "0.00021551851285650514\n",
      "0.00021551851285650514\n",
      "0.00014427848012754652\n",
      "4.805459577639226e-05\n",
      "GERAÇAO:  37\n",
      "Melhor indivíduo final: [0.2310861051089154, -1.6244432855246624]; Fitness: 0.0000\n",
      "-6.5510519454042235\n"
     ]
    }
   ],
   "source": [
    "#BLOCO 7: \n",
    "\n",
    "## inicialização da população\n",
    "pop = initPop()                                                                     #cria a população inicial\n",
    "pop_fitness = popfitness(pop)                                                       #analisa o fitness da população\n",
    "best = min(pop_fitness)                                                             #descobre o melhor fitness da população inicial\n",
    "pos_best = pop_fitness.index(best)                                                  #descobre a posição do melhor individuo\n",
    "t = 1                                                                               #contador de gerações                          \n",
    "print(f'Melhor indivíduo inicial: {pop[pos_best]}; Fitness: {best:.4f}')\n",
    "while (best > 0.0001 or best < -0.0001 ) and t != 50:\n",
    "    pop_mutante = []\n",
    "    individuo = []\n",
    "    for c in range(0,N):\n",
    "        a = rd.randint(0,N-1)\n",
    "        r1 = pop[a]\n",
    "        a = rd.randint(0,N-1)\n",
    "        r2 = pop[a]\n",
    "        a = rd.randint(0,N-1)\n",
    "        r3 = pop[a]\n",
    "        delta = pop[rd.randint(0,N-1)]   \n",
    "        for j in range(0,2):\n",
    "            if (rd.random() <= C):\n",
    "                vetor_diferenca = r2[j] - r3[j]       \n",
    "                solucao_mutante = r1[j] + F*vetor_diferenca      \n",
    "                individuo.append(solucao_mutante)\n",
    "            else:\n",
    "                individuo.append(pop[c][j]) \n",
    "        pop_mutante.append(individuo[:])                \n",
    "        if(fitness(pop_mutante[c]) <= fitness(pop[c])):\n",
    "            pop[c] = pop_mutante[c]  \n",
    "        individuo.clear()           \n",
    "    pop_mutante.clear()   \n",
    "    pop_fitness = popfitness(pop) \n",
    "    best = min(pop_fitness)                \n",
    "    t = t + 1                           \n",
    "    print(best)                                                    \n",
    "pos_best = pop_fitness.index(best)                                                          #descobre a posição do melhor individuo    \n",
    "print('GERAÇAO: ', t)                                                                        #contador de gerações                          \n",
    "print(f'Melhor indivíduo final: {pop[pos_best]}; Fitness: {best:.4f}')\n",
    "ar = np.array(pop[pos_best])\n",
    "print(peaks(ar))\n"
   ]
  },
  {
   "cell_type": "code",
   "execution_count": null,
   "metadata": {},
   "outputs": [],
   "source": [
    "#oi"
   ]
  }
 ],
 "metadata": {
  "kernelspec": {
   "display_name": "Python 3",
   "language": "python",
   "name": "python3"
  },
  "language_info": {
   "codemirror_mode": {
    "name": "ipython",
    "version": 3
   },
   "file_extension": ".py",
   "mimetype": "text/x-python",
   "name": "python",
   "nbconvert_exporter": "python",
   "pygments_lexer": "ipython3",
   "version": "3.10.1"
  }
 },
 "nbformat": 4,
 "nbformat_minor": 4
}
