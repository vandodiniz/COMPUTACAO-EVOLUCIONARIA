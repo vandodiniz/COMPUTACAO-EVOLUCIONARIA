{
 "cells": [
  {
   "cell_type": "code",
   "execution_count": 232,
   "metadata": {},
   "outputs": [],
   "source": [
    "#BLOCO 1: \n",
    "import numpy as np\n",
    "from itertools import product\n",
    "import matplotlib.pyplot as plt\n",
    "from mpl_toolkits.mplot3d import Axes3D\n",
    "import random as rd\n",
    "\n",
    "N = 100\n",
    "minimum_global = -6.5511\n",
    "F = 0.8\n",
    "C = 0.7"
   ]
  },
  {
   "cell_type": "markdown",
   "metadata": {},
   "source": [
    "---\n",
    "<h3> Peaks Function </h3>"
   ]
  },
  {
   "cell_type": "code",
   "execution_count": 233,
   "metadata": {},
   "outputs": [],
   "source": [
    "def peaks(x): # objective function\n",
    "    #x = x.T\n",
    "    F = 3*(1-x[0])**2 * np.exp(-(x[0]**2) - (x[1]+1)**2) - 10*(x[0]/5 - x[0]**3 - x[1]**5) * np.exp(-x[0]**2-x[1]**2) - 1/3*np.exp(-(x[0]+1)**2 - x[1]**2)\n",
    "    return F"
   ]
  },
  {
   "cell_type": "code",
   "execution_count": 234,
   "metadata": {},
   "outputs": [
    {
     "data": {
      "text/plain": [
       "\"x1 = x2 = np.linspace(-2, 2, 150)\\nx_p = np.array(list(product(x1,x2)))\\n\\n\\nfont_labels = {'fontsize': 14, 'fontweight': 150}\\n\\nfig = plt.figure(figsize=(12,8))\\nax = Axes3D(fig)\\nax.set_title('Função Peaks', fontdict={'fontsize':15})\\nax.set_xlabel('X1', fontdict=font_labels)\\nax.set_ylabel('X2', fontdict=font_labels)\\nax.set_zlabel('peaks(X1, X2)', fontdict=font_labels)\\nsurf = ax.plot_trisurf(x_p[:, 0], x_p[:, 1], [peaks(x_) for x_ in x_p], linewidth=0.1, color='orange')\\nplt.show()\""
      ]
     },
     "execution_count": 234,
     "metadata": {},
     "output_type": "execute_result"
    }
   ],
   "source": [
    "'''x1 = x2 = np.linspace(-2, 2, 150)\n",
    "x_p = np.array(list(product(x1,x2)))\n",
    "\n",
    "\n",
    "font_labels = {'fontsize': 14, 'fontweight': 150}\n",
    "\n",
    "fig = plt.figure(figsize=(12,8))\n",
    "ax = Axes3D(fig)\n",
    "ax.set_title('Função Peaks', fontdict={'fontsize':15})\n",
    "ax.set_xlabel('X1', fontdict=font_labels)\n",
    "ax.set_ylabel('X2', fontdict=font_labels)\n",
    "ax.set_zlabel('peaks(X1, X2)', fontdict=font_labels)\n",
    "surf = ax.plot_trisurf(x_p[:, 0], x_p[:, 1], [peaks(x_) for x_ in x_p], linewidth=0.1, color='orange')\n",
    "plt.show()'''"
   ]
  },
  {
   "cell_type": "markdown",
   "metadata": {},
   "source": [
    "---\n",
    "### IMPLEMENTAÇÃO\n"
   ]
  },
  {
   "cell_type": "code",
   "execution_count": 235,
   "metadata": {},
   "outputs": [],
   "source": [
    "# BLOCO 2: GERANDO A POPULAÇÃO INICIAL\n",
    "def initPop():\n",
    "    pop = []                                                         # lista para armazenar a população\n",
    "    individuo = []                                                   # lista para armazenar um individuo\n",
    "    for c in range(0,N):                                             # laço para gerar os N indivíduos\n",
    "        individuo.append(float(\"{:.4f}\".format(rd.uniform(-3,3))))                           # gera a coordenada x1 pro individuo\n",
    "        individuo.append(float(\"{:.4f}\".format(rd.uniform(-3,3))))                          # gera a coordenada x2 pro individuo\n",
    "        pop.append(individuo[:])                                     # adiciona o individuo na população\n",
    "        individuo.clear()                                            # limpa a lista\n",
    "\n",
    "    return pop"
   ]
  },
  {
   "cell_type": "code",
   "execution_count": 236,
   "metadata": {},
   "outputs": [
    {
     "name": "stdout",
     "output_type": "stream",
     "text": [
      "[[1.2001, -1.9757], [2.66, 0.0084], [1.905, 1.196], [-1.9687, -0.9836], [1.8464, 1.5918], [1.1857, -1.8054], [-1.9819, 2.0296], [1.659, -0.2704], [2.5688, 2.3404], [1.1515, -1.0442], [-2.9798, -2.685], [1.5068, -1.9496], [-2.2135, 2.8138], [-0.1847, 1.1459], [0.5934, 2.5484], [2.1622, 1.6238], [2.5733, 1.9697], [0.5322, -1.531], [-0.297, -1.5821], [-1.7559, -0.9147], [-0.6335, -1.3966], [-2.5664, 0.607], [-0.8976, 0.3353], [-0.1514, 2.5657], [-1.0735, -0.5789], [-2.9783, -0.9912], [-1.7758, -0.3165], [-0.6227, -2.9975], [-0.4274, -1.6347], [1.6344, 1.0846], [-1.0909, 0.8092], [1.9299, -0.4273], [2.9132, -2.0715], [-0.2503, 2.7098], [1.6311, 0.2701], [0.9807, -1.5424], [1.1923, 0.2023], [2.5014, 0.6518], [1.5274, 1.1799], [-0.8717, 0.099], [2.7083, 0.4473], [-2.8366, 0.5793], [2.4182, 1.9419], [0.8344, -2.9544], [1.5258, 1.5622], [-0.6677, -0.5771], [0.043, 0.2646], [-2.6992, -1.5894], [0.4168, -2.4088], [0.7861, -2.528], [1.5005, 1.2115], [0.013, -0.3878], [-0.3983, 2.7549], [-0.4482, -1.7384], [1.6154, 1.8898], [-2.8108, 2.5034], [-0.3662, -0.5062], [1.9271, -0.5809], [-1.4152, 1.4622], [-0.9239, -1.0197], [-1.8446, 2.8279], [-2.4522, -0.3321], [1.6764, 1.6732], [-0.8905, 1.0887], [1.9594, -1.0296], [-1.9316, 1.227], [-2.8304, 2.8469], [-1.6076, -0.1998], [-0.7254, 2.9227], [-2.1924, -1.7912], [-1.2898, 1.3733], [-0.9511, 1.3584], [0.6024, 0.0865], [1.6839, 0.3128], [-0.8383, -2.7639], [-2.9565, 2.2089], [-0.2336, -0.0292], [-0.2199, -1.7431], [2.735, 1.6767], [-0.647, -1.8896], [2.901, -2.8417], [2.6026, -2.3498], [-1.9642, 2.8568], [-1.4867, -2.4478], [0.1141, -2.847], [-0.5839, -0.1056], [-1.5114, 0.5787], [-2.5689, 0.714], [0.8248, -0.0863], [1.2749, -2.22], [1.5474, -0.7009], [2.4521, -0.1599], [1.2526, -0.6782], [1.843, 1.8028], [2.6976, -1.6838], [1.3657, 0.2709], [2.2151, 2.559], [-2.7609, -0.7879], [0.963, 2.6821], [1.1133, 2.0951]]\n"
     ]
    }
   ],
   "source": [
    "# BLOCO 3: TESTANDO A FUNÇÃO ACIMA\n",
    "pop_teste = initPop()\n",
    "print(pop_teste)"
   ]
  },
  {
   "cell_type": "code",
   "execution_count": 237,
   "metadata": {},
   "outputs": [],
   "source": [
    "# BLOCO 4: GERANDO LISTA DE POP_FITNESS DO INDIVIDUO\n",
    "def fitness(individuo):    \n",
    "    f_de_x = peaks(individuo)\n",
    "    distancia = abs(minimum_global) + f_de_x\n",
    "    return distancia"
   ]
  },
  {
   "cell_type": "code",
   "execution_count": 238,
   "metadata": {},
   "outputs": [],
   "source": [
    "# BLOCO 5: GERANDO LISTA DE POP_FITNESS DA POPULAÇÃO\n",
    "def popfitness(pop):\n",
    "    pop_fitness = []\n",
    "    for c in range(0,N):\n",
    "        fitness_ind = fitness(pop[c])\n",
    "        pop_fitness.append(fitness_ind)\n",
    "    return pop_fitness"
   ]
  },
  {
   "cell_type": "code",
   "execution_count": 239,
   "metadata": {},
   "outputs": [
    {
     "name": "stdout",
     "output_type": "stream",
     "text": [
      "[5.194699247152442, 6.708248428135809, 7.12172037060854, 6.406795957643505, 6.97484439783187, 4.8928298821682175, 6.635649146892282, 9.109048749015546, 6.556033764088402, 6.617445624321432, 6.551311610992209, 6.005316931770205, 6.555577229177337, 11.761647341559112, 7.694782456524173, 6.691099776264057, 6.563795840138642, 0.8731947490327006, 2.4250685568405226, 6.374168213401562, 5.909079062288302, 6.3796760633130996, 4.9140038214906925, 8.055062028676751, 7.269367433942492, 6.5411923182460106, 4.9771424717460935, 6.444418849651948, 3.2230932181828043, 7.7337719063821035, 5.3718599072603785, 7.960374889564111, 6.551423008915405, 7.439258714121971, 9.176829099116858, 3.724285735122903, 9.92961081999756, 6.743332385115739, 7.888495025942756, 5.435132634494075, 6.655100868076533, 6.493284187867052, 6.5785387307872805, 6.37067567134421, 7.617122913569114, 9.75766739400501, 6.933286412950009, 6.553452532601775, 4.609609236289531, 5.6278938396364575, 7.93106578745269, 8.359217120617203, 7.235859102825932, 3.1976970272579734, 7.13024327674054, 6.551615450187774, 10.154019771220632, 7.770647683183948, 7.181023195542292, 8.59211968438674, 6.570639615484629, 6.258480954455576, 7.191526886372607, 7.897310125071151, 7.055564194588609, 6.309550347782782, 6.551261719032599, 4.362008038963707, 6.796563393489478, 6.587201963130689, 7.376510973202869, 9.045157030311511, 7.304598635573866, 8.928942002051055, 6.389169543083623, 6.551377463658365, 8.371898249958138, 1.660419535203336, 6.56235243129123, 4.483026990301232, 6.551069534494972, 6.55003058245736, 6.562096518880056, 6.551477890809908, 6.070310202140382, 8.099953402391371, 4.278938847278251, 6.4038754807307, 8.550940878309278, 5.818806927336679, 8.426675512328229, 6.898751725556669, 8.651594694652795, 6.874836590098687, 6.557098765359315, 9.837174204433593, 6.563831023144971, 6.508187923832082, 6.965707586772081, 8.042840167936179]\n"
     ]
    }
   ],
   "source": [
    "# BLOCO 6: TESTANDO A FUNÇÃO ACIMA\n",
    "pop_fitness = popfitness(pop_teste)\n",
    "print(pop_fitness)"
   ]
  },
  {
   "cell_type": "code",
   "execution_count": 240,
   "metadata": {},
   "outputs": [
    {
     "name": "stdout",
     "output_type": "stream",
     "text": [
      "Melhor indivíduo inicial: [0.3856, -1.7782]; Fitness: 0.5867\n"
     ]
    },
    {
     "ename": "IndexError",
     "evalue": "list assignment index out of range",
     "output_type": "error",
     "traceback": [
      "\u001b[1;31m---------------------------------------------------------------------------\u001b[0m",
      "\u001b[1;31mIndexError\u001b[0m                                Traceback (most recent call last)",
      "\u001b[1;32mC:\\Users\\RAFAEL~1\\AppData\\Local\\Temp/ipykernel_15536/4140335049.py\u001b[0m in \u001b[0;36m<module>\u001b[1;34m\u001b[0m\n\u001b[0;32m     23\u001b[0m             \u001b[1;32melse\u001b[0m\u001b[1;33m:\u001b[0m\u001b[1;33m\u001b[0m\u001b[1;33m\u001b[0m\u001b[0m\n\u001b[0;32m     24\u001b[0m                 \u001b[0mindividuo\u001b[0m\u001b[1;33m.\u001b[0m\u001b[0mappend\u001b[0m\u001b[1;33m(\u001b[0m\u001b[0mpop\u001b[0m\u001b[1;33m[\u001b[0m\u001b[0mc\u001b[0m\u001b[1;33m]\u001b[0m\u001b[1;33m[\u001b[0m\u001b[0mj\u001b[0m\u001b[1;33m]\u001b[0m\u001b[1;33m)\u001b[0m\u001b[1;33m\u001b[0m\u001b[1;33m\u001b[0m\u001b[0m\n\u001b[1;32m---> 25\u001b[1;33m         \u001b[0mpop_mutante\u001b[0m\u001b[1;33m[\u001b[0m\u001b[0mc\u001b[0m\u001b[1;33m]\u001b[0m \u001b[1;33m=\u001b[0m \u001b[0mindividuo\u001b[0m\u001b[1;33m\u001b[0m\u001b[1;33m\u001b[0m\u001b[0m\n\u001b[0m\u001b[0;32m     26\u001b[0m         \u001b[1;32mif\u001b[0m\u001b[1;33m(\u001b[0m\u001b[0mfitness\u001b[0m\u001b[1;33m(\u001b[0m\u001b[0mpop_mutante\u001b[0m\u001b[1;33m[\u001b[0m\u001b[0mc\u001b[0m\u001b[1;33m]\u001b[0m\u001b[1;33m)\u001b[0m \u001b[1;33m<=\u001b[0m \u001b[0mfitness\u001b[0m\u001b[1;33m(\u001b[0m\u001b[0mpop\u001b[0m\u001b[1;33m[\u001b[0m\u001b[0mc\u001b[0m\u001b[1;33m]\u001b[0m\u001b[1;33m)\u001b[0m\u001b[1;33m)\u001b[0m\u001b[1;33m:\u001b[0m\u001b[1;33m\u001b[0m\u001b[1;33m\u001b[0m\u001b[0m\n\u001b[0;32m     27\u001b[0m             \u001b[0mpop\u001b[0m\u001b[1;33m[\u001b[0m\u001b[0mc\u001b[0m\u001b[1;33m]\u001b[0m \u001b[1;33m=\u001b[0m \u001b[0mpop_mutante\u001b[0m\u001b[1;33m[\u001b[0m\u001b[0mc\u001b[0m\u001b[1;33m]\u001b[0m\u001b[1;33m\u001b[0m\u001b[1;33m\u001b[0m\u001b[0m\n",
      "\u001b[1;31mIndexError\u001b[0m: list assignment index out of range"
     ]
    }
   ],
   "source": [
    "#BLOCO 7: \n",
    "\n",
    "## inicialização da população\n",
    "pop = initPop()                                                                    #cria a população inicial\n",
    "pop_fitness = popfitness(pop)                                                       #analisa o fitness da população\n",
    "best = min(pop_fitness)                                                             #descobre o melhor fitness da população inicial\n",
    "pos_best = pop_fitness.index(best)                                                  #descobre a posição do melhor individuo\n",
    "t = 1                                                                               #contador de gerações                          \n",
    "print(f'Melhor indivíduo inicial: {pop[pos_best]}; Fitness: {best:.4f}')\n",
    "while best != minimum_global or t != 100:\n",
    "    pop_mutante = []\n",
    "    individuo = []\n",
    "    for c in range(0,N):\n",
    "        r1 = pop[rd.randint(0,N-1)]\n",
    "        r2 = pop[rd.randint(0,N-1)]\n",
    "        r3 = pop[rd.randint(0,N-1)]\n",
    "        delta = pop[rd.randint(0,N-1)]   \n",
    "        for j in range(0,1):\n",
    "            if (rd.randint(0,1) <= C):\n",
    "                vetor_diferenca = r2[j] - r3[j]       \n",
    "                solucao_mutante = r1[j] + F*vetor_diferenca      \n",
    "                individuo.append(solucao_mutante)\n",
    "            else:\n",
    "                individuo.append(pop[c][j]) \n",
    "        pop_mutante.append(individuo)                \n",
    "        if(fitness(pop_mutante[c]) <= fitness(pop[c])):\n",
    "            pop[c] = pop_mutante[c]  \n",
    "        individuo.clear()           \n",
    "    pop_mutante.clear()                   \n",
    "    t = t + 1\n"
   ]
  }
 ],
 "metadata": {
  "kernelspec": {
   "display_name": "Python 3",
   "language": "python",
   "name": "python3"
  },
  "language_info": {
   "codemirror_mode": {
    "name": "ipython",
    "version": 3
   },
   "file_extension": ".py",
   "mimetype": "text/x-python",
   "name": "python",
   "nbconvert_exporter": "python",
   "pygments_lexer": "ipython3",
   "version": "3.10.0"
  }
 },
 "nbformat": 4,
 "nbformat_minor": 4
}
