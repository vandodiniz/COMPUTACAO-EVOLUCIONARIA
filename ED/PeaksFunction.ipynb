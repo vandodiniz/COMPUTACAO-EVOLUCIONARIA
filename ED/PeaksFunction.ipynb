{
 "cells": [
  {
   "cell_type": "code",
   "execution_count": 91,
   "metadata": {},
   "outputs": [],
   "source": [
    "#BLOCO 1: \n",
    "import numpy as np\n",
    "from itertools import product\n",
    "import matplotlib.pyplot as plt\n",
    "from mpl_toolkits.mplot3d import Axes3D\n",
    "import random as rd\n",
    "\n",
    "N = 100\n",
    "minimum_global = -6.5511\n",
    "F = 0.8\n",
    "C = 0.7"
   ]
  },
  {
   "cell_type": "markdown",
   "metadata": {},
   "source": [
    "---\n",
    "<h3> Peaks Function </h3>"
   ]
  },
  {
   "cell_type": "code",
   "execution_count": 92,
   "metadata": {},
   "outputs": [],
   "source": [
    "def peaks(x): # objective function\n",
    "    x = x.T\n",
    "    F = 3*(1-x[0])**2 * np.exp(-(x[0]**2) - (x[1]+1)**2) - 10*(x[0]/5 - x[0]**3 - x[1]**5) * np.exp(-x[0]**2-x[1]**2) - 1/3*np.exp(-(x[0]+1)**2 - x[1]**2)\n",
    "    return F"
   ]
  },
  {
   "cell_type": "code",
   "execution_count": 93,
   "metadata": {},
   "outputs": [
    {
     "data": {
      "text/plain": [
       "\"x1 = x2 = np.linspace(-2, 2, 150)\\nx_p = np.array(list(product(x1,x2)))\\n\\n\\nfont_labels = {'fontsize': 14, 'fontweight': 150}\\n\\nfig = plt.figure(figsize=(12,8))\\nax = Axes3D(fig)\\nax.set_title('Função Peaks', fontdict={'fontsize':15})\\nax.set_xlabel('X1', fontdict=font_labels)\\nax.set_ylabel('X2', fontdict=font_labels)\\nax.set_zlabel('peaks(X1, X2)', fontdict=font_labels)\\nsurf = ax.plot_trisurf(x_p[:, 0], x_p[:, 1], [peaks(x_) for x_ in x_p], linewidth=0.1, color='orange')\\nplt.show()\""
      ]
     },
     "execution_count": 93,
     "metadata": {},
     "output_type": "execute_result"
    }
   ],
   "source": [
    "'''x1 = x2 = np.linspace(-2, 2, 150)\n",
    "x_p = np.array(list(product(x1,x2)))\n",
    "\n",
    "\n",
    "font_labels = {'fontsize': 14, 'fontweight': 150}\n",
    "\n",
    "fig = plt.figure(figsize=(12,8))\n",
    "ax = Axes3D(fig)\n",
    "ax.set_title('Função Peaks', fontdict={'fontsize':15})\n",
    "ax.set_xlabel('X1', fontdict=font_labels)\n",
    "ax.set_ylabel('X2', fontdict=font_labels)\n",
    "ax.set_zlabel('peaks(X1, X2)', fontdict=font_labels)\n",
    "surf = ax.plot_trisurf(x_p[:, 0], x_p[:, 1], [peaks(x_) for x_ in x_p], linewidth=0.1, color='orange')\n",
    "plt.show()'''"
   ]
  },
  {
   "cell_type": "markdown",
   "metadata": {},
   "source": [
    "---\n",
    "### IMPLEMENTAÇÃO\n"
   ]
  },
  {
   "cell_type": "code",
   "execution_count": 94,
   "metadata": {},
   "outputs": [],
   "source": [
    "# BLOCO 2: GERANDO A POPULAÇÃO INICIAL\n",
    "def initPop():\n",
    "    pop = []                                                         # lista para armazenar a população\n",
    "    individuo = []                                                   # lista para armazenar um individuo\n",
    "    for c in range(0,N):                                             # laço para gerar os N indivíduos\n",
    "        individuo.append(float(\"{:.4f}\".format(rd.uniform(-3,3))))   # gera a coordenada x1 pro individuo\n",
    "        individuo.append(float(\"{:.4f}\".format(rd.uniform(-3,3))))   # gera a coordenada x2 pro individuo\n",
    "        pop.append(individuo[:])                                     # adiciona o individuo na população\n",
    "        individuo.clear()                                            # limpa a lista\n",
    "\n",
    "    return pop"
   ]
  },
  {
   "cell_type": "code",
   "execution_count": 95,
   "metadata": {},
   "outputs": [
    {
     "name": "stdout",
     "output_type": "stream",
     "text": [
      "[[2.2267, -0.6185], [-0.7582, -0.1041], [-0.5191, -1.5879], [-2.6121, -1.301], [1.2219, -2.1414], [-0.7987, -1.016], [-1.6185, -2.7897], [1.9416, -1.8702], [-1.6912, 1.3776], [-2.2998, 0.0831], [-2.2788, 2.4114], [2.0778, -0.1583], [1.5032, -0.8294], [2.5521, -1.8187], [2.1887, -0.5916], [0.204, 2.8116], [-2.8008, -2.0348], [-1.6772, -1.6501], [-2.267, -0.2816], [-2.1463, -1.0635], [0.7305, -2.0273], [-0.4815, -2.6742], [1.3545, -2.5796], [-0.4883, -0.0331], [1.2367, -0.572], [-0.5188, 0.1214], [1.3581, 0.9027], [0.3233, -1.7205], [0.7944, -1.494], [-1.8856, 2.026], [2.3006, -0.1332], [-2.9304, -2.126], [-2.1021, -0.4473], [1.4833, -2.4911], [1.9994, -1.2344], [-2.8048, -1.5556], [-2.0348, 1.8781], [-1.3498, 1.6982], [-1.2443, 1.4387], [2.5734, 1.7943], [0.726, -0.8285], [1.1783, 2.6221], [-2.308, 2.9862], [1.13, -0.2777], [-2.1948, 0.8258], [-0.7727, 1.1], [-2.2995, 1.4828], [-1.1164, -2.4034], [0.7818, -2.0857], [-0.4919, -0.2097], [1.0813, 0.8721], [-0.8761, -2.0991], [2.0795, -0.8571], [2.9214, 1.083], [-0.8027, -1.3656], [-1.6076, -1.2626], [-0.3551, -0.5043], [-0.0429, 2.321], [0.965, 1.4507], [-1.9472, 0.1939], [1.6672, 1.0027], [-2.7842, 0.5793], [-2.6055, -0.9964], [2.1689, -1.9047], [-0.7449, -2.7567], [-0.0006, 1.0395], [0.2474, -1.5576], [0.513, 0.5716], [-2.4617, -1.3174], [-0.1327, 1.4441], [-1.0028, -0.8373], [1.1742, -2.1747], [1.0041, 0.0273], [-2.4626, -1.6857], [-2.7353, -0.2533], [1.2295, 2.5428], [2.1873, 2.3125], [1.2104, 0.7651], [2.449, -2.8643], [0.1311, 0.1096], [-2.8347, -2.7178], [-2.5552, -1.3482], [1.4015, -2.8577], [1.2895, -1.8535], [-2.3633, -1.7412], [-1.3802, 1.9832], [1.2727, 1.5807], [-0.6202, 1.3186], [2.9438, 2.0699], [-0.2546, 1.7735], [1.6722, -2.194], [-1.229, -2.3097], [2.4134, -2.3991], [1.6735, -0.9942], [2.3543, -0.4743], [-0.6557, 1.9822], [-1.9512, -1.0015], [-1.748, 0.5489], [2.938, 2.1664], [2.7662, 1.5364]]\n"
     ]
    }
   ],
   "source": [
    "# BLOCO 3: TESTANDO A FUNÇÃO ACIMA\n",
    "pop_teste = initPop()\n",
    "print(pop_teste)"
   ]
  },
  {
   "cell_type": "code",
   "execution_count": 96,
   "metadata": {},
   "outputs": [],
   "source": [
    "# BLOCO 4: GERANDO O FITNESS DO INDIVIDUO\n",
    "def fitness(individuo):  \n",
    "    individuo_array = np.array(individuo)\n",
    "    f_de_x = peaks(individuo_array)\n",
    "    distancia = abs(minimum_global) + f_de_x\n",
    "    return distancia"
   ]
  },
  {
   "cell_type": "code",
   "execution_count": 97,
   "metadata": {},
   "outputs": [
    {
     "name": "stdout",
     "output_type": "stream",
     "text": [
      "7.08192836183278\n"
     ]
    }
   ],
   "source": [
    "# BLOCO 6: TESTANDO A FUNÇÃO ACIMA\n",
    "fitness_teste = fitness(pop_teste[0])\n",
    "print(fitness_teste)"
   ]
  },
  {
   "cell_type": "code",
   "execution_count": 98,
   "metadata": {},
   "outputs": [],
   "source": [
    "# BLOCO 5: GERANDO LISTA DE POP_FITNESS DA POPULAÇÃO\n",
    "def popfitness(pop):\n",
    "    pop_fitness = []\n",
    "    for c in range(0,N):\n",
    "        fitness_ind = fitness(pop[c])\n",
    "        pop_fitness.append(fitness_ind)\n",
    "    return pop_fitness"
   ]
  },
  {
   "cell_type": "code",
   "execution_count": 99,
   "metadata": {},
   "outputs": [
    {
     "name": "stdout",
     "output_type": "stream",
     "text": [
      "[7.08192836183278, 6.996621747789258, 4.055149827044, 6.543330556987051, 5.56455367035177, 8.868383520063064, 6.559383696660283, 6.468558875357939, 6.564187527357494, 5.954429867976543, 6.5625345013292256, 7.6866248541134174, 8.046343393963811, 6.55452948970217, 7.164948381255201, 7.172620874307791, 6.5532025435199435, 6.727896307933734, 5.994854693628976, 6.46894134316136, 3.3233379767788853, 6.017278695819626, 6.325637260480817, 8.202687055988363, 9.052266718132813, 7.5240850454329395, 8.534972174380538, 0.23418262641737542, 2.5486955575100385, 6.679703806230605, 7.141853201854515, 6.552063525902204, 5.849857988976468, 6.351657313670711, 6.792260956717137, 6.55174856610811, 6.619640102014177, 7.615581114479907, 7.723617284600637, 6.569782513529052, 6.217317282136708, 6.874097112463844, 6.55256153053995, 9.693963164906092, 6.120693198230759, 8.659605759809004, 6.519211178376439, 6.363921065326866, 3.833081662999899, 8.953710906193008, 8.803144895341909, 5.67537122663153, 7.1118703231306295, 6.566845318851949, 6.8267274738731905, 6.8618265042959505, 10.135277318645658, 9.627128564433702, 9.975793084877303, 5.042090471905, 7.7593434069819835, 6.478315938732269, 6.509896168238715, 6.53065204086658, 6.332052094200359, 10.676203061769614, 0.06591901918902199, 7.090922698223144, 6.544339388869015, 14.238189408622324, 8.460105771365589, 5.505462210495499, 9.503922596870437, 6.56301617380035, 6.443995023979047, 6.92136330640693, 6.581402820648073, 8.858778089733246, 6.550370607626058, 6.876816256358676, 6.551497773242707, 6.546411282831408, 6.47830878354662, 5.353238798044521, 6.5701141528808344, 7.3713531699488115, 8.450682723234284, 11.15693860333113, 6.552594582732468, 13.638509905274345, 6.3405853166260595, 6.424769500353241, 6.547438587340837, 7.3983434855746975, 6.960012824781465, 10.44073898055363, 6.426522001021959, 4.785057372709966, 6.5522838333390485, 6.564189168021021]\n"
     ]
    }
   ],
   "source": [
    "# BLOCO 6: TESTANDO A FUNÇÃO ACIMA\n",
    "pop_fitness = popfitness(pop_teste)\n",
    "print(pop_fitness)"
   ]
  },
  {
   "cell_type": "code",
   "execution_count": 100,
   "metadata": {},
   "outputs": [
    {
     "name": "stdout",
     "output_type": "stream",
     "text": [
      "Melhor indivíduo inicial: [0.355, -1.6256]; Fitness: 0.1515\n",
      "0.15148631549886105\n",
      "0.15148631549886105\n",
      "0.13590418251036152\n",
      "0.13590418251036152\n",
      "0.13590418251036152\n",
      "0.13590418251036152\n",
      "0.09261780953059429\n",
      "0.09261780953059429\n",
      "0.09261780953059429\n",
      "0.09261780953059429\n",
      "0.09261780953059429\n",
      "0.09261780953059429\n",
      "0.09261780953059429\n",
      "0.09261780953059429\n",
      "0.09261780953059429\n",
      "0.03912116509989261\n",
      "0.03912116509989261\n",
      "0.0012356005180089724\n",
      "0.0012356005180089724\n",
      "0.0012356005180089724\n",
      "0.0012356005180089724\n",
      "0.0012356005180089724\n",
      "0.0012356005180089724\n",
      "0.0012356005180089724\n",
      "0.0012356005180089724\n",
      "0.0012356005180089724\n",
      "0.0012356005180089724\n",
      "0.0012356005180089724\n",
      "0.0012356005180089724\n",
      "0.0012356005180089724\n",
      "0.00038758464105104196\n",
      "0.00038758464105104196\n",
      "0.00038758464105104196\n",
      "-1.5915017717027524e-05\n",
      "GERAÇAO:  35\n",
      "Melhor indivíduo final: [0.22715280439149008, -1.6263020598103348]; Fitness: -0.0000\n",
      "-6.551115915017717\n"
     ]
    }
   ],
   "source": [
    "#BLOCO 7: \n",
    "\n",
    "## inicialização da população\n",
    "pop = initPop()                                                                     #cria a população inicial\n",
    "pop_fitness = popfitness(pop)                                                       #analisa o fitness da população\n",
    "best = min(pop_fitness)                                                             #descobre o melhor fitness da população inicial\n",
    "pos_best = pop_fitness.index(best)                                                  #descobre a posição do melhor individuo\n",
    "t = 1                                                                               #contador de gerações                          \n",
    "print(f'Melhor indivíduo inicial: {pop[pos_best]}; Fitness: {best:.4f}')\n",
    "while (best > 0.0001 or best < -0.0001 ) and t != 50:\n",
    "    pop_mutante = []\n",
    "    individuo = []\n",
    "    for c in range(0,N):\n",
    "        a = rd.randint(0,N-1)\n",
    "        r1 = pop[a]\n",
    "        a = rd.randint(0,N-1)\n",
    "        r2 = pop[a]\n",
    "        a = rd.randint(0,N-1)\n",
    "        r3 = pop[a]\n",
    "        delta = pop[rd.randint(0,N-1)]   \n",
    "        for j in range(0,2):\n",
    "            if (rd.random() <= C):\n",
    "                vetor_diferenca = r2[j] - r3[j]       \n",
    "                solucao_mutante = r1[j] + F*vetor_diferenca      \n",
    "                individuo.append(solucao_mutante)\n",
    "            else:\n",
    "                individuo.append(pop[c][j]) \n",
    "        pop_mutante.append(individuo[:])                \n",
    "        if(fitness(pop_mutante[c]) <= fitness(pop[c])):\n",
    "            pop[c] = pop_mutante[c]  \n",
    "        individuo.clear()           \n",
    "    pop_mutante.clear()   \n",
    "    pop_fitness = popfitness(pop) \n",
    "    best = min(pop_fitness)                \n",
    "    t = t + 1                           \n",
    "    print(best)                                                    \n",
    "pos_best = pop_fitness.index(best)                                                          #descobre a posição do melhor individuo    \n",
    "print('GERAÇAO: ', t)                                                                        #contador de gerações                          \n",
    "print(f'Melhor indivíduo final: {pop[pos_best]}; Fitness: {best:.4f}')\n",
    "ar = np.array(pop[pos_best])\n",
    "print(peaks(ar))\n"
   ]
  }
 ],
 "metadata": {
  "kernelspec": {
   "display_name": "Python 3",
   "language": "python",
   "name": "python3"
  },
  "language_info": {
   "codemirror_mode": {
    "name": "ipython",
    "version": 3
   },
   "file_extension": ".py",
   "mimetype": "text/x-python",
   "name": "python",
   "nbconvert_exporter": "python",
   "pygments_lexer": "ipython3",
   "version": "3.10.1"
  }
 },
 "nbformat": 4,
 "nbformat_minor": 4
}
