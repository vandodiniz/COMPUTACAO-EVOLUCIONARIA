{
 "cells": [
  {
   "cell_type": "code",
   "execution_count": 27,
   "metadata": {},
   "outputs": [],
   "source": [
    "import random as rd\n",
    "import numpy as np"
   ]
  },
  {
   "cell_type": "code",
   "execution_count": 28,
   "metadata": {},
   "outputs": [
    {
     "name": "stdout",
     "output_type": "stream",
     "text": [
      "[[4, 3, 2, 5, 0, 7, 1, 6], [0, 7, 1, 4, 3, 2, 5, 6], [0, 3, 2, 6, 5, 7, 4, 1], [1, 0, 4, 2, 5, 3, 7, 6], [1, 4, 0, 5, 6, 2, 7, 3], [2, 6, 3, 0, 1, 5, 7, 4], [2, 4, 3, 0, 1, 7, 6, 5], [5, 7, 1, 6, 0, 3, 2, 4], [1, 2, 3, 5, 4, 6, 0, 7], [4, 1, 6, 2, 0, 7, 3, 5], [2, 3, 1, 0, 7, 5, 6, 4], [2, 4, 3, 1, 0, 5, 6, 7], [4, 7, 1, 6, 5, 0, 3, 2], [5, 1, 2, 0, 3, 4, 7, 6], [7, 6, 0, 1, 4, 2, 5, 3], [6, 3, 4, 0, 2, 5, 1, 7], [7, 1, 5, 6, 4, 3, 0, 2], [3, 0, 6, 5, 1, 4, 7, 2], [6, 1, 5, 0, 7, 4, 2, 3], [1, 3, 6, 7, 2, 0, 4, 5]]\n"
     ]
    }
   ],
   "source": [
    "crossover_rate = 1\n",
    "mutation_rate = 0.8 \n",
    "\n",
    "tamanhoTabuleiro = 8\n",
    "pop_init = 20\n",
    "def init_population(_mu:int = pop_init, n:int = tamanhoTabuleiro):          #função disponibilizada pelo professor para gerar a população inicial\n",
    "    population = []                                                                 \n",
    "    for i in range (_mu):\n",
    "        population.append(rd.sample(range(n), n))\n",
    "    return population\n",
    "\n",
    "pop = init_population(pop_init, tamanhoTabuleiro)                           #cria a população inicial\n",
    "print(pop)\n"
   ]
  },
  {
   "cell_type": "code",
   "execution_count": 29,
   "metadata": {},
   "outputs": [],
   "source": [
    "def fitness_nq(solution):                               #função disponibilizada pelo professor para avaliar o número de xeques de uma solução\n",
    "    xeques = 0\n",
    "    for i in range(0,len(solution)):\n",
    "        for j in range(0,len(solution)):\n",
    "            if i!=j:\n",
    "                if i-solution[i] == j-solution[j] or i+solution[i] == j+solution[j]:\n",
    "                    xeques+=1\n",
    "    return xeques"
   ]
  },
  {
   "cell_type": "code",
   "execution_count": 30,
   "metadata": {},
   "outputs": [
    {
     "data": {
      "text/plain": [
       "8"
      ]
     },
     "execution_count": 30,
     "metadata": {},
     "output_type": "execute_result"
    }
   ],
   "source": [
    "fitness_nq([7, 4, 0, 5, 3, 1, 2, 6])"
   ]
  },
  {
   "cell_type": "code",
   "execution_count": 31,
   "metadata": {},
   "outputs": [
    {
     "name": "stdout",
     "output_type": "stream",
     "text": [
      "[18, 18, 8, 16, 6, 10, 16, 8, 16, 6, 10, 10, 14, 10, 8, 10, 10, 6, 4, 10]\n"
     ]
    }
   ],
   "source": [
    "pop_fitness = [fitness_nq(each_solution) for each_solution in pop]                  #lista com o número de xeques de todas os indivíduos da população\n",
    "print(pop_fitness)"
   ]
  },
  {
   "cell_type": "code",
   "execution_count": 32,
   "metadata": {},
   "outputs": [],
   "source": [
    "def selection(pop):\n",
    "    #retorna entre 5 soluçoes aleatórias, as duas melhores\n",
    "    pop_fitness = [fitness_nq(each_solution) for each_solution in pop]    # Mostra o número de xeques de toda a população\n",
    "    candidatos = list()                                                   # Cria uma lista para armazenar os candidatos a serem pais\n",
    "    posicao = list()                                                      # Cria uma lista para armazenar a posição desses pais na lista pop\n",
    "    for c in range(0,5):                                                  # Laço responsável por escolher os 5 indivíduos aleatórios e os colocar na lista 'candidatos' e suas posições na lista 'posicao'\n",
    "        n = rd.randint(0,len(pop_fitness)-1)\n",
    "        while n in posicao:                                               # Garante que não haverá um mesmo individuo escolhido 2x\n",
    "            n = rd.randint(0,len(pop_fitness)-1)\n",
    "        candidatos.append(pop_fitness[n])                                   \n",
    "        posicao.append(n)\n",
    "    menor1 = menor2 = candidatos[0]                                       # Algoritmo para descobrir os 2 menores numeros de candidatos e suas posiçoes. Assume=se primeiramente que os 2 menores numeros são iguais ao primeiro candidato\n",
    "    cont = pos1 = pos2 =  0\n",
    "    for c in candidatos:                                                  # Varre a lista inteira \n",
    "        if c < menor1:                                                    # Caso c seja menor que o menor número, c passa a ser o menor número e 'pos1' guarda a posição dele\n",
    "            menor1 = c\n",
    "            pos1 = cont\n",
    "        elif c <=menor2:                                                  # Caso c seja menor ou igual que o segundo menor número, c passa a ser ele e 'pos2' guarda a posição dele\n",
    "            menor2 = c\n",
    "            pos2 = cont\n",
    "        cont=cont+1                                                       # Contador incrementa 1 no final. MUITO IMPORTANTE para saber a posição dos números\n",
    "    pais = [pop[posicao[pos1]], pop[posicao[pos2]]]                       # Cria uma lista pais com os dois individuos selecionados\n",
    "    return pais\n"
   ]
  },
  {
   "cell_type": "code",
   "execution_count": 33,
   "metadata": {},
   "outputs": [
    {
     "name": "stdout",
     "output_type": "stream",
     "text": [
      "pais_teste = [[6, 1, 5, 0, 7, 4, 2, 3], [6, 3, 4, 0, 2, 5, 1, 7]]\n"
     ]
    }
   ],
   "source": [
    "#TESTANDO A FUNÇÃO ACIMA\n",
    "pais_teste = selection(pop)\n",
    "print(f'pais_teste = {pais_teste}')"
   ]
  },
  {
   "cell_type": "code",
   "execution_count": 34,
   "metadata": {},
   "outputs": [],
   "source": [
    "def crossover(pais, crossover_rate):\n",
    "    '''Código disponibilizado pelo professor em .m\n",
    "       Apenas adaptamos ele para .pynb         '''\n",
    "    sizeGeno = np.size(pais, 1)                                 \n",
    "    crianca = np.zeros((sizeGeno))                          \n",
    "    offspring = np.array([crianca, crianca], np.int32)      #cria uma array para armazenar os 2 novos individuos\n",
    "    pos = round(rd.randint(1,sizeGeno-1))\n",
    "    offspring[0][0:pos] = pais[0][0:pos]                    #iguala os genes dos filhos aos pais até certa parte para manter a hereditariedade\n",
    "    offspring[1][0:pos] = pais[1][0:pos]\n",
    "    s1=s2=pos\n",
    "    if rd.random()<crossover_rate:                          #permuta o restante dos genes\n",
    "        for i in range(0, sizeGeno):                    \n",
    "            check1=check2=0\n",
    "            for j in range(pos):\n",
    "                if pais[1][i] == offspring[0][j]:\n",
    "                        check1 = 1\n",
    "                if pais[0][i] == offspring[1][j]:\n",
    "                        check2 = 1\n",
    "            if check1 == 0:\n",
    "                offspring[0][s1] = pais[1][i]\n",
    "                s1 = s1+1\n",
    "            if check2 == 0:\n",
    "                offspring[1][s2] = pais[0][i]\n",
    "                s2 = s2+1    \n",
    "    else:\n",
    "        offspring = pais\n",
    "    return offspring\n"
   ]
  },
  {
   "cell_type": "code",
   "execution_count": 35,
   "metadata": {},
   "outputs": [
    {
     "name": "stdout",
     "output_type": "stream",
     "text": [
      "filhos teste: [[6 1 5 0 7 4 3 2]\n",
      " [6 3 4 0 2 5 1 7]]\n"
     ]
    }
   ],
   "source": [
    "#TESTANDO A FUNÇÃO ACIMA\n",
    "offspring_teste = crossover(pais_teste, crossover_rate)\n",
    "print(f'filhos teste: {offspring_teste}')"
   ]
  },
  {
   "cell_type": "code",
   "execution_count": 36,
   "metadata": {},
   "outputs": [],
   "source": [
    "def mutation(offspring, mutation_rate):\n",
    "    if mutation_rate > rd.random():                                                 #analisa se vai ter ou não mutação\n",
    "        for c in range(0,2):                                                        #processo se repete para os dois filhos\n",
    "            n1 = rd.randint(0, tamanhoTabuleiro -1)                                 #sorteia duas posiçoes para serem trocadas\n",
    "            n2 = rd.randint(0, tamanhoTabuleiro -1)\n",
    "            while n1==n2:                                                           #garante que não sejam duas posições iguais\n",
    "                n2 = rd.randint(0,tamanhoTabuleiro -1)\n",
    "            temp = offspring[c][n1]                                                 #variavel auxiliar que armazena o valor daquela posição        \n",
    "            offspring[c][n1] = offspring[c][n2]                                     #faz a troca de fato\n",
    "            offspring[c][n2] = temp                                                     \n",
    "    return offspring\n"
   ]
  },
  {
   "cell_type": "code",
   "execution_count": 37,
   "metadata": {},
   "outputs": [
    {
     "name": "stdout",
     "output_type": "stream",
     "text": [
      "filhos teste com mutacao: [[6 1 5 0 7 4 3 2]\n",
      " [6 3 4 0 2 5 1 7]]\n"
     ]
    }
   ],
   "source": [
    "#TESTANDO A FUNÇÃO ACIMA\n",
    "offspring_teste = mutation(offspring_teste, mutation_rate)\n",
    "print(f'filhos teste com mutacao: {offspring_teste}')"
   ]
  },
  {
   "cell_type": "code",
   "execution_count": 38,
   "metadata": {},
   "outputs": [],
   "source": [
    "def replacement(offspring_new, pop):\n",
    "    for c in range(0,2):                                                            #processo se repete para os dois filhos        \n",
    "        pop_fitness = [fitness_nq(each_solution) for each_solution in pop]          #analisa todos os indivíduos da população\n",
    "        maior = max(pop_fitness)                                                    #descobre qual é o pior indivíduo\n",
    "        pos = pop_fitness.index(maior)                                              #descobre a posição do pior indivíduo\n",
    "        del(pop[pos])                                                               #deleta o pior indivíduo\n",
    "        pop.append(offspring[c])                                                    #adiciona o filho\n",
    "    return pop\n",
    "        \n",
    "\n"
   ]
  },
  {
   "cell_type": "code",
   "execution_count": 39,
   "metadata": {},
   "outputs": [
    {
     "name": "stdout",
     "output_type": "stream",
     "text": [
      "Menor número de cheques no início: 4\n",
      "População final: [array([3, 0, 6, 1, 5, 2, 4, 7]), array([3, 0, 4, 1, 5, 6, 2, 7]), array([3, 0, 4, 1, 5, 2, 6, 7]), array([3, 0, 4, 1, 5, 6, 2, 7]), array([1, 3, 0, 7, 4, 2, 5, 6]), array([3, 7, 6, 2, 5, 1, 0, 4]), array([3, 0, 4, 1, 5, 7, 2, 6]), array([3, 0, 6, 1, 4, 7, 5, 2]), array([3, 0, 4, 1, 5, 6, 2, 7]), array([3, 0, 4, 1, 5, 6, 2, 7]), array([3, 0, 4, 1, 6, 5, 7, 2]), array([5, 0, 6, 1, 4, 7, 3, 2]), array([3, 0, 4, 2, 5, 6, 1, 7]), array([3, 0, 4, 7, 5, 6, 2, 1]), array([3, 0, 4, 2, 5, 6, 1, 7]), array([3, 0, 7, 1, 5, 2, 6, 4]), array([3, 0, 4, 7, 5, 6, 2, 1]), array([5, 0, 6, 1, 3, 7, 2, 4]), array([5, 0, 6, 1, 3, 7, 2, 4]), array([3, 6, 4, 1, 5, 0, 2, 7])]\n",
      "Numero de iteraçoes: 64\n",
      "Menor numero de cheques no final = 0\n",
      "Melhor solução: [3 6 4 1 5 0 2 7]\n"
     ]
    }
   ],
   "source": [
    "best = min(pop_fitness)                                                         #melhor indivíduo da população inicial\n",
    "print(f'Menor número de cheques no início: {best}')\n",
    "i = 0                                                                           #inicializa o contador de iterações\n",
    "while best!=0 and i<100:                                                        #laço ocorre 100 vezes ou até achar alguma solução perfeita\n",
    "    pais = selection(pop)                                                       #seleciona os pais que procriarão\n",
    "    offspring = crossover(pais, crossover_rate)                                 #gera 2 novos indivíduos\n",
    "    offspring_new = mutation(offspring, mutation_rate)                          #modifica esses 2 indivíduos caso tenha mutação\n",
    "    pop = replacement(offspring_new, pop)                                       #remove os 2 piores indíviduos da população e adiciona os 2 novos\n",
    "    pop_fitness = [fitness_nq(each_solution) for each_solution in pop]          #atualiza o número de xeques da nova população\n",
    "    best = min(pop_fitness)                                                     #armazena o menor número de xeques em 'best'\n",
    "    i = i+1                                                                     #incrementa o contador\n",
    "pos_best = pop_fitness.index(best)                                              #descobre a posição da solução com o menor número de xeques\n",
    "print(f'População final: {pop}')\n",
    "print(f'Numero de iteraçoes: {i}\\nMenor numero de cheques no final = {best}')\n",
    "print(f'Melhor solução: {pop[pos_best]}')\n"
   ]
  }
 ],
 "metadata": {
  "kernelspec": {
   "display_name": "Python 3",
   "language": "python",
   "name": "python3"
  },
  "language_info": {
   "codemirror_mode": {
    "name": "ipython",
    "version": 3
   },
   "file_extension": ".py",
   "mimetype": "text/x-python",
   "name": "python",
   "nbconvert_exporter": "python",
   "pygments_lexer": "ipython3",
   "version": "3.10.0"
  }
 },
 "nbformat": 4,
 "nbformat_minor": 4
}
