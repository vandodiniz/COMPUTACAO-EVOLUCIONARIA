{
 "cells": [
  {
   "cell_type": "code",
   "execution_count": 106,
   "metadata": {},
   "outputs": [],
   "source": [
    "import random as rd\n",
    "import numpy as np\n",
    "try:\n",
    "    import matplotlib.pyplot as plt\n",
    "except:\n",
    "    print('Erro ao importar biblioteca  \"matplotlib.pyplot\"!')"
   ]
  },
  {
   "cell_type": "code",
   "execution_count": 107,
   "metadata": {},
   "outputs": [
    {
     "name": "stdout",
     "output_type": "stream",
     "text": [
      "[[7, 4, 1, 2, 0, 5, 3, 6], [0, 1, 6, 4, 7, 5, 2, 3], [0, 7, 4, 1, 6, 5, 2, 3], [3, 4, 1, 6, 7, 5, 2, 0], [0, 6, 5, 2, 4, 7, 3, 1], [4, 5, 6, 0, 7, 3, 1, 2], [1, 3, 7, 2, 5, 4, 6, 0], [1, 0, 7, 4, 6, 5, 2, 3], [4, 6, 0, 7, 5, 3, 2, 1], [1, 0, 6, 3, 2, 5, 7, 4], [0, 6, 5, 4, 7, 3, 1, 2], [7, 1, 5, 6, 3, 2, 0, 4], [1, 2, 3, 4, 5, 6, 7, 0], [0, 1, 3, 4, 2, 6, 7, 5], [6, 0, 5, 3, 1, 2, 7, 4], [2, 5, 7, 3, 4, 0, 6, 1], [4, 6, 5, 0, 1, 3, 2, 7], [6, 2, 0, 4, 3, 5, 1, 7], [1, 2, 7, 3, 5, 0, 4, 6], [3, 1, 7, 2, 5, 0, 6, 4]]\n"
     ]
    }
   ],
   "source": [
    "crossover_rate = 1\n",
    "mutation_rate = 0.8 \n",
    "\n",
    "tamanhoTabuleiro = 8\n",
    "pop_init = 20\n",
    "def init_population(_mu:int = pop_init, n:int = tamanhoTabuleiro):          #função disponibilizada pelo professor para gerar a população inicial\n",
    "    population = []                                                                 \n",
    "    for i in range (_mu):\n",
    "        population.append(rd.sample(range(n), n))\n",
    "    return population\n",
    "\n",
    "pop = init_population(pop_init, tamanhoTabuleiro)                           #cria a população inicial\n",
    "print(pop)\n"
   ]
  },
  {
   "cell_type": "code",
   "execution_count": 108,
   "metadata": {},
   "outputs": [],
   "source": [
    "def fitness_nq(solution):                               #função disponibilizada pelo professor para avaliar o número de xeques de uma solução\n",
    "    xeques = 0\n",
    "    for i in range(0,len(solution)):\n",
    "        for j in range(0,len(solution)):\n",
    "            if i!=j:\n",
    "                if i-solution[i] == j-solution[j] or i+solution[i] == j+solution[j]:\n",
    "                    xeques+=1\n",
    "    return xeques"
   ]
  },
  {
   "cell_type": "code",
   "execution_count": 109,
   "metadata": {},
   "outputs": [
    {
     "data": {
      "text/plain": [
       "8"
      ]
     },
     "execution_count": 109,
     "metadata": {},
     "output_type": "execute_result"
    }
   ],
   "source": [
    "fitness_nq([7, 4, 0, 5, 3, 1, 2, 6])"
   ]
  },
  {
   "cell_type": "code",
   "execution_count": 110,
   "metadata": {},
   "outputs": [
    {
     "name": "stdout",
     "output_type": "stream",
     "text": [
      "[8, 12, 14, 14, 6, 10, 10, 12, 10, 8, 16, 16, 44, 16, 10, 10, 6, 10, 8, 6]\n"
     ]
    }
   ],
   "source": [
    "pop_fitness = [fitness_nq(each_solution) for each_solution in pop]                  #lista com o número de xeques de todas os indivíduos da população\n",
    "print(pop_fitness)"
   ]
  },
  {
   "cell_type": "code",
   "execution_count": 111,
   "metadata": {},
   "outputs": [],
   "source": [
    "def selection(pop):\n",
    "    #retorna entre 5 soluçoes aleatórias, as duas melhores\n",
    "    pop_fitness = [fitness_nq(each_solution) for each_solution in pop]    # Mostra o número de xeques de toda a população\n",
    "    candidatos = list()                                                   # Cria uma lista para armazenar os candidatos a serem pais\n",
    "    posicao = list()                                                      # Cria uma lista para armazenar a posição desses pais na lista pop\n",
    "    for c in range(0,5):                                                  # Laço responsável por escolher os 5 indivíduos aleatórios e os colocar na lista 'candidatos' e suas posições na lista 'posicao'\n",
    "        n = rd.randint(0,len(pop_fitness)-1)\n",
    "        while n in posicao:                                               # Garante que não haverá um mesmo individuo escolhido 2x\n",
    "            n = rd.randint(0,len(pop_fitness)-1)\n",
    "        candidatos.append(pop_fitness[n])                                   \n",
    "        posicao.append(n)\n",
    "    menor1 = menor2 = candidatos[0]                                       # Algoritmo para descobrir os 2 menores numeros de candidatos e suas posiçoes. Assume=se primeiramente que os 2 menores numeros são iguais ao primeiro candidato\n",
    "    cont = pos1 = pos2 =  0\n",
    "    for c in candidatos:                                                  # Varre a lista inteira \n",
    "        if c < menor1:                                                    # Caso c seja menor que o menor número, c passa a ser o menor número e 'pos1' guarda a posição dele\n",
    "            menor1 = c\n",
    "            pos1 = cont\n",
    "        elif c <=menor2:                                                  # Caso c seja menor ou igual que o segundo menor número, c passa a ser ele e 'pos2' guarda a posição dele\n",
    "            menor2 = c\n",
    "            pos2 = cont\n",
    "        cont=cont+1                                                       # Contador incrementa 1 no final. MUITO IMPORTANTE para saber a posição dos números\n",
    "    pais = [pop[posicao[pos1]], pop[posicao[pos2]]]                       # Cria uma lista pais com os dois individuos selecionados\n",
    "    return pais\n"
   ]
  },
  {
   "cell_type": "code",
   "execution_count": 112,
   "metadata": {},
   "outputs": [
    {
     "name": "stdout",
     "output_type": "stream",
     "text": [
      "pais_teste = [[0, 6, 5, 2, 4, 7, 3, 1], [4, 6, 0, 7, 5, 3, 2, 1]]\n"
     ]
    }
   ],
   "source": [
    "#TESTANDO A FUNÇÃO ACIMA\n",
    "pais_teste = selection(pop)\n",
    "print(f'pais_teste = {pais_teste}')"
   ]
  },
  {
   "cell_type": "code",
   "execution_count": 113,
   "metadata": {},
   "outputs": [],
   "source": [
    "def crossover(pais, crossover_rate):\n",
    "    '''Código disponibilizado pelo professor em .m\n",
    "       Apenas adaptamos ele para .pynb         '''\n",
    "    sizeGeno = np.size(pais, 1)                                 \n",
    "    crianca = np.zeros((sizeGeno))                          \n",
    "    offspring = np.array([crianca, crianca], np.int32)      #cria uma array para armazenar os 2 novos individuos\n",
    "    pos = round(rd.randint(1,sizeGeno-1))\n",
    "    offspring[0][0:pos] = pais[0][0:pos]                    #iguala os genes dos filhos aos pais até certa parte para manter a hereditariedade\n",
    "    offspring[1][0:pos] = pais[1][0:pos]\n",
    "    s1=s2=pos\n",
    "    if rd.random()<crossover_rate:                          #permuta o restante dos genes\n",
    "        for i in range(0, sizeGeno):                    \n",
    "            check1=check2=0\n",
    "            for j in range(pos):\n",
    "                if pais[1][i] == offspring[0][j]:\n",
    "                        check1 = 1\n",
    "                if pais[0][i] == offspring[1][j]:\n",
    "                        check2 = 1\n",
    "            if check1 == 0:\n",
    "                offspring[0][s1] = pais[1][i]\n",
    "                s1 = s1+1\n",
    "            if check2 == 0:\n",
    "                offspring[1][s2] = pais[0][i]\n",
    "                s2 = s2+1    \n",
    "    else:\n",
    "        offspring = pais\n",
    "    return offspring\n"
   ]
  },
  {
   "cell_type": "code",
   "execution_count": 114,
   "metadata": {},
   "outputs": [
    {
     "name": "stdout",
     "output_type": "stream",
     "text": [
      "filhos teste: [[0 6 5 4 7 3 2 1]\n",
      " [4 6 0 5 2 7 3 1]]\n"
     ]
    }
   ],
   "source": [
    "#TESTANDO A FUNÇÃO ACIMA\n",
    "offspring_teste = crossover(pais_teste, crossover_rate)\n",
    "print(f'filhos teste: {offspring_teste}')"
   ]
  },
  {
   "cell_type": "code",
   "execution_count": 115,
   "metadata": {},
   "outputs": [],
   "source": [
    "def mutation(offspring, mutation_rate):\n",
    "    if mutation_rate > rd.random():                                                 #analisa se vai ter ou não mutação\n",
    "        for c in range(0,2):                                                        #processo se repete para os dois filhos\n",
    "            n1 = rd.randint(0, tamanhoTabuleiro -1)                                 #sorteia duas posiçoes para serem trocadas\n",
    "            n2 = rd.randint(0, tamanhoTabuleiro -1)\n",
    "            while n1==n2:                                                           #garante que não sejam duas posições iguais\n",
    "                n2 = rd.randint(0,tamanhoTabuleiro -1)\n",
    "            temp = offspring[c][n1]                                                 #variavel auxiliar que armazena o valor daquela posição        \n",
    "            offspring[c][n1] = offspring[c][n2]                                     #faz a troca de fato\n",
    "            offspring[c][n2] = temp                                                     \n",
    "    return offspring\n"
   ]
  },
  {
   "cell_type": "code",
   "execution_count": 116,
   "metadata": {},
   "outputs": [
    {
     "name": "stdout",
     "output_type": "stream",
     "text": [
      "filhos teste com mutacao: [[7 6 5 4 0 3 2 1]\n",
      " [2 6 0 5 4 7 3 1]]\n"
     ]
    }
   ],
   "source": [
    "#TESTANDO A FUNÇÃO ACIMA\n",
    "offspring_teste = mutation(offspring_teste, mutation_rate)\n",
    "print(f'filhos teste com mutacao: {offspring_teste}')"
   ]
  },
  {
   "cell_type": "code",
   "execution_count": 117,
   "metadata": {},
   "outputs": [],
   "source": [
    "def replacement(offspring_new, pop):\n",
    "    for c in range(0,2):                                                            #processo se repete para os dois filhos        \n",
    "        pop_fitness = [fitness_nq(each_solution) for each_solution in pop]          #analisa todos os indivíduos da população\n",
    "        maior = max(pop_fitness)                                                    #descobre qual é o pior indivíduo\n",
    "        pos = pop_fitness.index(maior)                                              #descobre a posição do pior indivíduo\n",
    "        del(pop[pos])                                                               #deleta o pior indivíduo\n",
    "        pop.append(offspring[c])                                                    #adiciona o filho\n",
    "    return pop\n",
    "        \n",
    "\n"
   ]
  },
  {
   "cell_type": "code",
   "execution_count": 118,
   "metadata": {},
   "outputs": [],
   "source": [
    "def coletaDados(bests, bests_medio, geracoes, pop_fitness, geracao_atual):\n",
    "    bests.append(min(pop_fitness))                                                  #adiciona o melhor individuo na lista dos melhores\n",
    "    geracoes.append(geracao_atual)                                                  #adiciona a geração atual na lista de gerações\n",
    "    media = 0                                                                       \n",
    "    for c in pop_fitness:\n",
    "        media += c                                                                  #soma todos os fitness da geração atual\n",
    "    media = media/len(pop_fitness)                                                  #calcula a media dos fitness\n",
    "    bests_medio.append(media)                                                       #adiciona a media dos fitness na lista"
   ]
  },
  {
   "cell_type": "code",
   "execution_count": 119,
   "metadata": {},
   "outputs": [],
   "source": [
    "try: \n",
    "    def grafico(x,y,x_title, y_title,title):\n",
    "        figura = plt.figure(figsize=(20,4))                         #cria gráfico vazio\n",
    "        figura.add_subplot(131)                                     #define o espaço em que o gráfico sera plotado\n",
    "        plt.plot(x,y)                                               #plota o gráfico com as duas listas\n",
    "        plt.xlabel(x_title)                                         #nomeia o eixo x\n",
    "        plt.ylabel(y_title)                                         #nomeia o eixo y\n",
    "        plt.title(title)                                            #nomeia o titulo\n",
    "        plt.show()                                                  #mostra o gráfico\n",
    "except:\n",
    "    print('Erro ao criar função \"def grafico(geracoes,bests):\"!')"
   ]
  },
  {
   "cell_type": "code",
   "execution_count": 120,
   "metadata": {},
   "outputs": [
    {
     "name": "stdout",
     "output_type": "stream",
     "text": [
      "Menor número de cheques no início: 6\n",
      "População final: [[7, 4, 1, 2, 0, 5, 3, 6], [0, 6, 5, 2, 4, 7, 3, 1], [1, 0, 6, 3, 2, 5, 7, 4], [4, 6, 5, 0, 1, 3, 2, 7], [1, 2, 7, 3, 5, 0, 4, 6], [3, 1, 7, 2, 5, 0, 6, 4], array([6, 3, 5, 2, 4, 7, 0, 1]), array([1, 7, 4, 2, 0, 5, 3, 6]), array([7, 1, 2, 3, 5, 0, 4, 6]), array([7, 2, 0, 6, 3, 1, 5, 4]), array([1, 7, 5, 3, 2, 0, 4, 6]), array([4, 7, 1, 2, 0, 5, 3, 6]), array([3, 6, 5, 2, 1, 7, 0, 4]), array([1, 3, 7, 4, 2, 0, 5, 6]), array([5, 4, 1, 3, 2, 7, 0, 6]), array([1, 7, 4, 2, 0, 6, 3, 5]), array([7, 5, 2, 3, 1, 0, 4, 6]), array([3, 6, 5, 2, 1, 7, 4, 0]), array([1, 7, 4, 2, 6, 0, 3, 5]), array([3, 7, 4, 2, 0, 6, 1, 5])]\n",
      "Numero de iteraçoes: 10\n",
      "Menor numero de cheques no final = 0\n",
      "Melhor solução: [3 7 4 2 0 6 1 5]\n"
     ]
    },
    {
     "data": {
      "image/png": "[encoded data removed]",
      "text/plain": [
       "<Figure size 1440x288 with 1 Axes>"
      ]
     },
     "metadata": {
      "needs_background": "light"
     },
     "output_type": "display_data"
    },
    {
     "data": {
      "image/png": "[encoded data removed]",
      "text/plain": [
       "<Figure size 1440x288 with 1 Axes>"
      ]
     },
     "metadata": {
      "needs_background": "light"
     },
     "output_type": "display_data"
    }
   ],
   "source": [
    "#ALGORITMO GENETICO COMPLETO\n",
    "\n",
    "#listas de informações para os gráficos\n",
    "bests = list()\n",
    "bests_medio = list()\n",
    "geracoes = list()\n",
    "\n",
    "best = min(pop_fitness)                                                         #melhor indivíduo da população inicial\n",
    "print(f'Menor número de cheques no início: {best}')\n",
    "i = 1                                                                           #contador de gerações\n",
    "coletaDados(bests, bests_medio, geracoes, pop_fitness, i)                       \n",
    "while best!=0 and i<100:                                                        #laço ocorre 100 vezes ou até achar alguma solução perfeita\n",
    "    pais = selection(pop)                                                       #seleciona os pais que procriarão\n",
    "    offspring = crossover(pais, crossover_rate)                                 #gera 2 novos indivíduos\n",
    "    offspring_new = mutation(offspring, mutation_rate)                          #modifica esses 2 indivíduos caso tenha mutação\n",
    "    pop = replacement(offspring_new, pop)                                       #remove os 2 piores indíviduos da população e adiciona os 2 novos\n",
    "    pop_fitness = [fitness_nq(each_solution) for each_solution in pop]          #atualiza o número de xeques da nova população\n",
    "    best = min(pop_fitness)                                                     #armazena o menor número de xeques em 'best'\n",
    "    i = i+1                                                                     #incrementa o contador\n",
    "    coletaDados(bests, bests_medio, geracoes, pop_fitness, i) \n",
    "pos_best = pop_fitness.index(best)                                              #descobre a posição da solução com o menor número de xeques\n",
    "print(f'População final: {pop}')\n",
    "print(f'Numero de iteraçoes: {i}\\nMenor numero de cheques no final = {best}')\n",
    "print(f'Melhor solução: {pop[pos_best]}')\n",
    "try:\n",
    "    grafico(geracoes,bests, 'GERAÇÕES', 'BEST_FITNESS', 'Best Fitness x Gerações')\n",
    "    grafico(geracoes,bests_medio, 'GERAÇÕES', 'FITNESS_MEDIO', 'Fitness Médio x Gerações')\n",
    "except:\n",
    "    print('Erro ao gerar gráfico!')\n",
    "    \n"
   ]
  }
 ],
 "metadata": {
  "kernelspec": {
   "display_name": "Python 3",
   "language": "python",
   "name": "python3"
  },
  "language_info": {
   "codemirror_mode": {
    "name": "ipython",
    "version": 3
   },
   "file_extension": ".py",
   "mimetype": "text/x-python",
   "name": "python",
   "nbconvert_exporter": "python",
   "pygments_lexer": "ipython3",
   "version": "3.10.1"
  }
 },
 "nbformat": 4,
 "nbformat_minor": 4
}
