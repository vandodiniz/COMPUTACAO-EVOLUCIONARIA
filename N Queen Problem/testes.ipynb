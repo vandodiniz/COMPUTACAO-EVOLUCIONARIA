{
 "cells": [
  {
   "cell_type": "code",
   "execution_count": 59,
   "metadata": {},
   "outputs": [],
   "source": [
    "import modulo as md"
   ]
  },
  {
   "cell_type": "code",
   "execution_count": 60,
   "metadata": {},
   "outputs": [],
   "source": [
    "#TESTANDO O INIT_POPULATION:\n",
    "pop = md.init_population(md.pop_init, md.tamanhoTabuleiro)                           "
   ]
  },
  {
   "cell_type": "code",
   "execution_count": 61,
   "metadata": {},
   "outputs": [
    {
     "name": "stdout",
     "output_type": "stream",
     "text": [
      "10\n"
     ]
    }
   ],
   "source": [
    "#TESTANDO O FITNESS_NQ:\n",
    "fitness = md.fitness_nq(pop[0])                          \n",
    "print(fitness)"
   ]
  },
  {
   "cell_type": "code",
   "execution_count": 62,
   "metadata": {},
   "outputs": [
    {
     "name": "stdout",
     "output_type": "stream",
     "text": [
      "[10, 10, 8, 10, 8, 2, 16, 16, 12, 8, 12, 8, 12, 10, 14, 6, 10, 6, 6, 10]\n"
     ]
    }
   ],
   "source": [
    "#TESTANDO O POP_FITNESS\n",
    "v\n",
    "print(pop_fitness)                  "
   ]
  },
  {
   "cell_type": "code",
   "execution_count": 63,
   "metadata": {},
   "outputs": [
    {
     "name": "stdout",
     "output_type": "stream",
     "text": [
      "pais_teste = [[0, 4, 1, 7, 3, 6, 2, 5], [4, 3, 0, 5, 2, 1, 6, 7]]\n"
     ]
    }
   ],
   "source": [
    "#TESTANDO A FUNÇÃO SELECTION\n",
    "pais_teste = md.selection(pop)\n",
    "print(f'pais_teste = {pais_teste}')"
   ]
  },
  {
   "cell_type": "code",
   "execution_count": 64,
   "metadata": {},
   "outputs": [
    {
     "name": "stdout",
     "output_type": "stream",
     "text": [
      "filhos teste: [[0 4 3 5 2 1 6 7]\n",
      " [4 0 1 7 3 6 2 5]]\n"
     ]
    }
   ],
   "source": [
    "#TESTANDO A FUNÇÃO CROSSOVER\n",
    "offspring_teste = md.crossover(pais_teste, md.crossover_rate)\n",
    "print(f'filhos teste: {offspring_teste}')"
   ]
  },
  {
   "cell_type": "code",
   "execution_count": 65,
   "metadata": {},
   "outputs": [
    {
     "name": "stdout",
     "output_type": "stream",
     "text": [
      "filhos teste com mutacao: [[0 4 3 5 2 1 6 7]\n",
      " [4 0 1 7 3 6 2 5]]\n"
     ]
    }
   ],
   "source": [
    "#TESTANDO A FUNÇÃO MUTATION\n",
    "offspring_teste = md.mutation(offspring_teste, md.mutation_rate)\n",
    "print(f'filhos teste com mutacao: {offspring_teste}')"
   ]
  },
  {
   "cell_type": "code",
   "execution_count": 66,
   "metadata": {},
   "outputs": [
    {
     "name": "stdout",
     "output_type": "stream",
     "text": [
      "[[4, 3, 0, 5, 2, 1, 6, 7], [5, 2, 4, 0, 1, 3, 7, 6], [1, 7, 5, 0, 4, 3, 6, 2], [5, 6, 4, 3, 0, 1, 7, 2], [6, 1, 3, 4, 7, 0, 5, 2], [0, 4, 1, 7, 3, 6, 2, 5], [6, 3, 4, 7, 0, 5, 2, 1], [3, 1, 0, 6, 4, 7, 5, 2], [0, 5, 3, 7, 2, 1, 4, 6], [5, 6, 2, 1, 4, 7, 3, 0], [2, 0, 3, 1, 4, 7, 6, 5], [3, 0, 5, 2, 7, 1, 6, 4], [3, 4, 2, 6, 0, 5, 1, 7], [7, 5, 1, 0, 6, 3, 2, 4], [7, 4, 0, 5, 1, 3, 2, 6], [2, 4, 5, 0, 3, 1, 6, 7], [2, 6, 5, 0, 1, 3, 4, 7], [1, 4, 2, 5, 0, 7, 6, 3], array([0, 4, 3, 5, 2, 1, 6, 7]), array([4, 0, 1, 7, 3, 6, 2, 5])]\n"
     ]
    }
   ],
   "source": [
    "#TESTANDO A FUNÇÃO REPLACEMENT\n",
    "pop = md.replacement(offspring_teste, pop)\n",
    "print(pop)"
   ]
  }
 ],
 "metadata": {
  "interpreter": {
   "hash": "20099c77346fa184342f5a0e1dc2579955983be62f07a7f263c863d4bded7e85"
  },
  "kernelspec": {
   "display_name": "Python 3.10.1 64-bit (windows store)",
   "language": "python",
   "name": "python3"
  },
  "language_info": {
   "codemirror_mode": {
    "name": "ipython",
    "version": 3
   },
   "file_extension": ".py",
   "mimetype": "text/x-python",
   "name": "python",
   "nbconvert_exporter": "python",
   "pygments_lexer": "ipython3",
   "version": "3.10.1"
  },
  "orig_nbformat": 4
 },
 "nbformat": 4,
 "nbformat_minor": 2
}
