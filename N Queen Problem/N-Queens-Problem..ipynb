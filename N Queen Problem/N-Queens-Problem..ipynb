{
 "cells": [
  {
   "cell_type": "code",
   "execution_count": 12,
   "metadata": {},
   "outputs": [
    {
     "name": "stdout",
     "output_type": "stream",
     "text": [
      "Menor número de cheques no início: 4\n",
      "População final: [[1, 3, 4, 7, 5, 0, 2, 6], [3, 7, 0, 5, 1, 4, 6, 2], array([1, 6, 4, 7, 3, 0, 2, 5]), array([2, 7, 1, 6, 4, 0, 3, 5]), array([2, 7, 3, 6, 4, 1, 5, 0]), array([3, 6, 4, 7, 1, 0, 2, 5]), array([1, 7, 4, 6, 3, 0, 2, 5]), array([2, 7, 3, 6, 4, 1, 5, 0]), array([7, 2, 3, 6, 4, 1, 5, 0]), array([2, 3, 6, 4, 7, 1, 0, 5]), array([6, 1, 4, 7, 3, 0, 2, 5]), array([6, 1, 4, 7, 3, 0, 2, 5]), array([3, 6, 4, 7, 1, 0, 2, 5]), array([3, 7, 2, 6, 1, 4, 0, 5]), array([4, 7, 2, 3, 6, 1, 5, 0]), array([3, 6, 4, 7, 1, 0, 2, 5]), array([6, 3, 0, 7, 1, 4, 2, 5]), array([3, 5, 1, 4, 7, 0, 2, 6]), array([4, 6, 1, 3, 7, 0, 2, 5]), array([6, 1, 3, 4, 5, 0, 2, 7])]\n",
      "Numero de iteraçoes: 30\n",
      "Menor numero de cheques no final = 0\n",
      "Melhor solução: [4 6 1 3 7 0 2 5]\n"
     ]
    }
   ],
   "source": [
    "import modulo as md\n",
    "#ALGORITMO GENÉTICO COMPLETO\n",
    "pop = md.init_population(md.pop_init, md.tamanhoTabuleiro)                      #inicializa a população\n",
    "pop_fitness = [md.fitness_nq(each_solution) for each_solution in pop]           #analisa o fitness de cada elemento da população\n",
    "best = min(pop_fitness)                                                         #melhor indivíduo da população inicial\n",
    "print(f'Menor número de cheques no início: {best}')\n",
    "i = 0                                                                           #inicializa o contador de iterações\n",
    "while best!=0 and i<100:                                                        #laço ocorre 100 vezes ou até achar alguma solução perfeita\n",
    "    pais = md.selection(pop)                                                    #seleciona os pais que procriarão\n",
    "    offspring = md.crossover(pais, md.crossover_rate)                           #gera 2 novos indivíduos\n",
    "    offspring_new = md.mutation(offspring, md.mutation_rate)                    #modifica esses 2 indivíduos caso tenha mutação\n",
    "    pop = md.replacement(offspring_new, pop)                                    #remove os 2 piores indíviduos da população e adiciona os 2 novos\n",
    "    pop_fitness = [md.fitness_nq(each_solution) for each_solution in pop]       #atualiza o número de xeques da nova população\n",
    "    best = min(pop_fitness)                                                     #armazena o menor número de xeques em 'best'\n",
    "    i = i+1                                                                     #incrementa o contador\n",
    "pos_best = pop_fitness.index(best)                                              #descobre a posição da solução com o menor número de xeques\n",
    "print(f'População final: {pop}')\n",
    "print(f'Numero de iteraçoes: {i}\\nMenor numero de cheques no final = {best}')\n",
    "print(f'Melhor solução: {pop[pos_best]}')\n"
   ]
  }
 ],
 "metadata": {
  "kernelspec": {
   "display_name": "Python 3",
   "language": "python",
   "name": "python3"
  },
  "language_info": {
   "codemirror_mode": {
    "name": "ipython",
    "version": 3
   },
   "file_extension": ".py",
   "mimetype": "text/x-python",
   "name": "python",
   "nbconvert_exporter": "python",
   "pygments_lexer": "ipython3",
   "version": "3.10.1"
  }
 },
 "nbformat": 4,
 "nbformat_minor": 4
}
