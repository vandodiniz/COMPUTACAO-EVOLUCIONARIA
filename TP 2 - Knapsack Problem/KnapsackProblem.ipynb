{
 "cells": [
  {
   "cell_type": "code",
   "execution_count": 1,
   "metadata": {},
   "outputs": [],
   "source": [
    "# BLOCO 1: CONFIGURAÇÕES DO PROGRAMA\n",
    "\n",
    "## IMPORTS PARA O FUNCIONAMENTO DO PROGRAMA\n",
    "import random as rd\n",
    "import numpy as np\n",
    "try:\n",
    "    import matplotlib.pyplot as plt\n",
    "except:\n",
    "    print('Erro ao importar biblioteca  \"matplotlib.pyplot\"!')\n",
    "    \n",
    "## VARIÁVEIS GLOBAIS QUE DITAM O COMPORTAMENTO DA POPULAÇÃO\n",
    "CROSSOVER_RATE = 0.8\n",
    "MUTATION_RATE = 0.05\n",
    "TAMANHO_POP=8                                                                           #tamanho da população\n",
    "NUMERO_DE_OBJETOS = 8                                                                   #número de objetos disponiveis\n",
    "CAPACIDADE_DA_MOCHILA = 35                                                              #peso máximo da mochila\n",
    "PROPRIEDADES = [[10,5],[18,8],[12,7],[14,6],[13,9],[11,5],[8,4],[6,3]]                  #lista contendo o peso acompanhado do valor de cada objeto "
   ]
  },
  {
   "cell_type": "code",
   "execution_count": 2,
   "metadata": {},
   "outputs": [],
   "source": [
    "# BLOCO 2: FUNÇÃO PARA CRIAR A POPULAÇÃO\n",
    "\n",
    "def criaPop(tamanho=TAMANHO_POP, num = NUMERO_DE_OBJETOS):\n",
    "    pop = list()                                                #lista para armazenar a população\n",
    "    individuo = list()                                          #lista para armazenar um individuo\n",
    "    for c in range(0,tamanho):                                  #laço para gerar os N individuos da população\n",
    "        for x in range(0,num):                                  #laço para gerar um individuo\n",
    "            n = rd.randint(0,1)                                 #sorteia um valor de n\n",
    "            individuo.append(n)                                 #adiciona esse valor a lista do inidividuo\n",
    "        pop.append(individuo[:])                                #adiciona na lista pop o individuo gerado   \n",
    "        individuo.clear()                                       #limpa a lista do individuo e repete o processo\n",
    "    return pop\n",
    "            \n",
    "    "
   ]
  },
  {
   "cell_type": "code",
   "execution_count": 3,
   "metadata": {},
   "outputs": [
    {
     "name": "stdout",
     "output_type": "stream",
     "text": [
      "[[0, 0, 0, 1, 1, 0, 1, 1], [1, 1, 1, 1, 1, 1, 0, 0], [0, 1, 0, 1, 1, 1, 0, 0], [0, 0, 1, 0, 1, 0, 0, 1], [0, 0, 1, 0, 1, 1, 0, 1], [0, 1, 0, 0, 1, 0, 1, 0], [1, 1, 0, 1, 1, 1, 1, 1], [0, 0, 0, 0, 0, 1, 0, 1]]\n"
     ]
    }
   ],
   "source": [
    "# BLOCO 3: TESTE DA FUNÇÃO ACIMA\n",
    "\n",
    "pop_teste = criaPop()\n",
    "print(pop_teste)"
   ]
  },
  {
   "cell_type": "code",
   "execution_count": 4,
   "metadata": {},
   "outputs": [],
   "source": [
    "# BLOCO 4: FUNÇÃO DE APTIDÃO DE UM INDIVÍDUO\n",
    "\n",
    "def individualFitness(individuo, propriedades = PROPRIEDADES, cap = CAPACIDADE_DA_MOCHILA):\n",
    "    ## descobrindo o rho\n",
    "    rho_possivel = list()                                           #lista para armazenar os possiveis rhos \n",
    "    beneficio = peso_total = 0                                      #beneficio e peso total da solução candidata\n",
    "    for c in propriedades:                                          \n",
    "        rho_possivel.append(c[1]/c[0])                              #armazena todos os rhos possiveis\n",
    "    rho = max(rho_possivel)                                         #descobre o rho\n",
    "    \n",
    "    ## verificando o indivíduo\n",
    "    for c in range(0,NUMERO_DE_OBJETOS):                            #laço para analisar o individuo\n",
    "        if individuo[c] == 1:                                       #verifica se ele contem o objeto\n",
    "            beneficio += propriedades[c][1]                         #incrementa o valor do beneficio\n",
    "            peso_total += propriedades[c][0]                        #incremeta o valor do peso total\n",
    "    if peso_total > cap:                                            #verifica se tem penalidade\n",
    "        fitness = beneficio - rho*(peso_total-cap)                  #aplica penalidade, caso tenha\n",
    "    else:\n",
    "        fitness = beneficio                                         \n",
    "    return fitness\n",
    "    "
   ]
  },
  {
   "cell_type": "code",
   "execution_count": 5,
   "metadata": {},
   "outputs": [
    {
     "name": "stdout",
     "output_type": "stream",
     "text": [
      "21\n"
     ]
    }
   ],
   "source": [
    "# BLOCO 5: TESTE DA FUNÇÃO ACIMA\n",
    "\n",
    "fitness = individualFitness([1, 0, 1, 0, 1, 0, 0, 0])\n",
    "print(fitness)"
   ]
  },
  {
   "cell_type": "code",
   "execution_count": 6,
   "metadata": {},
   "outputs": [],
   "source": [
    "# BLOCO 6: FUNÇÃO DE APTIDÃO DA POPULAÇÃO\n",
    "\n",
    "def popFitness(pop):\n",
    "    pop_fitness = list()                                        #lista para armazenar os fitness\n",
    "    for individuo in pop:                                       #varre a população\n",
    "        pop_fitness.append(individualFitness(individuo))        #armazena o fitness do individuo na lista\n",
    "    return pop_fitness"
   ]
  },
  {
   "cell_type": "code",
   "execution_count": 7,
   "metadata": {},
   "outputs": [
    {
     "name": "stdout",
     "output_type": "stream",
     "text": [
      "[17.846153846153847, 10.23076923076923, 13.461538461538462, 19, 19.153846153846153, 18.23076923076923, 8.846153846153847, 8]\n"
     ]
    }
   ],
   "source": [
    "# BLOCO 7: TESTE DA FUNÇÃO ACIMA\n",
    "\n",
    "pop_fitness = popFitness(pop_teste)\n",
    "print(pop_fitness)"
   ]
  },
  {
   "cell_type": "code",
   "execution_count": 8,
   "metadata": {},
   "outputs": [],
   "source": [
    "# BLOCO 8: MECANISMO DE SELEÇÃO DOS PAIS\n",
    "\n",
    "def roletaPais(pop):\n",
    "    pais = list()                                   #lista para armazenar os roletados\n",
    "    porcentagens = list()                           #lista para armazenar as porcentagens de cada individuo\n",
    "    pop_fitness = popFitness(pop)                   #armazena o fitness da população\n",
    "    fitness_total = por = 0                         #variaveis para definir as porcentagens\n",
    "\n",
    "    for fitness in pop_fitness:\n",
    "        fitness_total += fitness                    #soma todos os fitness da população\n",
    "    \n",
    "    for fitness in pop_fitness:                     #varre todos os fitness da população\n",
    "        por += (fitness/fitness_total)              #calcula a porcentagem do individuo\n",
    "        porcentagens.append(por)                    #adiciona a porcentagem na lista\n",
    "    \n",
    "    for c in range(0,TAMANHO_POP):                  #laço para sortear os individuos\n",
    "        n = rd.random()                             #roleta um numero\n",
    "        for i in range(0,TAMANHO_POP):              #analisa qual individuo foi sorteado\n",
    "            if n <= porcentagens[i]:\n",
    "                pais.append(pop[i])                 \n",
    "                break\n",
    "    return pais\n",
    "\n",
    "\n",
    "    "
   ]
  },
  {
   "cell_type": "code",
   "execution_count": 9,
   "metadata": {},
   "outputs": [
    {
     "name": "stdout",
     "output_type": "stream",
     "text": [
      "[[0, 1, 0, 0, 1, 0, 1, 0], [0, 0, 1, 0, 1, 1, 0, 1], [1, 1, 1, 1, 1, 1, 0, 0], [0, 1, 0, 0, 1, 0, 1, 0], [0, 0, 1, 0, 1, 1, 0, 1], [0, 0, 0, 0, 0, 1, 0, 1], [0, 0, 1, 0, 1, 0, 0, 1], [1, 1, 1, 1, 1, 1, 0, 0]]\n"
     ]
    }
   ],
   "source": [
    "# BLOCO 9: TESTE DA FUNÇÃO ACIMA\n",
    "\n",
    "pais_teste = roletaPais(pop_teste)\n",
    "print(pais_teste)"
   ]
  },
  {
   "cell_type": "code",
   "execution_count": 10,
   "metadata": {},
   "outputs": [],
   "source": [
    "# BLOCO 10: MECANISMO DE CRUZAMENTO\n",
    "\n",
    "def cruzamento(pop, pais, crossover_rate=CROSSOVER_RATE):\n",
    "    new_pop = list()                                                                    #cria uma lista com a nova população\n",
    "    filho = list()                                                                      #cria uma lista para armazenar um filho\n",
    "    for c in range(0,TAMANHO_POP,2):                                                    #laço para efetuar os cruzamentos entre os pais selecionados\n",
    "        if rd.random() < crossover_rate:                                                    #verifica se tem cruzamento\n",
    "            ponto_de_corte = rd.randint(1,NUMERO_DE_OBJETOS-1)                                  #define o ponto de corte\n",
    "            for i in range(0,ponto_de_corte):                                                   #coloca a identidade do pai 1 no filho 1 do inicio ao ponto de corte\n",
    "                filho.append(pais[c][i])\n",
    "            for i in range(ponto_de_corte,NUMERO_DE_OBJETOS):                                   #coloca a identidade do pai 2 no filho 1 do ponto de corte ao final\n",
    "                filho.append(pais[c+1][i])      \n",
    "            new_pop.append(filho[:])                                                            #adiciona o filho gerado na nova população\n",
    "            filho.clear()                                                                       #limpa a lista filho\n",
    "            for i in range(0,ponto_de_corte):                                                   #coloca a identidade do pai 2 no filho 2 do inicio ao ponto de corte\n",
    "                filho.append(pais[c+1][i])\n",
    "            for i in range(ponto_de_corte,NUMERO_DE_OBJETOS):                                   #coloca a identidade do pai 1 no filho 2 do ponto de corte ao final\n",
    "                filho.append(pais[c][i])                                                        \n",
    "            new_pop.append(filho[:])                                                            #adiciona o filho gerado na nova população\n",
    "            filho.clear()                                                                       #limpa a lista filho\n",
    "        else:                                                                               #caso não tenha cruzamento, coloca na nova população os individuos que já estavam nessa posição na antiga população\n",
    "            new_pop.append(pop[c])\n",
    "            new_pop.append(pop[c+1])\n",
    "    return new_pop"
   ]
  },
  {
   "cell_type": "code",
   "execution_count": 11,
   "metadata": {},
   "outputs": [
    {
     "name": "stdout",
     "output_type": "stream",
     "text": [
      "[[0, 1, 0, 0, 1, 1, 0, 1], [0, 0, 1, 0, 1, 0, 1, 0], [1, 1, 1, 1, 1, 0, 1, 0], [0, 1, 0, 0, 1, 1, 0, 0], [0, 0, 1, 0, 0, 1, 0, 1], [0, 0, 0, 0, 1, 1, 0, 1], [0, 0, 1, 1, 1, 1, 0, 0], [1, 1, 1, 0, 1, 0, 0, 1]]\n"
     ]
    }
   ],
   "source": [
    "# BLOCO 11: TESTE DA FUNÇÃO ACIMA\n",
    "\n",
    "pop_teste = cruzamento(pop_teste,pais_teste)\n",
    "print(pop_teste)"
   ]
  },
  {
   "cell_type": "code",
   "execution_count": 12,
   "metadata": {},
   "outputs": [],
   "source": [
    "# BLOCO 12: MECANISMO DE MUTAÇÃO\n",
    "\n",
    "def mutation(pop, mutation_rate=MUTATION_RATE):\n",
    "    nova_pop = list()                                           #lista para a população com mutação\n",
    "    for individuo in pop:                                       #varre a população sem mutação\n",
    "        if(rd.random() < mutation_rate):                        #verifica se o individuo será mutado\n",
    "            bit_flip = rd.randint(0,NUMERO_DE_OBJETOS-1)        #define em qual posição acontecerá a mutação\n",
    "            if individuo[bit_flip] == 0:                        \n",
    "                individuo[bit_flip] = 1                         #inverte o bit do individuo\n",
    "            else:\n",
    "                individuo[bit_flip] = 0                         #inverte o bit do individuo\n",
    "            nova_pop.append(individuo)                          #adiciona o individuo na nova população\n",
    "        else:\n",
    "            nova_pop.append(individuo)                          #caso não tenha mutação, adiciona o individuo sem alterações na nova população \n",
    "    return nova_pop"
   ]
  },
  {
   "cell_type": "code",
   "execution_count": 13,
   "metadata": {},
   "outputs": [
    {
     "name": "stdout",
     "output_type": "stream",
     "text": [
      "[[0, 1, 0, 0, 0, 1, 0, 1], [0, 0, 1, 0, 1, 0, 1, 0], [1, 1, 1, 1, 1, 0, 1, 0], [0, 1, 0, 0, 1, 1, 0, 0], [0, 0, 1, 0, 0, 1, 0, 1], [0, 0, 0, 0, 1, 1, 0, 1], [0, 0, 1, 1, 1, 1, 0, 0], [1, 1, 1, 0, 1, 0, 0, 1]]\n"
     ]
    }
   ],
   "source": [
    "# BLOCO 13: TESTE DA FUNÇÃO ACIMA\n",
    "\n",
    "pop_teste = mutation(pop_teste)\n",
    "print(pop_teste)"
   ]
  },
  {
   "cell_type": "code",
   "execution_count": 14,
   "metadata": {},
   "outputs": [],
   "source": [
    "# BLOCO 14: FUNÇÃO DE COLETA DE DADOS PARA O GRÁFICO\n",
    "\n",
    "def coletaDados(bests, bests_medio, geracoes, pop_fitness, geracao_atual):\n",
    "    bests.append(max(pop_fitness))                                                  #adiciona o melhor individuo na lista dos melhores\n",
    "    geracoes.append(geracao_atual)                                                  #adiciona a geração atual na lista de gerações\n",
    "    media = 0                                                                       \n",
    "    for c in pop_fitness:\n",
    "        media += c                                                                  #soma todos os fitness da geração atual\n",
    "    media = media/len(pop_fitness)                                                  #calcula a media dos fitness\n",
    "    bests_medio.append(media)                                                       #adiciona a media dos fitness na lista"
   ]
  },
  {
   "cell_type": "code",
   "execution_count": 15,
   "metadata": {},
   "outputs": [],
   "source": [
    "# BLOCO 15: FUNÇÃO GRÁFICA\n",
    "\n",
    "try: \n",
    "    def grafico(x,y,x_title, y_title,title):\n",
    "        figura = plt.figure(figsize=(20,4))                         #cria gráfico vazio\n",
    "        figura.add_subplot(131)                                     #define o espaço em que o gráfico sera plotado\n",
    "        plt.plot(x,y)                                               #plota o gráfico com as duas listas\n",
    "        plt.xlabel(x_title)                                         #nomeia o eixo x\n",
    "        plt.ylabel(y_title)                                         #nomeia o eixo y\n",
    "        plt.title(title)                                            #nomeia o titulo\n",
    "        plt.show()                                                  #mostra o gráfico\n",
    "except:\n",
    "    print('Erro ao criar função gráfica\"!')"
   ]
  },
  {
   "cell_type": "code",
   "execution_count": 16,
   "metadata": {},
   "outputs": [
    {
     "name": "stdout",
     "output_type": "stream",
     "text": [
      "21\n"
     ]
    }
   ],
   "source": [
    "# BLOCO 16: DESCOBRINDO O MELHOR INDIVÍDUO POSSIVEL PARA A CONDIÇÃO DE PARADA\n",
    "import numpy as np\n",
    "import itertools\n",
    "\n",
    "todos_individuos = [np.reshape(np.array(i), (NUMERO_DE_OBJETOS, 1)) for i in itertools.product([0, 1], repeat = NUMERO_DE_OBJETOS)]             #cria uma lista com todos os individuos possiveis\n",
    "todos_fitness = popFitness(todos_individuos)                                                                                                    #lista com todos os fitness possiveis\n",
    "GABARITO = (max(todos_fitness))                                                                                                                 #melhor individuo possivel com base nas propriedades  \n",
    "print(GABARITO)"
   ]
  },
  {
   "cell_type": "code",
   "execution_count": 17,
   "metadata": {},
   "outputs": [
    {
     "name": "stdout",
     "output_type": "stream",
     "text": [
      "Melhor indivíduo inicial: [1, 0, 1, 0, 1, 1, 0, 0]; Fitness: 18.385\n",
      "Numero de gerações: 18\n",
      "Melhor indivíduo final: [1, 0, 1, 0, 1, 0, 0, 0]; Fitness: 21.000\n"
     ]
    },
    {
     "data": {
      "image/png": "[encoded data removed]",
      "text/plain": [
       "<Figure size 1440x288 with 1 Axes>"
      ]
     },
     "metadata": {
      "needs_background": "light"
     },
     "output_type": "display_data"
    },
    {
     "data": {
      "image/png": "[encoded data removed]",
      "text/plain": [
       "<Figure size 1440x288 with 1 Axes>"
      ]
     },
     "metadata": {
      "needs_background": "light"
     },
     "output_type": "display_data"
    }
   ],
   "source": [
    "# BLOCO 17: ALGORITMO GENÉTICO COMPLETO\n",
    "\n",
    "## listas de informações para os gráficos\n",
    "bests = list()\n",
    "bests_medio = list()\n",
    "geracoes = list()\n",
    "\n",
    "## inicialização da população\n",
    "pop = criaPop()                                                                     #cria a população inicial\n",
    "pop_fitness = popFitness(pop)                                                       #analisa o fitness da população\n",
    "best = max(pop_fitness)                                                             #descobre o melhor fitness da população inicial\n",
    "pos_best = pop_fitness.index(best)                                                  #descobre a posição do melhor individuo\n",
    "i = 1                                                                               #contador de gerações\n",
    "coletaDados(bests, bests_medio, geracoes, pop_fitness, i)                           #coleta dados para o gráfico\n",
    "print(f'Melhor indivíduo inicial: {pop[pos_best]}; Fitness: {best:.3f}')\n",
    "\n",
    "## GGA\n",
    "while best !=GABARITO:                                                              #condição de parada: achar o individuo perfeito\n",
    "    pais = roletaPais(pop)                                                          #escolhe os pais da geração\n",
    "    pop = cruzamento(pop,pais)                                                      #cruza os pais e substitui a população\n",
    "    pop = mutation(pop)                                                             #aplica a mutação\n",
    "    pop_fitness = popFitness(pop)                                                   #analisa o fitness da nova população\n",
    "    best = max(pop_fitness)                                                         #descobre o melhor individuo da nova geração\n",
    "    i += 1                                                                          #incrementa o contador de gerações\n",
    "    coletaDados(bests, bests_medio, geracoes, pop_fitness, i)                       #coleta dados para o gráfico\n",
    "\n",
    "## informações finais\n",
    "pos_best = pop_fitness.index(best)                                                  #descobre a posição do melhor individuo\n",
    "print(f'Numero de gerações: {i}')                                              \n",
    "print(f'Melhor indivíduo final: {pop[pos_best]}; Fitness: {best:.3f}')\n",
    "try:\n",
    "    grafico(geracoes,bests, 'GERAÇÕES', 'BEST_FITNESS', 'Best Fitness x Gerações')\n",
    "    grafico(geracoes,bests_medio, 'GERAÇÕES', 'FITNESS_MEDIO', 'Fitness Médio x Gerações')\n",
    "except:\n",
    "    print('Erro ao gerar gráfico!')\n",
    "    "
   ]
  },
  {
   "cell_type": "markdown",
   "metadata": {},
   "source": [
    "# **RELATÓRIO KNAPSACK PROBLEM**\n",
    "### Aluno 1: Vando Carlos Diniz Reis - 2019057195 \n",
    "### Aluno 2: Rafael Moura Marques - 2019089305\n",
    "---\n",
    "# _*INTRODUÇÃO*_: \n",
    "O Knapsack Problem é um problema de optimização combinatória. Nele precisamos preencher uma mochila com objetos de diferentes pesos e valores. O objetivo é alcançar o maior valor possível, de modo que não ultrapasse a capacidade máxima da mochila. Idealmente, usaremos uma mochila com capacidade para 8 objetos e com capacidade máxima de 35 unidades de peso. Os objetos disponíveis possuem as seguintes propriedades:\n",
    " Objeto | Peso | Valor\n",
    " :---:|:---:|:---:\n",
    "1 | 10u | 5\n",
    "2 | 18u | 8\n",
    "3 | 12u | 7\n",
    "4 | 14u | 6\n",
    "5 | 13u | 9\n",
    "6 | 11u | 5\n",
    "7 | 8u | 4\n",
    "8 | 6u | 3\n",
    "---\n",
    "# *_IMPLEMENTAÇÃO_*: \n",
    "### <ins>Representação escolhida:</ins>\n",
    "Um indivíduo é representado por uma lista de 8 elementos (o tamanho pode ser mudado no código),  que possuem valor 0 ou 1. O algoritmo preenche aleatoriamente o valor de cada elemento. O 1 indica que o indivíduo possui o objeto associado àquela posição, enquanto o 0 indica o contrário. \n",
    "\n",
    "Exemplo: [1,1,1,1,1,1,1,0]\n",
    "\t\n",
    "Neste caso, o indivíduo possui todos os objetos disponíveis, menos o último.\n",
    "\t\n",
    "Já a população é representada por uma lista contendo 8 indivíduos (o tamanho desta lista também pode ser alterado no código), chamada `pop`. Para mais detalhes olhar os <span style=\"color:green\">*[BLOCOS 1 e 2]*</span>. \n",
    "\n",
    "### <ins>Função de Aptidão:</ins>\n",
    "A função de aptidão define a qualidade de uma solução candidata. Neste caso o benefício é uma relação entre o valor que os objetos renderam ao indivíduo com o seu peso total. Não é muito benéfico um indivíduo possuir todos os objetos pois assim ele ultrapassará a capacidade da mochila, e consequentemente, receberá uma penalidade. A avaliação da qualidade de uma solução candidata é dada pela seguinte fórmula: \n",
    "\n",
    "<img src=img/Formula.png alt=\"Formula\" width=\"550\"/>\n",
    "\n",
    "Portanto, foi feita uma função que atendesse a fórmula acima para analisar o fitness de um indivíduo. O processo foi feito em todos os indivíduos da população e o resultado foi armazenado em uma lista chama `pop_fitness`. Para mais detalhes olhar os blocos <span style=\"color:green\">*[BLOCOS 4 e 6]*</span>.\n",
    "\n",
    "### <ins>Mecanismos de Seleção dos Pais:</ins>\n",
    "\n",
    "Os pais são selecionados através do método da Roleta, que consiste em primeiro calcular-se o fitness total da população atual. Depois calcula-se a porcentagem que o fitness de cada indivíduo representa deste total e os indivíduos são mapeados para segmentos de reta contidos no intervalo [0,1]. Então, a partir destas porcentagens, um número aleatório \"r\" é sorteado e o indivíduo cujo segmento contém \"r\" é então selecionado para ser um pai. Repete-se este processo \"n\" vezes para \"n\" indivíduos na população.\n",
    "\n",
    "Para mais informações olhar o <span style=\"color:green\">*[BLOCO 8]*</span>.\n",
    "\n",
    "### <ins>Operador de Cruzamento:</ins>\n",
    "\n",
    "Primeiro é observado se haverá cruzamento ou não através da geração de um número aleatório que será comparado se é menor ou maior do que o \"crossover_rate\". Caso seja menor ocorrerá então o cruzamento, que consiste em primeiro gerar um ponto de corte aleatório que ditará como ocorrerá a troca de informações. Sendo que, o primeirofilho terá a primeira do início até o ponto de corte igual ao pai 1 e o resto igual ao pai 2, enquanto o contrário ocorrerá com o filho 2.  \n",
    "\n",
    "Para mais informações olhar o <span style=\"color:green\">*[BLOCO 10]*</span>.\n",
    "\n",
    "\n",
    "### <ins>Operador de Mutação:</ins>\n",
    "\n",
    "Este método consiste em primeiro analisar se terá mutação naquele indivíduo e, após isto ocorre a mutação, do tipo bit-flip, no qual uma posição aleatória do elemento é selecionada e o conteúdo dela é invertido, seno que se ele era '0' vai para '1' e se era '1' vai para '0'.\n",
    "\n",
    "Caso não ocorra mutação o próprio filho é colocado na população.\n",
    "\n",
    "Para mais informações olhar o <span style=\"color:green\">*[BLOCO 12]*</span>.\n",
    "\n",
    "### <ins>Mecanismo de Seleção de Sobreviventes:</ins>\n",
    "\n",
    "Como estamos tratando de um GGA, toda a população é substituiída pelos seus descendentes.\n",
    "\n",
    "Para mais informações olhar o <span style=\"color:green\">*[BLOCO 12]*</span>. No qual colocamos os filhos na nova população.\n",
    "\n",
    "### <ins>Gráficos:</ins>\n",
    "\n",
    "Ao final do programa, é gerado um gráfico informativo do melhor fitness ao longo das gerações e da média do fitness da população de modo geral. Para que ele funcione é necessário instalar e importar a biblioteca matpltlib.pyplot. Qualquer erro na importação dessa biblioteca não compromete o funcionamento do código, apenas não serão mostrados os gráficos ao final do programa. O programa conta com uma função que coleta dados do melhor fitness e da média de fitness da população ao longo das gerações e os coloca em listas separadas. Essas listas são usadas para plotar os gráficos. Para mais detalhes olhar os blocos <span style=\"color:green\">*[BLOCOS 14 e 15]*</span>.\n",
    "\n",
    "### <ins>Testes:</ins>\n",
    "\n",
    "Todas as funções importantes para o funcionamento do programa tem seus testes implementados no bloco subsequente. Olhar os <span style=\"color:green\">*[BLOCOS 3, 5, 7, 9, 11 e 13]*</span>.\n",
    "\n",
    "### <ins>Condição de Parada:</ins>\n",
    "\n",
    "O algoritmo só termina quando encontra a solução perfeita. A solução perfeita é encontrada no bloco  16. Nele criamos uma lista com todos os indivíduos possíveis e analisamos qual tinha o maior fitness.\n",
    "\n",
    "### <ins>Código Principal:</ins>\n",
    "\n",
    "Olhar <span style=\"color:green\">*[BLOCO 17]*</span>.\n",
    "\n",
    "# _*ANÁLISE DOS RESULTADOS*_: \n",
    "\n",
    "### <ins>Crossover Rate:</ins>\n",
    "\n",
    "Para testarmos a implicancia de mudanças na taxa do crossover_rate no número de gerações necessárias para chegar ao gabarito decidimos simular o código 100 vezes para duas taxas de crossover diferentes (0.65 e 1). Obtendo assim os gráficos abaixo:\n",
    "\n",
    "\n",
    "<img src=img/Image2.png alt=\"CrossoverRate = 0.65\" width=\"550\"/>\n",
    "\n",
    "\n",
    "\n",
    "<img src=img/Image3.png alt=\"CrossoverRate = 1\" width=\"550\"/>\n",
    "\n",
    "\n",
    "Como podemos ver ambos os gráficos possuem um comportamento bem semelhante, sendo que nos dois casos é possível ver que o gráfico decresce exponencialmente, tendo bem mais casos em que a resposta do problema foi encontrada rapidamente, e em raras vezes a execução se estende para mais gerações. Dado que até a média de ambos foi bem próxima, visto que para crossover_rate = 0,65 foi obtida uma média de 387,88 gerações necessárias e uma média igual a 295,24 para crossover_rate = 1.\n",
    "\n",
    "Simulando 100 vezes o programa, para cada Crossover Rate em um intervalo de 0.05, chegamos ao seguinte gráfico:\n",
    "\n",
    "\n",
    "<img src=img/Image1.png alt=\"CrossoverRate\" width=\"550\"/>\n",
    "\n",
    "\n",
    "Conclui-se então que a mudança no valor do crossover_rate não implica uma grande diferença no número médio de gerações necessárias para que seja solucionado o problema. Visto que a diferença entre a maior média encontrada (463,84) e a menor (379,38) é de apenas 84,46, uma diferença que é explicada pelo fato de uma simulação ter dado mais “sorte” do que as outras. E, provavelmente, caso tentássemos tais taxas outras vezes, as médias delas manteriam-se próximas deste alcance.\n",
    "\n",
    "### <ins>Mutation Rate:</ins>\n",
    "\n",
    "Para testarmos a implicancia de mudanças na taxa do mutation_rate no número de gerações necessárias para chegar ao gabarito decidimos simular o código 100 vezes para duas taxas de crossover diferentes (0.02 e 0.1). Obtendo assim os gráficos abaixo:\n",
    "\n",
    "\n",
    "<img src=img/Image7.png alt=\"MutationRate = 0.02\" width=\"550\"/>\n",
    "\n",
    "\n",
    "<img src=img/Image10.png alt=\"MutationRate = 0.1\" width=\"550\"/>\n",
    "\n",
    "\n",
    "É possível observar que no primeiro gráfico (mutation_rate = 0,02) a frequência de gerações se concentra abaixo das 2000, com uma maioria entre 0 e 250, 25 casos, e alguns outros maiores, chegando até um máximo de 7412. Assim, sua média foi igual a 1478,73.\n",
    "\n",
    "Já para no segundo diagrama (mutation_rate = 0,1) quase todas as simulações, 77, se mantiveram entre 0 e 250, sendo que em raros casos passou desse alcance e o maior número de gerações necessárias foi “apenas” 874. Finalizando com uma média de 174,16.\n",
    "\n",
    "Portanto, vemos que uma mudança no valor do mutation_rate causa uma grande variação no número médio de gerações necessárias para encontrar a solução do problema. Para analisarmos isso com mais clareza simulamos 100 vezes o programa, para cada mutation_rate entre 0,02 e 0,1, com intervalo de 0,01, chegando ao seguinte gráfico:\n",
    "\n",
    "\n",
    "<img src=img/Image4.png alt=\"MutationRate\" width=\"550\"/>\n",
    "\n",
    "\n",
    "Conclui-se que quanto maior a taxa de mutação, menos gerações são necessárias para solucionar o exercício, sendo que é possível perceber que isso ocorre de forma exponencial. Isso se deve, pois a mutação neste caso ocorre apenas em um caractere e ocorre da forma bit flip, ou seja, trocando ‘0’ para ‘1’ ou ‘1’ para ‘0’, assim, ela é necessária e serve de grande ajuda para diversificar um pouco a população e consequentemente encontrar a solução de forma mais rápida.  \n",
    "\n",
    "### <ins>Considerações Finais:</ins>\n",
    "\n",
    "- Comportamento das simulações: \n",
    "\n",
    "<img src=img/Simulacoes.png alt=\"Simulação\" width=\"550\"/>\n",
    "\n",
    "\n",
    "- Pode-se notar que o Best Fitness de uma simulação oscila bastante ao longo das gerações. Isso acontece pois estamos tratando de um GGA. Como a geração nova não preserva nenhum indivíduo da geração antiga, não temos como garantir que a nova população seja melhor ou pelo menos igual a anterior. O mesmo acontece com o fitness médio da geração. Entretanto, esse método é muito semelhante a vida real, visto que um indivíduo não se perpetua ao longo de várias gerações.\n",
    "\n",
    "- Após toda essa pesquisa, percebe-se que o algoritmo mais eficiente não depende do valor de crossover_rate escolhido, podendo ser qualquer um maior do que 0,6, já o mutation_rate = 0,1 foi o mais eficiente.\n",
    "\n"
   ]
  }
 ],
 "metadata": {
  "interpreter": {
   "hash": "20099c77346fa184342f5a0e1dc2579955983be62f07a7f263c863d4bded7e85"
  },
  "kernelspec": {
   "display_name": "Python 3.10.1 64-bit (windows store)",
   "language": "python",
   "name": "python3"
  },
  "language_info": {
   "codemirror_mode": {
    "name": "ipython",
    "version": 3
   },
   "file_extension": ".py",
   "mimetype": "text/x-python",
   "name": "python",
   "nbconvert_exporter": "python",
   "pygments_lexer": "ipython3",
   "version": "3.10.2"
  },
  "orig_nbformat": 4
 },
 "nbformat": 4,
 "nbformat_minor": 2
}
