{
 "cells": [
  {
   "cell_type": "code",
   "execution_count": 42,
   "metadata": {},
   "outputs": [],
   "source": [
    "#BLOCO 1: \n",
    "import numpy as np\n",
    "from itertools import product\n",
    "import matplotlib.pyplot as plt\n",
    "from mpl_toolkits.mplot3d import Axes3D\n",
    "import random as rd\n",
    "\n",
    "N = 50\n",
    "minimum_global = -6.5511\n",
    "F = 0.8\n",
    "C = 0.7\n",
    "C1 = 1\n",
    "C2 = 1\n",
    "W = 0.5\n",
    "vmax = 1\n"
   ]
  },
  {
   "cell_type": "markdown",
   "metadata": {},
   "source": [
    "---\n",
    "<h3> Rastrigin Function </h3>"
   ]
  },
  {
   "cell_type": "code",
   "execution_count": 43,
   "metadata": {},
   "outputs": [],
   "source": [
    "def peaks(x): # objective function\n",
    "    x = x.T\n",
    "    F = 3*(1-x[0])**2 * np.exp(-(x[0]**2) - (x[1]+1)**2) - 10*(x[0]/5 - x[0]**3 - x[1]**5) * np.exp(-x[0]**2-x[1]**2) - 1/3*np.exp(-(x[0]+1)**2 - x[1]**2)\n",
    "    return F"
   ]
  },
  {
   "cell_type": "code",
   "execution_count": 44,
   "metadata": {},
   "outputs": [
    {
     "data": {
      "text/plain": [
       "\"x1 = x2 = np.linspace(-3, 3, 150)\\nx_p = np.array(list(product(x1,x2)))\\n\\n\\nfont_labels = {'fontsize': 14, 'fontweight': 150}\\n\\nfig = plt.figure(figsize=(12,8))\\nax = Axes3D(fig)\\nax.set_title('Função Rastrigin', fontdict={'fontsize':15})\\nax.set_xlabel('X1', fontdict=font_labels)\\nax.set_ylabel('X2', fontdict=font_labels)\\nax.set_zlabel('peaks(X1, X2)', fontdict=font_labels)\\nsurf = ax.plot_trisurf(x_p[:, 0], x_p[:, 1], [rastrigin(x_) for x_ in x_p], linewidth=0.1, color='orange')\\nplt.show()\""
      ]
     },
     "execution_count": 44,
     "metadata": {},
     "output_type": "execute_result"
    }
   ],
   "source": [
    "'''x1 = x2 = np.linspace(-3, 3, 150)\n",
    "x_p = np.array(list(product(x1,x2)))\n",
    "\n",
    "\n",
    "font_labels = {'fontsize': 14, 'fontweight': 150}\n",
    "\n",
    "fig = plt.figure(figsize=(12,8))\n",
    "ax = Axes3D(fig)\n",
    "ax.set_title('Função Rastrigin', fontdict={'fontsize':15})\n",
    "ax.set_xlabel('X1', fontdict=font_labels)\n",
    "ax.set_ylabel('X2', fontdict=font_labels)\n",
    "ax.set_zlabel('peaks(X1, X2)', fontdict=font_labels)\n",
    "surf = ax.plot_trisurf(x_p[:, 0], x_p[:, 1], [rastrigin(x_) for x_ in x_p], linewidth=0.1, color='orange')\n",
    "plt.show()'''"
   ]
  },
  {
   "cell_type": "markdown",
   "metadata": {},
   "source": [
    "---\n",
    "# IMPLEMENTAÇÃO\n"
   ]
  },
  {
   "cell_type": "code",
   "execution_count": 45,
   "metadata": {},
   "outputs": [],
   "source": [
    "# BLOCO 2: GERANDO A POPULAÇÃO INICIAL\n",
    "def initPop():\n",
    "    pop = []                                                         # lista para armazenar a população\n",
    "    individuo = []                                                   # lista para armazenar um individuo\n",
    "    for c in range(0,N):                                             # laço para gerar os N indivíduos\n",
    "        individuo.append(float(\"{:.4f}\".format(rd.uniform(-3,3))))   # gera a coordenada x1 pro individuo\n",
    "        individuo.append(float(\"{:.4f}\".format(rd.uniform(-3,3))))  # gera a coordenada x2 pro individuo\n",
    "        individuo.append(float(\"{:.2f}\".format(rd.uniform(0.5,1.5))))  # gera a velocidade v2 pro individuo\n",
    "        individuo.append(float(\"{:.2f}\".format(rd.uniform(0.5,1.5))))  # gera a velocidade v2 pro individuo\n",
    "        pop.append(individuo[:])                                     # adiciona o individuo na população\n",
    "        individuo.clear()                                            # limpa a lista\n",
    "\n",
    "    return pop"
   ]
  },
  {
   "cell_type": "code",
   "execution_count": 46,
   "metadata": {},
   "outputs": [
    {
     "name": "stdout",
     "output_type": "stream",
     "text": [
      "[[0.1779, -2.2952, 0.52, 1.31], [-1.517, -0.8949, 1.03, 0.9], [0.0633, 1.4944, 0.81, 1.33], [-1.9345, 1.8633, 1.2, 0.82], [-0.694, 0.3732, 0.8, 1.15], [-0.7914, 1.5084, 1.39, 1.01], [-1.5648, 0.1606, 0.62, 0.94], [1.6305, 1.6175, 1.19, 0.55], [2.9583, -1.9415, 1.02, 1.07], [0.0293, -1.0462, 1.25, 1.35], [-2.8079, -0.2068, 1.0, 1.25], [0.3971, 2.9077, 1.26, 1.47], [-0.457, -2.2551, 1.02, 0.71], [-1.3855, -0.8517, 1.34, 0.91], [-2.5785, 2.2146, 1.19, 0.65], [-2.6386, -1.3496, 1.04, 0.51], [-1.5809, -1.7508, 1.42, 0.87], [1.3148, 1.7514, 1.17, 1.34], [-2.8938, -2.2717, 1.23, 1.48], [-2.1621, 2.8099, 1.0, 0.63], [0.3539, 1.6473, 1.08, 1.04], [2.0085, 0.3123, 0.97, 0.56], [-0.8291, 1.1364, 0.76, 0.93], [-1.3328, -2.3489, 1.24, 0.58], [0.8369, 2.0656, 0.86, 0.63], [0.2955, -0.2526, 0.73, 1.46], [-2.9702, -2.1923, 0.63, 1.18], [1.3909, 0.8997, 0.97, 1.13], [0.6004, 1.8092, 1.07, 0.6], [-0.6841, -0.0343, 0.74, 1.39], [1.4009, 1.6792, 1.42, 0.72], [-0.2867, -0.0532, 1.16, 1.08], [-2.5266, 0.6843, 0.6, 1.02], [-2.3867, -0.2184, 0.92, 1.08], [-1.2544, 2.8003, 1.39, 1.27], [2.0401, 2.3565, 1.46, 0.84], [-1.9444, 1.9714, 1.45, 0.6], [-0.8579, -2.7218, 1.29, 1.46], [-0.2304, 0.4, 1.37, 1.32], [2.2927, -2.873, 0.72, 0.96], [1.3261, -0.3426, 1.46, 0.98], [1.1638, -0.8134, 1.03, 1.14], [0.7633, -2.652, 1.01, 0.61], [-0.5096, -1.8655, 0.78, 1.09], [0.8476, -2.0163, 1.31, 0.76], [-1.9213, 1.4402, 0.61, 1.01], [-0.6808, 2.6653, 1.14, 0.63], [-0.811, -2.0335, 0.81, 1.05], [0.3588, -2.7188, 1.16, 1.35], [-0.0573, -1.1168, 1.39, 1.27]]\n"
     ]
    }
   ],
   "source": [
    "# BLOCO 3: TESTANDO A FUNÇÃO ACIMA\n",
    "pop_teste = initPop()\n",
    "print(pop_teste)"
   ]
  },
  {
   "cell_type": "code",
   "execution_count": 47,
   "metadata": {},
   "outputs": [],
   "source": [
    "# BLOCO 4: GERANDO O FITNESS DO INDIVIDUO\n",
    "def fitness(individuo):  \n",
    "    individuo_pos = [individuo[0], individuo[1]]\n",
    "    individuo_array = np.array(individuo_pos)                                           #cria um array para armazenar o individuo\n",
    "    f_de_x = peaks(individuo_array)                                             #calcula o f(x) do individuo apartir da função rastringin\n",
    "    distancia = abs(minimum_global) + f_de_x                                        #calcula a distancia f(s) do individuo até o  f(x) do minimo global\n",
    "    return distancia"
   ]
  },
  {
   "cell_type": "code",
   "execution_count": 48,
   "metadata": {},
   "outputs": [
    {
     "name": "stdout",
     "output_type": "stream",
     "text": [
      "3.735510176129852\n"
     ]
    }
   ],
   "source": [
    "# BLOCO 5: TESTANDO A FUNÇÃO ACIMA\n",
    "fitness_teste = fitness(pop_teste[0])\n",
    "print(fitness_teste)"
   ]
  },
  {
   "cell_type": "code",
   "execution_count": 49,
   "metadata": {},
   "outputs": [],
   "source": [
    "# BLOCO 6: GERANDO LISTA DE POP_FITNESS DA POPULAÇÃO\n",
    "def popfitness(pop):\n",
    "    pop_fitness = []                                                                #cria uma lista para armazenar o fitness da população   \n",
    "    for c in range(0,N):                                                            #laço para analisar os N individuos\n",
    "        fitness_ind = fitness(pop[c])                                               #calcula o fitness de cada individuo\n",
    "        pop_fitness.append(fitness_ind)                                             #coloca o fitness na lista\n",
    "    return pop_fitness"
   ]
  },
  {
   "cell_type": "code",
   "execution_count": 50,
   "metadata": {},
   "outputs": [
    {
     "name": "stdout",
     "output_type": "stream",
     "text": [
      "[3.735510176129852, 6.627738311545984, 14.487879839496939, 6.661829550948498, 6.082385779097396, 10.632315609320358, 3.79532768221403, 7.32310477940433, 6.551766687871544, 5.119925591579499, 6.469816415256461, 6.929003054871293, 4.691177892884741, 6.851438956628158, 6.554416869561771, 6.546507542572769, 6.704672900348401, 8.078577947535305, 6.552015717582166, 6.556817144296552, 13.62837548366068, 7.797708193114774, 8.575885135351669, 6.497453093056087, 9.198557767603958, 6.9780879760553844, 6.551806866694346, 8.483054102920574, 11.69657356360591, 7.199981728283562, 7.87637848642948, 8.528120215662534, 6.370884432868127, 6.147339909044557, 6.689873803732612, 6.599845233991859, 6.655146784221734, 6.371621835462291, 7.356941092643013, 6.54938493744671, 9.744832636558499, 7.884685461565534, 5.9124069780244, 3.6609187576523614, 3.8126188683307336, 6.5187881293448555, 7.245418714891219, 5.384637537424313, 5.802573933648224, 4.866506305757034]\n"
     ]
    }
   ],
   "source": [
    "# BLOCO 7: TESTANDO A FUNÇÃO ACIMA\n",
    "pop_fitness = popfitness(pop_teste)\n",
    "print(pop_fitness)"
   ]
  },
  {
   "cell_type": "code",
   "execution_count": 51,
   "metadata": {},
   "outputs": [],
   "source": [
    "#BLOCO 8: CALCULANDO O F_DE_X DE UM INDIVIDUO\n",
    "def calcula_f_de_x(individuo):\n",
    "    individuo_pos = [individuo[0], individuo[1]]\n",
    "    ar = np.array(individuo_pos)\n",
    "    return float(\"{:.4f}\".format(peaks(ar)))"
   ]
  },
  {
   "cell_type": "code",
   "execution_count": 52,
   "metadata": {},
   "outputs": [
    {
     "name": "stdout",
     "output_type": "stream",
     "text": [
      "-2.8156\n"
     ]
    }
   ],
   "source": [
    "# BLOCO 9: TESTANDO A FUNÇÃO ACIMA\n",
    "f_de_x_teste = calcula_f_de_x(pop_teste[0])\n",
    "print(f_de_x_teste)"
   ]
  },
  {
   "cell_type": "code",
   "execution_count": 53,
   "metadata": {},
   "outputs": [],
   "source": [
    "#BLOCO 10: CALCULANDO A NOVA POSIÇÃO DO INDIVÍDUO\n",
    "def calcula_posicao(individuo):\n",
    "    individuo[0] = individuo[0] + individuo[2]\n",
    "    individuo[1] = individuo[1] + individuo[3]\n",
    "    return individuo"
   ]
  },
  {
   "cell_type": "code",
   "execution_count": 54,
   "metadata": {},
   "outputs": [
    {
     "name": "stdout",
     "output_type": "stream",
     "text": [
      "{0.7299, -1.491}\n",
      "Melhor indivíduo inicial: [0.7299, -1.491, 0.5, 0.72]; Minímo da população: -4.4297\n",
      "vez {t} min_pop =  -5.4656\n",
      "vez {t} min_pop =  -5.19\n",
      "vez {t} min_pop =  -6.0904\n",
      "vez {t} min_pop =  -6.5094\n",
      "vez {t} min_pop =  -6.4431\n",
      "vez {t} min_pop =  -6.4764\n",
      "vez {t} min_pop =  -6.5365\n",
      "vez {t} min_pop =  -6.5464\n",
      "vez {t} min_pop =  -6.5509\n",
      "vez {t} min_pop =  -6.5502\n",
      "vez {t} min_pop =  -6.5497\n",
      "vez {t} min_pop =  -6.551\n",
      "vez {t} min_pop =  -6.5511\n",
      "GERAÇAO:  14\n",
      "Posição do melhor indivíduo final: [0.226, -1.627]; \n",
      "\n",
      "Velocidade do melhor indivíduo final: [0.007, 0.039]; \n",
      "\n",
      "Minímo da população: -6.5511 \n",
      "\n"
     ]
    }
   ],
   "source": [
    "#BLOCO 10: BLOCO PRINCIPAL\n",
    "\n",
    "## inicialização da população\n",
    "pop = initPop()                                                                                         #cria a população inicial\n",
    "pop_fitness = popfitness(pop)                                                                           #analisa o fitness da população\n",
    "best = min(pop_fitness)                                                                                 #descobre o melhor fitness da população inicial\n",
    "pos_best = pop_fitness.index(best)                                                                      #descobre a posição do melhor individuo\n",
    "min_pop = calcula_f_de_x(pop[pos_best])   #calcula o f(x) do melhor individuo\n",
    "pbest = []      #lista para armazenar os pbest de cada particula\n",
    "bests = []\n",
    "individuo_best = []\n",
    "for c in range (0,N):\n",
    "    individuo_best.append(pop[c][0])\n",
    "    individuo_best.append(pop[c][1])\n",
    "    individuo_best.append(calcula_f_de_x(pop[c]))\n",
    "    pbest.append(calcula_f_de_x(pop[c]))\n",
    "    bests.append(individuo_best[:])\n",
    "    individuo_best.clear()\n",
    "t = 1                                                                                                   #contador de gerações                          \n",
    "pg = []\n",
    "pg.append(pop[pos_best][0])\n",
    "pg.append(pop[pos_best][1])\n",
    "print({pg[0], pg[1]})\n",
    "print(f'Melhor indivíduo inicial: {pop[pos_best]}; Minímo da população: {min_pop}')\n",
    "while min_pop != minimum_global and t != 100:                                                                        #laço até encontrar a solução perfeita\n",
    "    individuo = []                                                                                      #lista para armazenar os individuos que serão gerados\n",
    "    for c in range(0,N):                                                                                #laço para gerar a população mutante\n",
    "        if(calcula_f_de_x(pop[c]) < bests[c][2]):\n",
    "            bests[c][0] = pop[c][0]\n",
    "            bests[c][1] = pop[c][1]\n",
    "            bests[c][2] = calcula_f_de_x(pop[c])\n",
    "            pbest[c] = calcula_f_de_x(pop[c])\n",
    "        best = min(pbest)                                                                             #descobre o melhor fitness da geração\n",
    "        pos_best = pbest.index(best)                                                                  #descobre a posição do mlehor individuo\n",
    "        pg[0] = bests[pos_best][0]\n",
    "        pg[1] = bests[pos_best][1]\n",
    "        individuo.append(pop[c][0])\n",
    "        individuo.append(pop[c][1])                                                                        \n",
    "        for d in range(2,4):             #laço para ambas dimensoes do problema\n",
    "            P1 = rd.random()\n",
    "            P2 = rd.random()\n",
    "            t1 = P1*C1\n",
    "            t2 = P2*C2\n",
    "            velocidade = W*pop[c][d] + t1*(bests[c][d-2] - individuo[d-2]) + t2*(pg[d-2] - individuo[d-2])\n",
    "            individuo.append(velocidade)\n",
    "            if(individuo[d]>vmax):\n",
    "                individuo[d] = vmax\n",
    "            \n",
    "        individuo = calcula_posicao(individuo)\n",
    "        pop[c] = individuo[:]\n",
    "        individuo.clear()\n",
    "     \n",
    "    pop_fitness = popfitness(pop)                                                                       #calcula o fitness da população\n",
    "    best = min(pop_fitness)                                                                             #descobre o melhor fitness da geração\n",
    "    pos_best = pop_fitness.index(best)                                                                  #descobre a posição do mlehor individuo\n",
    "    min_pop = calcula_f_de_x(pop[pos_best])                                                             #descobre o f(x) do melhor individuo\n",
    "    t = t + 1                                                                                           #incrementa a geração\n",
    "    print('vez {t} min_pop = ', min_pop)  \n",
    "                                                                                                                                    \n",
    "print('GERAÇAO: ', t)                                                               \n",
    "pop[pos_best][0] = float(\"{:.3f}\".format(pop[pos_best][0]))\n",
    "pop[pos_best][1] = float(\"{:.3f}\".format(pop[pos_best][1]))\n",
    "pop[pos_best][2] = float(\"{:.3f}\".format(pop[pos_best][2]))\n",
    "pop[pos_best][3] = float(\"{:.3f}\".format(pop[pos_best][3]))\n",
    "print(f'Posição do melhor indivíduo final: [{pop[pos_best][0]}, {pop[pos_best][1]}]; \\n')\n",
    "print(f'Velocidade do melhor indivíduo final: [{pop[pos_best][2]}, {pop[pos_best][3]}]; \\n')\n",
    "print(f'Minímo da população: {min_pop} \\n')"
   ]
  },
  {
   "cell_type": "markdown",
   "metadata": {},
   "source": [
    "# **RELATÓRIO EVOLUÇÃO DIFERENCIAL - FUNÇÃO RASTRINGIN**\n",
    "### Aluno 1: Vando Carlos Diniz Reis - 2019057195 \n",
    "### Aluno 2: Rafael Moura Marques - 2019089305\n",
    "---\n",
    "# *_IMPLEMENTAÇÃO_*: \n",
    "\n",
    "A implementação deste algoritmo foi igual a usada no código anterior. As únicas diferenças foram usar a função rastringin no lugar da função peaks para calcular o fitness de um indivíduo, e alterar o limite dos valores disponiveis de x1 e x2 para -2 a 2. \n",
    "\n",
    "# _*ANÁLISE DOS RESULTADOS*_: \n",
    "\n",
    "### <ins>Eficiência:</ins>\n",
    "\n",
    "Para testarmos o funcionamento e a eficiência da função Rastringin, decidimos simular o código 100 vezes para calcular o número médio de gerações que o algoritmo encontrava a solução desejada. No final, a média encontrada foi de 49,31 gerações.\n",
    "\n",
    "<img src=rastringin.jpeg alt=\"Rastrngin\" width=\"800\"/>\n",
    "\n",
    "Reparamos também que independente da melhor solução inicial gerada, próxima do minímo global ou não, não houve uma grande variação no número de gerações para obtermos a solução desejada. Acreditamos que isso acontece porque no início do processo de otimazação temos muitos vetores-diferenças disponíveis, logo o algoritmo explora a maioria deles até descobrir os melhores, o que custa algumas gerações. Com o passar das gerações, os possíveis vetores-diferenças acabam ficando mais próximos e uniformes até convergirem para o resultado desejado. \n",
    "\n",
    "\n",
    "\n",
    "\n"
   ]
  }
 ],
 "metadata": {
  "kernelspec": {
   "display_name": "Python 3",
   "language": "python",
   "name": "python3"
  },
  "language_info": {
   "codemirror_mode": {
    "name": "ipython",
    "version": 3
   },
   "file_extension": ".py",
   "mimetype": "text/x-python",
   "name": "python",
   "nbconvert_exporter": "python",
   "pygments_lexer": "ipython3",
   "version": "3.10.0"
  }
 },
 "nbformat": 4,
 "nbformat_minor": 4
}
