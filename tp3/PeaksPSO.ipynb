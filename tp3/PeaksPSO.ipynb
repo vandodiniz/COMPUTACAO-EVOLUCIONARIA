{
 "cells": [
  {
   "cell_type": "code",
   "execution_count": 14,
   "metadata": {},
   "outputs": [],
   "source": [
    "#BLOCO 1: \n",
    "import numpy as np\n",
    "from itertools import product\n",
    "import matplotlib.pyplot as plt\n",
    "from mpl_toolkits.mplot3d import Axes3D\n",
    "import random as rd\n",
    "\n",
    "N = 50\n",
    "minimum_global = -6.5511\n",
    "F = 0.8\n",
    "C = 0.7\n",
    "C1 = 1\n",
    "C2 = 1\n",
    "W = 0.5\n",
    "vmax = 1\n"
   ]
  },
  {
   "cell_type": "markdown",
   "metadata": {},
   "source": [
    "---\n",
    "<h3> Rastrigin Function </h3>"
   ]
  },
  {
   "cell_type": "code",
   "execution_count": 15,
   "metadata": {},
   "outputs": [],
   "source": [
    "def peaks(x): # objective function\n",
    "    x = x.T\n",
    "    F = 3*(1-x[0])**2 * np.exp(-(x[0]**2) - (x[1]+1)**2) - 10*(x[0]/5 - x[0]**3 - x[1]**5) * np.exp(-x[0]**2-x[1]**2) - 1/3*np.exp(-(x[0]+1)**2 - x[1]**2)\n",
    "    return F"
   ]
  },
  {
   "cell_type": "code",
   "execution_count": 16,
   "metadata": {},
   "outputs": [
    {
     "data": {
      "text/plain": [
       "\"x1 = x2 = np.linspace(-3, 3, 150)\\nx_p = np.array(list(product(x1,x2)))\\n\\n\\nfont_labels = {'fontsize': 14, 'fontweight': 150}\\n\\nfig = plt.figure(figsize=(12,8))\\nax = Axes3D(fig)\\nax.set_title('Função Rastrigin', fontdict={'fontsize':15})\\nax.set_xlabel('X1', fontdict=font_labels)\\nax.set_ylabel('X2', fontdict=font_labels)\\nax.set_zlabel('peaks(X1, X2)', fontdict=font_labels)\\nsurf = ax.plot_trisurf(x_p[:, 0], x_p[:, 1], [rastrigin(x_) for x_ in x_p], linewidth=0.1, color='orange')\\nplt.show()\""
      ]
     },
     "execution_count": 16,
     "metadata": {},
     "output_type": "execute_result"
    }
   ],
   "source": [
    "'''x1 = x2 = np.linspace(-3, 3, 150)\n",
    "x_p = np.array(list(product(x1,x2)))\n",
    "\n",
    "\n",
    "font_labels = {'fontsize': 14, 'fontweight': 150}\n",
    "\n",
    "fig = plt.figure(figsize=(12,8))\n",
    "ax = Axes3D(fig)\n",
    "ax.set_title('Função Rastrigin', fontdict={'fontsize':15})\n",
    "ax.set_xlabel('X1', fontdict=font_labels)\n",
    "ax.set_ylabel('X2', fontdict=font_labels)\n",
    "ax.set_zlabel('peaks(X1, X2)', fontdict=font_labels)\n",
    "surf = ax.plot_trisurf(x_p[:, 0], x_p[:, 1], [rastrigin(x_) for x_ in x_p], linewidth=0.1, color='orange')\n",
    "plt.show()'''"
   ]
  },
  {
   "cell_type": "markdown",
   "metadata": {},
   "source": [
    "---\n",
    "# IMPLEMENTAÇÃO\n"
   ]
  },
  {
   "cell_type": "code",
   "execution_count": 17,
   "metadata": {},
   "outputs": [],
   "source": [
    "# BLOCO 2: GERANDO A POPULAÇÃO INICIAL\n",
    "def initPop():\n",
    "    pop = []                                                         # lista para armazenar a população\n",
    "    individuo = []                                                   # lista para armazenar um individuo\n",
    "    for c in range(0,N):                                             # laço para gerar os N indivíduos\n",
    "        individuo.append(float(\"{:.4f}\".format(rd.uniform(-2,2))))   # gera a coordenada x1 pro individuo\n",
    "        individuo.append(float(\"{:.4f}\".format(rd.uniform(-2,2))))  # gera a coordenada x2 pro individuo\n",
    "        individuo.append(float(\"{:.2f}\".format(rd.uniform(-vmax,vmax))))  # gera a velocidade v2 pro individuo\n",
    "        individuo.append(float(\"{:.2f}\".format(rd.uniform(-vmax,vmax))))  # gera a velocidade v2 pro individuo\n",
    "        pop.append(individuo[:])                                     # adiciona o individuo na população\n",
    "        individuo.clear()                                            # limpa a lista\n",
    "\n",
    "    return pop"
   ]
  },
  {
   "cell_type": "code",
   "execution_count": 18,
   "metadata": {},
   "outputs": [
    {
     "name": "stdout",
     "output_type": "stream",
     "text": [
      "[[1.626, 0.8237, -0.56, -0.46], [1.9404, -1.7873, 0.16, -0.13], [-0.6256, 1.4222, 0.57, -0.93], [0.7021, -1.2905, -0.11, -0.74], [1.6596, 1.8107, -0.58, -0.11], [1.1157, -0.7719, 0.79, -0.23], [-0.5693, 1.8841, -0.57, -0.02], [0.5639, 1.5693, -0.1, 0.29], [-0.2083, 0.1122, -0.45, -0.7], [-1.5907, -0.8017, -0.57, -0.42], [0.724, -0.8325, 0.19, 0.36], [0.8563, -1.9914, -0.42, 0.89], [1.6671, 1.9258, -0.43, -0.65], [-1.8891, 0.5157, 0.94, 0.27], [-1.8533, 1.3353, -0.08, -0.5], [-0.0794, 1.3214, 0.89, 0.1], [1.4877, 1.5045, -0.55, -0.66], [0.7034, 1.0421, -0.46, -0.94], [-1.7365, -0.8757, -0.06, -0.41], [-0.7421, -1.8983, -0.36, -0.94], [1.9239, 0.6535, -0.05, 0.78], [1.2262, -1.5545, 0.85, -0.21], [-1.973, 1.4029, -0.3, -0.55], [-0.1762, -1.7294, -0.27, 0.53], [-1.6534, 0.121, 0.15, 0.11], [-0.9801, -0.7147, 0.93, -0.17], [-0.9847, 0.2265, -0.22, -0.01], [-1.014, 1.8236, 0.9, -0.07], [-0.2143, 1.0009, -0.52, -0.42], [1.6756, 1.1492, -0.88, -0.39], [-1.5986, -0.0736, 0.36, -0.75], [1.1963, -0.5782, 0.63, 0.61], [0.1817, -0.8117, -0.46, 1.0], [-1.4553, 0.6248, -0.36, -0.39], [-0.0002, 0.7163, 0.68, -0.62], [-1.773, -0.3837, 0.92, 0.66], [-0.3732, -1.8768, -0.71, 0.77], [-1.6171, -1.9882, -0.14, 0.69], [-0.8538, 1.5926, -0.96, -0.06], [-0.5005, 0.451, 0.53, 0.15], [0.6779, -0.8343, 0.49, -0.52], [-1.4901, -1.8997, 0.41, 0.34], [-0.4234, 1.9059, -0.81, 0.16], [0.8988, 1.3828, -0.75, 0.36], [1.6411, 0.3, -0.21, -0.8], [-1.028, -1.6668, -0.49, 0.79], [-0.1514, 0.0772, -0.86, -0.27], [0.0456, 0.4465, -0.05, 0.89], [-0.3844, 0.8029, -0.59, -0.04], [-1.7642, -1.5664, -0.19, 0.21]]\n"
     ]
    }
   ],
   "source": [
    "# BLOCO 3: TESTANDO A FUNÇÃO ACIMA\n",
    "pop_teste = initPop()\n",
    "print(pop_teste)"
   ]
  },
  {
   "cell_type": "code",
   "execution_count": null,
   "metadata": {},
   "outputs": [],
   "source": []
  },
  {
   "cell_type": "code",
   "execution_count": 19,
   "metadata": {},
   "outputs": [],
   "source": [
    "# BLOCO 4: GERANDO O FITNESS DO INDIVIDUO\n",
    "def fitness(individuo):  \n",
    "    individuo_pos = [individuo[0], individuo[1]]\n",
    "    individuo_array = np.array(individuo_pos)                                           #cria um array para armazenar o individuo\n",
    "    f_de_x = peaks(individuo_array)                                             #calcula o f(x) do individuo apartir da função rastringin\n",
    "    distancia = abs(minimum_global) + f_de_x                                        #calcula a distancia f(s) do individuo até o  f(x) do minimo global\n",
    "    return distancia"
   ]
  },
  {
   "cell_type": "code",
   "execution_count": 20,
   "metadata": {},
   "outputs": [
    {
     "name": "stdout",
     "output_type": "stream",
     "text": [
      "8.12393115190993\n"
     ]
    }
   ],
   "source": [
    "# BLOCO 5: TESTANDO A FUNÇÃO ACIMA\n",
    "fitness_teste = fitness(pop_teste[0])\n",
    "print(fitness_teste)"
   ]
  },
  {
   "cell_type": "code",
   "execution_count": 21,
   "metadata": {},
   "outputs": [],
   "source": [
    "# BLOCO 6: GERANDO LISTA DE POP_FITNESS DA POPULAÇÃO\n",
    "def popfitness(pop):\n",
    "    pop_fitness = []                                                                #cria uma lista para armazenar o fitness da população   \n",
    "    for c in range(0,N):                                                            #laço para analisar os N individuos\n",
    "        fitness_ind = fitness(pop[c])                                               #calcula o fitness de cada individuo\n",
    "        pop_fitness.append(fitness_ind)                                             #coloca o fitness na lista\n",
    "    return pop_fitness"
   ]
  },
  {
   "cell_type": "code",
   "execution_count": 22,
   "metadata": {},
   "outputs": [
    {
     "name": "stdout",
     "output_type": "stream",
     "text": [
      "[8.12393115190993, 6.476675429642175, 11.625646353958036, 2.8000392786477337, 7.119641630748224, 7.97518740909864, 11.462541925931731, 12.491011716178113, 7.901190320650462, 6.278090283850849, 6.185142900501771, 3.7520937993219037, 7.019613346617757, 5.138896418737034, 6.432583885026479, 13.552846035657453, 7.768165641807787, 9.503682994388127, 6.31504546766786, 4.97457482588319, 7.659434913857067, 5.092163390684606, 6.481961704911297, 1.38533502758572, 4.044899194321477, 8.36059667095486, 4.50203654235297, 9.025939356537519, 10.201146777376183, 7.578672358056169, 4.078056519857943, 8.981850681290322, 6.468400961707163, 4.328280834612147, 7.764532750215279, 5.127484935160538, 2.8497123110256073, 6.621681229047258, 10.27091734935531, 6.937528737517497, 6.013662977852064, 6.626903619872817, 12.108012551205114, 10.240333619441397, 9.097950574711824, 6.310287956554456, 7.868417878081332, 6.867378868774669, 8.225137619478454, 6.717790355722163]\n"
     ]
    }
   ],
   "source": [
    "# BLOCO 7: TESTANDO A FUNÇÃO ACIMA\n",
    "pop_fitness = popfitness(pop_teste)\n",
    "print(pop_fitness)"
   ]
  },
  {
   "cell_type": "code",
   "execution_count": 23,
   "metadata": {},
   "outputs": [],
   "source": [
    "#BLOCO 8: CALCULANDO O F_DE_X DE UM INDIVIDUO\n",
    "def calcula_f_de_x(individuo):\n",
    "    individuo_pos = [individuo[0], individuo[1]]\n",
    "    ar = np.array(individuo_pos)\n",
    "    return float(\"{:.4f}\".format(peaks(ar)))"
   ]
  },
  {
   "cell_type": "code",
   "execution_count": 24,
   "metadata": {},
   "outputs": [
    {
     "name": "stdout",
     "output_type": "stream",
     "text": [
      "1.5728\n"
     ]
    }
   ],
   "source": [
    "# BLOCO 9: TESTANDO A FUNÇÃO ACIMA\n",
    "f_de_x_teste = calcula_f_de_x(pop_teste[0])\n",
    "print(f_de_x_teste)"
   ]
  },
  {
   "cell_type": "code",
   "execution_count": 25,
   "metadata": {},
   "outputs": [],
   "source": [
    "#BLOCO 10: CALCULANDO A NOVA POSIÇÃO DO INDIVÍDUO\n",
    "def calcula_posicao(individuo):\n",
    "    individuo[0] = individuo[0] + individuo[2]\n",
    "    individuo[1] = individuo[1] + individuo[3]\n",
    "    return individuo"
   ]
  },
  {
   "cell_type": "code",
   "execution_count": 26,
   "metadata": {},
   "outputs": [
    {
     "name": "stdout",
     "output_type": "stream",
     "text": [
      "{0.2216, -1.8472}\n",
      "Melhor indivíduo inicial: [0.2216, -1.8472, -0.99, -0.74]; Minímo da população: -5.9197\n",
      "vez {t} min_pop =  -6.4345\n",
      "vez {t} min_pop =  -6.4631\n",
      "vez {t} min_pop =  -6.4213\n",
      "vez {t} min_pop =  -6.5469\n",
      "vez {t} min_pop =  -6.544\n",
      "vez {t} min_pop =  -6.5368\n",
      "vez {t} min_pop =  -6.5505\n",
      "vez {t} min_pop =  -6.5496\n",
      "vez {t} min_pop =  -6.551\n",
      "vez {t} min_pop =  -6.551\n",
      "vez {t} min_pop =  -6.551\n",
      "vez {t} min_pop =  -6.551\n",
      "vez {t} min_pop =  -6.5511\n",
      "GERAÇAO:  14\n",
      "Posição do melhor indivíduo final: [0.228, -1.625]; \n",
      "\n",
      "Velocidade do melhor indivíduo final: [0.005, 0.006]; \n",
      "\n",
      "Minímo da população: -6.5511 \n",
      "\n"
     ]
    }
   ],
   "source": [
    "#BLOCO 10: BLOCO PRINCIPAL\n",
    "\n",
    "## inicialização da população\n",
    "pop = initPop()                                                                                         #cria a população inicial\n",
    "pop_fitness = popfitness(pop)                                                                           #analisa o fitness da população\n",
    "best = min(pop_fitness)                                                                                 #descobre o melhor fitness da população inicial\n",
    "pos_best = pop_fitness.index(best)                                                                      #descobre a posição do melhor individuo\n",
    "min_pop = calcula_f_de_x(pop[pos_best])   #calcula o f(x) do melhor individuo\n",
    "pbest = []      #lista para armazenar os pbest de cada particula\n",
    "bests = []\n",
    "individuo_best = []\n",
    "for c in range (0,N):\n",
    "    individuo_best.append(pop[c][0])\n",
    "    individuo_best.append(pop[c][1])\n",
    "    individuo_best.append(calcula_f_de_x(pop[c]))\n",
    "    pbest.append(calcula_f_de_x(pop[c]))\n",
    "    bests.append(individuo_best[:])\n",
    "    individuo_best.clear()\n",
    "t = 1                                                                                                   #contador de gerações                          \n",
    "pg = []\n",
    "pg.append(pop[pos_best][0])\n",
    "pg.append(pop[pos_best][1])\n",
    "print({pg[0], pg[1]})\n",
    "print(f'Melhor indivíduo inicial: {pop[pos_best]}; Minímo da população: {min_pop}')\n",
    "while min_pop != minimum_global and t != 100:                                                                        #laço até encontrar a solução perfeita\n",
    "    individuo = []                                                                                      #lista para armazenar os individuos que serão gerados\n",
    "    for c in range(0,N):                                                                                #laço para gerar a população mutante\n",
    "        if(calcula_f_de_x(pop[c]) < bests[c][2]):\n",
    "            bests[c][0] = pop[c][0]\n",
    "            bests[c][1] = pop[c][1]\n",
    "            bests[c][2] = calcula_f_de_x(pop[c])\n",
    "            pbest[c] = calcula_f_de_x(pop[c])\n",
    "        best = min(pbest)                                                                             #descobre o melhor fitness da geração\n",
    "        pos_best = pbest.index(best)                                                                  #descobre a posição do mlehor individuo\n",
    "        pg[0] = bests[pos_best][0]\n",
    "        pg[1] = bests[pos_best][1]\n",
    "        individuo.append(pop[c][0])\n",
    "        individuo.append(pop[c][1])                                                                        \n",
    "        for d in range(2,4):             #laço para ambas dimensoes do problema\n",
    "            P1 = rd.random()\n",
    "            P2 = rd.random()\n",
    "            t1 = P1*C1\n",
    "            t2 = P2*C2\n",
    "            velocidade = W*pop[c][d] + t1*(bests[c][d-2] - individuo[d-2]) + t2*(pg[d-2] - individuo[d-2])\n",
    "            individuo.append(velocidade)\n",
    "            if(individuo[d]>vmax):\n",
    "                individuo[d] = vmax\n",
    "            \n",
    "        individuo = calcula_posicao(individuo)\n",
    "        pop[c] = individuo[:]\n",
    "        individuo.clear()\n",
    "     \n",
    "    pop_fitness = popfitness(pop)                                                                       #calcula o fitness da população\n",
    "    best = min(pop_fitness)                                                                             #descobre o melhor fitness da geração\n",
    "    pos_best = pop_fitness.index(best)                                                                  #descobre a posição do mlehor individuo\n",
    "    min_pop = calcula_f_de_x(pop[pos_best])                                                             #descobre o f(x) do melhor individuo\n",
    "    t = t + 1                                                                                           #incrementa a geração\n",
    "    print('vez {t} min_pop = ', min_pop)  \n",
    "                                                                                                                                    \n",
    "print('GERAÇAO: ', t)                                                               \n",
    "pop[pos_best][0] = float(\"{:.3f}\".format(pop[pos_best][0]))\n",
    "pop[pos_best][1] = float(\"{:.3f}\".format(pop[pos_best][1]))\n",
    "pop[pos_best][2] = float(\"{:.3f}\".format(pop[pos_best][2]))\n",
    "pop[pos_best][3] = float(\"{:.3f}\".format(pop[pos_best][3]))\n",
    "print(f'Posição do melhor indivíduo final: [{pop[pos_best][0]}, {pop[pos_best][1]}]; \\n')\n",
    "print(f'Velocidade do melhor indivíduo final: [{pop[pos_best][2]}, {pop[pos_best][3]}]; \\n')\n",
    "print(f'Minímo da população: {min_pop} \\n')"
   ]
  },
  {
   "cell_type": "markdown",
   "metadata": {},
   "source": [
    "# **RELATÓRIO EVOLUÇÃO DIFERENCIAL - FUNÇÃO RASTRINGIN**\n",
    "### Aluno 1: Vando Carlos Diniz Reis - 2019057195 \n",
    "### Aluno 2: Rafael Moura Marques - 2019089305\n",
    "---\n",
    "# *_IMPLEMENTAÇÃO_*: \n",
    "\n",
    "A implementação deste algoritmo foi igual a usada no código anterior. As únicas diferenças foram usar a função rastringin no lugar da função peaks para calcular o fitness de um indivíduo, e alterar o limite dos valores disponiveis de x1 e x2 para -2 a 2. \n",
    "\n",
    "# _*ANÁLISE DOS RESULTADOS*_: \n",
    "\n",
    "### <ins>Eficiência:</ins>\n",
    "\n",
    "Para testarmos o funcionamento e a eficiência da função Rastringin, decidimos simular o código 100 vezes para calcular o número médio de gerações que o algoritmo encontrava a solução desejada. No final, a média encontrada foi de 49,31 gerações.\n",
    "\n",
    "<img src=rastringin.jpeg alt=\"Rastrngin\" width=\"800\"/>\n",
    "\n",
    "Reparamos também que independente da melhor solução inicial gerada, próxima do minímo global ou não, não houve uma grande variação no número de gerações para obtermos a solução desejada. Acreditamos que isso acontece porque no início do processo de otimazação temos muitos vetores-diferenças disponíveis, logo o algoritmo explora a maioria deles até descobrir os melhores, o que custa algumas gerações. Com o passar das gerações, os possíveis vetores-diferenças acabam ficando mais próximos e uniformes até convergirem para o resultado desejado. \n",
    "\n",
    "\n",
    "\n",
    "\n"
   ]
  }
 ],
 "metadata": {
  "kernelspec": {
   "display_name": "Python 3",
   "language": "python",
   "name": "python3"
  },
  "language_info": {
   "codemirror_mode": {
    "name": "ipython",
    "version": 3
   },
   "file_extension": ".py",
   "mimetype": "text/x-python",
   "name": "python",
   "nbconvert_exporter": "python",
   "pygments_lexer": "ipython3",
   "version": "3.10.2"
  }
 },
 "nbformat": 4,
 "nbformat_minor": 4
}
