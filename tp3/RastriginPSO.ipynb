{
 "cells": [
  {
   "cell_type": "code",
   "execution_count": 481,
   "metadata": {},
   "outputs": [],
   "source": [
    "#BLOCO 1: \n",
    "import numpy as np\n",
    "from itertools import product\n",
    "import matplotlib.pyplot as plt\n",
    "from mpl_toolkits.mplot3d import Axes3D\n",
    "import random as rd\n",
    "\n",
    "#propriedades do problema\n",
    "N = 50\n",
    "minimum_global = -20\n",
    "F = 0.8\n",
    "C = 0.7\n",
    "C1 = 1\n",
    "C2 = 1\n",
    "W = 0.5\n",
    "vmax = 1\n"
   ]
  },
  {
   "cell_type": "markdown",
   "metadata": {},
   "source": [
    "---\n",
    "<h3> Rastrigin Function </h3>"
   ]
  },
  {
   "cell_type": "code",
   "execution_count": 482,
   "metadata": {},
   "outputs": [],
   "source": [
    "def rastrigin(x):  # objective function\n",
    "    x = x.reshape(1, -1).T\n",
    "    Q = np.eye(len(x))\n",
    "    X = Q.dot(x)\n",
    "\n",
    "    n = len(X)\n",
    "    F = 0\n",
    "    \n",
    "    for i in range(n):\n",
    "        F = F + X[i]**2 - 10*np.cos(2*np.pi*X[i])\n",
    "    \n",
    "    return F[0]"
   ]
  },
  {
   "cell_type": "code",
   "execution_count": 483,
   "metadata": {},
   "outputs": [
    {
     "data": {
      "text/plain": [
       "\"x1 = x2 = np.linspace(-3, 3, 150)\\nx_p = np.array(list(product(x1,x2)))\\n\\n\\nfont_labels = {'fontsize': 14, 'fontweight': 150}\\n\\nfig = plt.figure(figsize=(12,8))\\nax = Axes3D(fig)\\nax.set_title('Função Rastrigin', fontdict={'fontsize':15})\\nax.set_xlabel('X1', fontdict=font_labels)\\nax.set_ylabel('X2', fontdict=font_labels)\\nax.set_zlabel('peaks(X1, X2)', fontdict=font_labels)\\nsurf = ax.plot_trisurf(x_p[:, 0], x_p[:, 1], [rastrigin(x_) for x_ in x_p], linewidth=0.1, color='orange')\\nplt.show()\""
      ]
     },
     "execution_count": 483,
     "metadata": {},
     "output_type": "execute_result"
    }
   ],
   "source": [
    "'''x1 = x2 = np.linspace(-3, 3, 150)\n",
    "x_p = np.array(list(product(x1,x2)))\n",
    "\n",
    "\n",
    "font_labels = {'fontsize': 14, 'fontweight': 150}\n",
    "\n",
    "fig = plt.figure(figsize=(12,8))\n",
    "ax = Axes3D(fig)\n",
    "ax.set_title('Função Rastrigin', fontdict={'fontsize':15})\n",
    "ax.set_xlabel('X1', fontdict=font_labels)\n",
    "ax.set_ylabel('X2', fontdict=font_labels)\n",
    "ax.set_zlabel('peaks(X1, X2)', fontdict=font_labels)\n",
    "surf = ax.plot_trisurf(x_p[:, 0], x_p[:, 1], [rastrigin(x_) for x_ in x_p], linewidth=0.1, color='orange')\n",
    "plt.show()'''"
   ]
  },
  {
   "cell_type": "markdown",
   "metadata": {},
   "source": [
    "---\n",
    "# IMPLEMENTAÇÃO\n"
   ]
  },
  {
   "cell_type": "code",
   "execution_count": 484,
   "metadata": {},
   "outputs": [],
   "source": [
    "# BLOCO 2: GERANDO A POPULAÇÃO INICIAL\n",
    "def initPop(pop, velocidades):\n",
    "\n",
    "    for c in range(0,N):                                                        # laço para gerar os N indivíduos e suas velocidades\n",
    "        individuo = []                                                              # lista auxiliar para gerar 1 elemento indivíduo\n",
    "        velocidade = []                                                             # lista auxiliar para gerar 1 elemento velocidade\n",
    "        individuo.append(float(\"{:.4f}\".format(rd.uniform(-2,2))))                  # gera a coordenada x1 pro individuo\n",
    "        individuo.append(float(\"{:.4f}\".format(rd.uniform(-2,2))))                  # gera a coordenada x2 pro individuo\n",
    "        velocidade.append(float(\"{:.2f}\".format(rd.uniform(-vmax,vmax))))           # gera a velocidade v2 pro individuo\n",
    "        velocidade.append(float(\"{:.2f}\".format(rd.uniform(-vmax,vmax))))           # gera a velocidade v2 pro individuo\n",
    "        pop.append(individuo[:])                                                    # adiciona o individuo na população\n",
    "        velocidades.append(velocidade[:])\n",
    "        "
   ]
  },
  {
   "cell_type": "code",
   "execution_count": 485,
   "metadata": {},
   "outputs": [
    {
     "name": "stdout",
     "output_type": "stream",
     "text": [
      "população teste: [[1.8045, 1.172], [-1.0494, 0.7671], [1.0118, 1.7104], [-1.1984, 1.4964], [1.9875, -1.6133], [-0.4493, 1.7079], [1.9814, -1.8424], [0.2485, 1.2276], [-1.7653, 1.0877], [-1.9701, -1.5815], [0.061, 1.4039], [1.8455, -0.4094], [0.2609, -1.5399], [-0.1779, 1.2211], [-0.7283, 0.0646], [-1.473, -0.8338], [-0.6365, -1.6722], [-1.8518, 1.3582], [-1.8829, -0.4296], [-1.6546, -1.3386], [0.896, -1.3865], [-1.0604, -1.7526], [0.1576, -0.9053], [-0.8844, -1.7404], [-0.4973, 0.6484], [-0.8411, -1.5778], [-1.1332, -1.3674], [1.0154, 1.2968], [0.1853, 1.9925], [-0.7377, 0.5607], [1.6893, 1.2981], [-0.6728, -0.9904], [-1.441, 1.9022], [-1.3679, 0.0224], [-1.0978, 1.1815], [-1.0402, -1.9957], [0.6016, 1.0079], [1.8565, 1.1613], [0.3454, -1.1218], [1.3966, -0.961], [-1.3381, 1.9422], [-0.6343, 0.4515], [-1.4927, -1.7022], [-0.9941, -1.1198], [1.107, -0.4566], [0.1673, 1.0191], [1.4029, -0.0359], [1.6962, 1.0834], [-1.844, -0.9461], [1.3061, 0.7146]]\n",
      "\n",
      "vetor velocidade: [[0.27, 0.83], [-0.87, -0.43], [-0.06, 0.49], [0.72, -0.52], [-0.89, 0.6], [0.34, -0.43], [-0.3, 0.55], [-0.27, -0.79], [0.81, -0.34], [-0.55, 0.86], [-0.33, 0.42], [-0.31, 0.99], [0.6, 0.1], [0.48, 0.55], [0.62, 0.5], [-0.48, -0.05], [-0.25, -0.44], [-0.37, -0.16], [-0.34, -0.24], [-0.34, -0.51], [-0.25, 0.01], [0.32, 0.75], [0.83, -0.67], [0.5, -0.16], [0.51, 0.46], [-0.55, 0.94], [-0.29, 0.28], [-0.95, -0.57], [0.78, -0.26], [0.89, -0.29], [-0.1, -0.8], [0.66, -0.32], [-0.22, 0.93], [-0.06, -0.09], [-0.39, 0.75], [-0.87, -0.25], [0.99, 0.33], [0.96, -0.45], [-0.51, -0.26], [0.95, 0.44], [0.05, 0.68], [0.16, -0.96], [0.77, -0.88], [0.07, 0.85], [-0.05, 0.26], [0.26, 0.04], [0.95, 0.04], [0.15, -0.67], [-0.21, -0.23], [0.63, -0.5]]\n"
     ]
    }
   ],
   "source": [
    "# BLOCO 3: TESTANDO A FUNÇÃO ACIMA\n",
    "pop_teste = []\n",
    "velocidades_teste = []\n",
    "initPop(pop_teste, velocidades_teste)\n",
    "print(f'população teste: {pop_teste}\\n')\n",
    "print(f'vetor velocidade: {velocidades_teste}')"
   ]
  },
  {
   "cell_type": "code",
   "execution_count": 486,
   "metadata": {},
   "outputs": [],
   "source": [
    "#BLOCO 4: CALCULANDO O F_DE_X DE UM INDIVIDUO\n",
    "def calcula_f_de_x(individuo):                \n",
    "    ar = np.array(individuo)                                    #converte a lista individuo para array\n",
    "    return float(\"{:.4f}\".format(rastrigin(ar)))                #calcula o f(x) do individuo apartir da função rastringin"
   ]
  },
  {
   "cell_type": "code",
   "execution_count": 487,
   "metadata": {},
   "outputs": [
    {
     "name": "stdout",
     "output_type": "stream",
     "text": [
      "-3.435\n"
     ]
    }
   ],
   "source": [
    "# BLOCO 5: TESTANDO A FUNÇÃO ACIMA\n",
    "f_de_x_teste = calcula_f_de_x(pop_teste[0])\n",
    "print(f_de_x_teste)"
   ]
  },
  {
   "cell_type": "code",
   "execution_count": 488,
   "metadata": {},
   "outputs": [],
   "source": [
    "# BLOCO 6: GERANDO LISTA DE POP_FITNESS DA POPULAÇÃO\n",
    "def popfitness(pop):\n",
    "    pop_fitness = []                                                                #cria uma lista para armazenar o fitness da população   \n",
    "    for c in range(0,N):                                                            #laço para analisar os N individuos\n",
    "        fitness_ind = calcula_f_de_x(pop[c])                                            #calcula o fitness de cada individuo\n",
    "        pop_fitness.append(fitness_ind)                                                 #coloca o fitness na lista\n",
    "    return pop_fitness"
   ]
  },
  {
   "cell_type": "code",
   "execution_count": 489,
   "metadata": {},
   "outputs": [
    {
     "name": "stdout",
     "output_type": "stream",
     "text": [
      "[-3.435, -8.9048, -3.5608, 10.4872, 4.155, 15.2302, -8.0964, 0.0717, -5.1803, 5.2757, 0.932, 6.3497, 12.8111, -4.66, -7.2937, 7.696, 14.4395, 5.5916, 5.3542, 15.4549, 2.3484, -5.2558, -12.922, -3.0622, 16.6252, 6.6092, 3.1819, -4.3422, -9.9387, 10.9121, 11.2373, -3.8856, 6.8449, -1.2808, -9.7419, -14.6142, -0.5792, -6.6972, -0.1925, 1.1355, 1.472, 16.7915, 18.0735, -15.0492, 3.2405, -13.827, 0.4187, -1.291, -10.7053, 7.8748]\n"
     ]
    }
   ],
   "source": [
    "# BLOCO 7: TESTANDO A FUNÇÃO ACIMA\n",
    "pop_fitness = popfitness(pop_teste)\n",
    "print(pop_fitness)"
   ]
  },
  {
   "cell_type": "code",
   "execution_count": 490,
   "metadata": {},
   "outputs": [],
   "source": [
    "#BLOCO 8: CALCULANDO A NOVA POSIÇÃO DO INDIVÍDUO\n",
    "def movimentacao(individuo, velocidade):\n",
    "    individuo[0] = individuo[0] + velocidade[0]                 #calcula a posição final do individuo na coordenada x1\n",
    "    individuo[1] = individuo[1] + velocidade[1]                 #calcula a posição final do individuo na coordenada x2\n",
    "    for c in range(0,2):                                        #laço para analisar as suas coordenadas do individuo\n",
    "        if individuo[c] > 2:                                        #confere se houve um extrapolamento positivo da coordenada \n",
    "            reflexao = individuo[c] - 2                                 #em caso positivo, calcula a reflexão \n",
    "            individuo[c] = 2 - reflexao                                 #aplica a reflexão\n",
    "        if individuo[c] < -2:                                       #confere se houve um extrapolamento negativo da coordenada\n",
    "            reflexao = (individuo[c] + 2)                               #em caso positivo, calcula a reflexão\n",
    "            individuo[c] = -2 - reflexao                                #aplica a reflexão\n",
    "\n",
    "    "
   ]
  },
  {
   "cell_type": "code",
   "execution_count": 491,
   "metadata": {},
   "outputs": [
    {
     "name": "stdout",
     "output_type": "stream",
     "text": [
      "Posição inicial: [1.9, -1.4] | Velocidade: [1, -0.7]\n",
      "Posição final: [1.1, -1.9000000000000004]\n",
      "--------------------\n",
      "Posição inicial: [1, -0.5] | Velocidade: [0.5, -0.7]\n",
      "Posição final: [1.5, -1.2]\n"
     ]
    }
   ],
   "source": [
    "# BLOCO 9: TESTANDO A FUNÇÃO ACIMA\n",
    "\n",
    "#COM REFLEXÃO:\n",
    "pos_teste = [1.9, -1.4]\n",
    "velocidade_teste  = [1, -0.7]\n",
    "print(f'Posição inicial: {pos_teste} | Velocidade: {velocidade_teste}')\n",
    "movimentacao(pos_teste, velocidade_teste)\n",
    "print(f'Posição final: {pos_teste}')\n",
    "print('-'*20)\n",
    "\n",
    "#SEM REFLEXAO:\n",
    "pos_teste = [1, -0.5]\n",
    "velocidade_teste  = [0.5, -0.7]\n",
    "print(f'Posição inicial: {pos_teste} | Velocidade: {velocidade_teste}')\n",
    "movimentacao(pos_teste, velocidade_teste)\n",
    "print(f'Posição final: {pos_teste}')\n"
   ]
  },
  {
   "cell_type": "code",
   "execution_count": 492,
   "metadata": {},
   "outputs": [],
   "source": [
    "#BLOCO 10: ATUALIZANDO O W \n",
    "def atualizaW(t):\n",
    "    w = 0.7 - ((0.7-0.3)/15)*t                              # formula para atualizar o W\n",
    "    \n",
    "    if w > 0.7:                                             #se passar do valor maximo, W vira 0.7\n",
    "        w = 0.7\n",
    "    \n",
    "    elif w< 0.3:                                            #se passar do valor minimo, W vira 0.3\n",
    "        w = 0.3\n",
    "    \n",
    "    return w\n",
    "\n"
   ]
  },
  {
   "cell_type": "code",
   "execution_count": 493,
   "metadata": {},
   "outputs": [
    {
     "name": "stdout",
     "output_type": "stream",
     "text": [
      "Melhor indivíduo inicial: [0.0812, 0.1091]; Minímo da população: -16.4491\n",
      "GERAÇAO FINAL:  19\n",
      "Posição do melhor indivíduo final: [-0.001, -0.001]; \n",
      "\n",
      "Minímo da população: -20.0 \n",
      "\n"
     ]
    }
   ],
   "source": [
    "#BLOCO 11: BLOCO PRINCIPAL\n",
    "\n",
    "## inicialização da população\n",
    "pop = []                                                                                                #lista para armazenar a população \n",
    "velocidades = []                                                                                        #lista para armazenar as velocidades\n",
    "pbest = []                                                                                              #lista para armazenar a melhor posição de cada particula\n",
    "minimos = []                                                                                            #lista para armazenar o melhor f(x) de cada particula\n",
    "pg = []                                                                                                 #lista para armazenar a melhor posição já encontrada\n",
    "\n",
    "initPop(pop, velocidades)                                                                               #cria a população e as velocidades iniciais\n",
    "pop_fitness = popfitness(pop)                                                                           #analisa o fitness da população\n",
    "best = min(pop_fitness)                                                                                 #descobre o melhor f(x) da população inicial\n",
    "pos_best = pop_fitness.index(best)                                                                      #descobre a posição do melhor individuo\n",
    "\n",
    "pbest = pop[:]                                                                                          #preenche 'pbest' na geração inicial\n",
    "minimos = pop_fitness[:]                                                                                #preenche 'minimos' na geração inicial\n",
    "\n",
    "pg = (pop[pos_best])                                                                                    #preenche o pg na geração inicial\n",
    "t = 1                                                                                                   #contador de gerações                          \n",
    "\n",
    "print(f'Melhor indivíduo inicial: {pg}; Minímo da população: {best}')\n",
    "\n",
    "while best != minimum_global:                                                                           #laço até encontrar a solução perfeita\n",
    "                                                                                                 \n",
    "    for c in range(0,N):                                                                                #laço que percorre todos os indivíduos\n",
    "        if(calcula_f_de_x(pop[c]) < minimos[c]):                                                            #compara o f(x) de cada individuo da população atual com os da lista minimos\n",
    "            minimos[c] = calcula_f_de_x(pop[c])                                                                 #caso, o individuo da população atual seja melhor, atualiza minimos\n",
    "            pbest[c] = pop[c]                                                                                   #também salva a posição dele em pbest\n",
    "        best = min(minimos)                                                                                 #descobre o melhor f(x) da geração\n",
    "        pos_best = minimos.index(best)                                                                      #descobre a posição do melhor individuo\n",
    "        pg = pbest[pos_best]                                                                                #atualiza pg\n",
    "        \n",
    "        individuo = []\n",
    "        individuo.append(pop[c][0])              \n",
    "        individuo.append(pop[c][1])                                                                         #lista auxiliar para armazenar um individuo da população\n",
    "        for d in range(0,2):                                                                                #laço para ambas dimensoes do problema\n",
    "            P1 = rd.random()\n",
    "            P2 = rd.random()\n",
    "            t1 = P1*C1\n",
    "            t2 = P2*C2\n",
    "            vel = W*velocidades[c][d] + t1*(pbest[c][d] - individuo[d]) + t2*(pg[d] - individuo[d])                 #calcula uma coordenada do vetor velocidade do individuo\n",
    "            if(vel>vmax):                                                                                           #confere se a velocidade eh maior do que a permitida no problema\n",
    "                vel = vmax                                                                                                  #altera a velocidade para o valor máximo, caso positivo\n",
    "            elif(vel<-vmax):                                                                                        #confere se a velocidade eh menor do que a permitida no problema\n",
    "                vel = -vmax                                                                                                 #altera a velocidade para o valor minimo, caso positivo\n",
    "            velocidades[c][d] = vel                                                                                 #atualiza uma coordenada do vetor velocidade do individuo\n",
    "        \n",
    "        movimentacao(individuo, velocidades[c])                                                                     #movimenta o individuo\n",
    "        pop[c] = individuo[:]                                                                                       #atualiza a população\n",
    "\n",
    "    W = atualizaW(t)\n",
    "    t = t + 1                                                                                               #incrementa a geração \n",
    "                                                                                                                                          \n",
    "#formatando o individuo                                                        \n",
    "pop[pos_best][0] = float(\"{:.3f}\".format(pop[pos_best][0]))\n",
    "pop[pos_best][1] = float(\"{:.3f}\".format(pop[pos_best][1]))\n",
    "\n",
    "print('GERAÇAO FINAL: ', t) \n",
    "print(f'Posição do melhor indivíduo final: [{pop[pos_best][0]}, {pop[pos_best][1]}]; \\n')\n",
    "print(f'Minímo da população: {best} \\n')\n",
    "\n"
   ]
  },
  {
   "cell_type": "markdown",
   "metadata": {},
   "source": [
    "# **RELATÓRIO EVOLUÇÃO DIFERENCIAL - FUNÇÃO RASTRINGIN**\n",
    "### Aluno 1: Vando Carlos Diniz Reis - 2019057195 \n",
    "### Aluno 2: Rafael Moura Marques - 2019089305\n",
    "---\n",
    "# *_IMPLEMENTAÇÃO_*: \n",
    "\n",
    "A implementação deste algoritmo foi igual a usada no código anterior. As únicas diferenças foram usar a função rastringin no lugar da função peaks para calcular o fitness de um indivíduo, e alterar o limite dos valores disponiveis de x1 e x2 para -2 a 2. \n",
    "\n",
    "# _*ANÁLISE DOS RESULTADOS*_: \n",
    "\n",
    "### <ins>Eficiência:</ins>\n",
    "\n",
    "Para testarmos o funcionamento e a eficiência da função Rastringin, decidimos simular o código 100 vezes para calcular o número médio de gerações que o algoritmo encontrava a solução desejada. No final, a média encontrada foi de 49,31 gerações.\n",
    "\n",
    "<img src=rastringin.jpeg alt=\"Rastrngin\" width=\"800\"/>\n",
    "\n",
    "Reparamos também que independente da melhor solução inicial gerada, próxima do minímo global ou não, não houve uma grande variação no número de gerações para obtermos a solução desejada. Acreditamos que isso acontece porque no início do processo de otimazação temos muitos vetores-diferenças disponíveis, logo o algoritmo explora a maioria deles até descobrir os melhores, o que custa algumas gerações. Com o passar das gerações, os possíveis vetores-diferenças acabam ficando mais próximos e uniformes até convergirem para o resultado desejado. \n",
    "\n",
    "\n",
    "\n",
    "\n"
   ]
  }
 ],
 "metadata": {
  "kernelspec": {
   "display_name": "Python 3",
   "language": "python",
   "name": "python3"
  },
  "language_info": {
   "codemirror_mode": {
    "name": "ipython",
    "version": 3
   },
   "file_extension": ".py",
   "mimetype": "text/x-python",
   "name": "python",
   "nbconvert_exporter": "python",
   "pygments_lexer": "ipython3",
   "version": "3.10.2"
  }
 },
 "nbformat": 4,
 "nbformat_minor": 4
}
