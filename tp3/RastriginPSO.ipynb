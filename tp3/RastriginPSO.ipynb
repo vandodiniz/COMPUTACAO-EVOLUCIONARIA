{
 "cells": [
  {
   "cell_type": "code",
   "execution_count": 339,
   "metadata": {},
   "outputs": [],
   "source": [
    "#BLOCO 1: \n",
    "import numpy as np\n",
    "from itertools import product\n",
    "import matplotlib.pyplot as plt\n",
    "from mpl_toolkits.mplot3d import Axes3D\n",
    "import random as rd\n",
    "\n",
    "N = 50\n",
    "minimum_global = -20\n",
    "F = 0.8\n",
    "C = 0.7\n",
    "C1 = 1\n",
    "C2 = 1\n",
    "W = 0.5\n",
    "vmax = 1\n"
   ]
  },
  {
   "cell_type": "markdown",
   "metadata": {},
   "source": [
    "---\n",
    "<h3> Rastrigin Function </h3>"
   ]
  },
  {
   "cell_type": "code",
   "execution_count": 340,
   "metadata": {},
   "outputs": [],
   "source": [
    "def rastrigin(x):  # objective function\n",
    "    x = x.reshape(1, -1).T\n",
    "    Q = np.eye(len(x))\n",
    "    X = Q.dot(x)\n",
    "\n",
    "    n = len(X)\n",
    "    F = 0\n",
    "    \n",
    "    for i in range(n):\n",
    "        F = F + X[i]**2 - 10*np.cos(2*np.pi*X[i])\n",
    "    \n",
    "    return F[0]"
   ]
  },
  {
   "cell_type": "code",
   "execution_count": 341,
   "metadata": {},
   "outputs": [
    {
     "data": {
      "text/plain": [
       "\"x1 = x2 = np.linspace(-3, 3, 150)\\nx_p = np.array(list(product(x1,x2)))\\n\\n\\nfont_labels = {'fontsize': 14, 'fontweight': 150}\\n\\nfig = plt.figure(figsize=(12,8))\\nax = Axes3D(fig)\\nax.set_title('Função Rastrigin', fontdict={'fontsize':15})\\nax.set_xlabel('X1', fontdict=font_labels)\\nax.set_ylabel('X2', fontdict=font_labels)\\nax.set_zlabel('peaks(X1, X2)', fontdict=font_labels)\\nsurf = ax.plot_trisurf(x_p[:, 0], x_p[:, 1], [rastrigin(x_) for x_ in x_p], linewidth=0.1, color='orange')\\nplt.show()\""
      ]
     },
     "execution_count": 341,
     "metadata": {},
     "output_type": "execute_result"
    }
   ],
   "source": [
    "'''x1 = x2 = np.linspace(-3, 3, 150)\n",
    "x_p = np.array(list(product(x1,x2)))\n",
    "\n",
    "\n",
    "font_labels = {'fontsize': 14, 'fontweight': 150}\n",
    "\n",
    "fig = plt.figure(figsize=(12,8))\n",
    "ax = Axes3D(fig)\n",
    "ax.set_title('Função Rastrigin', fontdict={'fontsize':15})\n",
    "ax.set_xlabel('X1', fontdict=font_labels)\n",
    "ax.set_ylabel('X2', fontdict=font_labels)\n",
    "ax.set_zlabel('peaks(X1, X2)', fontdict=font_labels)\n",
    "surf = ax.plot_trisurf(x_p[:, 0], x_p[:, 1], [rastrigin(x_) for x_ in x_p], linewidth=0.1, color='orange')\n",
    "plt.show()'''"
   ]
  },
  {
   "cell_type": "markdown",
   "metadata": {},
   "source": [
    "---\n",
    "# IMPLEMENTAÇÃO\n"
   ]
  },
  {
   "cell_type": "code",
   "execution_count": 342,
   "metadata": {},
   "outputs": [],
   "source": [
    "# BLOCO 2: GERANDO A POPULAÇÃO INICIAL\n",
    "def initPop(pop, velocidades):\n",
    "\n",
    "    for c in range(0,N):                                                        # laço para gerar os N indivíduos e suas velocidades\n",
    "        individuo = []                                                          # lista auxiliar para gerar 1 elemento indivíduo\n",
    "        velocidade = []                                                         # lista auxiliar para gerar 1 elemento velocidade\n",
    "        individuo.append(float(\"{:.4f}\".format(rd.uniform(-2,2))))              # gera a coordenada x1 pro individuo\n",
    "        individuo.append(float(\"{:.4f}\".format(rd.uniform(-2,2))))              # gera a coordenada x2 pro individuo\n",
    "        velocidade.append(float(\"{:.2f}\".format(rd.uniform(-vmax,vmax))))       # gera a velocidade v2 pro individuo\n",
    "        velocidade.append(float(\"{:.2f}\".format(rd.uniform(-vmax,vmax))))       # gera a velocidade v2 pro individuo\n",
    "        pop.append(individuo[:])                                                # adiciona o individuo na população\n",
    "        velocidades.append(velocidade[:])\n",
    "        "
   ]
  },
  {
   "cell_type": "code",
   "execution_count": 343,
   "metadata": {},
   "outputs": [
    {
     "name": "stdout",
     "output_type": "stream",
     "text": [
      "população teste: [[0.3862, -1.1899], [-1.7849, 1.141], [1.0589, -0.8053], [0.5299, 1.3934], [-0.9793, -0.7564], [0.466, 1.6586], [-0.3419, 0.5444], [1.029, 1.9616], [1.9667, 1.8117], [1.4617, -0.673], [-1.8407, -1.3343], [-1.3848, 1.8199], [1.6424, -1.8547], [0.7027, -0.1813], [-0.4914, -1.8353], [0.4608, -1.2704], [-0.4783, -1.5138], [0.0083, 0.9715], [-1.2313, -1.5734], [0.9859, 0.9591], [-0.7259, 0.4678], [-0.3467, -1.433], [0.0429, 0.7725], [-0.5919, 1.4859], [0.0373, 0.8574], [0.5787, 1.7009], [1.9242, -0.9104], [-0.5233, -0.5895], [-0.1393, 0.8743], [-0.6159, 0.2309], [-1.8297, -0.4102], [1.9056, -1.3983], [1.0925, -0.0064], [-0.5783, -1.0417], [-1.3032, 0.7854], [1.6308, 0.1623], [1.623, -0.4418], [1.8573, -0.8814], [-1.7206, 0.3558], [1.5884, 1.8642], [-1.6356, -1.0706], [1.8388, -0.8138], [-1.2748, 0.4446], [0.6407, -1.1556], [-1.1488, -1.6092], [1.2613, 0.3401], [-0.1207, -1.9033], [0.035, -1.5055], [1.5137, 0.6555], [-1.0594, 1.9237]]\n",
      "\n",
      "vetor velocidade: [[0.14, 0.07], [0.49, 0.84], [-0.12, 0.7], [-0.06, 0.96], [0.73, 0.82], [-0.28, 0.34], [-0.48, -0.22], [-0.7, 0.11], [0.15, -0.63], [-0.04, 0.79], [-0.02, -0.34], [-0.71, 0.7], [0.38, -0.02], [-0.8, 0.72], [-0.54, -0.14], [0.17, -0.3], [0.41, -0.95], [0.11, 0.29], [-0.73, 0.81], [0.94, -0.54], [-0.54, 0.47], [0.33, -0.57], [0.58, -0.44], [-0.25, -0.94], [-0.22, -0.99], [-0.49, -0.86], [-0.02, -0.34], [-0.19, -0.64], [0.15, 0.02], [-0.37, -0.79], [-0.43, 0.83], [0.33, 0.01], [-0.64, 0.39], [0.65, -0.37], [-0.5, -0.5], [-0.36, 0.03], [0.71, -0.17], [0.94, -0.81], [0.29, 0.32], [0.66, 0.47], [-0.89, 0.33], [-0.34, -0.26], [0.93, -0.04], [-0.97, 0.4], [-0.57, 0.47], [0.95, -0.54], [-0.22, 0.31], [-0.51, 0.54], [-0.41, 0.18], [0.29, -0.51]]\n"
     ]
    }
   ],
   "source": [
    "# BLOCO 3: TESTANDO A FUNÇÃO ACIMA\n",
    "pop_teste = []\n",
    "velocidades_teste = []\n",
    "initPop(pop_teste, velocidades_teste)\n",
    "print(f'população teste: {pop_teste}\\n')\n",
    "print(f'vetor velocidade: {velocidades_teste}')"
   ]
  },
  {
   "cell_type": "code",
   "execution_count": 344,
   "metadata": {},
   "outputs": [],
   "source": [
    "#BLOCO 4: CALCULANDO O F_DE_X DE UM INDIVIDUO\n",
    "def calcula_f_de_x(individuo):                \n",
    "    ar = np.array(individuo)                                    #converte a lista individuo para array\n",
    "    return float(\"{:.4f}\".format(rastrigin(ar)))                #calcula o f(x) do individuo apartir da função rastringin"
   ]
  },
  {
   "cell_type": "code",
   "execution_count": 345,
   "metadata": {},
   "outputs": [
    {
     "name": "stdout",
     "output_type": "stream",
     "text": [
      "5.4287\n"
     ]
    }
   ],
   "source": [
    "# BLOCO 5: TESTANDO A FUNÇÃO ACIMA\n",
    "f_de_x_teste = calcula_f_de_x(pop_teste[0])\n",
    "print(f_de_x_teste)"
   ]
  },
  {
   "cell_type": "code",
   "execution_count": 346,
   "metadata": {},
   "outputs": [],
   "source": [
    "# BLOCO 6: GERANDO LISTA DE POP_FITNESS DA POPULAÇÃO\n",
    "def popfitness(pop):\n",
    "    pop_fitness = []                                                                #cria uma lista para armazenar o fitness da população   \n",
    "    for c in range(0,N):                                                            #laço para analisar os N individuos\n",
    "        fitness_ind = calcula_f_de_x(pop[c])                                               #calcula o fitness de cada individuo\n",
    "        pop_fitness.append(fitness_ind)                                             #coloca o fitness na lista\n",
    "    return pop_fitness"
   ]
  },
  {
   "cell_type": "code",
   "execution_count": 347,
   "metadata": {},
   "outputs": [
    {
     "name": "stdout",
     "output_type": "stream",
     "text": [
      "[5.4287, -4.0133, -10.9583, 19.8859, -8.7864, 18.1731, 15.4853, -14.6381, -6.4121, 16.9528, 4.8257, 8.4704, 6.2806, -0.7287, 8.4886, 12.8027, 22.39, -18.8826, 11.7747, -17.7405, 12.0503, 17.0095, -10.4493, 20.8977, -15.2376, 15.0664, -12.8125, 18.9745, -12.6642, 6.699, 7.1651, 5.3215, -17.1564, 0.5749, 3.39, 4.2589, 19.3275, -9.3658, 11.0925, 7.9196, 1.374, -5.1532, 12.775, 2.4966, 5.7077, 7.7795, -11.8327, 2.5026, 18.2788, -13.3613]\n"
     ]
    }
   ],
   "source": [
    "# BLOCO 7: TESTANDO A FUNÇÃO ACIMA\n",
    "pop_fitness = popfitness(pop_teste)\n",
    "print(pop_fitness)"
   ]
  },
  {
   "cell_type": "code",
   "execution_count": 348,
   "metadata": {},
   "outputs": [],
   "source": [
    "#BLOCO 8: CALCULANDO A NOVA POSIÇÃO DO INDIVÍDUO\n",
    "#def calcula_posicao(individuo, velocidade):\n",
    "def movimentacao(individuo, velocidade):\n",
    "    individuo[0] = individuo[0] + velocidade[0]                 #calcula a posição final do individuo na coordenada x1\n",
    "    individuo[1] = individuo[1] + velocidade[1]                 #calcula a posição final do individuo na coordenada x2\n",
    "    for c in range(0,2):                                        #laço para analisar as suas coordenadas do individuo\n",
    "        if individuo[c] > 2:                                    #confere se houve um extrapolamento positivo da coordenada \n",
    "            reflexao = individuo[c] - 2                             #em caso positivo, calcula a reflexão \n",
    "            individuo[c] = 2 - reflexao                             #aplica a reflexão\n",
    "        if individuo[c] < -2:                                 #confere se houve um extrapolamento negativo da coordenada\n",
    "            reflexao = (individuo[c] + 2)                           #em caso positivo, calcula a reflexão\n",
    "            individuo[c] = -2 - reflexao                            #aplica a reflexão\n",
    "\n",
    "    "
   ]
  },
  {
   "cell_type": "code",
   "execution_count": 349,
   "metadata": {},
   "outputs": [
    {
     "name": "stdout",
     "output_type": "stream",
     "text": [
      "Posição inicial: [1.9, -1.4] | Velocidade: [1, -0.7]\n",
      "Posição final: [1.1, -1.9000000000000004]\n",
      "--------------------\n",
      "Posição inicial: [1, -0.5] | Velocidade: [0.5, -0.7]\n",
      "Posição final: [1.5, -1.2]\n"
     ]
    }
   ],
   "source": [
    "# BLOCO 9: TESTANDO A FUNÇÃO ACIMA\n",
    "\n",
    "#COM REFLEXÃO:\n",
    "pos_teste = [1.9, -1.4]\n",
    "velocidade_teste  = [1, -0.7]\n",
    "print(f'Posição inicial: {pos_teste} | Velocidade: {velocidade_teste}')\n",
    "movimentacao(pos_teste, velocidade_teste)\n",
    "print(f'Posição final: {pos_teste}')\n",
    "print('-'*20)\n",
    "\n",
    "#SEM REFLEXAO:\n",
    "pos_teste = [1, -0.5]\n",
    "velocidade_teste  = [0.5, -0.7]\n",
    "print(f'Posição inicial: {pos_teste} | Velocidade: {velocidade_teste}')\n",
    "movimentacao(pos_teste, velocidade_teste)\n",
    "print(f'Posição final: {pos_teste}')\n"
   ]
  },
  {
   "cell_type": "code",
   "execution_count": 350,
   "metadata": {},
   "outputs": [
    {
     "name": "stdout",
     "output_type": "stream",
     "text": [
      "Melhor indivíduo inicial: 0.0505; Minímo da população: -11.8245\n",
      "GERAÇAO FINAL:  19\n",
      "Posição do melhor indivíduo final: [0.0, -0.006]; \n",
      "\n",
      "Minímo da população: -20.0 \n",
      "\n"
     ]
    }
   ],
   "source": [
    "#BLOCO 10: BLOCO PRINCIPAL\n",
    "\n",
    "## inicialização da população\n",
    "pop = []                                                                                                #lista para armazenar a população \n",
    "velocidades = []                                                                                        #lista para armazenar as velocidades\n",
    "pbest = []                                                                                              #lista para armazenar a melhor posição de cada particula\n",
    "minimos = []                                                                                            #lista para armazenar o melhor f(x) de cada particula\n",
    "pg = []                                                                                                 #lista para armazenar a melhor posição já encontrada\n",
    "\n",
    "initPop(pop, velocidades)                                                                               #cria a população e as velocidades iniciais\n",
    "pop_fitness = popfitness(pop)                                                                           #analisa o fitness da população\n",
    "best = min(pop_fitness)                                                                                 #descobre o melhor f(x) da população inicial\n",
    "pos_best = pop_fitness.index(best)                                                                      #descobre a posição do melhor individuo\n",
    "\n",
    "pbest = pop[:]                                                                                          #preenche 'pbest' na geração inicial\n",
    "minimos = pop_fitness[:]                                                                                #preenche 'minimos' na geração inicial\n",
    "\n",
    "pg = (pop[pos_best])                                                                                    #preenche o pg na geração inicial\n",
    "t = 1                                                                                                   #contador de gerações                          \n",
    "\n",
    "print(f'Melhor indivíduo inicial: {pg[0]}; Minímo da população: {best}')\n",
    "\n",
    "while best != minimum_global and t != 100:                                                                        #laço até encontrar a solução perfeita ou 100 gerações\n",
    "                                                                                                 \n",
    "    for c in range(0,N):                                                                                             #laço que percorre todos os indivíduos\n",
    "        if(calcula_f_de_x(pop[c]) < minimos[c]):                                                                     #compara o f(x) de cada individuo da população atual com os da lista minimos\n",
    "            minimos[c] = calcula_f_de_x(pop[c])                                                                            #caso, o individuo da população atual seja melhor, atualiza minimos\n",
    "            pbest[c] = pop[c]                                                                                           #também salva a posição dele em pbest\n",
    "        best = min(minimos)                                                                                          #descobre o melhor f(x) da geração\n",
    "        pos_best = minimos.index(best)                                                                               #descobre a posição do melhor individuo\n",
    "        pg = pbest[pos_best]                                                                                         #atualiza pg\n",
    "        \n",
    "        individuo = []\n",
    "        individuo.append(pop[c][0])              \n",
    "        individuo.append(pop[c][1])                                                                                      #lista auxiliar para armazenar um individuo da população\n",
    "        for d in range(0,2):                                                                                             #laço para ambas dimensoes do problema\n",
    "            P1 = rd.random()\n",
    "            P2 = rd.random()\n",
    "            t1 = P1*C1\n",
    "            t2 = P2*C2\n",
    "            vel = W*velocidades[c][d] + t1*(pbest[c][d] - individuo[d]) + t2*(pg[d] - individuo[d])                      #calcula uma coordenada do vetor velocidade do individuo\n",
    "            if(vel>vmax):\n",
    "                vel = vmax\n",
    "            elif(vel<-vmax):\n",
    "                vel = -vmax\n",
    "            velocidades[c][d] = vel                                                                                      #atualiza uma coordenada do vetor velocidade do individuo\n",
    "        \n",
    "        movimentacao(individuo, velocidades[c])                                                                #movimenta o individuo\n",
    "        pop[c] = individuo[:]                                                                                            #atualiza a população\n",
    "\n",
    "    t = t + 1                                                                                           #incrementa a geração \n",
    "                                                                                                                                          \n",
    "#formatando o individuo                                                        \n",
    "pop[pos_best][0] = float(\"{:.3f}\".format(pop[pos_best][0]))\n",
    "pop[pos_best][1] = float(\"{:.3f}\".format(pop[pos_best][1]))\n",
    "\n",
    "print('GERAÇAO FINAL: ', t) \n",
    "print(f'Posição do melhor indivíduo final: [{pop[pos_best][0]}, {pop[pos_best][1]}]; \\n')\n",
    "print(f'Minímo da população: {best} \\n')\n",
    "\n"
   ]
  },
  {
   "cell_type": "markdown",
   "metadata": {},
   "source": [
    "# **RELATÓRIO EVOLUÇÃO DIFERENCIAL - FUNÇÃO RASTRINGIN**\n",
    "### Aluno 1: Vando Carlos Diniz Reis - 2019057195 \n",
    "### Aluno 2: Rafael Moura Marques - 2019089305\n",
    "---\n",
    "# *_IMPLEMENTAÇÃO_*: \n",
    "\n",
    "A implementação deste algoritmo foi igual a usada no código anterior. As únicas diferenças foram usar a função rastringin no lugar da função peaks para calcular o fitness de um indivíduo, e alterar o limite dos valores disponiveis de x1 e x2 para -2 a 2. \n",
    "\n",
    "# _*ANÁLISE DOS RESULTADOS*_: \n",
    "\n",
    "### <ins>Eficiência:</ins>\n",
    "\n",
    "Para testarmos o funcionamento e a eficiência da função Rastringin, decidimos simular o código 100 vezes para calcular o número médio de gerações que o algoritmo encontrava a solução desejada. No final, a média encontrada foi de 49,31 gerações.\n",
    "\n",
    "<img src=rastringin.jpeg alt=\"Rastrngin\" width=\"800\"/>\n",
    "\n",
    "Reparamos também que independente da melhor solução inicial gerada, próxima do minímo global ou não, não houve uma grande variação no número de gerações para obtermos a solução desejada. Acreditamos que isso acontece porque no início do processo de otimazação temos muitos vetores-diferenças disponíveis, logo o algoritmo explora a maioria deles até descobrir os melhores, o que custa algumas gerações. Com o passar das gerações, os possíveis vetores-diferenças acabam ficando mais próximos e uniformes até convergirem para o resultado desejado. \n",
    "\n",
    "\n",
    "\n",
    "\n"
   ]
  }
 ],
 "metadata": {
  "kernelspec": {
   "display_name": "Python 3",
   "language": "python",
   "name": "python3"
  },
  "language_info": {
   "codemirror_mode": {
    "name": "ipython",
    "version": 3
   },
   "file_extension": ".py",
   "mimetype": "text/x-python",
   "name": "python",
   "nbconvert_exporter": "python",
   "pygments_lexer": "ipython3",
   "version": "3.10.2"
  }
 },
 "nbformat": 4,
 "nbformat_minor": 4
}
