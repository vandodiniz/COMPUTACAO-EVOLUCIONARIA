{
 "cells": [
  {
   "cell_type": "code",
   "execution_count": 453,
   "metadata": {},
   "outputs": [],
   "source": [
    "#BLOCO 1: \n",
    "import numpy as np\n",
    "from itertools import product\n",
    "import matplotlib.pyplot as plt\n",
    "from mpl_toolkits.mplot3d import Axes3D\n",
    "import random as rd\n",
    "\n",
    "N = 50\n",
    "minimum_global = -20\n",
    "F = 0.8\n",
    "C = 0.7\n",
    "C1 = 1\n",
    "C2 = 1\n",
    "W = 0.5\n",
    "vmax = 1\n"
   ]
  },
  {
   "cell_type": "markdown",
   "metadata": {},
   "source": [
    "---\n",
    "<h3> Rastrigin Function </h3>"
   ]
  },
  {
   "cell_type": "code",
   "execution_count": 454,
   "metadata": {},
   "outputs": [],
   "source": [
    "def rastrigin(x):  # objective function\n",
    "    x = x.reshape(1, -1).T\n",
    "    Q = np.eye(len(x))\n",
    "    X = Q.dot(x)\n",
    "\n",
    "    n = len(X)\n",
    "    F = 0\n",
    "    \n",
    "    for i in range(n):\n",
    "        F = F + X[i]**2 - 10*np.cos(2*np.pi*X[i])\n",
    "    \n",
    "    return F[0]"
   ]
  },
  {
   "cell_type": "code",
   "execution_count": 455,
   "metadata": {},
   "outputs": [
    {
     "data": {
      "text/plain": [
       "\"x1 = x2 = np.linspace(-3, 3, 150)\\nx_p = np.array(list(product(x1,x2)))\\n\\n\\nfont_labels = {'fontsize': 14, 'fontweight': 150}\\n\\nfig = plt.figure(figsize=(12,8))\\nax = Axes3D(fig)\\nax.set_title('Função Rastrigin', fontdict={'fontsize':15})\\nax.set_xlabel('X1', fontdict=font_labels)\\nax.set_ylabel('X2', fontdict=font_labels)\\nax.set_zlabel('peaks(X1, X2)', fontdict=font_labels)\\nsurf = ax.plot_trisurf(x_p[:, 0], x_p[:, 1], [rastrigin(x_) for x_ in x_p], linewidth=0.1, color='orange')\\nplt.show()\""
      ]
     },
     "execution_count": 455,
     "metadata": {},
     "output_type": "execute_result"
    }
   ],
   "source": [
    "'''x1 = x2 = np.linspace(-3, 3, 150)\n",
    "x_p = np.array(list(product(x1,x2)))\n",
    "\n",
    "\n",
    "font_labels = {'fontsize': 14, 'fontweight': 150}\n",
    "\n",
    "fig = plt.figure(figsize=(12,8))\n",
    "ax = Axes3D(fig)\n",
    "ax.set_title('Função Rastrigin', fontdict={'fontsize':15})\n",
    "ax.set_xlabel('X1', fontdict=font_labels)\n",
    "ax.set_ylabel('X2', fontdict=font_labels)\n",
    "ax.set_zlabel('peaks(X1, X2)', fontdict=font_labels)\n",
    "surf = ax.plot_trisurf(x_p[:, 0], x_p[:, 1], [rastrigin(x_) for x_ in x_p], linewidth=0.1, color='orange')\n",
    "plt.show()'''"
   ]
  },
  {
   "cell_type": "markdown",
   "metadata": {},
   "source": [
    "---\n",
    "# IMPLEMENTAÇÃO\n"
   ]
  },
  {
   "cell_type": "code",
   "execution_count": 456,
   "metadata": {},
   "outputs": [],
   "source": [
    "# BLOCO 2: GERANDO A POPULAÇÃO INICIAL\n",
    "def initPop():\n",
    "    pop = []                                                         # lista para armazenar a população\n",
    "    individuo = []                                                   # lista para armazenar um individuo\n",
    "    for c in range(0,N):                                             # laço para gerar os N indivíduos\n",
    "        individuo.append(float(\"{:.4f}\".format(rd.uniform(-2,2))))   # gera a coordenada x1 pro individuo\n",
    "        individuo.append(float(\"{:.4f}\".format(rd.uniform(-2,2))))  # gera a coordenada x2 pro individuo\n",
    "        individuo.append(float(\"{:.2f}\".format(rd.uniform(0.5,1.5))))  # gera a velocidade v2 pro individuo\n",
    "        individuo.append(float(\"{:.2f}\".format(rd.uniform(0.5,1.5))))  # gera a velocidade v2 pro individuo\n",
    "        pop.append(individuo[:])                                     # adiciona o individuo na população\n",
    "        individuo.clear()                                            # limpa a lista\n",
    "\n",
    "    return pop"
   ]
  },
  {
   "cell_type": "code",
   "execution_count": 457,
   "metadata": {},
   "outputs": [
    {
     "name": "stdout",
     "output_type": "stream",
     "text": [
      "[[0.0735, -1.6187, 1.46, 0.7], [1.2236, -1.0871, 1.03, 1.48], [1.2733, 0.7604, 1.32, 0.94], [0.3097, 1.9058, 1.09, 0.54], [-1.9193, -0.8794, 1.03, 0.96], [1.0767, -0.5196, 1.36, 0.75], [-0.2823, -0.1623, 1.15, 1.09], [-1.8324, -0.734, 1.29, 0.6], [1.4793, -1.7989, 0.55, 1.05], [0.8529, -1.3529, 0.89, 1.07], [-0.4189, 0.8628, 1.41, 0.96], [0.2669, 1.8499, 0.7, 0.7], [-1.7281, -1.5, 1.12, 1.45], [-0.4933, 0.7259, 0.95, 0.54], [0.3822, 1.789, 0.69, 0.71], [-0.5708, -1.7718, 1.06, 0.79], [0.0755, 0.4602, 0.87, 0.96], [-1.5266, 1.5916, 1.25, 0.77], [0.7325, -1.003, 1.38, 0.56], [1.5405, -0.3512, 1.08, 0.82], [-1.7287, -0.5442, 1.01, 1.33], [0.0036, -1.1691, 0.84, 0.8], [0.4648, 1.5308, 0.99, 0.81], [-1.606, -0.799, 1.07, 0.53], [-1.1747, 0.6009, 0.57, 1.18], [-1.1345, 0.2309, 1.16, 1.32], [1.5891, 1.3375, 1.26, 1.26], [-1.7899, -1.1167, 1.39, 0.81], [0.4039, -1.8572, 0.54, 1.05], [1.0336, 0.0144, 1.47, 1.38], [-1.1947, 0.5445, 1.02, 1.03], [0.4291, 0.588, 1.43, 1.4], [1.8527, 0.7029, 1.23, 1.43], [-1.4117, -0.592, 0.55, 1.44], [-1.18, -1.7621, 1.15, 1.04], [-0.6339, -1.6667, 1.19, 1.07], [1.1419, 0.3462, 0.83, 0.79], [-0.6407, 0.3315, 1.05, 1.48], [-1.8328, -1.4511, 0.57, 1.05], [1.5832, 0.8135, 1.43, 0.54], [-0.5082, -1.5917, 0.56, 0.55], [-0.3326, -1.212, 1.47, 1.13], [-0.5945, 0.2556, 1.07, 0.63], [-1.8716, 1.1849, 0.7, 0.68], [0.3481, -1.3471, 1.26, 1.18], [-1.0938, 1.3352, 1.37, 0.94], [0.3433, -0.3153, 1.09, 0.69], [0.4059, -0.3123, 1.37, 0.9], [0.6494, -1.3488, 0.81, 1.29], [-1.8082, -1.6641, 1.18, 1.42]]\n"
     ]
    }
   ],
   "source": [
    "# BLOCO 3: TESTANDO A FUNÇÃO ACIMA\n",
    "pop_teste = initPop()\n",
    "print(pop_teste)"
   ]
  },
  {
   "cell_type": "code",
   "execution_count": 458,
   "metadata": {},
   "outputs": [],
   "source": [
    "# BLOCO 4: GERANDO O FITNESS DO INDIVIDUO\n",
    "def fitness(individuo):  \n",
    "    individuo_array = np.array(individuo)                                           #cria um array para armazenar o individuo\n",
    "    f_de_x = rastrigin(individuo_array)                                             #calcula o f(x) do individuo apartir da função rastringin\n",
    "    distancia = abs(minimum_global) + f_de_x                                        #calcula a distancia f(s) do individuo até o  f(x) do minimo global\n",
    "    return distancia"
   ]
  },
  {
   "cell_type": "code",
   "execution_count": 459,
   "metadata": {},
   "outputs": [
    {
     "name": "stdout",
     "output_type": "stream",
     "text": [
      "36.41609425917123\n"
     ]
    }
   ],
   "source": [
    "# BLOCO 5: TESTANDO A FUNÇÃO ACIMA\n",
    "fitness_teste = fitness(pop_teste[0])\n",
    "print(fitness_teste)"
   ]
  },
  {
   "cell_type": "code",
   "execution_count": 460,
   "metadata": {},
   "outputs": [],
   "source": [
    "# BLOCO 6: GERANDO LISTA DE POP_FITNESS DA POPULAÇÃO\n",
    "def popfitness(pop):\n",
    "    pop_fitness = []                                                                #cria uma lista para armazenar o fitness da população   \n",
    "    for c in range(0,N):                                                            #laço para analisar os N individuos\n",
    "        fitness_ind = fitness(pop[c])                                               #calcula o fitness de cada individuo\n",
    "        pop_fitness.append(fitness_ind)                                             #coloca o fitness na lista\n",
    "    return pop_fitness"
   ]
  },
  {
   "cell_type": "code",
   "execution_count": 461,
   "metadata": {},
   "outputs": [
    {
     "name": "stdout",
     "output_type": "stream",
     "text": [
      "[36.41609425917123, 15.837886741787031, 20.591301099942452, 21.814998679493815, -9.074768462117554, 31.27880731835763, 5.075372769799728, 32.55210378999204, 33.72054397535281, 7.741373867581906, 24.80780778349518, 25.84080130477816, 42.185787881328906, 33.639250002409646, 35.452561761074946, 21.08942313851528, 6.157871947772293, 44.01541017160019, 31.44713597019898, 26.931076292487777, 31.861992843658257, -0.6004854571458651, 30.103823156393897, 30.250570607665132, 31.748888806038877, 15.494068780693532, 42.44358548548824, 21.151988539313574, 27.175748895489164, 22.509319724618912, 10.287614678611297, 59.20720482740615, 32.18142953784783, 60.40310170935097, 6.320486119809246, 24.67419238530416, 14.83358466626993, 35.46407151807854, 30.990696781432025, 49.01853894814221, 60.58850124982103, 30.589821716500396, 28.39797119272669, 22.31158505558772, 32.796291440947726, 20.075639881768865, 26.640377264531395, 33.82216710805483, 35.09183263155748, 35.516039164913906]\n"
     ]
    }
   ],
   "source": [
    "# BLOCO 7: TESTANDO A FUNÇÃO ACIMA\n",
    "pop_fitness = popfitness(pop_teste)\n",
    "print(pop_fitness)"
   ]
  },
  {
   "cell_type": "code",
   "execution_count": 462,
   "metadata": {},
   "outputs": [],
   "source": [
    "#BLOCO 8: CALCULANDO O F_DE_X DE UM INDIVIDUO\n",
    "def calcula_f_de_x(individuo):\n",
    "    ar = np.array(individuo)\n",
    "    return float(\"{:.4f}\".format(rastrigin(ar)))"
   ]
  },
  {
   "cell_type": "code",
   "execution_count": 463,
   "metadata": {},
   "outputs": [
    {
     "name": "stdout",
     "output_type": "stream",
     "text": [
      "16.4161\n"
     ]
    }
   ],
   "source": [
    "# BLOCO 9: TESTANDO A FUNÇÃO ACIMA\n",
    "f_de_x_teste = calcula_f_de_x(pop_teste[0])\n",
    "print(f_de_x_teste)"
   ]
  },
  {
   "cell_type": "code",
   "execution_count": 464,
   "metadata": {},
   "outputs": [],
   "source": [
    "#BLOCO 10: CALCULANDO A NOVA POSIÇÃO DO INDIVÍDUO\n",
    "def calcula_posicao(individuo):\n",
    "    individuo[0] = individuo[0] + individuo[2]\n",
    "    individuo[1] = individuo[1] + individuo[3]\n",
    "    return individuo"
   ]
  },
  {
   "cell_type": "code",
   "execution_count": 465,
   "metadata": {},
   "outputs": [
    {
     "name": "stdout",
     "output_type": "stream",
     "text": [
      "{-0.8888, -0.7978}\n",
      "Melhor indivíduo inicial: [-0.8888, -0.7978, 0.95, 0.88]; Minímo da população: -24.3122\n",
      "vez {t} min_pop =  -27.7452\n",
      "vez {t} min_pop =  -17.5989\n",
      "vez {t} min_pop =  -20.8846\n",
      "vez {t} min_pop =  -31.0134\n",
      "vez {t} min_pop =  -33.3711\n",
      "vez {t} min_pop =  -33.5835\n",
      "vez {t} min_pop =  -35.3774\n",
      "vez {t} min_pop =  -37.2588\n",
      "vez {t} min_pop =  -37.6458\n",
      "vez {t} min_pop =  -37.9147\n",
      "vez {t} min_pop =  -37.9729\n",
      "vez {t} min_pop =  -37.9773\n",
      "vez {t} min_pop =  -37.9913\n",
      "vez {t} min_pop =  -38.0064\n",
      "vez {t} min_pop =  -38.0087\n",
      "vez {t} min_pop =  -38.0086\n",
      "vez {t} min_pop =  -38.0093\n",
      "vez {t} min_pop =  -38.0095\n",
      "vez {t} min_pop =  -38.0096\n",
      "vez {t} min_pop =  -38.0096\n",
      "vez {t} min_pop =  -38.0096\n",
      "vez {t} min_pop =  -38.0099\n",
      "vez {t} min_pop =  -38.01\n",
      "vez {t} min_pop =  -38.01\n",
      "vez {t} min_pop =  -38.0101\n",
      "vez {t} min_pop =  -38.0101\n",
      "vez {t} min_pop =  -38.0101\n",
      "vez {t} min_pop =  -38.2637\n",
      "vez {t} min_pop =  -38.5513\n",
      "vez {t} min_pop =  -38.5076\n",
      "vez {t} min_pop =  -38.6831\n",
      "vez {t} min_pop =  -38.7021\n",
      "vez {t} min_pop =  -38.8387\n",
      "vez {t} min_pop =  -38.9246\n",
      "vez {t} min_pop =  -38.966\n",
      "vez {t} min_pop =  -38.9609\n",
      "vez {t} min_pop =  -38.9741\n",
      "vez {t} min_pop =  -38.9851\n",
      "vez {t} min_pop =  -38.9891\n",
      "vez {t} min_pop =  -38.9922\n",
      "vez {t} min_pop =  -38.9963\n",
      "vez {t} min_pop =  -39.0003\n",
      "vez {t} min_pop =  -39.0017\n",
      "vez {t} min_pop =  -39.0026\n",
      "vez {t} min_pop =  -39.0033\n",
      "vez {t} min_pop =  -39.0039\n",
      "vez {t} min_pop =  -39.0043\n",
      "vez {t} min_pop =  -39.0044\n",
      "vez {t} min_pop =  -39.0046\n",
      "vez {t} min_pop =  -39.0047\n",
      "vez {t} min_pop =  -39.0047\n",
      "vez {t} min_pop =  -39.0048\n",
      "vez {t} min_pop =  -39.005\n",
      "vez {t} min_pop =  -39.005\n",
      "vez {t} min_pop =  -39.005\n",
      "vez {t} min_pop =  -39.005\n",
      "vez {t} min_pop =  -39.005\n",
      "vez {t} min_pop =  -39.005\n",
      "vez {t} min_pop =  -39.005\n",
      "vez {t} min_pop =  -39.005\n",
      "vez {t} min_pop =  -39.005\n",
      "vez {t} min_pop =  -39.005\n",
      "vez {t} min_pop =  -39.005\n",
      "vez {t} min_pop =  -39.005\n",
      "vez {t} min_pop =  -39.005\n",
      "vez {t} min_pop =  -39.005\n",
      "vez {t} min_pop =  -39.005\n",
      "vez {t} min_pop =  -39.005\n",
      "vez {t} min_pop =  -39.005\n",
      "vez {t} min_pop =  -39.005\n",
      "vez {t} min_pop =  -39.005\n",
      "vez {t} min_pop =  -39.005\n",
      "vez {t} min_pop =  -39.005\n",
      "vez {t} min_pop =  -39.005\n",
      "vez {t} min_pop =  -39.005\n",
      "vez {t} min_pop =  -39.005\n",
      "vez {t} min_pop =  -39.005\n",
      "vez {t} min_pop =  -39.005\n",
      "vez {t} min_pop =  -39.005\n",
      "vez {t} min_pop =  -39.005\n",
      "vez {t} min_pop =  -39.005\n",
      "vez {t} min_pop =  -39.005\n",
      "vez {t} min_pop =  -39.005\n",
      "vez {t} min_pop =  -39.005\n",
      "vez {t} min_pop =  -39.005\n",
      "vez {t} min_pop =  -39.005\n",
      "vez {t} min_pop =  -39.005\n",
      "vez {t} min_pop =  -39.005\n",
      "vez {t} min_pop =  -39.005\n",
      "vez {t} min_pop =  -39.005\n",
      "vez {t} min_pop =  -39.005\n",
      "vez {t} min_pop =  -39.005\n",
      "vez {t} min_pop =  -39.005\n",
      "vez {t} min_pop =  -39.005\n",
      "vez {t} min_pop =  -39.005\n",
      "vez {t} min_pop =  -39.005\n",
      "vez {t} min_pop =  -39.005\n",
      "vez {t} min_pop =  -39.005\n",
      "vez {t} min_pop =  -39.005\n",
      "GERAÇAO:  100\n",
      "Melhor indivíduo final: [0.995, 0.0, 1.8381276458025078e-05, 7.400359538835044e-05]; Minímo da população: -39.005\n"
     ]
    }
   ],
   "source": [
    "#BLOCO 10: BLOCO PRINCIPAL\n",
    "\n",
    "## inicialização da população\n",
    "pop = initPop()                                                                                         #cria a população inicial\n",
    "pop_fitness = popfitness(pop)                                                                           #analisa o fitness da população\n",
    "best = min(pop_fitness)                                                                                 #descobre o melhor fitness da população inicial\n",
    "pos_best = pop_fitness.index(best)                                                                      #descobre a posição do melhor individuo\n",
    "min_pop = calcula_f_de_x(pop[pos_best])   #calcula o f(x) do melhor individuo\n",
    "pbest = []      #lista para armazenar os pbest de cada particula\n",
    "bests = []\n",
    "individuo_best = []\n",
    "for c in range (0,N):\n",
    "    individuo_best.append(pop[c][0])\n",
    "    individuo_best.append(pop[c][1])\n",
    "    individuo_best.append(calcula_f_de_x(pop[c]))\n",
    "    pbest.append(calcula_f_de_x(pop[c]))\n",
    "    bests.append(individuo_best[:])\n",
    "    individuo_best.clear()\n",
    "t = 1                                                                                                   #contador de gerações                          \n",
    "pg = []\n",
    "pg.append(pop[pos_best][0])\n",
    "pg.append(pop[pos_best][1])\n",
    "print({pg[0], pg[1]})\n",
    "print(f'Melhor indivíduo inicial: {pop[pos_best]}; Minímo da população: {min_pop}')\n",
    "while min_pop != minimum_global and t != 100:                                                                        #laço até encontrar a solução perfeita\n",
    "    individuo = []                                                                                      #lista para armazenar os individuos que serão gerados\n",
    "    for c in range(0,N):                                                                                #laço para gerar a população mutante\n",
    "        if(calcula_f_de_x(pop[c]) < bests[c][2]):\n",
    "            bests[c][0] = pop[c][0]\n",
    "            bests[c][1] = pop[c][1]\n",
    "            bests[c][2] = calcula_f_de_x(pop[c])\n",
    "            pbest[c] = calcula_f_de_x(pop[c])\n",
    "        best = min(pbest)                                                                             #descobre o melhor fitness da geração\n",
    "        pos_best = pbest.index(best)                                                                  #descobre a posição do mlehor individuo\n",
    "        pg[0] = bests[pos_best][0]\n",
    "        pg[1] = bests[pos_best][1]\n",
    "        individuo.append(pop[c][0])\n",
    "        individuo.append(pop[c][1])                                                                        \n",
    "        for d in range(2,4):             #laço para ambas dimensoes do problema\n",
    "            P1 = rd.random()\n",
    "            P2 = rd.random()\n",
    "            t1 = P1*C1\n",
    "            t2 = P2*C2\n",
    "            velocidade = W*pop[c][d] + t1*(bests[c][d-2] - individuo[d-2]) + t2*(pg[d-2] - individuo[d-2])\n",
    "            individuo.append(velocidade)\n",
    "            if(individuo[d]>vmax):\n",
    "                individuo[d] = vmax\n",
    "            \n",
    "        individuo = calcula_posicao(individuo)\n",
    "        pop[c] = individuo[:]\n",
    "        individuo.clear()\n",
    "     \n",
    "    pop_fitness = popfitness(pop)                                                                       #calcula o fitness da população\n",
    "    best = min(pop_fitness)                                                                             #descobre o melhor fitness da geração\n",
    "    pos_best = pop_fitness.index(best)                                                                  #descobre a posição do mlehor individuo\n",
    "    min_pop = calcula_f_de_x(pop[pos_best])                                                             #descobre o f(x) do melhor individuo\n",
    "    t = t + 1                                                                                           #incrementa a geração\n",
    "    print('vez {t} min_pop = ', min_pop)  \n",
    "                                                                                                                                    \n",
    "print('GERAÇAO: ', t)                                                               \n",
    "pop[pos_best][0] = float(\"{:.3f}\".format(pop[pos_best][0]))\n",
    "pop[pos_best][1] = float(\"{:.3f}\".format(pop[pos_best][1]))\n",
    "print(f'Melhor indivíduo final: {pop[pos_best]}; Minímo da população: {min_pop}')\n",
    "\n"
   ]
  },
  {
   "cell_type": "markdown",
   "metadata": {},
   "source": [
    "# **RELATÓRIO EVOLUÇÃO DIFERENCIAL - FUNÇÃO RASTRINGIN**\n",
    "### Aluno 1: Vando Carlos Diniz Reis - 2019057195 \n",
    "### Aluno 2: Rafael Moura Marques - 2019089305\n",
    "---\n",
    "# *_IMPLEMENTAÇÃO_*: \n",
    "\n",
    "A implementação deste algoritmo foi igual a usada no código anterior. As únicas diferenças foram usar a função rastringin no lugar da função peaks para calcular o fitness de um indivíduo, e alterar o limite dos valores disponiveis de x1 e x2 para -2 a 2. \n",
    "\n",
    "# _*ANÁLISE DOS RESULTADOS*_: \n",
    "\n",
    "### <ins>Eficiência:</ins>\n",
    "\n",
    "Para testarmos o funcionamento e a eficiência da função Rastringin, decidimos simular o código 100 vezes para calcular o número médio de gerações que o algoritmo encontrava a solução desejada. No final, a média encontrada foi de 49,31 gerações.\n",
    "\n",
    "<img src=rastringin.jpeg alt=\"Rastrngin\" width=\"800\"/>\n",
    "\n",
    "Reparamos também que independente da melhor solução inicial gerada, próxima do minímo global ou não, não houve uma grande variação no número de gerações para obtermos a solução desejada. Acreditamos que isso acontece porque no início do processo de otimazação temos muitos vetores-diferenças disponíveis, logo o algoritmo explora a maioria deles até descobrir os melhores, o que custa algumas gerações. Com o passar das gerações, os possíveis vetores-diferenças acabam ficando mais próximos e uniformes até convergirem para o resultado desejado. \n",
    "\n",
    "\n",
    "\n",
    "\n"
   ]
  }
 ],
 "metadata": {
  "kernelspec": {
   "display_name": "Python 3",
   "language": "python",
   "name": "python3"
  },
  "language_info": {
   "codemirror_mode": {
    "name": "ipython",
    "version": 3
   },
   "file_extension": ".py",
   "mimetype": "text/x-python",
   "name": "python",
   "nbconvert_exporter": "python",
   "pygments_lexer": "ipython3",
   "version": "3.10.0"
  }
 },
 "nbformat": 4,
 "nbformat_minor": 4
}
