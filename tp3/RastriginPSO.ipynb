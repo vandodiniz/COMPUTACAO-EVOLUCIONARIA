{
 "cells": [
  {
   "cell_type": "code",
   "execution_count": 1,
   "metadata": {},
   "outputs": [],
   "source": [
    "#BLOCO 1: \n",
    "import numpy as np\n",
    "from itertools import product\n",
    "import matplotlib.pyplot as plt\n",
    "from mpl_toolkits.mplot3d import Axes3D\n",
    "import random as rd\n",
    "\n",
    "N = 50\n",
    "minimum_global = -20\n",
    "F = 0.8\n",
    "C = 0.7\n",
    "C1 = 1\n",
    "C2 = 1\n",
    "W = 0.5\n",
    "vmax = 1\n",
    "vmin = -1\n"
   ]
  },
  {
   "cell_type": "markdown",
   "metadata": {},
   "source": [
    "---\n",
    "<h3> Rastrigin Function </h3>"
   ]
  },
  {
   "cell_type": "code",
   "execution_count": 2,
   "metadata": {},
   "outputs": [],
   "source": [
    "def rastrigin(x):  # objective function\n",
    "    x = x.reshape(1, -1).T\n",
    "    Q = np.eye(len(x))\n",
    "    X = Q.dot(x)\n",
    "\n",
    "    n = len(X)\n",
    "    F = 0\n",
    "    \n",
    "    for i in range(n):\n",
    "        F = F + X[i]**2 - 10*np.cos(2*np.pi*X[i])\n",
    "    \n",
    "    return F[0]"
   ]
  },
  {
   "cell_type": "code",
   "execution_count": 3,
   "metadata": {},
   "outputs": [
    {
     "data": {
      "text/plain": [
       "\"x1 = x2 = np.linspace(-3, 3, 150)\\nx_p = np.array(list(product(x1,x2)))\\n\\n\\nfont_labels = {'fontsize': 14, 'fontweight': 150}\\n\\nfig = plt.figure(figsize=(12,8))\\nax = Axes3D(fig)\\nax.set_title('Função Rastrigin', fontdict={'fontsize':15})\\nax.set_xlabel('X1', fontdict=font_labels)\\nax.set_ylabel('X2', fontdict=font_labels)\\nax.set_zlabel('peaks(X1, X2)', fontdict=font_labels)\\nsurf = ax.plot_trisurf(x_p[:, 0], x_p[:, 1], [rastrigin(x_) for x_ in x_p], linewidth=0.1, color='orange')\\nplt.show()\""
      ]
     },
     "execution_count": 3,
     "metadata": {},
     "output_type": "execute_result"
    }
   ],
   "source": [
    "'''x1 = x2 = np.linspace(-3, 3, 150)\n",
    "x_p = np.array(list(product(x1,x2)))\n",
    "\n",
    "\n",
    "font_labels = {'fontsize': 14, 'fontweight': 150}\n",
    "\n",
    "fig = plt.figure(figsize=(12,8))\n",
    "ax = Axes3D(fig)\n",
    "ax.set_title('Função Rastrigin', fontdict={'fontsize':15})\n",
    "ax.set_xlabel('X1', fontdict=font_labels)\n",
    "ax.set_ylabel('X2', fontdict=font_labels)\n",
    "ax.set_zlabel('peaks(X1, X2)', fontdict=font_labels)\n",
    "surf = ax.plot_trisurf(x_p[:, 0], x_p[:, 1], [rastrigin(x_) for x_ in x_p], linewidth=0.1, color='orange')\n",
    "plt.show()'''"
   ]
  },
  {
   "cell_type": "markdown",
   "metadata": {},
   "source": [
    "---\n",
    "# IMPLEMENTAÇÃO\n"
   ]
  },
  {
   "cell_type": "code",
   "execution_count": 4,
   "metadata": {},
   "outputs": [],
   "source": [
    "# BLOCO 2: GERANDO A POPULAÇÃO INICIAL\n",
    "def initPop():\n",
    "    pop = []                                                         # lista para armazenar a população\n",
    "    individuo = []                                                   # lista para armazenar um individuo\n",
    "    for c in range(0,N):                                             # laço para gerar os N indivíduos\n",
    "        individuo.append(float(\"{:.4f}\".format(rd.uniform(-2,2))))   # gera a coordenada x1 pro individuo\n",
    "        individuo.append(float(\"{:.4f}\".format(rd.uniform(-2,2))))  # gera a coordenada x2 pro individuo\n",
    "        individuo.append(float(\"{:.2f}\".format(rd.uniform(-vmax,vmax))))  # gera a velocidade v2 pro individuo\n",
    "        individuo.append(float(\"{:.2f}\".format(rd.uniform(-vmax,vmax))))  # gera a velocidade v2 pro individuo\n",
    "        pop.append(individuo[:])                                     # adiciona o individuo na população\n",
    "        individuo.clear()                                            # limpa a lista\n",
    "\n",
    "    return pop"
   ]
  },
  {
   "cell_type": "code",
   "execution_count": 5,
   "metadata": {},
   "outputs": [
    {
     "name": "stdout",
     "output_type": "stream",
     "text": [
      "[[0.312, 1.5223, -0.51, 0.25], [1.1715, -1.2196, -0.29, -0.97], [1.1172, 0.8124, -0.91, 0.7], [-1.5281, -1.9993, -0.44, -0.72], [0.9853, -1.3988, -0.68, 0.49], [-0.4062, 1.963, -0.14, -0.11], [-0.7016, -0.1519, -0.3, -0.69], [-1.1224, -1.2605, 0.01, -0.18], [-1.9431, -1.981, -1.0, -0.24], [1.9553, -1.0217, 0.82, 0.27], [-1.4909, -0.4036, -0.02, 0.57], [-0.3028, -0.8036, 0.44, -0.35], [0.8757, -0.3534, -0.18, -0.13], [0.273, -1.1121, 0.08, -0.07], [0.2773, -1.7931, -0.74, -0.28], [0.2358, 0.2356, -0.49, 0.84], [0.2798, -0.4087, 0.21, 0.36], [-0.3574, 1.4611, 0.93, -0.3], [0.9824, -1.522, 0.26, -0.65], [-0.3677, 1.7715, 0.03, -0.75], [-0.936, 1.9127, 0.17, -0.33], [0.9559, 0.1313, 0.71, 0.96], [-1.9209, 1.0394, 0.46, -0.25], [-0.8505, -1.7976, 0.5, 0.37], [0.9722, 1.794, 0.85, -0.53], [1.6998, -1.847, 0.12, 0.3], [1.1095, 1.8358, 0.98, 0.47], [1.4088, 1.5327, 0.05, -0.53], [1.1565, -0.5015, 0.49, 0.53], [0.559, -0.4133, -0.98, -0.54], [-1.6794, 1.7456, 0.24, -0.82], [0.72, -1.4951, 0.41, -0.04], [0.7536, -1.3006, -0.34, 0.01], [-1.5507, -0.8622, 0.19, -0.62], [-1.107, -0.3437, 0.28, 0.26], [-0.446, -0.4393, -0.46, -0.77], [-1.5296, -1.5489, 1.0, -0.0], [-0.2775, 1.0887, -0.33, 0.74], [1.2041, -0.1168, -0.44, 0.48], [-0.9037, 1.8001, -0.67, 0.34], [-0.6445, -1.9219, 0.63, -0.98], [-0.471, 0.3425, -0.49, 0.66], [-0.7285, -1.9025, 0.27, -0.17], [-0.4455, -0.2618, -0.83, -0.38], [-1.4413, -0.474, -0.12, -0.14], [0.0199, 1.0376, 0.15, 0.65], [-1.9974, -1.1171, -0.4, 0.12], [0.5062, 0.3445, 0.44, 0.31], [-1.2551, -0.2993, 0.27, 0.24], [-0.0684, 0.1121, -0.34, -0.44]]\n"
     ]
    }
   ],
   "source": [
    "# BLOCO 3: TESTANDO A FUNÇÃO ACIMA\n",
    "pop_teste = initPop()\n",
    "print(pop_teste)"
   ]
  },
  {
   "cell_type": "code",
   "execution_count": 6,
   "metadata": {},
   "outputs": [],
   "source": [
    "# BLOCO 4: GERANDO O FITNESS DO INDIVIDUO\n",
    "def fitness(individuo):\n",
    "    individuo_pos = [individuo[0], individuo[1]]  \n",
    "    individuo_array = np.array(individuo_pos)                                           #cria um array para armazenar o individuo\n",
    "    f_de_x = rastrigin(individuo_array)                                             #calcula o f(x) do individuo apartir da função rastringin\n",
    "    distancia = abs(minimum_global) + f_de_x                                        #calcula a distancia f(s) do individuo até o  f(x) do minimo global\n",
    "    return distancia"
   ]
  },
  {
   "cell_type": "code",
   "execution_count": 7,
   "metadata": {},
   "outputs": [
    {
     "name": "stdout",
     "output_type": "stream",
     "text": [
      "36.11453162210567\n"
     ]
    }
   ],
   "source": [
    "# BLOCO 5: TESTANDO A FUNÇÃO ACIMA\n",
    "fitness_teste = fitness(pop_teste[0])\n",
    "print(fitness_teste)"
   ]
  },
  {
   "cell_type": "code",
   "execution_count": 8,
   "metadata": {},
   "outputs": [],
   "source": [
    "# BLOCO 6: GERANDO LISTA DE POP_FITNESS DA POPULAÇÃO\n",
    "def popfitness(pop):\n",
    "    pop_fitness = []                                                                #cria uma lista para armazenar o fitness da população   \n",
    "    for c in range(0,N):                                                            #laço para analisar os N individuos\n",
    "        fitness_ind = fitness(pop[c])                                               #calcula o fitness de cada individuo\n",
    "        pop_fitness.append(fitness_ind)                                             #coloca o fitness na lista\n",
    "    return pop_fitness"
   ]
  },
  {
   "cell_type": "code",
   "execution_count": 9,
   "metadata": {},
   "outputs": [
    {
     "name": "stdout",
     "output_type": "stream",
     "text": [
      "[36.11453162210567, 16.226607592735938, 10.678117148130635, 26.176928521567017, 21.015704113638023, 22.600332667556486, 17.728865838048954, 16.322263880635408, 8.403473073549886, 5.351696382387633, 40.5903771421127, 20.68997748409954, 19.838969665426337, 15.131045202652341, 22.32393867924892, 18.316535214519003, 30.50602260806154, 38.212858056401686, 23.24728990538071, 28.666049942244292, 6.799237996094769, 4.526724512391937, 6.284901948086478, 15.105068420294195, 11.58625450929578, 23.678526613417016, 11.742416972194802, 42.52619805968504, 26.045915583722554, 38.35656647536139, 30.43580241311608, 34.6227981461747, 25.159299822554097, 26.16480563205259, 19.072760501484495, 39.10328986673666, 44.098013815813765, 14.494800746867515, 11.193489605398629, 12.736270117741519, 21.442990558851225, 35.66382747993461, 17.315501220721288, 30.42714929260655, 41.49640442389389, 1.432846719119425, 7.825651289074635, 35.962154478675885, 25.033554652873363, 3.3062703571843635]\n"
     ]
    }
   ],
   "source": [
    "# BLOCO 7: TESTANDO A FUNÇÃO ACIMA\n",
    "pop_fitness = popfitness(pop_teste)\n",
    "print(pop_fitness)"
   ]
  },
  {
   "cell_type": "code",
   "execution_count": 10,
   "metadata": {},
   "outputs": [],
   "source": [
    "#BLOCO 8: CALCULANDO O F_DE_X DE UM INDIVIDUO\n",
    "def calcula_f_de_x(individuo):\n",
    "    individuo_pos = [individuo[0], individuo[1]]\n",
    "    ar = np.array(individuo_pos)\n",
    "    return float(\"{:.4f}\".format(rastrigin(ar)))"
   ]
  },
  {
   "cell_type": "code",
   "execution_count": 11,
   "metadata": {},
   "outputs": [
    {
     "name": "stdout",
     "output_type": "stream",
     "text": [
      "16.1145\n"
     ]
    }
   ],
   "source": [
    "# BLOCO 9: TESTANDO A FUNÇÃO ACIMA\n",
    "f_de_x_teste = calcula_f_de_x(pop_teste[0])\n",
    "print(f_de_x_teste)"
   ]
  },
  {
   "cell_type": "code",
   "execution_count": 12,
   "metadata": {},
   "outputs": [],
   "source": [
    "#BLOCO 10: CALCULANDO A NOVA POSIÇÃO DO INDIVÍDUO\n",
    "def calcula_posicao(individuo):\n",
    "    individuo[0] = individuo[0] + individuo[2]\n",
    "    individuo[1] = individuo[1] + individuo[3]\n",
    "    return individuo"
   ]
  },
  {
   "cell_type": "code",
   "execution_count": 13,
   "metadata": {},
   "outputs": [
    {
     "name": "stdout",
     "output_type": "stream",
     "text": [
      "{0.0362, 0.9313}\n",
      "Melhor indivíduo inicial: [0.0362, 0.9313, -0.21, -0.6]; Minímo da população: -17.9566\n",
      "GERAÇAO:  17\n",
      "Posição do melhor indivíduo final: [-0.0, 0.0]; \n",
      "\n",
      "Velocidade do melhor indivíduo final: [-0.001, 0.001]; \n",
      "\n",
      "Minímo da população: -20.0 \n",
      "\n"
     ]
    }
   ],
   "source": [
    "#BLOCO 10: BLOCO PRINCIPAL\n",
    "\n",
    "## inicialização da população\n",
    "pop = initPop()                                                                                         #cria a população inicial\n",
    "pop_fitness = popfitness(pop)                                                                           #analisa o fitness da população\n",
    "best = min(pop_fitness)                                                                                 #descobre o melhor fitness da população inicial\n",
    "pos_best = pop_fitness.index(best)                                                                      #descobre a posição do melhor individuo\n",
    "min_pop = calcula_f_de_x(pop[pos_best])   #calcula o f(x) do melhor individuo\n",
    "pbest = []      #lista para armazenar os pbest de cada particula\n",
    "bests = []\n",
    "individuo_best = []\n",
    "for c in range (0,N):\n",
    "    individuo_best.append(pop[c][0])\n",
    "    individuo_best.append(pop[c][1])\n",
    "    individuo_best.append(calcula_f_de_x(pop[c]))\n",
    "    pbest.append(calcula_f_de_x(pop[c]))\n",
    "    bests.append(individuo_best[:])\n",
    "    individuo_best.clear()\n",
    "t = 1                                                                                                   #contador de gerações                          \n",
    "pg = []\n",
    "pg.append(pop[pos_best][0])\n",
    "pg.append(pop[pos_best][1])\n",
    "print({pg[0], pg[1]})\n",
    "print(f'Melhor indivíduo inicial: {pop[pos_best]}; Minímo da população: {min_pop}')\n",
    "while min_pop != minimum_global and t != 100:                                                                        #laço até encontrar a solução perfeita\n",
    "    individuo = []                                                                                      #lista para armazenar os individuos que serão gerados\n",
    "    for c in range(0,N):                                                                                #laço para gerar a população mutante\n",
    "        if(calcula_f_de_x(pop[c]) < bests[c][2]):\n",
    "            bests[c][0] = pop[c][0]\n",
    "            bests[c][1] = pop[c][1]\n",
    "            bests[c][2] = calcula_f_de_x(pop[c])\n",
    "            pbest[c] = calcula_f_de_x(pop[c])\n",
    "        best = min(pbest)                                                                             #descobre o melhor fitness da geração\n",
    "        pos_best = pbest.index(best)                                                                  #descobre a posição do mlehor individuo\n",
    "        pg[0] = bests[pos_best][0]\n",
    "        pg[1] = bests[pos_best][1]\n",
    "        individuo.append(pop[c][0])\n",
    "        individuo.append(pop[c][1])                                                                        \n",
    "        for d in range(2,4):             #laço para ambas dimensoes do problema\n",
    "            P1 = rd.random()\n",
    "            P2 = rd.random()\n",
    "            t1 = P1*C1\n",
    "            t2 = P2*C2\n",
    "            velocidade = W*pop[c][d] + t1*(bests[c][d-2] - individuo[d-2]) + t2*(pg[d-2] - individuo[d-2])\n",
    "            individuo.append(velocidade)\n",
    "            if(individuo[d]>vmax or individuo[d]<vmin):\n",
    "                individuo[d] = vmax\n",
    "            \n",
    "        individuo = calcula_posicao(individuo)\n",
    "        pop[c] = individuo[:]\n",
    "        individuo.clear()\n",
    "     \n",
    "    pop_fitness = popfitness(pop)                                                                       #calcula o fitness da população\n",
    "    best = min(pop_fitness)                                                                             #descobre o melhor fitness da geração\n",
    "    pos_best = pop_fitness.index(best)                                                                  #descobre a posição do mlehor individuo\n",
    "    min_pop = calcula_f_de_x(pop[pos_best])                                                             #descobre o f(x) do melhor individuo\n",
    "    t = t + 1                                                                                           #incrementa a geração \n",
    "                                                                                                                                    \n",
    "print('GERAÇAO: ', t)                                                               \n",
    "pop[pos_best][0] = float(\"{:.3f}\".format(pop[pos_best][0]))\n",
    "pop[pos_best][1] = float(\"{:.3f}\".format(pop[pos_best][1]))\n",
    "pop[pos_best][2] = float(\"{:.3f}\".format(pop[pos_best][2]))\n",
    "pop[pos_best][3] = float(\"{:.3f}\".format(pop[pos_best][3]))\n",
    "print(f'Posição do melhor indivíduo final: [{pop[pos_best][0]}, {pop[pos_best][1]}]; \\n')\n",
    "print(f'Velocidade do melhor indivíduo final: [{pop[pos_best][2]}, {pop[pos_best][3]}]; \\n')\n",
    "print(f'Minímo da população: {min_pop} \\n')\n",
    "\n",
    "\n"
   ]
  },
  {
   "cell_type": "markdown",
   "metadata": {},
   "source": [
    "# **RELATÓRIO EVOLUÇÃO DIFERENCIAL - FUNÇÃO RASTRINGIN**\n",
    "### Aluno 1: Vando Carlos Diniz Reis - 2019057195 \n",
    "### Aluno 2: Rafael Moura Marques - 2019089305\n",
    "---\n",
    "# *_IMPLEMENTAÇÃO_*: \n",
    "\n",
    "A implementação deste algoritmo foi igual a usada no código anterior. As únicas diferenças foram usar a função rastringin no lugar da função peaks para calcular o fitness de um indivíduo, e alterar o limite dos valores disponiveis de x1 e x2 para -2 a 2. \n",
    "\n",
    "# _*ANÁLISE DOS RESULTADOS*_: \n",
    "\n",
    "### <ins>Eficiência:</ins>\n",
    "\n",
    "Para testarmos o funcionamento e a eficiência da função Rastringin, decidimos simular o código 100 vezes para calcular o número médio de gerações que o algoritmo encontrava a solução desejada. No final, a média encontrada foi de 49,31 gerações.\n",
    "\n",
    "<img src=rastringin.jpeg alt=\"Rastrngin\" width=\"800\"/>\n",
    "\n",
    "Reparamos também que independente da melhor solução inicial gerada, próxima do minímo global ou não, não houve uma grande variação no número de gerações para obtermos a solução desejada. Acreditamos que isso acontece porque no início do processo de otimazação temos muitos vetores-diferenças disponíveis, logo o algoritmo explora a maioria deles até descobrir os melhores, o que custa algumas gerações. Com o passar das gerações, os possíveis vetores-diferenças acabam ficando mais próximos e uniformes até convergirem para o resultado desejado. \n",
    "\n",
    "\n",
    "\n",
    "\n"
   ]
  }
 ],
 "metadata": {
  "kernelspec": {
   "display_name": "Python 3",
   "language": "python",
   "name": "python3"
  },
  "language_info": {
   "codemirror_mode": {
    "name": "ipython",
    "version": 3
   },
   "file_extension": ".py",
   "mimetype": "text/x-python",
   "name": "python",
   "nbconvert_exporter": "python",
   "pygments_lexer": "ipython3",
   "version": "3.10.2"
  }
 },
 "nbformat": 4,
 "nbformat_minor": 4
}
