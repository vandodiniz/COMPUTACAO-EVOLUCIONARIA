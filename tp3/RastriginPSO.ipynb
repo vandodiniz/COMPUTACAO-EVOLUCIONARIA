{
 "cells": [
  {
   "cell_type": "code",
   "execution_count": 65,
   "metadata": {},
   "outputs": [],
   "source": [
    "#BLOCO 1: \n",
    "import numpy as np\n",
    "from itertools import product\n",
    "import matplotlib.pyplot as plt\n",
    "from mpl_toolkits.mplot3d import Axes3D\n",
    "import random as rd\n",
    "\n",
    "N = 50\n",
    "minimum_global = -20\n",
    "F = 0.8\n",
    "C = 0.7\n",
    "C1 = 1\n",
    "C2 = 1\n",
    "W = 0.5\n",
    "vmax = 1\n"
   ]
  },
  {
   "cell_type": "markdown",
   "metadata": {},
   "source": [
    "---\n",
    "<h3> Rastrigin Function </h3>"
   ]
  },
  {
   "cell_type": "code",
   "execution_count": 66,
   "metadata": {},
   "outputs": [],
   "source": [
    "def rastrigin(x):  # objective function\n",
    "    x = x.reshape(1, -1).T\n",
    "    Q = np.eye(len(x))\n",
    "    X = Q.dot(x)\n",
    "\n",
    "    n = len(X)\n",
    "    F = 0\n",
    "    \n",
    "    for i in range(n):\n",
    "        F = F + X[i]**2 - 10*np.cos(2*np.pi*X[i])\n",
    "    \n",
    "    return F[0]"
   ]
  },
  {
   "cell_type": "code",
   "execution_count": 67,
   "metadata": {},
   "outputs": [
    {
     "data": {
      "text/plain": [
       "\"x1 = x2 = np.linspace(-3, 3, 150)\\nx_p = np.array(list(product(x1,x2)))\\n\\n\\nfont_labels = {'fontsize': 14, 'fontweight': 150}\\n\\nfig = plt.figure(figsize=(12,8))\\nax = Axes3D(fig)\\nax.set_title('Função Rastrigin', fontdict={'fontsize':15})\\nax.set_xlabel('X1', fontdict=font_labels)\\nax.set_ylabel('X2', fontdict=font_labels)\\nax.set_zlabel('peaks(X1, X2)', fontdict=font_labels)\\nsurf = ax.plot_trisurf(x_p[:, 0], x_p[:, 1], [rastrigin(x_) for x_ in x_p], linewidth=0.1, color='orange')\\nplt.show()\""
      ]
     },
     "execution_count": 67,
     "metadata": {},
     "output_type": "execute_result"
    }
   ],
   "source": [
    "'''x1 = x2 = np.linspace(-3, 3, 150)\n",
    "x_p = np.array(list(product(x1,x2)))\n",
    "\n",
    "\n",
    "font_labels = {'fontsize': 14, 'fontweight': 150}\n",
    "\n",
    "fig = plt.figure(figsize=(12,8))\n",
    "ax = Axes3D(fig)\n",
    "ax.set_title('Função Rastrigin', fontdict={'fontsize':15})\n",
    "ax.set_xlabel('X1', fontdict=font_labels)\n",
    "ax.set_ylabel('X2', fontdict=font_labels)\n",
    "ax.set_zlabel('peaks(X1, X2)', fontdict=font_labels)\n",
    "surf = ax.plot_trisurf(x_p[:, 0], x_p[:, 1], [rastrigin(x_) for x_ in x_p], linewidth=0.1, color='orange')\n",
    "plt.show()'''"
   ]
  },
  {
   "cell_type": "markdown",
   "metadata": {},
   "source": [
    "---\n",
    "# IMPLEMENTAÇÃO\n"
   ]
  },
  {
   "cell_type": "code",
   "execution_count": 68,
   "metadata": {},
   "outputs": [],
   "source": [
    "# BLOCO 2: GERANDO A POPULAÇÃO INICIAL\n",
    "def initPop(pop, velocidades):\n",
    "\n",
    "    for c in range(0,N):                                                        # laço para gerar os N indivíduos e suas velocidades\n",
    "        individuo = []                                                          # lista auxiliar para gerar 1 elemento indivíduo\n",
    "        velocidade = []                                                         # lista auxiliar para gerar 1 elemento velocidade\n",
    "        individuo.append(float(\"{:.4f}\".format(rd.uniform(-2,2))))              # gera a coordenada x1 pro individuo\n",
    "        individuo.append(float(\"{:.4f}\".format(rd.uniform(-2,2))))              # gera a coordenada x2 pro individuo\n",
    "        velocidade.append(float(\"{:.2f}\".format(rd.uniform(-vmax,vmax))))       # gera a velocidade v2 pro individuo\n",
    "        velocidade.append(float(\"{:.2f}\".format(rd.uniform(-vmax,vmax))))       # gera a velocidade v2 pro individuo\n",
    "        pop.append(individuo[:])                                                # adiciona o individuo na população\n",
    "        velocidades.append(velocidade[:])\n",
    "        "
   ]
  },
  {
   "cell_type": "code",
   "execution_count": 69,
   "metadata": {},
   "outputs": [
    {
     "name": "stdout",
     "output_type": "stream",
     "text": [
      "população teste: [[-1.7635, -1.2281], [0.1903, 1.9318], [1.7076, -0.9161], [0.6695, -0.7959], [0.9091, -0.9817], [0.2218, 0.0863], [-1.7221, 1.3954], [0.965, 1.5661], [-0.3339, 0.9639], [1.4897, 0.4298], [0.3032, 1.6008], [1.4949, -0.6069], [-0.6541, -1.3776], [-1.9606, 0.0847], [1.2743, -1.2569], [-0.7874, 0.4381], [-1.345, -0.2725], [-1.2915, 0.7218], [-0.2085, 1.4673], [1.1133, -0.9722], [-0.0493, 0.8608], [-0.3123, -0.0879], [-0.3458, -0.1375], [-1.7434, -1.5486], [-1.3968, -1.1378], [-0.9825, -0.939], [-0.5068, 0.9291], [-0.6148, -0.6805], [0.1176, -1.7834], [-1.0672, -1.1185], [-1.137, 1.0381], [0.8441, -1.0875], [-0.0616, 0.7773], [-0.6467, -0.7196], [1.3427, 1.321], [1.197, -1.1122], [0.4572, 0.3028], [-1.6079, -1.4658], [0.7114, 1.9912], [1.2007, -0.0767], [-1.1164, -0.6994], [-1.2506, -1.2736], [1.9868, 0.4318], [0.5696, -0.1586], [-0.3184, -1.8286], [0.8186, 1.9568], [-0.6861, -1.8788], [-0.1657, 1.8727], [1.8387, -0.5318], [1.2817, -1.9453]]\n",
      "\n",
      "vetor velocidade: [[0.79, -0.74], [-0.78, 0.57], [-0.64, 0.65], [-0.61, 0.14], [-0.75, -0.22], [-0.37, -0.71], [-0.43, -0.65], [-0.33, 0.1], [-0.08, 0.02], [-0.73, -0.07], [-0.7, -0.9], [0.03, 0.12], [0.55, 0.47], [-0.14, 0.52], [0.32, 0.7], [0.44, 0.33], [-0.33, 0.66], [-0.13, 0.56], [0.19, -0.33], [0.98, -0.41], [0.75, -0.78], [-0.77, 0.74], [-0.01, 0.49], [-0.83, 0.66], [0.24, -0.53], [0.23, 0.33], [-0.0, -0.56], [-0.71, 0.14], [0.42, 0.45], [0.16, -0.61], [0.59, -0.54], [0.1, 0.57], [0.35, -0.5], [-0.62, -0.1], [-0.56, -0.78], [0.96, -0.48], [-0.69, -0.53], [-0.37, 0.64], [-0.33, 0.84], [-0.11, -0.92], [0.0, -0.18], [-0.38, -0.49], [0.7, -0.77], [0.57, 0.29], [0.57, 0.68], [0.02, 0.15], [0.34, 0.6], [0.72, 0.95], [-0.09, -0.24], [0.79, 0.94]]\n"
     ]
    }
   ],
   "source": [
    "# BLOCO 3: TESTANDO A FUNÇÃO ACIMA\n",
    "pop_teste = []\n",
    "velocidades_teste = []\n",
    "initPop(pop_teste, velocidades_teste)\n",
    "print(f'população teste: {pop_teste}\\n')\n",
    "print(f'vetor velocidade: {velocidades_teste}')"
   ]
  },
  {
   "cell_type": "code",
   "execution_count": 70,
   "metadata": {},
   "outputs": [],
   "source": [
    "#BLOCO 4: CALCULANDO O F_DE_X DE UM INDIVIDUO\n",
    "def calcula_f_de_x(individuo):                \n",
    "    ar = np.array(individuo)                                    #converte a lista individuo para array\n",
    "    return float(\"{:.4f}\".format(rastrigin(ar)))                #calcula o f(x) do individuo apartir da função rastringin"
   ]
  },
  {
   "cell_type": "code",
   "execution_count": 71,
   "metadata": {},
   "outputs": [
    {
     "name": "stdout",
     "output_type": "stream",
     "text": [
      "-2.2546\n"
     ]
    }
   ],
   "source": [
    "# BLOCO 5: TESTANDO A FUNÇÃO ACIMA\n",
    "f_de_x_teste = calcula_f_de_x(pop_teste[2])\n",
    "print(f_de_x_teste)"
   ]
  },
  {
   "cell_type": "code",
   "execution_count": 72,
   "metadata": {},
   "outputs": [],
   "source": [
    "# BLOCO 6: GERANDO O FITNESS DO INDIVIDUO\n",
    "def fitness(individuo):\n",
    "    f_de_x = calcula_f_de_x(individuo)                                #calcula o f(x) do individuo apartir da função rastringin\n",
    "    distancia = abs(minimum_global) + f_de_x                             #calcula a distancia f(s) do individuo até o  f(x) do minimo global\n",
    "    return distancia"
   ]
  },
  {
   "cell_type": "code",
   "execution_count": 73,
   "metadata": {},
   "outputs": [
    {
     "name": "stdout",
     "output_type": "stream",
     "text": [
      "22.3993\n"
     ]
    }
   ],
   "source": [
    "# BLOCO 7: TESTANDO A FUNÇÃO ACIMA\n",
    "fitness_teste = fitness(pop_teste[0])\n",
    "print(fitness_teste)\n"
   ]
  },
  {
   "cell_type": "code",
   "execution_count": 74,
   "metadata": {},
   "outputs": [],
   "source": [
    "# BLOCO 8: GERANDO LISTA DE POP_FITNESS DA POPULAÇÃO\n",
    "def popfitness(pop):\n",
    "    pop_fitness = []                                                                #cria uma lista para armazenar o fitness da população   \n",
    "    for c in range(0,N):                                                            #laço para analisar os N individuos\n",
    "        fitness_ind = fitness(pop[c])                                               #calcula o fitness de cada individuo\n",
    "        pop_fitness.append(fitness_ind)                                             #coloca o fitness na lista\n",
    "    return pop_fitness"
   ]
  },
  {
   "cell_type": "code",
   "execution_count": 75,
   "metadata": {},
   "outputs": [
    {
     "name": "stdout",
     "output_type": "stream",
     "text": [
      "[22.3993, 11.0085, 17.7454, 23.0826, 3.4434000000000005, 9.7285, 34.5737, 22.7746, 16.3275, 41.4259, 33.9958, 40.4257, 35.1788, 5.539, 25.157899999999998, 27.7367, 28.9131, 26.529600000000002, 29.408, 4.765499999999999, 4.8065, 15.4072, 19.3063, 35.3896, 24.7359, 2.632999999999999, 22.0869, 32.5798, 13.719100000000001, 5.914300000000001, 6.1373, 7.7948, 9.6408, 28.8789, 33.3632, 11.7846, 33.1983, 42.292500000000004, 16.887900000000002, 9.5382, 17.4189, 24.7012, 23.264, 23.9762, 22.8715, 10.6873, 20.6707, 11.5138, 28.1756, 17.9904]\n"
     ]
    }
   ],
   "source": [
    "# BLOCO 7: TESTANDO A FUNÇÃO ACIMA\n",
    "pop_fitness = popfitness(pop_teste)\n",
    "print(pop_fitness)"
   ]
  },
  {
   "cell_type": "code",
   "execution_count": 76,
   "metadata": {},
   "outputs": [],
   "source": [
    "#BLOCO 8: CALCULANDO O F_DE_X DE UM INDIVIDUO\n",
    "def calcula_f_de_x(individuo):\n",
    "    individuo_pos = [individuo[0], individuo[1]]\n",
    "    ar = np.array(individuo_pos)\n",
    "    return float(\"{:.4f}\".format(rastrigin(ar)))"
   ]
  },
  {
   "cell_type": "code",
   "execution_count": 77,
   "metadata": {},
   "outputs": [
    {
     "name": "stdout",
     "output_type": "stream",
     "text": [
      "2.3993\n"
     ]
    }
   ],
   "source": [
    "# BLOCO 9: TESTANDO A FUNÇÃO ACIMA\n",
    "f_de_x_teste = calcula_f_de_x(pop_teste[0])\n",
    "print(f_de_x_teste)"
   ]
  },
  {
   "cell_type": "code",
   "execution_count": 87,
   "metadata": {},
   "outputs": [],
   "source": [
    "#BLOCO 10: CALCULANDO A NOVA POSIÇÃO DO INDIVÍDUO\n",
    "#def calcula_posicao(individuo, velocidade):\n",
    "def movimentacao(individuo, velocidade):\n",
    "    individuo[0] = individuo[0] + velocidade[0]                 #calcula a posição final do individuo na coordenada x1\n",
    "    individuo[1] = individuo[1] + velocidade[1]                 #calcula a posição final do individuo na coordenada x2\n",
    "    for c in range(0,2):                                        #laço para analisar as suas coordenadas do individuo\n",
    "        if individuo[c] > 2:                                    #confere se houve um extrapolamento positivo da coordenada \n",
    "            reflexao = individuo[c] - 2                             #em caso positivo, calcula a reflexão \n",
    "            individuo[c] = 2 - reflexao                             #aplica a reflexão\n",
    "        if individuo[c] < -2:                                 #confere se houve um extrapolamento negativo da coordenada\n",
    "            reflexao = (individuo[c] + 2)                           #em caso positivo, calcula a reflexão\n",
    "            individuo[c] = -2 - reflexao                            #aplica a reflexão\n",
    "\n",
    "    "
   ]
  },
  {
   "cell_type": "code",
   "execution_count": 94,
   "metadata": {},
   "outputs": [
    {
     "name": "stdout",
     "output_type": "stream",
     "text": [
      "Posição inicial: [1.9, -1.4] | Velocidade: [1, -0.7]\n",
      "Posição final: [1.1, -1.9000000000000004]\n",
      "--------------------\n",
      "Posição inicial: [1, -0.5] | Velocidade: [0.5, -0.7]\n",
      "Posição final: [1.5, -1.2]\n"
     ]
    }
   ],
   "source": [
    "# BLOCO 11: TESTANDO A FUNÇÃO ACIMA\n",
    "\n",
    "#COM REFLEXÃO:\n",
    "pos_teste = [1.9, -1.4]\n",
    "velocidade_teste  = [1, -0.7]\n",
    "print(f'Posição inicial: {pos_teste} | Velocidade: {velocidade_teste}')\n",
    "movimentacao(pos_teste, velocidade_teste)\n",
    "print(f'Posição final: {pos_teste}')\n",
    "print('-'*20)\n",
    "\n",
    "#SEM REFLEXAO:\n",
    "pos_teste = [1, -0.5]\n",
    "velocidade_teste  = [0.5, -0.7]\n",
    "print(f'Posição inicial: {pos_teste} | Velocidade: {velocidade_teste}')\n",
    "movimentacao(pos_teste, velocidade_teste)\n",
    "print(f'Posição final: {pos_teste}')\n"
   ]
  },
  {
   "cell_type": "code",
   "execution_count": 80,
   "metadata": {},
   "outputs": [
    {
     "ename": "TypeError",
     "evalue": "initPop() missing 2 required positional arguments: 'pop' and 'velocidades'",
     "output_type": "error",
     "traceback": [
      "\u001b[1;31m---------------------------------------------------------------------------\u001b[0m",
      "\u001b[1;31mTypeError\u001b[0m                                 Traceback (most recent call last)",
      "\u001b[1;32mC:\\Users\\VANDOD~1\\AppData\\Local\\Temp/ipykernel_2436/3990860436.py\u001b[0m in \u001b[0;36m<module>\u001b[1;34m\u001b[0m\n\u001b[0;32m      2\u001b[0m \u001b[1;33m\u001b[0m\u001b[0m\n\u001b[0;32m      3\u001b[0m \u001b[1;31m## inicialização da população\u001b[0m\u001b[1;33m\u001b[0m\u001b[1;33m\u001b[0m\u001b[0m\n\u001b[1;32m----> 4\u001b[1;33m \u001b[0mpop\u001b[0m \u001b[1;33m=\u001b[0m \u001b[0minitPop\u001b[0m\u001b[1;33m(\u001b[0m\u001b[1;33m)\u001b[0m                                                                                         \u001b[1;31m#cria a população inicial\u001b[0m\u001b[1;33m\u001b[0m\u001b[1;33m\u001b[0m\u001b[0m\n\u001b[0m\u001b[0;32m      5\u001b[0m \u001b[0mpop_fitness\u001b[0m \u001b[1;33m=\u001b[0m \u001b[0mpopfitness\u001b[0m\u001b[1;33m(\u001b[0m\u001b[0mpop\u001b[0m\u001b[1;33m)\u001b[0m                                                                           \u001b[1;31m#analisa o fitness da população\u001b[0m\u001b[1;33m\u001b[0m\u001b[1;33m\u001b[0m\u001b[0m\n\u001b[0;32m      6\u001b[0m \u001b[0mbest\u001b[0m \u001b[1;33m=\u001b[0m \u001b[0mmin\u001b[0m\u001b[1;33m(\u001b[0m\u001b[0mpop_fitness\u001b[0m\u001b[1;33m)\u001b[0m                                                                                 \u001b[1;31m#descobre o melhor fitness da população inicial\u001b[0m\u001b[1;33m\u001b[0m\u001b[1;33m\u001b[0m\u001b[0m\n",
      "\u001b[1;31mTypeError\u001b[0m: initPop() missing 2 required positional arguments: 'pop' and 'velocidades'"
     ]
    }
   ],
   "source": [
    "#BLOCO 10: BLOCO PRINCIPAL\n",
    "\n",
    "## inicialização da população\n",
    "pop = []                                                                                                #lista para armazenar a população \n",
    "velocidades = []                                                                                        #lista para armazenar as velocidades\n",
    "pbest = []                                                                                              #lista para armazenar o melhor posicionamento de cada particula\n",
    "bests = []                                                                                              #lista para armazenar as melhores posições de cada geração\n",
    "initPop(pop, velocidades)                                                                               #cria a população e as velocidades iniciais\n",
    "pop_fitness = popfitness(pop)                                                                           #analisa o fitness da população\n",
    "best = min(pop_fitness)                                                                                 #descobre o melhor fitness da população inicial\n",
    "pos_best = pop_fitness.index(best)                                                                      #descobre a posição do melhor individuo\n",
    "min_pop = calcula_f_de_x(pop[pos_best])                                                                 #calcula o f(x) do melhor individuo\n",
    "\n",
    "for c in range (0,N):\n",
    "    individuo_best = []                                                                                 #lista auxiliar\n",
    "    individuo_best.append(pop[c][0])\n",
    "    individuo_best.append(pop[c][1])\n",
    "    individuo_best.append(calcula_f_de_x(pop[c]))\n",
    "    pbest.append(calcula_f_de_x(pop[c]))\n",
    "    bests.append(individuo_best[:])\n",
    "    individuo_best.clear()\n",
    "t = 1                                                                                                   #contador de gerações                          \n",
    "pg = []\n",
    "pg.append(pop[pos_best][0])\n",
    "pg.append(pop[pos_best][1])\n",
    "print({pg[0], pg[1]})\n",
    "print(f'Melhor indivíduo inicial: {pop[pos_best]}; Minímo da população: {min_pop}')\n",
    "while min_pop != minimum_global and t != 100:                                                                        #laço até encontrar a solução perfeita\n",
    "    individuo = []                                                                                      #lista para armazenar os individuos que serão gerados\n",
    "    for c in range(0,N):                                                                                #laço para gerar a população mutante\n",
    "        if(calcula_f_de_x(pop[c]) < bests[c][2]):\n",
    "            bests[c][0] = pop[c][0]\n",
    "            bests[c][1] = pop[c][1]\n",
    "            bests[c][2] = calcula_f_de_x(pop[c])\n",
    "            pbest[c] = calcula_f_de_x(pop[c])\n",
    "        best = min(pbest)                                                                             #descobre o melhor fitness da geração\n",
    "        pos_best = pbest.index(best)                                                                  #descobre a posição do mlehor individuo\n",
    "        pg[0] = bests[pos_best][0]\n",
    "        pg[1] = bests[pos_best][1]\n",
    "        individuo.append(pop[c][0])\n",
    "        individuo.append(pop[c][1])                                                                        \n",
    "        for d in range(2,4):             #laço para ambas dimensoes do problema\n",
    "            P1 = rd.random()\n",
    "            P2 = rd.random()\n",
    "            t1 = P1*C1\n",
    "            t2 = P2*C2\n",
    "            velocidade = W*pop[c][d] + t1*(bests[c][d-2] - individuo[d-2]) + t2*(pg[d-2] - individuo[d-2])\n",
    "            individuo.append(velocidade)\n",
    "            if(individuo[d]>vmax or individuo[d]<vmin):\n",
    "                individuo[d] = vmax\n",
    "            \n",
    "        individuo = calcula_posicao(individuo)\n",
    "        pop[c] = individuo[:]\n",
    "        individuo.clear()\n",
    "     \n",
    "    pop_fitness = popfitness(pop)                                                                       #calcula o fitness da população\n",
    "    best = min(pop_fitness)                                                                             #descobre o melhor fitness da geração\n",
    "    pos_best = pop_fitness.index(best)                                                                  #descobre a posição do mlehor individuo\n",
    "    min_pop = calcula_f_de_x(pop[pos_best])                                                             #descobre o f(x) do melhor individuo\n",
    "    t = t + 1                                                                                           #incrementa a geração \n",
    "                                                                                                                                    \n",
    "print('GERAÇAO: ', t)                                                               \n",
    "pop[pos_best][0] = float(\"{:.3f}\".format(pop[pos_best][0]))\n",
    "pop[pos_best][1] = float(\"{:.3f}\".format(pop[pos_best][1]))\n",
    "pop[pos_best][2] = float(\"{:.3f}\".format(pop[pos_best][2]))\n",
    "pop[pos_best][3] = float(\"{:.3f}\".format(pop[pos_best][3]))\n",
    "print(f'Posição do melhor indivíduo final: [{pop[pos_best][0]}, {pop[pos_best][1]}]; \\n')\n",
    "print(f'Velocidade do melhor indivíduo final: [{pop[pos_best][2]}, {pop[pos_best][3]}]; \\n')\n",
    "print(f'Minímo da população: {min_pop} \\n')\n",
    "\n",
    "\n"
   ]
  },
  {
   "cell_type": "markdown",
   "metadata": {},
   "source": [
    "# **RELATÓRIO EVOLUÇÃO DIFERENCIAL - FUNÇÃO RASTRINGIN**\n",
    "### Aluno 1: Vando Carlos Diniz Reis - 2019057195 \n",
    "### Aluno 2: Rafael Moura Marques - 2019089305\n",
    "---\n",
    "# *_IMPLEMENTAÇÃO_*: \n",
    "\n",
    "A implementação deste algoritmo foi igual a usada no código anterior. As únicas diferenças foram usar a função rastringin no lugar da função peaks para calcular o fitness de um indivíduo, e alterar o limite dos valores disponiveis de x1 e x2 para -2 a 2. \n",
    "\n",
    "# _*ANÁLISE DOS RESULTADOS*_: \n",
    "\n",
    "### <ins>Eficiência:</ins>\n",
    "\n",
    "Para testarmos o funcionamento e a eficiência da função Rastringin, decidimos simular o código 100 vezes para calcular o número médio de gerações que o algoritmo encontrava a solução desejada. No final, a média encontrada foi de 49,31 gerações.\n",
    "\n",
    "<img src=rastringin.jpeg alt=\"Rastrngin\" width=\"800\"/>\n",
    "\n",
    "Reparamos também que independente da melhor solução inicial gerada, próxima do minímo global ou não, não houve uma grande variação no número de gerações para obtermos a solução desejada. Acreditamos que isso acontece porque no início do processo de otimazação temos muitos vetores-diferenças disponíveis, logo o algoritmo explora a maioria deles até descobrir os melhores, o que custa algumas gerações. Com o passar das gerações, os possíveis vetores-diferenças acabam ficando mais próximos e uniformes até convergirem para o resultado desejado. \n",
    "\n",
    "\n",
    "\n",
    "\n"
   ]
  }
 ],
 "metadata": {
  "kernelspec": {
   "display_name": "Python 3",
   "language": "python",
   "name": "python3"
  },
  "language_info": {
   "codemirror_mode": {
    "name": "ipython",
    "version": 3
   },
   "file_extension": ".py",
   "mimetype": "text/x-python",
   "name": "python",
   "nbconvert_exporter": "python",
   "pygments_lexer": "ipython3",
   "version": "3.10.2"
  }
 },
 "nbformat": 4,
 "nbformat_minor": 4
}
