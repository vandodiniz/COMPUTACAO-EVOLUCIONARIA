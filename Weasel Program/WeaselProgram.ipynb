{
 "cells": [
  {
   "cell_type": "code",
   "execution_count": 2,
   "metadata": {},
   "outputs": [],
   "source": [
    "import random as rd\n",
    "import numpy as np\n",
    "import string\n",
    "try:\n",
    "    import matplotlib.pyplot as plt\n",
    "except:\n",
    "    print('Erro ao importar biblioteca  \"matplotlib.pyplot\"!')\n",
    "    \n",
    "#VARIÁVEIS GLOBAIS QUE DITAM O COMPORTAMENTO DA POPULAÇÃO\n",
    "CROSSOVER_RATE = 1\n",
    "MUTATION_RATE = 0.05\n",
    "COPIAS = 100\n",
    "GABARITO = 'ME*THINKS*IT*IS*LIKE*A*WEASEL'\n",
    "TAMANHO = len(GABARITO)"
   ]
  },
  {
   "cell_type": "code",
   "execution_count": 3,
   "metadata": {},
   "outputs": [],
   "source": [
    "def criaString():\n",
    "    #sorteia N caracteres aleatórios para ser a palavra inicial\n",
    "    palavra = ''                                                               #palavra inicia vazia\n",
    "    for tam in range(0,TAMANHO):                                                                         \n",
    "        letra = rd.choice(string.ascii_uppercase + string.digits + '*')        #sorteia um caractere       \n",
    "        palavra = palavra + letra                                              #concatena o caractere com a palavra\n",
    "    return palavra"
   ]
  },
  {
   "cell_type": "code",
   "execution_count": 4,
   "metadata": {},
   "outputs": [
    {
     "name": "stdout",
     "output_type": "stream",
     "text": [
      "IW0WQNMOCNQ53X2WPZDHIBFCON7QK\n"
     ]
    }
   ],
   "source": [
    "#TESTE DA FUNÇÃO ACIMA\n",
    "palavra = criaString()\n",
    "print(palavra)"
   ]
  },
  {
   "cell_type": "code",
   "execution_count": 15,
   "metadata": {},
   "outputs": [],
   "source": [
    "def criaPop(individuo):\n",
    "    pop = list()                                                    #cria uma lista para armazenar a população\n",
    "    for tam in range(0,COPIAS):\n",
    "        pop.append(individuo)                                       #cria um número X de cópias do individuo\n",
    "    return pop"
   ]
  },
  {
   "cell_type": "code",
   "execution_count": 6,
   "metadata": {},
   "outputs": [
    {
     "name": "stdout",
     "output_type": "stream",
     "text": [
      "['IW0WQNMOCNQ53X2WPZDHIBFCON7QK', 'IW0WQNMOCNQ53X2WPZDHIBFCON7QK', 'IW0WQNMOCNQ53X2WPZDHIBFCON7QK', 'IW0WQNMOCNQ53X2WPZDHIBFCON7QK', 'IW0WQNMOCNQ53X2WPZDHIBFCON7QK', 'IW0WQNMOCNQ53X2WPZDHIBFCON7QK', 'IW0WQNMOCNQ53X2WPZDHIBFCON7QK', 'IW0WQNMOCNQ53X2WPZDHIBFCON7QK', 'IW0WQNMOCNQ53X2WPZDHIBFCON7QK', 'IW0WQNMOCNQ53X2WPZDHIBFCON7QK', 'IW0WQNMOCNQ53X2WPZDHIBFCON7QK', 'IW0WQNMOCNQ53X2WPZDHIBFCON7QK', 'IW0WQNMOCNQ53X2WPZDHIBFCON7QK', 'IW0WQNMOCNQ53X2WPZDHIBFCON7QK', 'IW0WQNMOCNQ53X2WPZDHIBFCON7QK', 'IW0WQNMOCNQ53X2WPZDHIBFCON7QK', 'IW0WQNMOCNQ53X2WPZDHIBFCON7QK', 'IW0WQNMOCNQ53X2WPZDHIBFCON7QK', 'IW0WQNMOCNQ53X2WPZDHIBFCON7QK', 'IW0WQNMOCNQ53X2WPZDHIBFCON7QK', 'IW0WQNMOCNQ53X2WPZDHIBFCON7QK', 'IW0WQNMOCNQ53X2WPZDHIBFCON7QK', 'IW0WQNMOCNQ53X2WPZDHIBFCON7QK', 'IW0WQNMOCNQ53X2WPZDHIBFCON7QK', 'IW0WQNMOCNQ53X2WPZDHIBFCON7QK', 'IW0WQNMOCNQ53X2WPZDHIBFCON7QK', 'IW0WQNMOCNQ53X2WPZDHIBFCON7QK', 'IW0WQNMOCNQ53X2WPZDHIBFCON7QK', 'IW0WQNMOCNQ53X2WPZDHIBFCON7QK', 'IW0WQNMOCNQ53X2WPZDHIBFCON7QK', 'IW0WQNMOCNQ53X2WPZDHIBFCON7QK', 'IW0WQNMOCNQ53X2WPZDHIBFCON7QK', 'IW0WQNMOCNQ53X2WPZDHIBFCON7QK', 'IW0WQNMOCNQ53X2WPZDHIBFCON7QK', 'IW0WQNMOCNQ53X2WPZDHIBFCON7QK', 'IW0WQNMOCNQ53X2WPZDHIBFCON7QK', 'IW0WQNMOCNQ53X2WPZDHIBFCON7QK', 'IW0WQNMOCNQ53X2WPZDHIBFCON7QK', 'IW0WQNMOCNQ53X2WPZDHIBFCON7QK', 'IW0WQNMOCNQ53X2WPZDHIBFCON7QK', 'IW0WQNMOCNQ53X2WPZDHIBFCON7QK', 'IW0WQNMOCNQ53X2WPZDHIBFCON7QK', 'IW0WQNMOCNQ53X2WPZDHIBFCON7QK', 'IW0WQNMOCNQ53X2WPZDHIBFCON7QK', 'IW0WQNMOCNQ53X2WPZDHIBFCON7QK', 'IW0WQNMOCNQ53X2WPZDHIBFCON7QK', 'IW0WQNMOCNQ53X2WPZDHIBFCON7QK', 'IW0WQNMOCNQ53X2WPZDHIBFCON7QK', 'IW0WQNMOCNQ53X2WPZDHIBFCON7QK', 'IW0WQNMOCNQ53X2WPZDHIBFCON7QK', 'IW0WQNMOCNQ53X2WPZDHIBFCON7QK', 'IW0WQNMOCNQ53X2WPZDHIBFCON7QK', 'IW0WQNMOCNQ53X2WPZDHIBFCON7QK', 'IW0WQNMOCNQ53X2WPZDHIBFCON7QK', 'IW0WQNMOCNQ53X2WPZDHIBFCON7QK', 'IW0WQNMOCNQ53X2WPZDHIBFCON7QK', 'IW0WQNMOCNQ53X2WPZDHIBFCON7QK', 'IW0WQNMOCNQ53X2WPZDHIBFCON7QK', 'IW0WQNMOCNQ53X2WPZDHIBFCON7QK', 'IW0WQNMOCNQ53X2WPZDHIBFCON7QK', 'IW0WQNMOCNQ53X2WPZDHIBFCON7QK', 'IW0WQNMOCNQ53X2WPZDHIBFCON7QK', 'IW0WQNMOCNQ53X2WPZDHIBFCON7QK', 'IW0WQNMOCNQ53X2WPZDHIBFCON7QK', 'IW0WQNMOCNQ53X2WPZDHIBFCON7QK', 'IW0WQNMOCNQ53X2WPZDHIBFCON7QK', 'IW0WQNMOCNQ53X2WPZDHIBFCON7QK', 'IW0WQNMOCNQ53X2WPZDHIBFCON7QK', 'IW0WQNMOCNQ53X2WPZDHIBFCON7QK', 'IW0WQNMOCNQ53X2WPZDHIBFCON7QK', 'IW0WQNMOCNQ53X2WPZDHIBFCON7QK', 'IW0WQNMOCNQ53X2WPZDHIBFCON7QK', 'IW0WQNMOCNQ53X2WPZDHIBFCON7QK', 'IW0WQNMOCNQ53X2WPZDHIBFCON7QK', 'IW0WQNMOCNQ53X2WPZDHIBFCON7QK', 'IW0WQNMOCNQ53X2WPZDHIBFCON7QK', 'IW0WQNMOCNQ53X2WPZDHIBFCON7QK', 'IW0WQNMOCNQ53X2WPZDHIBFCON7QK', 'IW0WQNMOCNQ53X2WPZDHIBFCON7QK', 'IW0WQNMOCNQ53X2WPZDHIBFCON7QK', 'IW0WQNMOCNQ53X2WPZDHIBFCON7QK', 'IW0WQNMOCNQ53X2WPZDHIBFCON7QK', 'IW0WQNMOCNQ53X2WPZDHIBFCON7QK', 'IW0WQNMOCNQ53X2WPZDHIBFCON7QK', 'IW0WQNMOCNQ53X2WPZDHIBFCON7QK', 'IW0WQNMOCNQ53X2WPZDHIBFCON7QK', 'IW0WQNMOCNQ53X2WPZDHIBFCON7QK', 'IW0WQNMOCNQ53X2WPZDHIBFCON7QK', 'IW0WQNMOCNQ53X2WPZDHIBFCON7QK', 'IW0WQNMOCNQ53X2WPZDHIBFCON7QK', 'IW0WQNMOCNQ53X2WPZDHIBFCON7QK', 'IW0WQNMOCNQ53X2WPZDHIBFCON7QK', 'IW0WQNMOCNQ53X2WPZDHIBFCON7QK', 'IW0WQNMOCNQ53X2WPZDHIBFCON7QK', 'IW0WQNMOCNQ53X2WPZDHIBFCON7QK', 'IW0WQNMOCNQ53X2WPZDHIBFCON7QK', 'IW0WQNMOCNQ53X2WPZDHIBFCON7QK', 'IW0WQNMOCNQ53X2WPZDHIBFCON7QK', 'IW0WQNMOCNQ53X2WPZDHIBFCON7QK', 'IW0WQNMOCNQ53X2WPZDHIBFCON7QK']\n"
     ]
    }
   ],
   "source": [
    "#TESTE DA FUNÇÃO ACIMA\n",
    "pop = criaPop(palavra)\n",
    "print(pop)"
   ]
  },
  {
   "cell_type": "code",
   "execution_count": 16,
   "metadata": {},
   "outputs": [],
   "source": [
    "def mutation(pop, MUTATION_RATE):\n",
    "    new_pop = list()                                                                            #cria uma lista para armazenar a nova população\n",
    "    cont = 1                                                                                    #cria um contador para diferenciar o primeiro individuo dos demais\n",
    "    for c in pop:                                                                               #laço que varre todas as cópias\n",
    "        if cont == 1:                                                                           #analisa o primeiro inidivíduo\n",
    "            new_pop.append(c)                                                                   #o primeiro individuo é adicionado a nova população sem sofrer nenhuma mutação\n",
    "        else:                                                                                   #analisa os demais indivíduos\n",
    "            caracteres = list()                                                                 #cria uma lista vazia para armazenar os caracteres do indivíduo\n",
    "            for i in range (0,TAMANHO):                                                         #varre todos os caracteres do indivíduo\n",
    "                letra = c[i]                                                                    #armazena o caractere atual na variavel LETRA\n",
    "                if(rd.random() < MUTATION_RATE):                                                #analisa se terá mutação ou não\n",
    "                    letra = rd.choice(string.ascii_uppercase + string.digits + '*')             #caso tenha, sorteia uma letra aleatória para a variável LETRA\n",
    "                    while letra == c[i]:                                                        #laço que garante que a letra sorteada será diferente da atual\n",
    "                        letra = rd.choice(string.ascii_uppercase + string.digits + '*')\n",
    "                caracteres.append(letra)                                                        #adiciona a variavel LETRA na lista caracteres\n",
    "            palavra = ''.join(caracteres)                                                       #junta todos os caracteres da lista em uma string\n",
    "            new_pop.append(palavra)                                                             #adiciona essa nova string a nova população\n",
    "            caracteres.clear()                                                                  #limpa a lista caracteres\n",
    "        cont +=1                                                                                #incrementa o contador de individuos\n",
    "    return new_pop"
   ]
  },
  {
   "cell_type": "code",
   "execution_count": 8,
   "metadata": {},
   "outputs": [
    {
     "name": "stdout",
     "output_type": "stream",
     "text": [
      "['IW0WQNMOCNQ53X2WPZDHIBFCON7QK', 'IW0WQNMOCQ353X2WPZDHIBFCKN7QK', 'IW0WQZMOCUQ53X2WPZDHIBFCON7QK', 'IW0WQNMOHNQ53X2WPZDHIBFCON7QK', 'IW0WQNMOCNR23X2WIZDHIBFCON7QK', 'IW0WQNMOCNQ5YX2WPZDHIBFCON7QK', 'IW0WQNMOCNQ53X2*P5DHIBFCON7QK', 'IW0WQNMOCNQ53X2WPZDHIBFCON7QK', 'IW0HQNMOCNQ53X2WPZDHIBQCON7QK', 'IW0WQNMOCNQR3X2SPZDJIBFCON7QK', 'IW0W*NMOCNQ53X2WPZDHIBFCON7QK', 'IW0WQNMOCNQ5VU2WPZDHIBFCON7*K', 'IW0WQNMOCNQ53X2WPZDHIBFCON4QK', 'IW0WQNMOCNQ53X2WPZDHIBF1ON7QK', 'IW0SQNMOCNQ53X2WPZDHIBFCON7QK', 'IW0WQNMOCAQ53X2WPZYPIBFCON7QK', 'IW0WQNMOCNX53X2WPZDHIBFCON7QK', 'MW0WQNMOCTQ53X2WPZDHIBFC6N7QK', 'IW0WQNMOCNQ53X2WPZDHIBFCON7QK', 'IW0WQNMOCNQ53X2WPZDHIBFCON7QK', 'I80WQNMOCNQ53XUWPZDHIBFCSN7QK', 'BW0WQNMOCNQ53X2WPZDHIBFCON7QK', 'IW0WQNMOCNQ53X2WPZDHSBFCON7QK', 'IW0WQNMOCNQ53X2WP7DHIBFCSN7QK', 'IM0WQNMOCNJ53X2WQZDHIBFCON7QK', 'IW0WQNMOCNQ53XYWPZDHIBFCON7QK', 'IW0WQNMOCNQ53X2WTZDHIBFCON7KK', 'IW0WQCMOCNQ53X2RPZDHI6FCWN7NK', 'IW0WQNMOCNQ53B2WPZDHIBFCON7JK', 'IW0WQNMOCNQ53X2WPZDHIBFCON7QK', 'IW0WQNMOCNQ53X2WPZDHIIFCON7QK', 'IZ0WQNMOCNQ53X2WPZDHIBFCON7QK', 'IW0WQNMOCNQ53X2WPZDHIBFCON7QK', 'IW0WQNMOCNQ53X2WPZDHIBFCON7QK', 'IW0WQNMOC2Q53X2WPZDHIBF4ON7QK', 'IW0WQNMOCNQ53X2WPZDXIBFCJN7Q0', 'IW06QNMOCNN53X2WPZDHIBFCON7QK', 'IW0WQNMOCNQ5VX2WPUDHIBFCON7QK', 'IW7WQNMOCNQ53X2WPZDHIBFCON7QK', 'IW0WQNMOCNQ53X2WPZDHIBFCON7QK', 'I60WQNMOCNQ53X2WPZDHHBFCON7QK', 'IW0WQNMTCNQ53X2WPZDHIBFCON7QK', 'IW0WQNMOCNQ53X2WPZDHIBF7ON7QK', 'IW0WQNMOCNQ53X2WPZDHIBFCON7QK', 'IW0WQ7MOCNQ53X2WPZDHIBFCON7QK', 'IW0WQNPOCNQ53X2WPZDHIBFCON7QK', 'IW0WQNMOCNQ53X2WPZDHIBQCON7QK', 'IW0WQNMOCNQ53X2WPZDHIBFCON7QK', 'IW0WQNMOCNQ53X2WPZDHIBFCON7QK', 'IL0WQNMOCNQ53X2WPZDHIBFCON7QK', 'IW0FQNMOCNQ53X2WPZDHIBFCDN7QK', 'IW0WQN7OCNQ53X2WPZDHIBFCON7QK', 'IW0WQNMOCNQ53X2WPZDHIBFCRN7QK', 'IL0WQNMOCNQ53X2WPZDHIBFCON7QK', '5W0WQNMOCNQ53X2WPZDHIBFCONFQK', 'IX0WQNMOCNQ53X2WPZDHIBFCON7QK', 'IWRWFNMOCNQ53X2WPZDHIBFCONXQK', 'IW0WQNMOCFQ53X2WEXDHIBFCON7QK', 'IW0ZQNMOCNQ53X2WPZDHIBFCON7QK', 'IW0WQNMOCNQ53X2WPZDHIBFCON7QK', 'IW0WQNMOCNQ5PX2WPZDHIBFCON7QK', 'IW0EQNMOCNQ53X2WPZDHIBFCON7QK', 'IW0WQVMOCNQ53X2WPZDHIBSCZN7QK', 'IW0WQNMO6NQ53X2WPZDHIBFRON7QK', 'IW0WQNMOCNQ53X2WPZDHIBFCON7QK', 'IW0WCNMOCNQ53B2WPZDHI9FCON7QK', 'IW0WQNMOCNQ58X2WPZDHIBFCONSQK', 'IW0WQNMOCNQ53X2WPZDHIBFCON7QK', 'IG0WQNMOCXQ53X2WPZDHIBFCON7QK', 'IW0WQNMOCNQ53X2WPZDHIBNCON7QK', 'IW0WQNMOCNQ53X2WPZDHIBFCBN7QK', 'IW0WQNMOCNQ53X2WPZDHGBFCON7QK', 'IW0LQNMOCNQS3X2WPZDHIBFC5N7QK', 'IW0WQNMOCNQ53X2WPZDHIBFCON7BK', 'WWEWQNMOCNQ53X2WPZDHIBFCON7QK', 'IW0WQNMOCNQ53X2WPZDHIBFJON7QK', 'IW0WQNMOCNQ53X2WPZDHIBFCON7QK', 'IW0WQNMOCNQ53X2WPZDHIBFCON7QK', 'IW0WQNMOCNQL3X2WPZDHIBFMON7QK', 'IW0WQNMOCNQ5KX2WPZDHIBFCON7QK', 'IW0WQAMOCNQ53X2WHZDHIBFVON7QK', 'IW0WQNMOCNQ53X2WPZFHIBFCON7QK', 'IW0WQNMOCNQ53X2WPZBUIBF2ON7QK', 'IW0WQNMOCNQ53X2WPZDHIBFCON7QK', 'IW0WQNMOCNQ5382WPZDHIBFCON7QK', 'IW0WQNMNCNQ53X2WPZDHIBFCON7QK', 'IW0WQNMOCNQ53B2WPBDHIBFCONOQK', 'IW0WQNMOCNQ53X2WPZDHIBFCSN7QK', 'IW0WQNMOCNQ53X2WPZDHIBFCON7QK', 'IW0WQNMOCNQ33X2WPZDHIBFCON7QK', 'IW0WQNMOCNQ5372WPZDHIBFCON7SK', 'IW0WQN6OCNQ53X2WPSDHIBFCOY7QK', 'IW0WQNMOCNQ53X2WPZDHIBFCON7QK', 'IW0WQNMOCNQ53X2WPZDHIBFCON7QK', 'IW0WQNMOTNQ53X2WPZDHIBFCON7QK', 'IW0WQNMOCNQ53X2WPZDHIBFCON7QK', 'IW0WQNMOC7Q53X2WPZDHIBFVON7QK', 'IW0EQNMOCNQ53X2WPZDGIBFCON7QK', 'JW0WQNWOCNQ53X2WPZDHIBFCON7QK', 'IW0WQNMOCNQ53X2WPZDHWBFCONOQK']\n"
     ]
    }
   ],
   "source": [
    "#TESTE DA FUNÇÃO ACIMA\n",
    "pop = mutation(pop, MUTATION_RATE)\n",
    "print(pop)"
   ]
  },
  {
   "cell_type": "code",
   "execution_count": 17,
   "metadata": {},
   "outputs": [],
   "source": [
    "def analisaCaso(palavra, gabarito=GABARITO):\n",
    "    fitness = 0                                             #inicia fitness com 0\n",
    "    for tam in range(0,TAMANHO):                            #varre todos os caracteres da palavra\n",
    "        if gabarito[tam] == palavra[tam]:                   #compara o enésimo-caractere da palavra com o enésimo-caractere do string desejada\n",
    "            fitness+=1                                      #incrementa o fitness caso os caracteres sejam iguais\n",
    "    return fitness"
   ]
  },
  {
   "cell_type": "code",
   "execution_count": 10,
   "metadata": {},
   "outputs": [
    {
     "name": "stdout",
     "output_type": "stream",
     "text": [
      "29\n"
     ]
    }
   ],
   "source": [
    "#TESTE DA FUNÇÃO ACIMA\n",
    "fitness = analisaCaso('ME*THINKS*IT*IS*LIKE*A*WEASEL')  \n",
    "print(fitness)"
   ]
  },
  {
   "cell_type": "code",
   "execution_count": 18,
   "metadata": {},
   "outputs": [],
   "source": [
    "def popFitness(pop):\n",
    "    pop_fitness = [analisaCaso(each_solution) for each_solution in pop]      #analisa o fitness de todos os elementos de pop e o armazena em uma lista      \n",
    "    return pop_fitness"
   ]
  },
  {
   "cell_type": "code",
   "execution_count": 12,
   "metadata": {},
   "outputs": [
    {
     "name": "stdout",
     "output_type": "stream",
     "text": [
      "[0, 0, 0, 0, 0, 0, 1, 0, 0, 0, 0, 0, 0, 0, 0, 0, 0, 1, 0, 0, 0, 0, 0, 0, 0, 0, 0, 0, 0, 0, 0, 0, 0, 0, 0, 0, 0, 0, 0, 0, 0, 0, 0, 0, 0, 0, 0, 0, 0, 0, 0, 0, 0, 0, 0, 0, 0, 0, 0, 0, 0, 0, 0, 0, 0, 0, 1, 0, 0, 0, 0, 0, 0, 0, 0, 0, 0, 0, 0, 0, 0, 0, 0, 0, 0, 0, 0, 0, 0, 0, 0, 0, 0, 0, 0, 0, 0, 0, 0, 0]\n"
     ]
    }
   ],
   "source": [
    "#TESTE DA FUNÇÃO ACIMA\n",
    "pop_fitness = popFitness(pop)\n",
    "print(pop_fitness)\n"
   ]
  },
  {
   "cell_type": "code",
   "execution_count": 13,
   "metadata": {},
   "outputs": [],
   "source": [
    "try: \n",
    "    def grafico(geracoes,bests):\n",
    "        figura = plt.figure(figsize=(20,4))                         #cria gráfico vazio\n",
    "        figura.add_subplot(131)                                     #define o espaço em que o gráfico sera plotado\n",
    "        plt.plot(geracoes,bests)                                    #plota o gráfico com as duas listas\n",
    "        plt.xlabel('GERAÇÃO')                                       #nomeia o eixo x\n",
    "        plt.ylabel('BEST FITNESS')                                  #nomeia o eixo y\n",
    "        plt.title('Best Fitness x Gerações')                        #nomeia o titulo\n",
    "        plt.show()                                                  #mostra o gráfico\n",
    "except:\n",
    "    print('Erro ao criar função \"def grafico(geracoes,bests):\"!')"
   ]
  },
  {
   "cell_type": "code",
   "execution_count": 19,
   "metadata": {},
   "outputs": [
    {
     "name": "stdout",
     "output_type": "stream",
     "text": [
      "String inicial: 65ZCTQABLEW0NEWSOOK2QVXR*XRZU\n",
      "Melhor indíviduo da 10º geração: MEHT4QAK0OW0NIZOOYKE*Y*8EAR1X\n",
      "Melhor indíviduo da 20º geração: MEHTHQNKI*BTNIZ*OYKE*A*MEASEX\n",
      "Melhor indíviduo da 30º geração: MEHTHQNKI*BT*IS*OYKE*A*WEASEL\n",
      "Melhor indíviduo da 40º geração: ME*THINKI*PT*IS*LYKE*A*WEASEL\n",
      "Melhor indíviduo da 50º geração: ME*THINKI*PT*IS*LYKE*A*WEASEL\n",
      "Melhor indíviduo da 60º geração: ME*THINKS*PT*IS*LYKE*A*WEASEL\n",
      "Melhor indíviduo da 70º geração: ME*THINKS*PT*IS*LYKE*A*WEASEL\n",
      "Melhor indíviduo da 80º geração: ME*THINKS*IT*IS*LYKE*A*WEASEL\n",
      "Melhor indíviduo da 90º geração: ME*THINKS*IT*IS*LYKE*A*WEASEL\n",
      "Melhor indíviduo da 100º geração: ME*THINKS*IT*IS*LYKE*A*WEASEL\n",
      "Melhor indíviduo da 110º geração: ME*THINKS*IT*IS*LYKE*A*WEASEL\n",
      "Melhor indíviduo da 120º geração: ME*THINKS*IT*IS*LYKE*A*WEASEL\n",
      "Melhor indíviduo da 130º geração: ME*THINKS*IT*IS*LYKE*A*WEASEL\n",
      "Melhor indíviduo da 140º geração: ME*THINKS*IT*IS*LYKE*A*WEASEL\n",
      "Melhor indíviduo da 150º geração: ME*THINKS*IT*IS*LYKE*A*WEASEL\n",
      "Melhor indíviduo da 160º geração: ME*THINKS*IT*IS*LYKE*A*WEASEL\n",
      "Melhor indíviduo da 170º geração: ME*THINKS*IT*IS*LYKE*A*WEASEL\n",
      "Melhor indíviduo da 180º geração: ME*THINKS*IT*IS*LYKE*A*WEASEL\n",
      "Melhor indíviduo da 190º geração: ME*THINKS*IT*IS*LYKE*A*WEASEL\n",
      "Melhor indíviduo da 200º geração: ME*THINKS*IT*IS*LYKE*A*WEASEL\n",
      "Melhor indíviduo da 210º geração: ME*THINKS*IT*IS*LYKE*A*WEASEL\n",
      "Melhor indíviduo da 220º geração: ME*THINKS*IT*IS*LYKE*A*WEASEL\n",
      "String final: ME*THINKS*IT*IS*LIKE*A*WEASEL\n",
      "Número de caracteres iguais: 29\n",
      "Geração final: 226º\n"
     ]
    },
    {
     "data": {
      "image/png": "[encoded data removed]",
      "text/plain": [
       "<Figure size 1440x288 with 1 Axes>"
      ]
     },
     "metadata": {
      "needs_background": "light"
     },
     "output_type": "display_data"
    }
   ],
   "source": [
    "#ALGORITMO GENÉTICO COMPLETO\n",
    "bests = list()                                                           #cria uma lista para armazenar dados\n",
    "geracoes = list()                                                        #cria uma lista para armazenar dados\n",
    "palavra = criaString()                                                   #gera uma palavra aleatória\n",
    "best = analisaCaso(palavra)                                              #analisa o fitness da palavra\n",
    "pop = [palavra]                                                          #população inicial contém apenas a palavra sorteada    \n",
    "i = 0                                                                    #contador de gerações\n",
    "print(f'String inicial: {palavra}')  \n",
    "while best!=TAMANHO:\n",
    "    i+=1                                                                 #incrementa um ao número da geração\n",
    "    if(rd.random()<CROSSOVER_RATE):                                      #analisa se tem cruzamento ou não\n",
    "        pop = criaPop(palavra)                                           #cria as 100 cópias\n",
    "        pop = mutation(pop, MUTATION_RATE)                               #aplica as mutações nas 100 cópias\n",
    "    pop_fitness = popFitness(pop)                                        #analisa o fitness da população\n",
    "    best = max(pop_fitness)                                              #descobre o melhor fitness\n",
    "    pos_best = pop_fitness.index(best)                                   #descobre a posição do melhor fitness\n",
    "    palavra = pop[pos_best]                                              #descobre o indivíduo com melhor fitness\n",
    "    bests.append(best)                                                   #adiciona informação na lista de dados\n",
    "    geracoes.append(i)                                                   #adiciona informação na lista de dados\n",
    "    if(i%10 == 0):\n",
    "        print(f'Melhor indíviduo da {i}º geração: {palavra}')            #printa o melhor indivíduo a cada 10 gerações\n",
    "#INFORMAÇÕES FINAIS\n",
    "print(f'String final: {palavra}')\n",
    "print(f'Número de caracteres iguais: {best}')\n",
    "print(f'Geração final: {i}º')\n",
    "try:\n",
    "    grafico(geracoes,bests)\n",
    "except:\n",
    "    print('Erro ao gerar gráfico!')"
   ]
  }
 ],
 "metadata": {
  "interpreter": {
   "hash": "20099c77346fa184342f5a0e1dc2579955983be62f07a7f263c863d4bded7e85"
  },
  "kernelspec": {
   "display_name": "Python 3.10.0 64-bit (windows store)",
   "language": "python",
   "name": "python3"
  },
  "language_info": {
   "codemirror_mode": {
    "name": "ipython",
    "version": 3
   },
   "file_extension": ".py",
   "mimetype": "text/x-python",
   "name": "python",
   "nbconvert_exporter": "python",
   "pygments_lexer": "ipython3",
   "version": "3.10.1"
  },
  "orig_nbformat": 4
 },
 "nbformat": 4,
 "nbformat_minor": 2
}
