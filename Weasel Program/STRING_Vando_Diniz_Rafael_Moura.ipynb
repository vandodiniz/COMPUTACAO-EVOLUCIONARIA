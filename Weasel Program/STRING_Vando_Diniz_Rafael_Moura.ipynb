{
 "cells": [
  {
   "cell_type": "code",
   "execution_count": 1,
   "metadata": {},
   "outputs": [],
   "source": [
    "import random as rd\n",
    "import numpy as np\n",
    "import string\n",
    "try:\n",
    "    import matplotlib.pyplot as plt\n",
    "except:\n",
    "    print('Erro ao importar biblioteca  \"matplotlib.pyplot\"!')\n",
    "    \n",
    "#VARIÁVEIS GLOBAIS QUE DITAM O COMPORTAMENTO DA POPULAÇÃO\n",
    "CROSSOVER_RATE = 1\n",
    "MUTATION_RATE = 0.05\n",
    "COPIAS = 100\n",
    "GABARITO = 'ME*THINKS*IT*IS*LIKE*A*WEASEL'\n",
    "TAMANHO = len(GABARITO)"
   ]
  },
  {
   "cell_type": "code",
   "execution_count": 2,
   "metadata": {},
   "outputs": [],
   "source": [
    "def criaString():\n",
    "    #sorteia N caracteres aleatórios para ser a palavra inicial\n",
    "    palavra = ''                                                               #palavra inicia vazia\n",
    "    for tam in range(0,TAMANHO):                                                                         \n",
    "        letra = rd.choice(string.ascii_uppercase + string.digits + '*')        #sorteia um caractere       \n",
    "        palavra = palavra + letra                                              #concatena o caractere com a palavra\n",
    "    return palavra"
   ]
  },
  {
   "cell_type": "code",
   "execution_count": 3,
   "metadata": {},
   "outputs": [
    {
     "name": "stdout",
     "output_type": "stream",
     "text": [
      "WBE7QWIKYPO7T1JEX5G*25RX2COEA\n"
     ]
    }
   ],
   "source": [
    "#TESTE DA FUNÇÃO ACIMA\n",
    "palavra = criaString()\n",
    "print(palavra)"
   ]
  },
  {
   "cell_type": "code",
   "execution_count": 4,
   "metadata": {},
   "outputs": [],
   "source": [
    "def criaPop(individuo):\n",
    "    pop = list()                                                    #cria uma lista para armazenar a população\n",
    "    for tam in range(0,COPIAS):\n",
    "        pop.append(individuo)                                       #cria um número X de cópias do individuo\n",
    "    return pop"
   ]
  },
  {
   "cell_type": "code",
   "execution_count": 5,
   "metadata": {},
   "outputs": [
    {
     "name": "stdout",
     "output_type": "stream",
     "text": [
      "['WBE7QWIKYPO7T1JEX5G*25RX2COEA', 'WBE7QWIKYPO7T1JEX5G*25RX2COEA', 'WBE7QWIKYPO7T1JEX5G*25RX2COEA', 'WBE7QWIKYPO7T1JEX5G*25RX2COEA', 'WBE7QWIKYPO7T1JEX5G*25RX2COEA', 'WBE7QWIKYPO7T1JEX5G*25RX2COEA', 'WBE7QWIKYPO7T1JEX5G*25RX2COEA', 'WBE7QWIKYPO7T1JEX5G*25RX2COEA', 'WBE7QWIKYPO7T1JEX5G*25RX2COEA', 'WBE7QWIKYPO7T1JEX5G*25RX2COEA', 'WBE7QWIKYPO7T1JEX5G*25RX2COEA', 'WBE7QWIKYPO7T1JEX5G*25RX2COEA', 'WBE7QWIKYPO7T1JEX5G*25RX2COEA', 'WBE7QWIKYPO7T1JEX5G*25RX2COEA', 'WBE7QWIKYPO7T1JEX5G*25RX2COEA', 'WBE7QWIKYPO7T1JEX5G*25RX2COEA', 'WBE7QWIKYPO7T1JEX5G*25RX2COEA', 'WBE7QWIKYPO7T1JEX5G*25RX2COEA', 'WBE7QWIKYPO7T1JEX5G*25RX2COEA', 'WBE7QWIKYPO7T1JEX5G*25RX2COEA', 'WBE7QWIKYPO7T1JEX5G*25RX2COEA', 'WBE7QWIKYPO7T1JEX5G*25RX2COEA', 'WBE7QWIKYPO7T1JEX5G*25RX2COEA', 'WBE7QWIKYPO7T1JEX5G*25RX2COEA', 'WBE7QWIKYPO7T1JEX5G*25RX2COEA', 'WBE7QWIKYPO7T1JEX5G*25RX2COEA', 'WBE7QWIKYPO7T1JEX5G*25RX2COEA', 'WBE7QWIKYPO7T1JEX5G*25RX2COEA', 'WBE7QWIKYPO7T1JEX5G*25RX2COEA', 'WBE7QWIKYPO7T1JEX5G*25RX2COEA', 'WBE7QWIKYPO7T1JEX5G*25RX2COEA', 'WBE7QWIKYPO7T1JEX5G*25RX2COEA', 'WBE7QWIKYPO7T1JEX5G*25RX2COEA', 'WBE7QWIKYPO7T1JEX5G*25RX2COEA', 'WBE7QWIKYPO7T1JEX5G*25RX2COEA', 'WBE7QWIKYPO7T1JEX5G*25RX2COEA', 'WBE7QWIKYPO7T1JEX5G*25RX2COEA', 'WBE7QWIKYPO7T1JEX5G*25RX2COEA', 'WBE7QWIKYPO7T1JEX5G*25RX2COEA', 'WBE7QWIKYPO7T1JEX5G*25RX2COEA', 'WBE7QWIKYPO7T1JEX5G*25RX2COEA', 'WBE7QWIKYPO7T1JEX5G*25RX2COEA', 'WBE7QWIKYPO7T1JEX5G*25RX2COEA', 'WBE7QWIKYPO7T1JEX5G*25RX2COEA', 'WBE7QWIKYPO7T1JEX5G*25RX2COEA', 'WBE7QWIKYPO7T1JEX5G*25RX2COEA', 'WBE7QWIKYPO7T1JEX5G*25RX2COEA', 'WBE7QWIKYPO7T1JEX5G*25RX2COEA', 'WBE7QWIKYPO7T1JEX5G*25RX2COEA', 'WBE7QWIKYPO7T1JEX5G*25RX2COEA', 'WBE7QWIKYPO7T1JEX5G*25RX2COEA', 'WBE7QWIKYPO7T1JEX5G*25RX2COEA', 'WBE7QWIKYPO7T1JEX5G*25RX2COEA', 'WBE7QWIKYPO7T1JEX5G*25RX2COEA', 'WBE7QWIKYPO7T1JEX5G*25RX2COEA', 'WBE7QWIKYPO7T1JEX5G*25RX2COEA', 'WBE7QWIKYPO7T1JEX5G*25RX2COEA', 'WBE7QWIKYPO7T1JEX5G*25RX2COEA', 'WBE7QWIKYPO7T1JEX5G*25RX2COEA', 'WBE7QWIKYPO7T1JEX5G*25RX2COEA', 'WBE7QWIKYPO7T1JEX5G*25RX2COEA', 'WBE7QWIKYPO7T1JEX5G*25RX2COEA', 'WBE7QWIKYPO7T1JEX5G*25RX2COEA', 'WBE7QWIKYPO7T1JEX5G*25RX2COEA', 'WBE7QWIKYPO7T1JEX5G*25RX2COEA', 'WBE7QWIKYPO7T1JEX5G*25RX2COEA', 'WBE7QWIKYPO7T1JEX5G*25RX2COEA', 'WBE7QWIKYPO7T1JEX5G*25RX2COEA', 'WBE7QWIKYPO7T1JEX5G*25RX2COEA', 'WBE7QWIKYPO7T1JEX5G*25RX2COEA', 'WBE7QWIKYPO7T1JEX5G*25RX2COEA', 'WBE7QWIKYPO7T1JEX5G*25RX2COEA', 'WBE7QWIKYPO7T1JEX5G*25RX2COEA', 'WBE7QWIKYPO7T1JEX5G*25RX2COEA', 'WBE7QWIKYPO7T1JEX5G*25RX2COEA', 'WBE7QWIKYPO7T1JEX5G*25RX2COEA', 'WBE7QWIKYPO7T1JEX5G*25RX2COEA', 'WBE7QWIKYPO7T1JEX5G*25RX2COEA', 'WBE7QWIKYPO7T1JEX5G*25RX2COEA', 'WBE7QWIKYPO7T1JEX5G*25RX2COEA', 'WBE7QWIKYPO7T1JEX5G*25RX2COEA', 'WBE7QWIKYPO7T1JEX5G*25RX2COEA', 'WBE7QWIKYPO7T1JEX5G*25RX2COEA', 'WBE7QWIKYPO7T1JEX5G*25RX2COEA', 'WBE7QWIKYPO7T1JEX5G*25RX2COEA', 'WBE7QWIKYPO7T1JEX5G*25RX2COEA', 'WBE7QWIKYPO7T1JEX5G*25RX2COEA', 'WBE7QWIKYPO7T1JEX5G*25RX2COEA', 'WBE7QWIKYPO7T1JEX5G*25RX2COEA', 'WBE7QWIKYPO7T1JEX5G*25RX2COEA', 'WBE7QWIKYPO7T1JEX5G*25RX2COEA', 'WBE7QWIKYPO7T1JEX5G*25RX2COEA', 'WBE7QWIKYPO7T1JEX5G*25RX2COEA', 'WBE7QWIKYPO7T1JEX5G*25RX2COEA', 'WBE7QWIKYPO7T1JEX5G*25RX2COEA', 'WBE7QWIKYPO7T1JEX5G*25RX2COEA', 'WBE7QWIKYPO7T1JEX5G*25RX2COEA', 'WBE7QWIKYPO7T1JEX5G*25RX2COEA', 'WBE7QWIKYPO7T1JEX5G*25RX2COEA', 'WBE7QWIKYPO7T1JEX5G*25RX2COEA']\n"
     ]
    }
   ],
   "source": [
    "#TESTE DA FUNÇÃO ACIMA\n",
    "pop = criaPop(palavra)\n",
    "print(pop)"
   ]
  },
  {
   "cell_type": "code",
   "execution_count": 6,
   "metadata": {},
   "outputs": [],
   "source": [
    "def mutation(pop, MUTATION_RATE):\n",
    "    new_pop = list()                                                                            #cria uma lista para armazenar a nova população\n",
    "    cont = 1                                                                                    #cria um contador para diferenciar o primeiro individuo dos demais\n",
    "    for c in pop:                                                                               #laço que varre todas as cópias\n",
    "        if cont == 1:                                                                           #analisa o primeiro inidivíduo\n",
    "            new_pop.append(c)                                                                   #o primeiro individuo é adicionado a nova população sem sofrer nenhuma mutação\n",
    "        else:                                                                                   #analisa os demais indivíduos\n",
    "            caracteres = list()                                                                 #cria uma lista vazia para armazenar os caracteres do indivíduo\n",
    "            for i in range (0,TAMANHO):                                                         #varre todos os caracteres do indivíduo\n",
    "                letra = c[i]                                                                    #armazena o caractere atual na variavel LETRA\n",
    "                if(rd.random() < MUTATION_RATE):                                                #analisa se terá mutação ou não\n",
    "                    letra = rd.choice(string.ascii_uppercase + string.digits + '*')             #caso tenha, sorteia uma letra aleatória para a variável LETRA\n",
    "                    while letra == c[i]:                                                        #laço que garante que a letra sorteada será diferente da atual\n",
    "                        letra = rd.choice(string.ascii_uppercase + string.digits + '*')\n",
    "                caracteres.append(letra)                                                        #adiciona a variavel LETRA na lista caracteres\n",
    "            palavra = ''.join(caracteres)                                                       #junta todos os caracteres da lista em uma string\n",
    "            new_pop.append(palavra)                                                             #adiciona essa nova string a nova população\n",
    "            caracteres.clear()                                                                  #limpa a lista caracteres\n",
    "        cont +=1                                                                                #incrementa o contador de individuos\n",
    "    return new_pop"
   ]
  },
  {
   "cell_type": "code",
   "execution_count": 7,
   "metadata": {},
   "outputs": [
    {
     "name": "stdout",
     "output_type": "stream",
     "text": [
      "['WBE7QWIKYPO7T1JEX5G*25RX2COEA', 'WBE7QWIKYP87T1JEX5G*25RX2COEA', 'WBE7QWIKYPO7T1JEX2G*25RX2COEA', 'WBE7QWIVYPO7TTJEX5G*25RX2COEA', 'WBE7QWIKYPO7T1JEX5G*25RX2COEA', 'WBE7QWIKYPO7T1JEX5G*25RX2COEA', 'WBE7QWVKYPO7T1JEX5G*25RX2COEA', 'WBE7QWIKYUO7TBJEX5G*25RX25OEA', 'WBE7QWIKYPO4T1JEX5G*25RX2COEA', 'WBE7QWIKYPO7T1JEX5G*25RX2COEA', '3FE7QWIKYPO7T1JEX5G*25RX2QOEA', 'WBE7QWIKYPO7T1JUX5G*25RX2COEA', 'WBE7QWIKYPO7TFJEX5G*25RX2COEA', 'WB47QWIKYPO7T4JEX5G*25RX2COEA', 'WBE*QWIKYPOHT1JEX5G*2QRX2COEI', 'WBS7QWIKYPO7T1JEX5CJ25RX2COEA', 'WBE7QWIKYPO7T1JEX5G*25RX2COEA', 'WBE7QWIKYPF7T1JEX5G*25RX2W7EA', 'WBE7QWIKYPO7T1JEX5D*25RX2COEA', 'WBE7QWIKYPO7T1JEX5G*25RX2COEA', 'WHE7QWIKYPO7T1JEX5G*25RX2COEA', 'HOE7QWIKYPO7T1DEX5G*25RX2COEA', 'WBE7QWIKYPO7T1JEX5G225RX2COEA', 'WBE7QWIKYPO7T1JEX5G*25RX2COOA', 'WBE7QWIKYPOGT1JEX5G*25RX2COEA', 'WBE7QWIKYPO7X1JEX5G*2GRX2COEA', 'WBE7QWIKY8Z7TTJEX5GU25RX2COEA', 'WBE7QWIKO*O7T1JEX5GW25RX2CBEA', 'WBE7QWIKYZO7T1FEX5G*25RX2COEA', 'WBE7QWIKYPO7T1JEX5G*25RX2COEA', 'W9E7QWIKYPO7T1JEX5G*25RX2COEA', 'WBX4QWIK6P47T1JEX5G*25RX2COEA', 'WBA7QWIKYPOET1JEX5G*25RX2CO6A', 'WBE7QWIKYPO7T1JEX5G*25RX22OEA', 'WBE7QWIKYPO7T1JEX5G*25RX2COEA', 'WBE7QWIKYPO7T1JEX5G*2XRX2COEA', 'WBE7QWIDYPO7T1JEX5GA25RX2COEA', 'WBEHQWIKYPO7T1JEX5G*25RX2COEA', 'WBE7QWIKYPO7T1JEX5G*25RX2COEA', 'TBE7QWIKYPO7T1JEX5I*25RX2COEA', 'WBE7QWIKYPO7T1JEX5G*25RX2COEA', 'WBEGQWIKYPO7T1JEX5G*R5RX2COEA', 'GBE7QWIKYPO7T1JEX5G*2ORX2COEA', 'WBE7*WIKYPO7T1JEX5G*25RX2COEA', 'WBL7QWIKYPO7T1JEX5U*25RX2COEA', 'WBE7QWIKYPO7T1JEX5**25RX2COEA', 'WBE7QWIKYPO7T1JEX5G*25RX2COEA', 'WBE7QWIKYP17T1JEX5GM25RXHCOEA', 'WBE7QWIKYPO7T1JEXZG*25RX2COEA', 'WBE7QWIKYPX7T1JEX5G*25RX2COEA', 'WBE7QWIKY0O7G1JEX5G*25RX2COEA', 'WBE7QWIKYPO7Y1JEX5G*20RX2COEA', 'WBG7QWIKYPO7T1JEX5G*25RX2COEA', 'WBE7QWI*YPO7T1JEX5G*25RX2MOEA', 'WBE7QWIKYPO7T1JEX5G*25RX2COEA', 'WBE7QWIKYPO7TQJEX5G*25RX2COEA', 'WBE7QWIKYPO7T1JEX5G*25RX2COEA', 'KBE7QGIKYPO7T1JEX5G*25RX2COEA', 'WBE7QWIKYPO7T1JEX5G*25RX2KOEA', 'WBE7QWIKYPO7T1JEX5G*25RX2COEA', 'WBE7MWIKYPO7T1JEX5GF25RX2COEA', 'WBE7QWIKYPO7T1JEX5G*25RX2COEA', 'WBE7QWIKYPO7T1JEX5G*25RX2CBEA', 'WBE7QWIKYPO7T1JEX5G*25RX2C7EA', 'WBV7QWIKYPO7T1JEX5G*J5RX21OEA', 'WBE7QW*KYPO7A1JEX5G*25RX2CNEA', 'WBE7QWIKYP*7T1JEX3G*25RX2COEA', 'WBE7QWIKYPO7T1BEX5G*25RX2COEA', 'WBE7QWIKYPI7T1JE55G*25RX0COEA', 'WBS7QWIKYPO7T1JEX5G*25RX2COEA', 'WBE7QWIKYPO7T1JEX5G*25RX2COEA', 'WBE7QWIK1POYT1JEX6G*25RX2COEA', 'WBE7QWIKYPO7T1JJX5G*2IRX2COEA', 'WBE7QWIKYPO2T1JEM5G*25RX2COEM', 'WBE7QWIKJPO7T1JEX5G*25RX2C1EA', 'WGE7QWWKYPO7T1JEX5G*25RX2COEA', '9BE7QWIKYPO7T1JEX5G*25RX2COEA', 'WB47QWIKYPO7T1JEX5G*25RX20OEA', 'WBE*QWIKYPO7T1JEX5G*25RX2COEA', 'WBE7QWIKYPO7T*J6I5G*25RX2COEA', 'WBE7QWIKYPOVT1JEX5G*25RX2COEA', '5BU7QWIKYPI7T1JEX5G*25RX2CO0A', 'WB17QWIKYPO7T1JEX5G*2KRX2COLA', 'WBE7QWIKYPO7T1JPX5G*Q5RX2COEA', 'WBE7QWIKYPO7T1JEX5G*25RX2COEA', 'WB*7QWIKYPO7T1JEX5G*2MRX2COEA', 'WBE7QWIKYPO7T1JEX5G*25RX2VOEA', 'WBE7QWIKYPO7T1JFX5G*25RX2COEA', '3BE7QWIKYPO7T1JEX5G*25RX2COEA', 'WBE7QLIKYPO7T1JEX5G025RX2COEA', 'WBE7QWIKYPO7T1JEX5G*35RX2ROEA', 'WBE7QWIKYPO7T1JEX5G*25RX2COEA', 'WBE7QWIKYPO7JYJEX5G*25RX2CO1A', 'WBE7QWI2YPO7T1JEX5G*25RX2COEA', 'WBE7QWIKYPO7T1JEX5G*25FX2COEA', 'WBE7QWIKYPO7T1JEX5G*H5RXPCOEA', 'WBE7QWIKYPO7T1JZX5G*25RX2COEA', 'WBE7QWIKYPO7T1JEX5G*25RX2COE6', 'WBE7QWIKYXO7T1JEX5G*25RX2COEA', 'WBE7QWIKYPO7T1JEX5G*25RX2SOEA']\n"
     ]
    }
   ],
   "source": [
    "#TESTE DA FUNÇÃO ACIMA\n",
    "pop = mutation(pop, MUTATION_RATE)\n",
    "print(pop)"
   ]
  },
  {
   "cell_type": "code",
   "execution_count": 8,
   "metadata": {},
   "outputs": [],
   "source": [
    "def analisaCaso(palavra, gabarito=GABARITO):\n",
    "    fitness = 0                                             #inicia fitness com 0\n",
    "    for tam in range(0,TAMANHO):                            #varre todos os caracteres da palavra\n",
    "        if gabarito[tam] == palavra[tam]:                   #compara o enésimo-caractere da palavra com o enésimo-caractere do string desejada\n",
    "            fitness+=1                                      #incrementa o fitness caso os caracteres sejam iguais\n",
    "    return fitness"
   ]
  },
  {
   "cell_type": "code",
   "execution_count": 9,
   "metadata": {},
   "outputs": [
    {
     "name": "stdout",
     "output_type": "stream",
     "text": [
      "29\n"
     ]
    }
   ],
   "source": [
    "#TESTE DA FUNÇÃO ACIMA\n",
    "fitness = analisaCaso('ME*THINKS*IT*IS*LIKE*A*WEASEL')  \n",
    "print(fitness)"
   ]
  },
  {
   "cell_type": "code",
   "execution_count": 10,
   "metadata": {},
   "outputs": [],
   "source": [
    "def popFitness(pop):\n",
    "    pop_fitness = [analisaCaso(each_solution) for each_solution in pop]      #analisa o fitness de todos os elementos de pop e o armazena em uma lista      \n",
    "    return pop_fitness"
   ]
  },
  {
   "cell_type": "code",
   "execution_count": 11,
   "metadata": {},
   "outputs": [
    {
     "name": "stdout",
     "output_type": "stream",
     "text": [
      "[2, 2, 2, 1, 2, 2, 2, 2, 2, 2, 2, 2, 2, 2, 2, 2, 2, 2, 2, 2, 2, 2, 2, 1, 2, 2, 2, 3, 2, 2, 2, 2, 1, 2, 2, 2, 1, 2, 2, 2, 2, 2, 2, 2, 2, 2, 2, 2, 2, 2, 2, 2, 2, 1, 2, 2, 2, 2, 2, 2, 2, 2, 2, 2, 2, 2, 2, 2, 3, 2, 2, 2, 2, 2, 2, 2, 2, 2, 2, 2, 2, 2, 1, 2, 2, 3, 2, 2, 2, 2, 2, 2, 1, 1, 2, 2, 2, 2, 2, 2]\n"
     ]
    }
   ],
   "source": [
    "#TESTE DA FUNÇÃO ACIMA\n",
    "pop_fitness = popFitness(pop)\n",
    "print(pop_fitness)\n"
   ]
  },
  {
   "cell_type": "code",
   "execution_count": 12,
   "metadata": {},
   "outputs": [],
   "source": [
    "try: \n",
    "    def grafico(geracoes,bests):\n",
    "        figura = plt.figure(figsize=(20,4))                         #cria gráfico vazio\n",
    "        figura.add_subplot(131)                                     #define o espaço em que o gráfico sera plotado\n",
    "        plt.plot(geracoes,bests)                                    #plota o gráfico com as duas listas\n",
    "        plt.xlabel('GERAÇÃO')                                       #nomeia o eixo x\n",
    "        plt.ylabel('BEST FITNESS')                                  #nomeia o eixo y\n",
    "        plt.title('Best Fitness x Gerações')                        #nomeia o titulo\n",
    "        plt.show()                                                  #mostra o gráfico\n",
    "except:\n",
    "    print('Erro ao criar função \"def grafico(geracoes,bests):\"!')"
   ]
  },
  {
   "cell_type": "code",
   "execution_count": 13,
   "metadata": {},
   "outputs": [
    {
     "name": "stdout",
     "output_type": "stream",
     "text": [
      "String inicial: N8UIXX*5H9KV2MTNAS6HRK6LR9Y9S\n",
      "Melhor indíviduo da 10º geração: *RUIVIN5S*IT*ISNASKMRK6LVYY4S\n",
      "Melhor indíviduo da 20º geração: *R*IHINKS*IT*ISK9KKERA6PELSES\n",
      "Melhor indíviduo da 30º geração: MR*IHINKS*IT*ISK9KKERA*WELSEL\n",
      "Melhor indíviduo da 40º geração: MR*THINKS*IT*IS*9KKERA*WELSEL\n",
      "Melhor indíviduo da 50º geração: MR*THINKS*IT*IS*LKKERA*WEASEL\n",
      "Melhor indíviduo da 60º geração: MR*THINKS*IT*IS*LIKERA*WEASEL\n",
      "Melhor indíviduo da 70º geração: ME*THINKS*IT*IS*LIKERA*WEASEL\n",
      "Melhor indíviduo da 80º geração: ME*THINKS*IT*IS*LIKE*A*WEASEL\n",
      "String final: ME*THINKS*IT*IS*LIKE*A*WEASEL\n",
      "Número de caracteres iguais: 29\n",
      "Geração final: 80º\n"
     ]
    },
    {
     "data": {
      "image/png": "[encoded data removed]",
      "text/plain": [
       "<Figure size 1440x288 with 1 Axes>"
      ]
     },
     "metadata": {
      "needs_background": "light"
     },
     "output_type": "display_data"
    }
   ],
   "source": [
    "#ALGORITMO GENÉTICO COMPLETO\n",
    "bests = list()                                                           #cria uma lista para armazenar dados\n",
    "geracoes = list()                                                        #cria uma lista para armazenar dados\n",
    "palavra = criaString()                                                   #gera uma palavra aleatória\n",
    "best = analisaCaso(palavra)                                              #analisa o fitness da palavra\n",
    "pop = [palavra]                                                          #população inicial contém apenas a palavra sorteada    \n",
    "i = 0                                                                    #contador de gerações\n",
    "print(f'String inicial: {palavra}')  \n",
    "while best!=TAMANHO:\n",
    "    i+=1                                                                 #incrementa um ao número da geração\n",
    "    if(rd.random()<CROSSOVER_RATE):                                      #analisa se tem cruzamento ou não\n",
    "        pop = criaPop(palavra)                                           #cria as 100 cópias\n",
    "        pop = mutation(pop, MUTATION_RATE)                               #aplica as mutações nas 100 cópias\n",
    "    pop_fitness = popFitness(pop)                                        #analisa o fitness da população\n",
    "    best = max(pop_fitness)                                              #descobre o melhor fitness\n",
    "    pos_best = pop_fitness.index(best)                                   #descobre a posição do melhor fitness\n",
    "    palavra = pop[pos_best]                                              #descobre o indivíduo com melhor fitness\n",
    "    bests.append(best)                                                   #adiciona informação na lista de dados\n",
    "    geracoes.append(i)                                                   #adiciona informação na lista de dados\n",
    "    if(i%10 == 0):\n",
    "        print(f'Melhor indíviduo da {i}º geração: {palavra}')            #printa o melhor indivíduo a cada 10 gerações\n",
    "#INFORMAÇÕES FINAIS\n",
    "print(f'String final: {palavra}')\n",
    "print(f'Número de caracteres iguais: {best}')\n",
    "print(f'Geração final: {i}º')\n",
    "try:\n",
    "    grafico(geracoes,bests)\n",
    "except:\n",
    "    print('Erro ao gerar gráfico!')"
   ]
  }
 ],
 "metadata": {
  "interpreter": {
   "hash": "20099c77346fa184342f5a0e1dc2579955983be62f07a7f263c863d4bded7e85"
  },
  "kernelspec": {
   "display_name": "Python 3.10.0 64-bit (windows store)",
   "language": "python",
   "name": "python3"
  },
  "language_info": {
   "codemirror_mode": {
    "name": "ipython",
    "version": 3
   },
   "file_extension": ".py",
   "mimetype": "text/x-python",
   "name": "python",
   "nbconvert_exporter": "python",
   "pygments_lexer": "ipython3",
   "version": "3.10.1"
  },
  "orig_nbformat": 4
 },
 "nbformat": 4,
 "nbformat_minor": 2
}
