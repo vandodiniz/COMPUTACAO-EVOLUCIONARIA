{
 "cells": [
  {
   "cell_type": "code",
   "execution_count": 58,
   "metadata": {},
   "outputs": [],
   "source": [
    "import random as rd\n",
    "import numpy as np\n",
    "import string\n",
    "\n",
    "#VARIÁVEIS GLOBAIS QUE DITAM O COMPORTAMENTO DA POPULAÇÃO\n",
    "CROSSOVER_RATE = 1\n",
    "MUTATION_RATE = 0.05\n",
    "COPIAS = 100\n",
    "GABARITO = 'ME*THINKS*IT*IS*LIKE*A*WEASEL'\n",
    "TAMANHO = len(GABARITO)"
   ]
  },
  {
   "cell_type": "code",
   "execution_count": 59,
   "metadata": {},
   "outputs": [],
   "source": [
    "def criaString():\n",
    "    #sorteia N caracteres aleatórios para ser a palavra inicial\n",
    "    palavra = ''                                                               #palavra inicia vazia\n",
    "    for tam in range(0,TAMANHO):                                                                         \n",
    "        letra = rd.choice(string.ascii_uppercase + string.digits + '*')        #sorteia um caractere       \n",
    "        palavra = palavra + letra                                              #concatena o caractere com a palavra\n",
    "    return palavra"
   ]
  },
  {
   "cell_type": "code",
   "execution_count": 60,
   "metadata": {},
   "outputs": [
    {
     "name": "stdout",
     "output_type": "stream",
     "text": [
      "LZZG9ZQAE2PLYFGUG4UVC5P4NM*1Q\n"
     ]
    }
   ],
   "source": [
    "#TESTE DA FUNÇÃO ACIMA\n",
    "palavra = criaString()\n",
    "print(palavra)"
   ]
  },
  {
   "cell_type": "code",
   "execution_count": 61,
   "metadata": {},
   "outputs": [],
   "source": [
    "def criaPop(individuo):\n",
    "    pop = list()                                                    #cria uma lista para armazenar a população\n",
    "    for tam in range(0,COPIAS):\n",
    "        pop.append(individuo)                                       #cria um número X de cópias do individuo\n",
    "    return pop"
   ]
  },
  {
   "cell_type": "code",
   "execution_count": 62,
   "metadata": {},
   "outputs": [
    {
     "name": "stdout",
     "output_type": "stream",
     "text": [
      "['LZZG9ZQAE2PLYFGUG4UVC5P4NM*1Q', 'LZZG9ZQAE2PLYFGUG4UVC5P4NM*1Q', 'LZZG9ZQAE2PLYFGUG4UVC5P4NM*1Q', 'LZZG9ZQAE2PLYFGUG4UVC5P4NM*1Q', 'LZZG9ZQAE2PLYFGUG4UVC5P4NM*1Q', 'LZZG9ZQAE2PLYFGUG4UVC5P4NM*1Q', 'LZZG9ZQAE2PLYFGUG4UVC5P4NM*1Q', 'LZZG9ZQAE2PLYFGUG4UVC5P4NM*1Q', 'LZZG9ZQAE2PLYFGUG4UVC5P4NM*1Q', 'LZZG9ZQAE2PLYFGUG4UVC5P4NM*1Q', 'LZZG9ZQAE2PLYFGUG4UVC5P4NM*1Q', 'LZZG9ZQAE2PLYFGUG4UVC5P4NM*1Q', 'LZZG9ZQAE2PLYFGUG4UVC5P4NM*1Q', 'LZZG9ZQAE2PLYFGUG4UVC5P4NM*1Q', 'LZZG9ZQAE2PLYFGUG4UVC5P4NM*1Q', 'LZZG9ZQAE2PLYFGUG4UVC5P4NM*1Q', 'LZZG9ZQAE2PLYFGUG4UVC5P4NM*1Q', 'LZZG9ZQAE2PLYFGUG4UVC5P4NM*1Q', 'LZZG9ZQAE2PLYFGUG4UVC5P4NM*1Q', 'LZZG9ZQAE2PLYFGUG4UVC5P4NM*1Q', 'LZZG9ZQAE2PLYFGUG4UVC5P4NM*1Q', 'LZZG9ZQAE2PLYFGUG4UVC5P4NM*1Q', 'LZZG9ZQAE2PLYFGUG4UVC5P4NM*1Q', 'LZZG9ZQAE2PLYFGUG4UVC5P4NM*1Q', 'LZZG9ZQAE2PLYFGUG4UVC5P4NM*1Q', 'LZZG9ZQAE2PLYFGUG4UVC5P4NM*1Q', 'LZZG9ZQAE2PLYFGUG4UVC5P4NM*1Q', 'LZZG9ZQAE2PLYFGUG4UVC5P4NM*1Q', 'LZZG9ZQAE2PLYFGUG4UVC5P4NM*1Q', 'LZZG9ZQAE2PLYFGUG4UVC5P4NM*1Q', 'LZZG9ZQAE2PLYFGUG4UVC5P4NM*1Q', 'LZZG9ZQAE2PLYFGUG4UVC5P4NM*1Q', 'LZZG9ZQAE2PLYFGUG4UVC5P4NM*1Q', 'LZZG9ZQAE2PLYFGUG4UVC5P4NM*1Q', 'LZZG9ZQAE2PLYFGUG4UVC5P4NM*1Q', 'LZZG9ZQAE2PLYFGUG4UVC5P4NM*1Q', 'LZZG9ZQAE2PLYFGUG4UVC5P4NM*1Q', 'LZZG9ZQAE2PLYFGUG4UVC5P4NM*1Q', 'LZZG9ZQAE2PLYFGUG4UVC5P4NM*1Q', 'LZZG9ZQAE2PLYFGUG4UVC5P4NM*1Q', 'LZZG9ZQAE2PLYFGUG4UVC5P4NM*1Q', 'LZZG9ZQAE2PLYFGUG4UVC5P4NM*1Q', 'LZZG9ZQAE2PLYFGUG4UVC5P4NM*1Q', 'LZZG9ZQAE2PLYFGUG4UVC5P4NM*1Q', 'LZZG9ZQAE2PLYFGUG4UVC5P4NM*1Q', 'LZZG9ZQAE2PLYFGUG4UVC5P4NM*1Q', 'LZZG9ZQAE2PLYFGUG4UVC5P4NM*1Q', 'LZZG9ZQAE2PLYFGUG4UVC5P4NM*1Q', 'LZZG9ZQAE2PLYFGUG4UVC5P4NM*1Q', 'LZZG9ZQAE2PLYFGUG4UVC5P4NM*1Q', 'LZZG9ZQAE2PLYFGUG4UVC5P4NM*1Q', 'LZZG9ZQAE2PLYFGUG4UVC5P4NM*1Q', 'LZZG9ZQAE2PLYFGUG4UVC5P4NM*1Q', 'LZZG9ZQAE2PLYFGUG4UVC5P4NM*1Q', 'LZZG9ZQAE2PLYFGUG4UVC5P4NM*1Q', 'LZZG9ZQAE2PLYFGUG4UVC5P4NM*1Q', 'LZZG9ZQAE2PLYFGUG4UVC5P4NM*1Q', 'LZZG9ZQAE2PLYFGUG4UVC5P4NM*1Q', 'LZZG9ZQAE2PLYFGUG4UVC5P4NM*1Q', 'LZZG9ZQAE2PLYFGUG4UVC5P4NM*1Q', 'LZZG9ZQAE2PLYFGUG4UVC5P4NM*1Q', 'LZZG9ZQAE2PLYFGUG4UVC5P4NM*1Q', 'LZZG9ZQAE2PLYFGUG4UVC5P4NM*1Q', 'LZZG9ZQAE2PLYFGUG4UVC5P4NM*1Q', 'LZZG9ZQAE2PLYFGUG4UVC5P4NM*1Q', 'LZZG9ZQAE2PLYFGUG4UVC5P4NM*1Q', 'LZZG9ZQAE2PLYFGUG4UVC5P4NM*1Q', 'LZZG9ZQAE2PLYFGUG4UVC5P4NM*1Q', 'LZZG9ZQAE2PLYFGUG4UVC5P4NM*1Q', 'LZZG9ZQAE2PLYFGUG4UVC5P4NM*1Q', 'LZZG9ZQAE2PLYFGUG4UVC5P4NM*1Q', 'LZZG9ZQAE2PLYFGUG4UVC5P4NM*1Q', 'LZZG9ZQAE2PLYFGUG4UVC5P4NM*1Q', 'LZZG9ZQAE2PLYFGUG4UVC5P4NM*1Q', 'LZZG9ZQAE2PLYFGUG4UVC5P4NM*1Q', 'LZZG9ZQAE2PLYFGUG4UVC5P4NM*1Q', 'LZZG9ZQAE2PLYFGUG4UVC5P4NM*1Q', 'LZZG9ZQAE2PLYFGUG4UVC5P4NM*1Q', 'LZZG9ZQAE2PLYFGUG4UVC5P4NM*1Q', 'LZZG9ZQAE2PLYFGUG4UVC5P4NM*1Q', 'LZZG9ZQAE2PLYFGUG4UVC5P4NM*1Q', 'LZZG9ZQAE2PLYFGUG4UVC5P4NM*1Q', 'LZZG9ZQAE2PLYFGUG4UVC5P4NM*1Q', 'LZZG9ZQAE2PLYFGUG4UVC5P4NM*1Q', 'LZZG9ZQAE2PLYFGUG4UVC5P4NM*1Q', 'LZZG9ZQAE2PLYFGUG4UVC5P4NM*1Q', 'LZZG9ZQAE2PLYFGUG4UVC5P4NM*1Q', 'LZZG9ZQAE2PLYFGUG4UVC5P4NM*1Q', 'LZZG9ZQAE2PLYFGUG4UVC5P4NM*1Q', 'LZZG9ZQAE2PLYFGUG4UVC5P4NM*1Q', 'LZZG9ZQAE2PLYFGUG4UVC5P4NM*1Q', 'LZZG9ZQAE2PLYFGUG4UVC5P4NM*1Q', 'LZZG9ZQAE2PLYFGUG4UVC5P4NM*1Q', 'LZZG9ZQAE2PLYFGUG4UVC5P4NM*1Q', 'LZZG9ZQAE2PLYFGUG4UVC5P4NM*1Q', 'LZZG9ZQAE2PLYFGUG4UVC5P4NM*1Q', 'LZZG9ZQAE2PLYFGUG4UVC5P4NM*1Q', 'LZZG9ZQAE2PLYFGUG4UVC5P4NM*1Q', 'LZZG9ZQAE2PLYFGUG4UVC5P4NM*1Q', 'LZZG9ZQAE2PLYFGUG4UVC5P4NM*1Q']\n"
     ]
    }
   ],
   "source": [
    "#TESTE DA FUNÇÃO ACIMA\n",
    "pop = criaPop(palavra)\n",
    "print(pop)"
   ]
  },
  {
   "cell_type": "code",
   "execution_count": 63,
   "metadata": {},
   "outputs": [],
   "source": [
    "def mutation(pop, MUTATION_RATE):\n",
    "    new_pop = list()                                                                            #cria uma lista para armazenar a nova população\n",
    "    cont = 1                                                                                    #cria um contador para diferenciar o primeiro individuo dos demais\n",
    "    for c in pop:                                                                               #laço que varre todas as cópias\n",
    "        if cont == 1:                                                                           #analisa o primeiro inidivíduo\n",
    "            new_pop.append(c)                                                                   #o primeiro individuo é adicionado a nova população sem sofrer nenhuma mutação\n",
    "        else:                                                                                   #analisa os demais indivíduos\n",
    "            caracteres = list()                                                                 #cria uma lista vazia para armazenar os caracteres do indivíduo\n",
    "            for i in range (0,TAMANHO):                                                         #varre todos os caracteres do indivíduo\n",
    "                letra = c[i]                                                                    #armazena o caractere atual na variavel LETRA\n",
    "                if(rd.random() < MUTATION_RATE):                                                #analisa se terá mutação ou não\n",
    "                    letra = rd.choice(string.ascii_uppercase + string.digits + '*')             #caso tenha, sorteia uma letra aleatória para a variável LETRA\n",
    "                    while letra == c[i]:                                                        #laço que garante que a letra sorteada será diferente da atual\n",
    "                        letra = rd.choice(string.ascii_uppercase + string.digits + '*')\n",
    "                caracteres.append(letra)                                                        #adiciona a variavel LETRA na lista caracteres\n",
    "            palavra = ''.join(caracteres)                                                       #junta todos os caracteres da lista em uma string\n",
    "            new_pop.append(palavra)                                                             #adiciona essa nova string a nova população\n",
    "            caracteres.clear()                                                                  #limpa a lista caracteres\n",
    "        cont +=1                                                                                #incrementa o contador de individuos\n",
    "    return new_pop"
   ]
  },
  {
   "cell_type": "code",
   "execution_count": 64,
   "metadata": {},
   "outputs": [
    {
     "name": "stdout",
     "output_type": "stream",
     "text": [
      "['LZZG9ZQAE2PLYFGUG4UVC5P4NM*1Q', 'LZZG9ZQAE2PLYFGUG4UVC5P4NM*1Q', 'LZZG9ZQAE2PLYFGUG4U8C5P4NM*1Q', 'LZZG9ZQAE21LYFGUG4UVC5P4NM*1Q', 'LZZG9ZQAE2PLYFGUG4UVC5P4NM*1Q', 'YZZG9ZQAE2PLYFG*G4UVC5P4NM*9Q', 'LZZG9ZQAE2PLYFGUG4UVC5P4NMS1Q', 'LZZGHZQAE2PLYJGUG4UVC5P4ZM*1Q', 'LZZG9ZQXE2PLYFGUG4UVC5P4NM*1Q', 'LZZG9ZQAE2PLYFGUG4UVC5P4NM*1Q', 'LZZG9ZQAE2PLYFGUG4UVC5P4NM*1Q', 'LZ*G9ZQAE2PLYFGUG4UVC5P4NM*1Q', 'YZZPG7QAE2PLYFGUG4UVC5P4NM*1Q', 'LZZG9ZQAV2TLYFGUG4UVC5P4NM*1Q', 'LZZG9ZQAE2PLYFGUG4UVE5P4NM*1Q', 'LZZG9ZQAE2PLYFEUG48VC5P4NMU1Q', 'LZZG9ZQAE2PLYFGUG4UVC5P4NM*1Q', 'LZNG9ZQAE2PLYFGUG4UNC5P4ND*1Q', 'LZZG7ZQAE2PLYFGAG4UVC5P4NM*1Q', 'LZZG9ZQAE2PL1FGUG*UVC5P4NM*1Q', 'LZEG9ZQAERPLYFGUG4UVC5P4NM*1M', 'LZZG9ZQAE2PLYFGUG4GVC5P4NM*1Q', 'LZZG9ZQAE2PLYFGUG4UVC5P4NM*1Q', 'LZZG9ZQAE2PLYFGUG4UVC5P4NM*1Q', 'LZZG9ZQAE2PLYFGUG4UVC5P4NM*1Q', 'LZZG9ZQAELPLYFGUG4UVC5P4NM*1Q', 'LZZG9ZQAE2PLYFGUG4UVC5P4NM*BQ', 'LZZG9ZQAE2PLYFGUG4UZC5P4NME1Q', 'LZZG9ZQAE2PLYFGUG4UVC5P4NM*1Q', 'LZZ49ZQAE2PLYFGUG4UVC5P4NB*1Q', '1ZZG9ZQKE2PLYFGUPLUVC5P4NM*1Q', 'LZZG9ZQAE2PLYFGUG4GV35P4NM*LQ', 'LZZG9ZQAE2PLYPGEG4UVC5P4NG*1Q', 'LZZG9ZQAE2PLYFGUG46VC5P4NM*1Q', 'LZZG9ZQAE29LYFGUG4UVC5P4MM*1Q', 'LZZG9ZQAE2PLYFGUG4U2C5P4NM*1Q', 'LZZG9ZQAE2PLYFGUG4UVC5P4NM*1Q', 'LZZG9ZQAE2DLYFGOGNUVC5P4NM*1Q', 'LZZG9ZQAE2PLYFG0G4UVC3P4NM*1Q', 'MZZGEZQAE2PLYFGU*4UVC5P47M*1Q', 'LZZG9ZQAE2PLYFGUG4UVC5P4NM*1Q', 'LZZG9ZQAE2PLYFGUGLUVC5P4N6*1Q', 'LIZG*ZQAE2PLYFGU14UVC5P4NM*1Q', 'LZZG9ZQAE2PLYFGUG4UVC5P4NMX1Q', 'LZZG9ZQAE2PLYFXUG4UVC5P4NM*1Q', 'LZZG9ZQAE2PLYFGUG4UVC554NM*1Q', 'LZZG9ZQAE2PLYFGUG4UVC5P4NM*1Q', 'LZZG9ZQAEUPLYFGUGMUVCJP0NM*1Q', 'LZZG9ZQAE2PLYFGUG4UVC5P4NMJDQ', 'LZZG9ZQAE2PLYFGUG4UVC5P4NMDOQ', 'LZZG9ZQAE2PLYFGUG4UVC5P4NM*1Q', 'LZZG9ZQAE2PLYFGUG4UVC5P4NM*MQ', 'FZZ29ZQAE2PLYFGUG4UVC5P4NM*1T', 'LZZG9ZQAELPLYFGUG4UVC5B4NM*1Q', 'LZZG9ZQAE0PLYFGUG4UVC5P4NM*1Q', 'LZZG9ZQAE2PLYFGUG4UVC5P4NM*1Q', 'LZZG9ZQAE2PLYFGUG4UVC5P4NM*1Q', 'LZZG9ZQAE2P*YFGUG43VC5P4NM*1Q', 'LZZG9ZQAE2PLYFGUG4UVC5P4NM*1Q', 'LZZG9ZQAE2PLYFGUG4UVC5P4NM*1Q', 'LEZG9ZQAI1PLYFGUG4UVC5P4NM*1G', 'LZZG9IQAE*PLYFGUG4UVC5P4NM*1Q', 'LZZG9ZQAE2PLYFGUG4UVC5P4NM*1Q', 'LZZG9ZQAE2PLYFGUG4UVC5P4NM*1Q', 'LZZG9ZQAE2PLYFGWG4UVC5P4NM*1Q', 'LZZG9ZQWE2PLYFGUG4UVC5P4NM*8Q', 'LZZG9ZQAE2PLYFGUG4UVC5P4NM*1Q', 'LZZG9ZQAEUPLYFGUGOUVC5P4NM*11', 'LZZG9ZQAE2PLYFGUG4UVC5P4NM*1Q', 'LZZG9ZQAEFPLYFGUG4UVC5P4NM*1Q', 'LZZG9ZQAE2PLYFGUG4UVC5P46M*1Q', 'LZZG9ZQAE2PLYFGUG4UVC5P4NM*1Q', 'LZZG9ZQAE2PLYFGUG4UVC5P4NM*1Q', 'LZZG9ZQAE2PLYFJUG4UVC5P4NM*1Q', 'LZZG9ZQAE2PLYFGUG4UVC5P4NM*1Q', 'LZZG9ZQAE2YLYFGUG4UVC5P4NM*1Q', 'LZZG9ZQAE2PLYFGUG4UVC5P4NM*1Q', 'LZ7G9ZQAE275YFGUG4UVC5P4NM*1Q', 'LZZG9ZQAE2PLYFGUG4UVC5P4NM*1L', 'VZZGCZQAE2PLYFGUG4UVC5P4NM*1Q', 'LZZG9ZHDE2PLYFGUI4UVC5P4NM*1Q', 'LZZG9ZQAE2PLYFGUG4UVC5P4NM*1Q', 'LZZG9ZQAE2PLYFGUJ4UVC5P4NM*1R', 'LZZG9ZQAE2P0YFGUG4UVC5P4NM*1Q', 'LZZX9ZQAE2PLYFGUG4UVC5P4NM*1Q', 'LZZG9ZQAE2PLYFGUG4UVC5P4NM*1Q', 'LZZG9ZQAE2PLYFGUG4UVC5P4NM*1Q', 'LZZG9ZQAE2PLYF9UG4UVC5P4NM*1Q', 'LZZK9FQAE2PLYFGUG4UVC5P4NM*1Q', 'LZZG9ZQAE2PLYFGUG4UVC5P4SM*1Q', 'ZZZG9ZQAE2PLYFGUG4U9C5P4NM*1Q', 'EZZG9ZQAE2PLYFGUG4UVM5P4NM*1Q', 'LZZG9ZQAE2PLYFGUG4UVC5P4NM*1Q', 'LZBG9ZQAE2PLYFGUG4UVC5P4NM*1Q', 'LZQG91QAE2PLYFGUG4UVC5P4NM*1Q', 'LZZG9ZQAE2PLYFGUG4UVC5P4NM*9Q', 'LZZG9ZQAE2PLYFGUG4UVC5P4NM*1Q', 'LZZG9ZQAE2PLYFLUG4UVC5P4NM*1Q', 'LZZG9ZQAE2PLYFGU04UVC5P4NM*1Q', 'LZZG9ZQAE2PLYFGUG4UVP5P4NM*1Q']\n"
     ]
    }
   ],
   "source": [
    "#TESTE DA FUNÇÃO ACIMA\n",
    "pop = mutation(pop, MUTATION_RATE)\n",
    "print(pop)"
   ]
  },
  {
   "cell_type": "code",
   "execution_count": 65,
   "metadata": {},
   "outputs": [],
   "source": [
    "def analisaCaso(palavra, gabarito=GABARITO):\n",
    "    fitness = 0                                             #inicia fitness com 0\n",
    "    for tam in range(0,TAMANHO):                            #varre todos os caracteres da palavra\n",
    "        if gabarito[tam] == palavra[tam]:                   #compara o enésimo-caractere da palavra com o enésimo-caractere do string desejada\n",
    "            fitness+=1                                      #incrementa o fitness caso os caracteres sejam iguais\n",
    "    return fitness"
   ]
  },
  {
   "cell_type": "code",
   "execution_count": 66,
   "metadata": {},
   "outputs": [
    {
     "name": "stdout",
     "output_type": "stream",
     "text": [
      "29\n"
     ]
    }
   ],
   "source": [
    "#TESTE DA FUNÇÃO ACIMA\n",
    "fitness = analisaCaso('ME*THINKS*IT*IS*LIKE*A*WEASEL')  \n",
    "print(fitness)"
   ]
  },
  {
   "cell_type": "code",
   "execution_count": 67,
   "metadata": {},
   "outputs": [],
   "source": [
    "def popFitness(pop):\n",
    "    pop_fitness = [analisaCaso(each_solution) for each_solution in pop]      #analisa o fitness de todos os elementos de pop e o armazena em uma lista      \n",
    "    return pop_fitness"
   ]
  },
  {
   "cell_type": "code",
   "execution_count": 68,
   "metadata": {},
   "outputs": [
    {
     "name": "stdout",
     "output_type": "stream",
     "text": [
      "[0, 0, 0, 0, 0, 1, 1, 1, 0, 0, 0, 1, 0, 0, 0, 0, 0, 0, 0, 0, 0, 0, 0, 0, 0, 0, 0, 0, 0, 0, 1, 0, 0, 0, 0, 0, 0, 0, 0, 1, 0, 0, 0, 0, 0, 0, 0, 0, 0, 0, 0, 0, 0, 0, 0, 0, 0, 0, 0, 0, 1, 2, 0, 0, 0, 0, 0, 0, 0, 0, 0, 0, 0, 0, 0, 0, 0, 0, 1, 0, 0, 0, 0, 0, 0, 0, 0, 0, 0, 0, 0, 0, 0, 0, 0, 0, 0, 0, 0, 0]\n"
     ]
    }
   ],
   "source": [
    "#TESTE DA FUNÇÃO ACIMA\n",
    "pop_fitness = popFitness(pop)\n",
    "print(pop_fitness)\n"
   ]
  },
  {
   "cell_type": "code",
   "execution_count": 69,
   "metadata": {},
   "outputs": [
    {
     "name": "stdout",
     "output_type": "stream",
     "text": [
      "Palavra inicial: V6M00HEYJ6ZOO747DQ8ON*LZ8UP3R\n",
      "Melhor indíviduo da 1º geração: V6M004EYJ6ZOOI47DQ8ON*LZ8UP3R\n",
      "Melhor indíviduo da 2º geração: V6M004PYJFZOOI47DQ8EN*LZ8UP3R\n",
      "Melhor indíviduo da 3º geração: V6M004PYJFZOOI47DI8EN*LZ8UP3R\n",
      "Melhor indíviduo da 4º geração: T6M0049YJFZO*I47DI8EN*LZ8UP3R\n",
      "Melhor indíviduo da 5º geração: T6M0049YJFZO*I47LI8EN*LZ8UP3R\n",
      "Melhor indíviduo da 6º geração: T6M0049YJFZO*I47LI8EN**Z8KP3R\n",
      "Melhor indíviduo da 7º geração: G6M0049KJFZO*I47LI8EN**Z8KP3R\n",
      "Melhor indíviduo da 8º geração: G6M0049KJFZO*I47LI8EN**W8KP3R\n",
      "Melhor indíviduo da 9º geração: M6M0079KJFZO*I47LI8EN**W8KP3R\n",
      "Melhor indíviduo da 10º geração: M6*0079KJFZO*I47LI8EN**W8KP3R\n",
      "Melhor indíviduo da 11º geração: M6*B079KJFLO*I47LI2EN**W8KPER\n",
      "Melhor indíviduo da 12º geração: M6*B079KJFLT*I47LI2EN**W8KPER\n",
      "Melhor indíviduo da 13º geração: M6*B079KJFLT*IS7LI2EN**W8KPER\n",
      "Melhor indíviduo da 14º geração: M6*B079KJFLT*IS7LI2ENA*W8KPER\n",
      "Melhor indíviduo da 15º geração: M6*B079KJFLT*IS7LI2ENA*W8KPER\n",
      "Melhor indíviduo da 16º geração: M6*B079KJFLT*IS7LI2ENA*W8KPER\n",
      "Melhor indíviduo da 17º geração: M6*B079KJFLT*IS7LI2ENA*W8KPER\n",
      "Melhor indíviduo da 18º geração: M6*BH79KJFLT*IS7LI2ENA*W8KPER\n",
      "Melhor indíviduo da 19º geração: M6*BH79KJFIT*IS7LI2ENA*W88PER\n",
      "Melhor indíviduo da 20º geração: M6*BH79KJ*IT*IS7LI2ENA*W88JER\n",
      "Melhor indíviduo da 21º geração: M6*BH79KJ*IT*IS7LI2ENA*W88JER\n",
      "Melhor indíviduo da 22º geração: M6*BH79KJ*IT*IS7LI2ENA*W88JER\n",
      "Melhor indíviduo da 23º geração: M6*BH79KJ*IT*IS7LI2ENA*W88JER\n",
      "Melhor indíviduo da 24º geração: M6*BH79KJ*IT*IS7LI2ENA*W88JER\n",
      "Melhor indíviduo da 25º geração: M6*BHI9KJ*IT*IS7LI2ENA*W88JER\n",
      "Melhor indíviduo da 26º geração: M6*BHI9KJ*IT*IS7LI2ENA*W88JER\n",
      "Melhor indíviduo da 27º geração: M6*BHI9KJ*IT*IS7LI2ENA*W88SER\n",
      "Melhor indíviduo da 28º geração: M6*BHI9KJ*IT*IS7LI2ENA*W88SER\n",
      "Melhor indíviduo da 29º geração: M6*THI9KJ*IT*IS7LI2ENA*W88SER\n",
      "Melhor indíviduo da 30º geração: ME*THI9KJ*IT*IS7LI2ENA*W88SER\n",
      "Melhor indíviduo da 31º geração: ME*THI9KJ*IT*IS7LI2ENA*W88SER\n",
      "Melhor indíviduo da 32º geração: ME*THI9KJ*IT*IS7LI2ENA*W88SER\n",
      "Melhor indíviduo da 33º geração: ME*THI9KJ*IT*IS7LI2ENA*W88SER\n",
      "Melhor indíviduo da 34º geração: ME*THI9KJ*IT*IS7LI2ENA*W88SER\n",
      "Melhor indíviduo da 35º geração: ME*THI9KJ*IT*IS7LI2ENA*W8ASER\n",
      "Melhor indíviduo da 36º geração: ME*THIAKS*IT*IS7LI2ENA*W8ASER\n",
      "Melhor indíviduo da 37º geração: ME*THIAKS*IT*IS7LI2ENA*W8ASER\n",
      "Melhor indíviduo da 38º geração: ME*THIAKS*IT*IS7LI2E*A*W8ASER\n",
      "Melhor indíviduo da 39º geração: ME*THIAKS*IT*IS7LI2E*A*W8ASER\n",
      "Melhor indíviduo da 40º geração: ME*THIAKS*IT*IS7LI2E*A*W8ASER\n",
      "Melhor indíviduo da 41º geração: ME*THIAKS*IT*IS7LI2E*A*W8ASER\n",
      "Melhor indíviduo da 42º geração: ME*THIAKS*IT*IS7LI2E*A*W8ASER\n",
      "Melhor indíviduo da 43º geração: ME*THILKS*IT*IS7LIKE*A*W8ASE6\n",
      "Melhor indíviduo da 44º geração: ME*THILKS*IT*IS7LIKE*A*W8ASE6\n",
      "Melhor indíviduo da 45º geração: ME*THILKS*IT*IS7LIKE*A*W8ASE6\n",
      "Melhor indíviduo da 46º geração: ME*THILKS*IT*IS7LIKE*A*W8ASE6\n",
      "Melhor indíviduo da 47º geração: ME*THILKS*IT*IS7LIKE*A*W8ASE6\n",
      "Melhor indíviduo da 48º geração: ME*THILKS*IT*IS7LIKE*A*W8ASE6\n",
      "Melhor indíviduo da 49º geração: ME*THILKS*IT*IS7LIKE*A*W8ASE6\n",
      "Melhor indíviduo da 50º geração: ME*THILKS*IT*IS7LIKE*A*W8ASEL\n",
      "Melhor indíviduo da 51º geração: ME*THILKS*IT*IS7LIKE*A*W8ASEL\n",
      "Melhor indíviduo da 52º geração: ME*THILKS*IT*IS7LIKE*A*W8ASEL\n",
      "Melhor indíviduo da 53º geração: ME*THILKS*IT*IS7LIKE*A*W8ASEL\n",
      "Melhor indíviduo da 54º geração: ME*THILKS*IT*IS7LIKE*A*W8ASEL\n",
      "Melhor indíviduo da 55º geração: ME*THILKS*IT*IS7LIKE*A*W8ASEL\n",
      "Melhor indíviduo da 56º geração: ME*THILKS*IT*IS*LIKE*A*W8ASEL\n",
      "Melhor indíviduo da 57º geração: ME*THILKS*IT*IS*LIKE*A*W8ASEL\n",
      "Melhor indíviduo da 58º geração: ME*THILKS*IT*IS*LIKE*A*W8ASEL\n",
      "Melhor indíviduo da 59º geração: ME*THILKS*IT*IS*LIKE*A*W8ASEL\n",
      "Melhor indíviduo da 60º geração: ME*THILKS*IT*IS*LIKE*A*W8ASEL\n",
      "Melhor indíviduo da 61º geração: ME*THILKS*IT*IS*LIKE*A*W8ASEL\n",
      "Melhor indíviduo da 62º geração: ME*THILKS*IT*IS*LIKE*A*W8ASEL\n",
      "Melhor indíviduo da 63º geração: ME*THILKS*IT*IS*LIKE*A*W8ASEL\n",
      "Melhor indíviduo da 64º geração: ME*THINKS*IT*IS*LIKE*A*W8ASEL\n",
      "Melhor indíviduo da 65º geração: ME*THINKS*IT*IS*LIKE*A*W8ASEL\n",
      "Melhor indíviduo da 66º geração: ME*THINKS*IT*IS*LIKE*A*W8ASEL\n",
      "Melhor indíviduo da 67º geração: ME*THINKS*IT*IS*LIKE*A*W8ASEL\n",
      "Melhor indíviduo da 68º geração: ME*THINKS*IT*IS*LIKE*A*W8ASEL\n",
      "Melhor indíviduo da 69º geração: ME*THINKS*IT*IS*LIKE*A*W8ASEL\n",
      "Melhor indíviduo da 70º geração: ME*THINKS*IT*IS*LIKE*A*W8ASEL\n",
      "Melhor indíviduo da 71º geração: ME*THINKS*IT*IS*LIKE*A*W8ASEL\n",
      "Melhor indíviduo da 72º geração: ME*THINKS*IT*IS*LIKE*A*W8ASEL\n",
      "Melhor indíviduo da 73º geração: ME*THINKS*IT*IS*LIKE*A*W8ASEL\n",
      "Melhor indíviduo da 74º geração: ME*THINKS*IT*IS*LIKE*A*W8ASEL\n",
      "Melhor indíviduo da 75º geração: ME*THINKS*IT*IS*LIKE*A*W8ASEL\n",
      "Melhor indíviduo da 76º geração: ME*THINKS*IT*IS*LIKE*A*W8ASEL\n",
      "Melhor indíviduo da 77º geração: ME*THINKS*IT*IS*LIKE*A*W8ASEL\n",
      "Melhor indíviduo da 78º geração: ME*THINKS*IT*IS*LIKE*A*W8ASEL\n",
      "Melhor indíviduo da 79º geração: ME*THINKS*IT*IS*LIKE*A*W8ASEL\n",
      "Melhor indíviduo da 80º geração: ME*THINKS*IT*IS*LIKE*A*W8ASEL\n",
      "Melhor indíviduo da 81º geração: ME*THINKS*IT*IS*LIKE*A*W8ASEL\n",
      "Melhor indíviduo da 82º geração: ME*THINKS*IT*IS*LIKE*A*W8ASEL\n",
      "Melhor indíviduo da 83º geração: ME*THINKS*IT*IS*LIKE*A*W8ASEL\n",
      "Melhor indíviduo da 84º geração: ME*THINKS*IT*IS*LIKE*A*W8ASEL\n",
      "Melhor indíviduo da 85º geração: ME*THINKS*IT*IS*LIKE*A*W8ASEL\n",
      "Melhor indíviduo da 86º geração: ME*THINKS*IT*IS*LIKE*A*W8ASEL\n",
      "Melhor indíviduo da 87º geração: ME*THINKS*IT*IS*LIKE*A*W8ASEL\n",
      "Melhor indíviduo da 88º geração: ME*THINKS*IT*IS*LIKE*A*W8ASEL\n",
      "Melhor indíviduo da 89º geração: ME*THINKS*IT*IS*LIKE*A*W8ASEL\n",
      "Melhor indíviduo da 90º geração: ME*THINKS*IT*IS*LIKE*A*W8ASEL\n",
      "Melhor indíviduo da 91º geração: ME*THINKS*IT*IS*LIKE*A*W8ASEL\n",
      "Melhor indíviduo da 92º geração: ME*THINKS*IT*IS*LIKE*A*W8ASEL\n",
      "Melhor indíviduo da 93º geração: ME*THINKS*IT*IS*LIKE*A*W8ASEL\n",
      "Melhor indíviduo da 94º geração: ME*THINKS*IT*IS*LIKE*A*W8ASEL\n",
      "Melhor indíviduo da 95º geração: ME*THINKS*IT*IS*LIKE*A*W8ASEL\n",
      "Melhor indíviduo da 96º geração: ME*THINKS*IT*IS*LIKE*A*W8ASEL\n",
      "Melhor indíviduo da 97º geração: ME*THINKS*IT*IS*LIKE*A*W8ASEL\n",
      "Melhor indíviduo da 98º geração: ME*THINKS*IT*IS*LIKE*A*W8ASEL\n",
      "Melhor indíviduo da 99º geração: ME*THINKS*IT*IS*LIKE*A*W8ASEL\n",
      "Melhor indíviduo da 100º geração: ME*THINKS*IT*IS*LIKE*A*W8ASEL\n",
      "Melhor indíviduo da 101º geração: ME*THINKS*IT*IS*LIKE*A*W8ASEL\n",
      "Melhor indíviduo da 102º geração: ME*THINKS*IT*IS*LIKE*A*W8ASEL\n",
      "Melhor indíviduo da 103º geração: ME*THINKS*IT*IS*LIKE*A*W8ASEL\n",
      "Melhor indíviduo da 104º geração: ME*THINKS*IT*IS*LIKE*A*W8ASEL\n",
      "Melhor indíviduo da 105º geração: ME*THINKS*IT*IS*LIKE*A*W8ASEL\n",
      "Melhor indíviduo da 106º geração: ME*THINKS*IT*IS*LIKE*A*W8ASEL\n",
      "Melhor indíviduo da 107º geração: ME*THINKS*IT*IS*LIKE*A*WEASEL\n",
      "String final: ME*THINKS*IT*IS*LIKE*A*WEASEL\n",
      "Número de caracteres iguais: 29\n",
      "Geração que encontrou a solução: 107º\n"
     ]
    }
   ],
   "source": [
    "#ALGORITMO GENÉTICO COMPLETO\n",
    "palavra = criaString()                                                   #gera uma palavra aleatória\n",
    "best = analisaCaso(palavra)                                              #analisa o fitness da palavra\n",
    "pop = [palavra]                                                          #população inicial contém apenas a palavra sorteada    \n",
    "i = 0                                                                    #contador de gerações\n",
    "print(f'Palavra inicial: {palavra}')  \n",
    "while best!=29:\n",
    "    i+=1                                                                 #incrementa um ao número da geração\n",
    "    if(rd.random()<CROSSOVER_RATE):                                      #analisa se tem cruzamento ou não\n",
    "        pop = criaPop(palavra)                                           #cria as 100 cópias\n",
    "        pop = mutation(pop, MUTATION_RATE)                               #aplica as mutações nas 100 cópias\n",
    "    pop_fitness = popFitness(pop)                                        #analisa o fitness da população\n",
    "    best = max(pop_fitness)                                              #descobre o melhor fitness\n",
    "    pos_best = pop_fitness.index(best)                                   #descobre a posição do melhor fitness\n",
    "    palavra = pop[pos_best]                                              #descobre o indivíduo com melhor fitness\n",
    "    print(f'Melhor indíviduo da {i}º geração: {palavra}')\n",
    "print(f'String final: {palavra}')\n",
    "print(f'Número de caracteres iguais: {best}')\n",
    "print(f'Geração que encontrou a solução: {i}º')\n"
   ]
  }
 ],
 "metadata": {
  "interpreter": {
   "hash": "20099c77346fa184342f5a0e1dc2579955983be62f07a7f263c863d4bded7e85"
  },
  "kernelspec": {
   "display_name": "Python 3.10.0 64-bit (windows store)",
   "language": "python",
   "name": "python3"
  },
  "language_info": {
   "codemirror_mode": {
    "name": "ipython",
    "version": 3
   },
   "file_extension": ".py",
   "mimetype": "text/x-python",
   "name": "python",
   "nbconvert_exporter": "python",
   "pygments_lexer": "ipython3",
   "version": "3.10.0"
  },
  "orig_nbformat": 4
 },
 "nbformat": 4,
 "nbformat_minor": 2
}
