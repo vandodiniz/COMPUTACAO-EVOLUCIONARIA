{
 "cells": [
  {
   "cell_type": "code",
   "execution_count": 227,
   "metadata": {},
   "outputs": [],
   "source": [
    "import random as rd\n",
    "import numpy as np\n",
    "import string\n",
    "\n",
    "COPIAS = 100\n",
    "CROSSOVER_RATE = 1\n",
    "MUTATION_RATE = 0.05"
   ]
  },
  {
   "cell_type": "code",
   "execution_count": 228,
   "metadata": {},
   "outputs": [],
   "source": [
    "def criaString():\n",
    "    palavra = ''\n",
    "    for tam in range(0,29):\n",
    "        letra = rd.choice(string.ascii_uppercase + string.digits + '*')\n",
    "        palavra = palavra + letra\n",
    "    return palavra"
   ]
  },
  {
   "cell_type": "code",
   "execution_count": 229,
   "metadata": {},
   "outputs": [
    {
     "name": "stdout",
     "output_type": "stream",
     "text": [
      "8YC0UJIHIV6GPNVZM48PAKLLKA1*Z\n"
     ]
    }
   ],
   "source": [
    "#TESTE DA FUNÇÃO ACIMA\n",
    "palavra = criaString()\n",
    "print(palavra)"
   ]
  },
  {
   "cell_type": "code",
   "execution_count": 230,
   "metadata": {},
   "outputs": [],
   "source": [
    "def criaPop(individuo):\n",
    "    pop = list()\n",
    "    for tam in range(0,COPIAS):\n",
    "        pop.append(individuo)\n",
    "    return pop"
   ]
  },
  {
   "cell_type": "code",
   "execution_count": 231,
   "metadata": {},
   "outputs": [
    {
     "name": "stdout",
     "output_type": "stream",
     "text": [
      "['8YC0UJIHIV6GPNVZM48PAKLLKA1*Z', '8YC0UJIHIV6GPNVZM48PAKLLKA1*Z', '8YC0UJIHIV6GPNVZM48PAKLLKA1*Z', '8YC0UJIHIV6GPNVZM48PAKLLKA1*Z', '8YC0UJIHIV6GPNVZM48PAKLLKA1*Z', '8YC0UJIHIV6GPNVZM48PAKLLKA1*Z', '8YC0UJIHIV6GPNVZM48PAKLLKA1*Z', '8YC0UJIHIV6GPNVZM48PAKLLKA1*Z', '8YC0UJIHIV6GPNVZM48PAKLLKA1*Z', '8YC0UJIHIV6GPNVZM48PAKLLKA1*Z', '8YC0UJIHIV6GPNVZM48PAKLLKA1*Z', '8YC0UJIHIV6GPNVZM48PAKLLKA1*Z', '8YC0UJIHIV6GPNVZM48PAKLLKA1*Z', '8YC0UJIHIV6GPNVZM48PAKLLKA1*Z', '8YC0UJIHIV6GPNVZM48PAKLLKA1*Z', '8YC0UJIHIV6GPNVZM48PAKLLKA1*Z', '8YC0UJIHIV6GPNVZM48PAKLLKA1*Z', '8YC0UJIHIV6GPNVZM48PAKLLKA1*Z', '8YC0UJIHIV6GPNVZM48PAKLLKA1*Z', '8YC0UJIHIV6GPNVZM48PAKLLKA1*Z', '8YC0UJIHIV6GPNVZM48PAKLLKA1*Z', '8YC0UJIHIV6GPNVZM48PAKLLKA1*Z', '8YC0UJIHIV6GPNVZM48PAKLLKA1*Z', '8YC0UJIHIV6GPNVZM48PAKLLKA1*Z', '8YC0UJIHIV6GPNVZM48PAKLLKA1*Z', '8YC0UJIHIV6GPNVZM48PAKLLKA1*Z', '8YC0UJIHIV6GPNVZM48PAKLLKA1*Z', '8YC0UJIHIV6GPNVZM48PAKLLKA1*Z', '8YC0UJIHIV6GPNVZM48PAKLLKA1*Z', '8YC0UJIHIV6GPNVZM48PAKLLKA1*Z', '8YC0UJIHIV6GPNVZM48PAKLLKA1*Z', '8YC0UJIHIV6GPNVZM48PAKLLKA1*Z', '8YC0UJIHIV6GPNVZM48PAKLLKA1*Z', '8YC0UJIHIV6GPNVZM48PAKLLKA1*Z', '8YC0UJIHIV6GPNVZM48PAKLLKA1*Z', '8YC0UJIHIV6GPNVZM48PAKLLKA1*Z', '8YC0UJIHIV6GPNVZM48PAKLLKA1*Z', '8YC0UJIHIV6GPNVZM48PAKLLKA1*Z', '8YC0UJIHIV6GPNVZM48PAKLLKA1*Z', '8YC0UJIHIV6GPNVZM48PAKLLKA1*Z', '8YC0UJIHIV6GPNVZM48PAKLLKA1*Z', '8YC0UJIHIV6GPNVZM48PAKLLKA1*Z', '8YC0UJIHIV6GPNVZM48PAKLLKA1*Z', '8YC0UJIHIV6GPNVZM48PAKLLKA1*Z', '8YC0UJIHIV6GPNVZM48PAKLLKA1*Z', '8YC0UJIHIV6GPNVZM48PAKLLKA1*Z', '8YC0UJIHIV6GPNVZM48PAKLLKA1*Z', '8YC0UJIHIV6GPNVZM48PAKLLKA1*Z', '8YC0UJIHIV6GPNVZM48PAKLLKA1*Z', '8YC0UJIHIV6GPNVZM48PAKLLKA1*Z', '8YC0UJIHIV6GPNVZM48PAKLLKA1*Z', '8YC0UJIHIV6GPNVZM48PAKLLKA1*Z', '8YC0UJIHIV6GPNVZM48PAKLLKA1*Z', '8YC0UJIHIV6GPNVZM48PAKLLKA1*Z', '8YC0UJIHIV6GPNVZM48PAKLLKA1*Z', '8YC0UJIHIV6GPNVZM48PAKLLKA1*Z', '8YC0UJIHIV6GPNVZM48PAKLLKA1*Z', '8YC0UJIHIV6GPNVZM48PAKLLKA1*Z', '8YC0UJIHIV6GPNVZM48PAKLLKA1*Z', '8YC0UJIHIV6GPNVZM48PAKLLKA1*Z', '8YC0UJIHIV6GPNVZM48PAKLLKA1*Z', '8YC0UJIHIV6GPNVZM48PAKLLKA1*Z', '8YC0UJIHIV6GPNVZM48PAKLLKA1*Z', '8YC0UJIHIV6GPNVZM48PAKLLKA1*Z', '8YC0UJIHIV6GPNVZM48PAKLLKA1*Z', '8YC0UJIHIV6GPNVZM48PAKLLKA1*Z', '8YC0UJIHIV6GPNVZM48PAKLLKA1*Z', '8YC0UJIHIV6GPNVZM48PAKLLKA1*Z', '8YC0UJIHIV6GPNVZM48PAKLLKA1*Z', '8YC0UJIHIV6GPNVZM48PAKLLKA1*Z', '8YC0UJIHIV6GPNVZM48PAKLLKA1*Z', '8YC0UJIHIV6GPNVZM48PAKLLKA1*Z', '8YC0UJIHIV6GPNVZM48PAKLLKA1*Z', '8YC0UJIHIV6GPNVZM48PAKLLKA1*Z', '8YC0UJIHIV6GPNVZM48PAKLLKA1*Z', '8YC0UJIHIV6GPNVZM48PAKLLKA1*Z', '8YC0UJIHIV6GPNVZM48PAKLLKA1*Z', '8YC0UJIHIV6GPNVZM48PAKLLKA1*Z', '8YC0UJIHIV6GPNVZM48PAKLLKA1*Z', '8YC0UJIHIV6GPNVZM48PAKLLKA1*Z', '8YC0UJIHIV6GPNVZM48PAKLLKA1*Z', '8YC0UJIHIV6GPNVZM48PAKLLKA1*Z', '8YC0UJIHIV6GPNVZM48PAKLLKA1*Z', '8YC0UJIHIV6GPNVZM48PAKLLKA1*Z', '8YC0UJIHIV6GPNVZM48PAKLLKA1*Z', '8YC0UJIHIV6GPNVZM48PAKLLKA1*Z', '8YC0UJIHIV6GPNVZM48PAKLLKA1*Z', '8YC0UJIHIV6GPNVZM48PAKLLKA1*Z', '8YC0UJIHIV6GPNVZM48PAKLLKA1*Z', '8YC0UJIHIV6GPNVZM48PAKLLKA1*Z', '8YC0UJIHIV6GPNVZM48PAKLLKA1*Z', '8YC0UJIHIV6GPNVZM48PAKLLKA1*Z', '8YC0UJIHIV6GPNVZM48PAKLLKA1*Z', '8YC0UJIHIV6GPNVZM48PAKLLKA1*Z', '8YC0UJIHIV6GPNVZM48PAKLLKA1*Z', '8YC0UJIHIV6GPNVZM48PAKLLKA1*Z', '8YC0UJIHIV6GPNVZM48PAKLLKA1*Z', '8YC0UJIHIV6GPNVZM48PAKLLKA1*Z', '8YC0UJIHIV6GPNVZM48PAKLLKA1*Z', '8YC0UJIHIV6GPNVZM48PAKLLKA1*Z']\n"
     ]
    }
   ],
   "source": [
    "#TESTE DA FUNÇÃO ACIMA\n",
    "pop = criaPop(palavra)\n",
    "print(pop)"
   ]
  },
  {
   "cell_type": "code",
   "execution_count": 232,
   "metadata": {},
   "outputs": [],
   "source": [
    "def mutation(pop, MUTATION_RATE):\n",
    "    new_pop = list()\n",
    "    for c in pop:\n",
    "        caracteres = list()\n",
    "        for i in range (0,29):\n",
    "            letra = c[i]\n",
    "            if(rd.random() < MUTATION_RATE):\n",
    "                letra = rd.choice(string.ascii_uppercase + string.digits + '*')\n",
    "                while letra == c[i]:\n",
    "                    letra = rd.choice(string.ascii_uppercase + string.digits + '*')\n",
    "            caracteres.append(letra)\n",
    "        palavra = ''.join(caracteres)\n",
    "        new_pop.append(palavra)\n",
    "        caracteres.clear()\n",
    "    return new_pop"
   ]
  },
  {
   "cell_type": "code",
   "execution_count": 233,
   "metadata": {},
   "outputs": [
    {
     "name": "stdout",
     "output_type": "stream",
     "text": [
      "['8YC0UJIHIV61PNVZM*8PAKLLKA1*Z', '8YC0UJIHIV67PNOHR48PAVLLKA1*Z', '8YC01JIHIV6GPNVZM48PAKLLKA1*Z', '8YC0UJIHIV6GPNVZMT8PAKLLKA1*Z', '8YC0UJIHIV6GPNVZM48PAKLLKA1*Z', '8YC0UJIHIV6GPNVZM48PAKLLK51*Z', '8YS0UJIHIV6GPNVZM48PAKLLKA1*Z', '8YC0UJIHIV6GPOVDM48PAKLLKA1*Z', '8YCLUJIHIV6GPNVZM48PAKSLKA1*Z', '8YC0UIIHZV6GP9VZM48PAKLLKA1*Z', '8YC0UJIHIV6GPNVXM48NAKLLKA1*Z', '8LC0UJIHIV6GPNVZM48PAKLLQA1*Z', '8YC0UJIHIV6GPNVZM48PAKLLKA1*6', '8YC0UJIHIV6GPNVZM48PAKLLKA1*Z', '8YC0UJIHIV1GPNVZM48NAKLLKA1*Z', '8YC0ZJIHIV6GZNVZM48PAKLLKA1*Z', '8YC0UJIHIV6GPNVZM48PAKL1KA1*Z', '8YC0UJIHIV6GPNVZ448PAKLLKA1*H', '8YC0UJILIV6GPNVZM4TPAKLLKA1*Z', '8YC0UJIHIVMGP2VZM48PAKNLKA1*Z', '8YC0UJIHIV6GPNVZM48PAKLLKA1*Z', '8BC0UJIPIV6GPNVZM4LPAKLLKAU*Z', '8YC0UJIHIV6GPLVZM48PAKLLKA1*Z', '8YC0UJIHIV6GPNVZM48PAKLLKA1*Z', '8YC0UJIHIV6GPNVZM48PAKLLKA1*Z', '8YC0UJIHIV6GPNQZM48PAKLLKA1*Z', '8YC0UJIHIVIGPNVEM48PAKLLKA1*1', '8YC0UJIHIV6GPNVZM48PAKLLKA1*Z', '8YC0UJIHIV6GPNVZM48PAKLLKA1*Z', '8YC0UJ8HIV6GPNVZM08PAKLLKA1*Z', '8YC0UJIHIV6GPNVZM48PAKLLKA1*Z', '8YC0UJIUIV6GPNVZM48PAKLLKP1*Z', '8YC0UJIHIV6GPNVZM48PAKLLKA1*Z', '8YC0UJIHIV6GPNVZM48PAKLLKA1*Z', '8YC0UJIHIV6GPNVZM48PAKLLKA1*Z', '8YC0UJIHIV6GPNVZM48PAKLLKG1*Z', '8YC0UJIHIV6GPNAZM48PAKLLKA1*T', '8YC0UJIHIV6GPNVZM4LPAKLLKA1*Z', '8YC0UJIHIV64PNVQM48PAKLLKK1*Z', 'BYC0UJIHIV6GPNVZM48PAKLLKA1*Z', '8YC4UJIHIV6GPNVZM48PAKLLKA1*Z', '8YC0U5IHIV6GPNVZM48PAKLLKA1*Z', '8YC09JIHIV6GPU4ZM48PAHLLKA1*Z', '8QC0UJIHIV6GPNVZM48PAKLLKA1*Z', '8YC0UYIHIV6GPNVZM48PAKLLKA1*Z', '8YC0UJIHIVDGPNVZM48PAKLLKA1*Z', '8YOYUJ9HIV6GPNVZM48PAKLLKA1*Z', '8YC0UJIHIV6GPNNZM48PAKLLKA1*Z', '8YC0UJIHIV6GPNVZM48PAKLLKA1*W', '8YC0UJIHIV6JPNVZM48PAKLLKA1*V', '8YC0UJIHIV6GPNVZM48PAKLLKA1SZ', '8YC0UJIHIV7GPNVZM38PAKLLKA1*Z', '8YC0UJIHIV6GPNVZM48PAKLLKA1*Z', '8YC0UJIHOV6GPNVZM48PAKLLKA1*Z', '8YC0UJIHIV6GPNVZM48PAKLLKA1*Z', '8YC0UFIHIVIGPNVZM48PAKLLKA1*Z', '8YC0UJIHIV6GANVZM48PAKLLKA1*Z', '8YC0UJIHIV6GPNVZM48IAKLLKA1*Z', '8YC0UJIHIV6GPNV*M48PAKL9KA1*Z', '8YC0UJIBIV6GPNVZM48KAKLLKA1*Z', '8YC0UJIHIV6GPNVZM48PA3L5KA1*Z', '8YC0UJIHIV6GPNVZM48PAKLLKA1*Z', '8YC0UJIHIV6GENVZM48PAKLLKA1GZ', '8YCDUJIHIV6GPNVZM48P9KLLKA1*Z', '8YC0UJIHIV6GPNJZM48PAKLLKA1*Z', '8YC0UJIHIV6GPN3SM48PAKLLKA1*Z', '8YC0UDIHIV6GPNVZM48PAKLLKA1*Z', '8YC0UJIHIV6GPNVMM48PAKLLKA1*Z', '8YJ0EJIHIV6GPNVZM48PTKLLKA1*Z', '8YC0UOIHIV6HPN7ZM48BFKLLKA1*Z', '8Y80UJIHIV6GPNVZM48PAKL*KA1*Z', '8YC0UJIHIV6G8NVZM4IPJKRLKA1*Z', '8YCTUJIHIVQGPNIZM48PAKNLKA1*Z', '8YC5UJIHIV6GPNVZM48PAKLLNA1*Z', '8YC09JIH4V6GPNVZM48PLKLLKA1*Z', '8YC0UJIHPV6GPNVZM48PAKLLKA1*Z', '8EC0UJIHIV6GPNVZM48PAKL4KA1*Z', '8YC0UJIHIV6GPNVZM48PAKLLKA1*Z', '8YC1UJIKIV6GPNVZM48PAKLLKA1*Z', '8YC0UJLHIV6GPNVZM48PAKLLKA1*G', '2YC0UJIHIV6GPNVZM48PAKLLKA1*Z', '8YC0UJIHIV6GPNVZM48PAKLLKA1*Z', '8YC0HJIHIV6GPNWZM48PAKLLKA1*Z', '8YC0UJIHIV6GPNVZM48PAKLLKA1*Z', '8YC0UJIHIV6GPNVZM48PAKLLKA1*Z', '8YC0UJIHIV6GPNVZM48PAKLLKA1*Z', '8YC0UJIHIV6GPNVZM48PAKLDKA1*Z', '8YC0UJIHIV6GPNVZM48PAKLLKA1*Z', '8YC0UJIHIV6GPFVZM48PAKLLKA1*Z', '8YC0UJIHIVPGPNVZM48PAJLLKA1*Z', '8YC0UJDHIV6GPNVZM48PAKLLKA1*Z', '8YC0UJIHIV6GPNVZM48P3KLLKA5*Z', '8YC0UJIHIVVGPNVZM48PAKLLKA1*Z', '8YC0UJIHIS6GPNVZM48PAKLIKA1*Z', '8YC0UJIHIV6GPNVZM48PAKLLKA1*Z', '8YC0UJIHIV6GPNVZU48PAKLLKA1*Z', '8YC0UJIBIV6GPNVNM48PLKL*KA1*Z', '8YC0UJIHIV6GPNVZM48PAKLLKA1*Z', '8YC0UJIHIV6GPNV9M38PAKLLKA1*Z', '8YC0UJIHIV64PNVZM48PAKLLKA1*Z']\n"
     ]
    }
   ],
   "source": [
    "pop = mutation(pop, MUTATION_RATE)\n",
    "print(pop)"
   ]
  },
  {
   "cell_type": "code",
   "execution_count": 234,
   "metadata": {},
   "outputs": [],
   "source": [
    "def analisaCaso(palavra):\n",
    "    gabarito = 'ME*THINKS*IT*IS*LIKE*A*WEASEL'\n",
    "    fitness = 0\n",
    "    for tam in range(0,29):\n",
    "        if gabarito[tam] == palavra[tam]:\n",
    "            fitness+=1\n",
    "    return fitness"
   ]
  },
  {
   "cell_type": "code",
   "execution_count": 235,
   "metadata": {},
   "outputs": [
    {
     "data": {
      "text/plain": [
       "29"
      ]
     },
     "execution_count": 235,
     "metadata": {},
     "output_type": "execute_result"
    }
   ],
   "source": [
    "#TESTE DA FUNÇÃO ACIMA\n",
    "analisaCaso('ME*THINKS*IT*IS*LIKE*A*WEASEL')  "
   ]
  },
  {
   "cell_type": "code",
   "execution_count": 236,
   "metadata": {},
   "outputs": [],
   "source": [
    "#ANALISA O FITNESS DE CADA INDIVIDUO DA POPULAÇÃO\n",
    "def popFitness(x):\n",
    "    pop_fitness = [analisaCaso(each_solution) for each_solution in x]                  \n",
    "    return pop_fitness"
   ]
  },
  {
   "cell_type": "code",
   "execution_count": 237,
   "metadata": {},
   "outputs": [
    {
     "data": {
      "text/plain": [
       "[1,\n",
       " 1,\n",
       " 1,\n",
       " 1,\n",
       " 1,\n",
       " 0,\n",
       " 1,\n",
       " 1,\n",
       " 1,\n",
       " 2,\n",
       " 1,\n",
       " 1,\n",
       " 1,\n",
       " 1,\n",
       " 1,\n",
       " 1,\n",
       " 1,\n",
       " 1,\n",
       " 1,\n",
       " 1,\n",
       " 1,\n",
       " 1,\n",
       " 1,\n",
       " 1,\n",
       " 1,\n",
       " 1,\n",
       " 2,\n",
       " 1,\n",
       " 1,\n",
       " 1,\n",
       " 1,\n",
       " 0,\n",
       " 1,\n",
       " 1,\n",
       " 1,\n",
       " 0,\n",
       " 1,\n",
       " 1,\n",
       " 0,\n",
       " 1,\n",
       " 1,\n",
       " 1,\n",
       " 1,\n",
       " 1,\n",
       " 1,\n",
       " 1,\n",
       " 1,\n",
       " 1,\n",
       " 1,\n",
       " 1,\n",
       " 1,\n",
       " 1,\n",
       " 1,\n",
       " 1,\n",
       " 1,\n",
       " 2,\n",
       " 1,\n",
       " 1,\n",
       " 2,\n",
       " 1,\n",
       " 1,\n",
       " 1,\n",
       " 1,\n",
       " 1,\n",
       " 1,\n",
       " 1,\n",
       " 1,\n",
       " 1,\n",
       " 1,\n",
       " 1,\n",
       " 1,\n",
       " 1,\n",
       " 2,\n",
       " 1,\n",
       " 1,\n",
       " 1,\n",
       " 2,\n",
       " 1,\n",
       " 2,\n",
       " 1,\n",
       " 1,\n",
       " 1,\n",
       " 2,\n",
       " 1,\n",
       " 1,\n",
       " 1,\n",
       " 1,\n",
       " 1,\n",
       " 1,\n",
       " 1,\n",
       " 1,\n",
       " 1,\n",
       " 1,\n",
       " 1,\n",
       " 1,\n",
       " 1,\n",
       " 1,\n",
       " 1,\n",
       " 1,\n",
       " 1]"
      ]
     },
     "execution_count": 237,
     "metadata": {},
     "output_type": "execute_result"
    }
   ],
   "source": [
    "popFitness(pop)\n"
   ]
  },
  {
   "cell_type": "code",
   "execution_count": 238,
   "metadata": {},
   "outputs": [
    {
     "name": "stdout",
     "output_type": "stream",
     "text": [
      "Palavra inicial: PKWL71AUZVIWT*0RGV9M5X4D41FAA\n",
      "Melhor indíviduo da 1º geração: PKWL61AUZVIWTP0RGV9M5X4DE1FAU\n",
      "Melhor indíviduo da 2º geração: PEWL61ZUZVIWTP0RGV9E5X4DE1FAU\n",
      "Melhor indíviduo da 3º geração: PEWP61ZUZ6IWTP0RGV9E5X*DE1FAU\n",
      "Melhor indíviduo da 4º geração: PEWM61ZUZ6IWTP0RLV9E5X*DE1FAU\n",
      "Melhor indíviduo da 5º geração: PEWM61ZUZ6ITTP0RLV9E5X*DE1FAU\n",
      "Melhor indíviduo da 6º geração: PEWM61ZUL6ITTP0RLV9E5X*WE1SAU\n",
      "Melhor indíviduo da 7º geração: PEWM61ZUI6ITTH0RLV9E5X*WE1SAU\n",
      "Melhor indíviduo da 8º geração: PEWM61ZUI6ITTI0RLV9E5X*WE1SAU\n",
      "Melhor indíviduo da 9º geração: PEWM61ZYI6ITTI0RLV9E5X*WE1SAU\n",
      "Melhor indíviduo da 10º geração: PEWM61ZYI6ITTI0RLV9E51*WE1SAU\n",
      "Melhor indíviduo da 11º geração: PEWM61ZYI6ITTI0*LV9E51*WE1SAU\n",
      "Melhor indíviduo da 12º geração: PEWMB1ZYI*ITTI0*LZ9E51*WE1SPU\n",
      "Melhor indíviduo da 13º geração: PEWMH1ZEI*ITTI0*LZ9E51*WE1SKU\n",
      "Melhor indíviduo da 14º geração: PEWMH1ZEI*ITTI0*LI9E51*WE1SKU\n",
      "Melhor indíviduo da 15º geração: AEVMH1ZEI*ITTI0*LI9E5P*WE1SKU\n",
      "Melhor indíviduo da 16º geração: AEVTH1ZEI*ITTI0*LI9E5P*WE1SKU\n",
      "Melhor indíviduo da 17º geração: AEVTH1ZE0*ITTI0*LI9E5L*WE1SKU\n",
      "Melhor indíviduo da 18º geração: AEVTH1ZE0*ITTI0*LI9E5L*WE1SKU\n",
      "Melhor indíviduo da 19º geração: AEVTH1ZE0*ITTI0*LI9E5L*WE1SKU\n",
      "Melhor indíviduo da 20º geração: AEVTHIZE0*ITTI0*LI9E5L*WE1SKU\n",
      "Melhor indíviduo da 21º geração: AEVTHI3K0*ITTI0*LI9E5L*WE1SKU\n",
      "Melhor indíviduo da 22º geração: AEVTHI3K0*ITTI0*LIKE5L*WE1SKU\n",
      "Melhor indíviduo da 23º geração: AEVTHIOK0*ITTI0*LIKE5L*WE1SKU\n",
      "Melhor indíviduo da 24º geração: AEVTHIOK7*ITTI0*LIKE5L*WE1SIU\n",
      "Melhor indíviduo da 25º geração: AEVTHIOK7*ITTI0*LIKE5L*WE1SIU\n",
      "Melhor indíviduo da 26º geração: AEVTHIOKS*ITTI0*LIKEEL*WE9SIU\n",
      "Melhor indíviduo da 27º geração: AEVTHIOKS*ITTI0*LIKEEL*WE9SIU\n",
      "Melhor indíviduo da 28º geração: AEVTHIOKS*ITTI0*LIKE*L*WE9SIU\n",
      "Melhor indíviduo da 29º geração: AEVTHIOKS*ITTI0*LIKE*L*WEISEU\n",
      "Melhor indíviduo da 30º geração: AE*THIOKS*ITTI0*LIKE*L*WEISEU\n",
      "Melhor indíviduo da 31º geração: AE*THIOKS*ITTI0*LIKE*L*WEVSEU\n",
      "Melhor indíviduo da 32º geração: AE*THIOKS*ITTI0*LIKE*L*WEVSEU\n",
      "Melhor indíviduo da 33º geração: ME*THIOKS*ITTI0*LIKE*L*WEVSEU\n",
      "Melhor indíviduo da 34º geração: ME*THIOKS*ITTI0*LIKE*L*WEVSEU\n",
      "Melhor indíviduo da 35º geração: ME*THIOKS*ITTI0*LIKE*L*WEVSEU\n",
      "Melhor indíviduo da 36º geração: ME*THIOKS*ITTI0*LIKE*L*WEVSEU\n",
      "Melhor indíviduo da 37º geração: ME*THIOKS*ITTI0*LIKE*L*WEVSEU\n",
      "Melhor indíviduo da 38º geração: ME*THIOKS*ITTI0*LIKE*L*WEVSEU\n",
      "Melhor indíviduo da 39º geração: ME*THIOKS*ITTI0*LIKE*L*WEVSEU\n",
      "Melhor indíviduo da 40º geração: ME*THIOKS*ITTI0*LIKE*L*WEVSEU\n",
      "Melhor indíviduo da 41º geração: ME*THIOKS*ITTI0*LIKE*L*WEVSEU\n",
      "Melhor indíviduo da 42º geração: ME*THIOKS*ITTI0*LIKE*L*WEVSEU\n",
      "Melhor indíviduo da 43º geração: ME*THIOKS*ITTI0*LIKE*L*WEVSEU\n",
      "Melhor indíviduo da 44º geração: ME*THIOKS*ITTI0*LIKE*A*WEVSEU\n",
      "Melhor indíviduo da 45º geração: ME*THIOKS*ITTI0*LIKE*A*WEVSEU\n",
      "Melhor indíviduo da 46º geração: ME*THIOKS*ITTI0*LIKE*A*WEVSEU\n",
      "Melhor indíviduo da 47º geração: ME*THIOKS*ITTI0*LIKE*A*WEVSEU\n",
      "Melhor indíviduo da 48º geração: ME*THIOKS*ITTI0*LIKE*A*WEVSEU\n",
      "Melhor indíviduo da 49º geração: ME*THIOKS*ITTI0*LIKE*A*WEVSEU\n",
      "Melhor indíviduo da 50º geração: ME*THIOKS*ITTI0*LIKE*A*WEVSEU\n",
      "Melhor indíviduo da 51º geração: ME*THIOKS*ITTI0*LIKE*A*WEVSEU\n",
      "Melhor indíviduo da 52º geração: ME*THIOKS*IT*I0*LIKE*A*WEVSEU\n",
      "Melhor indíviduo da 53º geração: ME*THIOKS*IT*I0*LIKE*A*WEVSEU\n",
      "Melhor indíviduo da 54º geração: ME*THIOKS*IT*I0*LIKE*A*WEVSEU\n",
      "Melhor indíviduo da 55º geração: ME*THIOKS*IT*I0*LIKE*A*WEASEU\n",
      "Melhor indíviduo da 56º geração: ME*THIOKS*IT*I0*LIKE*A*WEASEU\n",
      "Melhor indíviduo da 57º geração: ME*THIOKS*IT*I0*LIKE*A*WEASEU\n",
      "Melhor indíviduo da 58º geração: ME*THIOKS*IT*I0*LIKE*A*WEASEU\n",
      "Melhor indíviduo da 59º geração: ME*THIOKS*IT*I0*LIKE*A*WEASEU\n",
      "Melhor indíviduo da 60º geração: ME*THIOKS*IT*I0*LIKE*A*WEASEL\n",
      "Melhor indíviduo da 61º geração: ME*THITKS*IT*I0*LIKE*A*WEASEL\n",
      "Melhor indíviduo da 62º geração: ME*THITKS*IT*I0*LIKE*A*WEASEL\n",
      "Melhor indíviduo da 63º geração: ME*THITKS*IT*I0*LIKE*A*WEASEL\n",
      "Melhor indíviduo da 64º geração: ME*THITKS*IT*I0*LIKE*A*WEASEL\n",
      "Melhor indíviduo da 65º geração: ME*THITKS*IT*I0*LIKE*A*WEASEL\n",
      "Melhor indíviduo da 66º geração: ME*THITKS*IT*I0*LIKE*A*WEASEL\n",
      "Melhor indíviduo da 67º geração: ME*THITKS*IT*I0*LIKE*A*WEASEL\n",
      "Melhor indíviduo da 68º geração: ME*THITKS*IT*I0*LIKE*A*WEASEL\n",
      "Melhor indíviduo da 69º geração: ME*THITKS*IT*I0*LIKE*A*WEASEL\n",
      "Melhor indíviduo da 70º geração: ME*THITKS*IT*I0*LIKE*A*WEASEL\n",
      "Melhor indíviduo da 71º geração: ME*THITKS*IT*I0*LIKE*A*WEASEL\n",
      "Melhor indíviduo da 72º geração: ME*THITKS*IT*I0*LIKE*A*WEASEL\n",
      "Melhor indíviduo da 73º geração: ME*THITKS*IT*I0*LIKE*A*WEASEL\n",
      "Melhor indíviduo da 74º geração: ME*THITKS*IT*I0*LIKE*A*WEASEL\n",
      "Melhor indíviduo da 75º geração: ME*THITKS*IT*I0*LIKE*A*WEASEL\n",
      "Melhor indíviduo da 76º geração: ME*THITKS*IT*I0*LIKE*A*WEASEL\n",
      "Melhor indíviduo da 77º geração: ME*THITKS*IT*I0*LIKE*A*WEASEL\n",
      "Melhor indíviduo da 78º geração: ME*THITKS*IT*I0*LIKE*A*WEASEL\n",
      "Melhor indíviduo da 79º geração: ME*THITKS*IT*I0*LIKE*A*WEASEL\n",
      "Melhor indíviduo da 80º geração: ME*THITKS*IT*I0*LIKE*A*WEASEL\n",
      "Melhor indíviduo da 81º geração: ME*THITKS*IT*I0*LIKE*A*WEASEL\n",
      "Melhor indíviduo da 82º geração: ME*THITKS*IT*I0*LIKE*A*WEASEL\n",
      "Melhor indíviduo da 83º geração: ME*THITKS*IT*I0*LIKE*A*WEASEL\n",
      "Melhor indíviduo da 84º geração: ME*THI0KS*IT*I0*LIKE*A*WEASEL\n",
      "Melhor indíviduo da 85º geração: ME*THI0KS*IT*I0*LIKE*A*WEASEL\n",
      "Melhor indíviduo da 86º geração: ME*THI0KS*IT*I0*LIKE*A*WEASEL\n",
      "Melhor indíviduo da 87º geração: ME*THI0KS*IT*I0*LIKE*A*WEASEL\n",
      "Melhor indíviduo da 88º geração: ME*THI0KS*IT*I0*LIKE*A*WEASEL\n",
      "Melhor indíviduo da 89º geração: ME*THI0KS*IT*I0*LIKE*A*WEASEL\n",
      "Melhor indíviduo da 90º geração: ME*THI0KS*IT*I0*LIKE*A*WEASEL\n",
      "Melhor indíviduo da 91º geração: ME*THI0KS*IT*I0*LIKE*A*WEASEL\n",
      "Melhor indíviduo da 92º geração: ME*THI0KS*IT*I0*LIKE*A*WEASEL\n",
      "Melhor indíviduo da 93º geração: ME*THI0KS*IT*I0*LIKE*A*WEASEL\n",
      "Melhor indíviduo da 94º geração: ME*THI0KS*IT*I0*LIKE*A*WEASEL\n",
      "Melhor indíviduo da 95º geração: ME*THI0KS*IT*I0*LIKE*A*WEASEL\n",
      "Melhor indíviduo da 96º geração: ME*THI0KS*IT*I0*LIKE*A*WEASEL\n",
      "Melhor indíviduo da 97º geração: ME*THI0KS*IT*I9*LIKE*A*WEASEL\n",
      "Melhor indíviduo da 98º geração: ME*THI0KS*IT*I9*LIKE*A*WEASEL\n",
      "Melhor indíviduo da 99º geração: ME*THI0KS*IT*I9*LIKE*A*WEASEL\n",
      "Melhor indíviduo da 100º geração: ME*THI0KS*IT*I9*LIKE*A*WEASEL\n",
      "Melhor indíviduo da 101º geração: ME*THI0KS*IT*I9*LIKE*A*WEASEL\n",
      "Melhor indíviduo da 102º geração: ME*THITKS*IT*I9*LIKE*A*WEASEL\n",
      "Melhor indíviduo da 103º geração: ME*THITKS*IT*I9*LIKE*A*WEASEL\n",
      "Melhor indíviduo da 104º geração: ME*THITKS*IT*I9*LIKE*A*WEASEL\n",
      "Melhor indíviduo da 105º geração: ME*THITKS*IT*I9*LIKE*A*WEASEL\n",
      "Melhor indíviduo da 106º geração: ME*THITKS*IT*IS*LIKE*A*WEASEL\n",
      "Melhor indíviduo da 107º geração: ME*THITKS*IT*IS*LIKE*A*WEASEL\n",
      "Melhor indíviduo da 108º geração: ME*THINKS*IT*IS*LIKE*A*WEASEL\n",
      "String final: ME*THINKS*IT*IS*LIKE*A*WEASEL\n",
      "Número de caracteres iguais: 29\n",
      "Geração que encontrou a solução: 108º\n"
     ]
    }
   ],
   "source": [
    "#ALGORITMO GENÉTICO COMPLETO\n",
    "palavra = criaString()\n",
    "print(f'Palavra inicial: {palavra}')      \n",
    "i = best =  0                                                              \n",
    "while best!=29:\n",
    "    pop = criaPop(palavra)                                    \n",
    "    pop = mutation(pop, MUTATION_RATE)\n",
    "    pop_fitness = popFitness(pop)\n",
    "    best = max(pop_fitness)\n",
    "    pos_best = pop_fitness.index(best)\n",
    "    palavra = pop[pos_best]\n",
    "    i+=1\n",
    "    print(f'Melhor indíviduo da {i}º geração: {palavra}')\n",
    "print(f'String final: {palavra}')\n",
    "print(f'Número de caracteres iguais: {best}')\n",
    "print(f'Geração que encontrou a solução: {i}º')\n"
   ]
  }
 ],
 "metadata": {
  "interpreter": {
   "hash": "20099c77346fa184342f5a0e1dc2579955983be62f07a7f263c863d4bded7e85"
  },
  "kernelspec": {
   "display_name": "Python 3.10.0 64-bit (windows store)",
   "language": "python",
   "name": "python3"
  },
  "language_info": {
   "codemirror_mode": {
    "name": "ipython",
    "version": 3
   },
   "file_extension": ".py",
   "mimetype": "text/x-python",
   "name": "python",
   "nbconvert_exporter": "python",
   "pygments_lexer": "ipython3",
   "version": "3.10.0"
  },
  "orig_nbformat": 4
 },
 "nbformat": 4,
 "nbformat_minor": 2
}
