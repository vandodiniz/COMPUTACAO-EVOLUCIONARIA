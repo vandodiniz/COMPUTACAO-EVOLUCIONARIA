{
 "cells": [
  {
   "cell_type": "code",
   "execution_count": 275,
   "metadata": {},
   "outputs": [],
   "source": [
    "import random as rd\n",
    "import numpy as np\n",
    "import string\n",
    "\n",
    "COPIAS = 100\n",
    "CROSSOVER_RATE = 1\n",
    "MUTATION_RATE = 0.05"
   ]
  },
  {
   "cell_type": "code",
   "execution_count": 276,
   "metadata": {},
   "outputs": [],
   "source": [
    "def criaString():\n",
    "    palavra = ''\n",
    "    for tam in range(0,29):\n",
    "        letra = rd.choice(string.ascii_uppercase + string.digits + '*')\n",
    "        palavra = palavra + letra\n",
    "    return palavra"
   ]
  },
  {
   "cell_type": "code",
   "execution_count": 277,
   "metadata": {},
   "outputs": [
    {
     "name": "stdout",
     "output_type": "stream",
     "text": [
      "O1J0IT4480H56C4D429NPF2C5RB84\n"
     ]
    }
   ],
   "source": [
    "#TESTE DA FUNÇÃO ACIMA\n",
    "palavra = criaString()\n",
    "print(palavra)"
   ]
  },
  {
   "cell_type": "code",
   "execution_count": 278,
   "metadata": {},
   "outputs": [],
   "source": [
    "def criaPop(individuo):\n",
    "    pop = list()\n",
    "    for tam in range(0,COPIAS):\n",
    "        pop.append(individuo)\n",
    "    return pop"
   ]
  },
  {
   "cell_type": "code",
   "execution_count": 279,
   "metadata": {},
   "outputs": [
    {
     "name": "stdout",
     "output_type": "stream",
     "text": [
      "['O1J0IT4480H56C4D429NPF2C5RB84', 'O1J0IT4480H56C4D429NPF2C5RB84', 'O1J0IT4480H56C4D429NPF2C5RB84', 'O1J0IT4480H56C4D429NPF2C5RB84', 'O1J0IT4480H56C4D429NPF2C5RB84', 'O1J0IT4480H56C4D429NPF2C5RB84', 'O1J0IT4480H56C4D429NPF2C5RB84', 'O1J0IT4480H56C4D429NPF2C5RB84', 'O1J0IT4480H56C4D429NPF2C5RB84', 'O1J0IT4480H56C4D429NPF2C5RB84', 'O1J0IT4480H56C4D429NPF2C5RB84', 'O1J0IT4480H56C4D429NPF2C5RB84', 'O1J0IT4480H56C4D429NPF2C5RB84', 'O1J0IT4480H56C4D429NPF2C5RB84', 'O1J0IT4480H56C4D429NPF2C5RB84', 'O1J0IT4480H56C4D429NPF2C5RB84', 'O1J0IT4480H56C4D429NPF2C5RB84', 'O1J0IT4480H56C4D429NPF2C5RB84', 'O1J0IT4480H56C4D429NPF2C5RB84', 'O1J0IT4480H56C4D429NPF2C5RB84', 'O1J0IT4480H56C4D429NPF2C5RB84', 'O1J0IT4480H56C4D429NPF2C5RB84', 'O1J0IT4480H56C4D429NPF2C5RB84', 'O1J0IT4480H56C4D429NPF2C5RB84', 'O1J0IT4480H56C4D429NPF2C5RB84', 'O1J0IT4480H56C4D429NPF2C5RB84', 'O1J0IT4480H56C4D429NPF2C5RB84', 'O1J0IT4480H56C4D429NPF2C5RB84', 'O1J0IT4480H56C4D429NPF2C5RB84', 'O1J0IT4480H56C4D429NPF2C5RB84', 'O1J0IT4480H56C4D429NPF2C5RB84', 'O1J0IT4480H56C4D429NPF2C5RB84', 'O1J0IT4480H56C4D429NPF2C5RB84', 'O1J0IT4480H56C4D429NPF2C5RB84', 'O1J0IT4480H56C4D429NPF2C5RB84', 'O1J0IT4480H56C4D429NPF2C5RB84', 'O1J0IT4480H56C4D429NPF2C5RB84', 'O1J0IT4480H56C4D429NPF2C5RB84', 'O1J0IT4480H56C4D429NPF2C5RB84', 'O1J0IT4480H56C4D429NPF2C5RB84', 'O1J0IT4480H56C4D429NPF2C5RB84', 'O1J0IT4480H56C4D429NPF2C5RB84', 'O1J0IT4480H56C4D429NPF2C5RB84', 'O1J0IT4480H56C4D429NPF2C5RB84', 'O1J0IT4480H56C4D429NPF2C5RB84', 'O1J0IT4480H56C4D429NPF2C5RB84', 'O1J0IT4480H56C4D429NPF2C5RB84', 'O1J0IT4480H56C4D429NPF2C5RB84', 'O1J0IT4480H56C4D429NPF2C5RB84', 'O1J0IT4480H56C4D429NPF2C5RB84', 'O1J0IT4480H56C4D429NPF2C5RB84', 'O1J0IT4480H56C4D429NPF2C5RB84', 'O1J0IT4480H56C4D429NPF2C5RB84', 'O1J0IT4480H56C4D429NPF2C5RB84', 'O1J0IT4480H56C4D429NPF2C5RB84', 'O1J0IT4480H56C4D429NPF2C5RB84', 'O1J0IT4480H56C4D429NPF2C5RB84', 'O1J0IT4480H56C4D429NPF2C5RB84', 'O1J0IT4480H56C4D429NPF2C5RB84', 'O1J0IT4480H56C4D429NPF2C5RB84', 'O1J0IT4480H56C4D429NPF2C5RB84', 'O1J0IT4480H56C4D429NPF2C5RB84', 'O1J0IT4480H56C4D429NPF2C5RB84', 'O1J0IT4480H56C4D429NPF2C5RB84', 'O1J0IT4480H56C4D429NPF2C5RB84', 'O1J0IT4480H56C4D429NPF2C5RB84', 'O1J0IT4480H56C4D429NPF2C5RB84', 'O1J0IT4480H56C4D429NPF2C5RB84', 'O1J0IT4480H56C4D429NPF2C5RB84', 'O1J0IT4480H56C4D429NPF2C5RB84', 'O1J0IT4480H56C4D429NPF2C5RB84', 'O1J0IT4480H56C4D429NPF2C5RB84', 'O1J0IT4480H56C4D429NPF2C5RB84', 'O1J0IT4480H56C4D429NPF2C5RB84', 'O1J0IT4480H56C4D429NPF2C5RB84', 'O1J0IT4480H56C4D429NPF2C5RB84', 'O1J0IT4480H56C4D429NPF2C5RB84', 'O1J0IT4480H56C4D429NPF2C5RB84', 'O1J0IT4480H56C4D429NPF2C5RB84', 'O1J0IT4480H56C4D429NPF2C5RB84', 'O1J0IT4480H56C4D429NPF2C5RB84', 'O1J0IT4480H56C4D429NPF2C5RB84', 'O1J0IT4480H56C4D429NPF2C5RB84', 'O1J0IT4480H56C4D429NPF2C5RB84', 'O1J0IT4480H56C4D429NPF2C5RB84', 'O1J0IT4480H56C4D429NPF2C5RB84', 'O1J0IT4480H56C4D429NPF2C5RB84', 'O1J0IT4480H56C4D429NPF2C5RB84', 'O1J0IT4480H56C4D429NPF2C5RB84', 'O1J0IT4480H56C4D429NPF2C5RB84', 'O1J0IT4480H56C4D429NPF2C5RB84', 'O1J0IT4480H56C4D429NPF2C5RB84', 'O1J0IT4480H56C4D429NPF2C5RB84', 'O1J0IT4480H56C4D429NPF2C5RB84', 'O1J0IT4480H56C4D429NPF2C5RB84', 'O1J0IT4480H56C4D429NPF2C5RB84', 'O1J0IT4480H56C4D429NPF2C5RB84', 'O1J0IT4480H56C4D429NPF2C5RB84', 'O1J0IT4480H56C4D429NPF2C5RB84', 'O1J0IT4480H56C4D429NPF2C5RB84']\n"
     ]
    }
   ],
   "source": [
    "#TESTE DA FUNÇÃO ACIMA\n",
    "pop = criaPop(palavra)\n",
    "print(pop)"
   ]
  },
  {
   "cell_type": "code",
   "execution_count": 280,
   "metadata": {},
   "outputs": [],
   "source": [
    "def mutation(pop, MUTATION_RATE):\n",
    "    new_pop = list()\n",
    "    for c in pop:\n",
    "        caracteres = list()\n",
    "        for i in range (0,29):\n",
    "            letra = c[i]\n",
    "            if(rd.random() < MUTATION_RATE):\n",
    "                letra = rd.choice(string.ascii_uppercase + string.digits + '*')\n",
    "                while letra == c[i]:\n",
    "                    letra = rd.choice(string.ascii_uppercase + string.digits + '*')\n",
    "            caracteres.append(letra)\n",
    "        palavra = ''.join(caracteres)\n",
    "        new_pop.append(palavra)\n",
    "        caracteres.clear()\n",
    "    return new_pop"
   ]
  },
  {
   "cell_type": "code",
   "execution_count": 281,
   "metadata": {},
   "outputs": [
    {
     "name": "stdout",
     "output_type": "stream",
     "text": [
      "['Y1J0IT4480H56C4D429NPF2C5RB84', 'O1J0IT4480H56C4D429NPF2C5RB84', 'O1J0IT4480H56C4D429NPF2C5RB84', 'O1J0IT4480R56C0DM29NPF2C5RB84', 'O1J0IT4480H56C4D429NPF2C5RB84', 'O1J0IT4480H56C4D429NPF2C5RB84', 'O1J0IT4480H56C4D429N3F2C5RB84', 'O1J0IT4480H56C4D429NPF2C5RB84', 'O1J0IT4480H56F4D429NPF2C5RB84', 'O1J0PT4480H56C4D429NPF2C5RB84', 'O1J0IT4480H56C4D429NPF2CQRB84', 'O1J0IT4480H56C4D429NPF2C5RB84', 'O1J0IT4480H56C4D429NPF2C5RB84', 'O5J0IT4480H56C4D429NPFSC5FB84', 'O1J0KT4480H56C4D429NPF2C5RB84', 'O1J0IT4480H56C4D429NPF2C5RB84', 'O1J0IT4480H56C4D429NPF2C5RB84', 'O1J0IT4480HP6C4D429NPF2C5RB84', 'O1J0IT4480H56C4D429NPF2C5RB84', 'O1L0IT4480H56C4D429NPF2C5RB84', 'O1J0IT4480H56C4D429NPF2C5RB84', 'O1J0IT4480H56C4D429NPF2C5RBN4', 'O1J0IT44W0H56C4D429NPF255RB84', 'O1JQIT4480H56C4D429NPF2C5RB84', 'O1J0IT4480HD6C4D429NPF2C5RB84', 'O1J0IT4480H56C4D429NPF2C5RB84', 'O1J0IT4480H56C4D429NPF2C5RB84', 'O1J0IT4480H56C4D429NPF2C5RB84', 'O1J0IT4480H56C4D429NPF2C5RB89', 'O1J0IT4480H56C4V429NPF2CYRB84', 'O1J0IT4480H56C4D429NPF2C5RB84', 'O1J0IT4480H56H4D429NPF2C5RB84', 'O1J0IT44W0H56C4D429NPF2C5RB84', 'O1J0IT4480H5JC4D429NPF2C5RB84', 'O1J0IT448035694D429NPF2C5RB84', 'O1J0IT4480H56C4D429NPF2C5SB84', '31JFIT4480H56C4D424NPFWC5RB8B', 'O1J0IT4480H56CQD429NPF2C5RB84', 'O1J0IT4480H56C4O429NPF2I5RB84', 'O1J0RT4480H56C4D426NOF2C5RB84', 'O1J0IT4480H56C4D429NPFLC5RB54', 'O1J0IT448QH56C4D429NPF2C5RB84', 'O1J0IT44O0W56C4D429NPF2C5RB84', 'O1J0IT4480H56C4D929NPF2C5RB84', 'O1J0IT448PH56C6D429APF2C5RB84', 'O1J0IT4480H56C4D429NDF2C5RB84', 'O1J0MT4480H56C4D429NPF2C5RB84', 'O1J0IT4440H56C4D429NPF2C5RB84', 'O1J0IT4480H56C4D429NPF2C5RB84', 'O1J0IT4480H56CEDS29NPF2C5RB87', 'O1J0IT4480H56C4D429NPF2C5RB8I', 'O1J0IT4480H56C4D42ANPF2C5RB84', 'O1J0IT4480HS6C4D4297PF2C5RB84', 'M1J0ITU480H56C4D429NPF2C5RB84', 'O1J04T448IH56CMD429NPF2C5RI84', 'OMJ0NT4420H5624D429NPF2C5RB84', 'O1J0IK4480H56C4D42NNPF2C5RB84', 'O1J0IT4G80H56C4D429FPF2C5RB84', 'O1J0IT4480H53C4D429NPF2C5RB84', 'O1J0IT4480H56C4D429NPF2C5RB84', 'O1J0IT4480H56C4D4291PF2C5RB84', 'OJJ0IT4480H56CMD429N5F2C5RB84', 'OXJ0ITW480H56C4D429NPF2C5RB84', 'O1J0IT4480H56C4D429NPF2C5RB84', 'O1J0IT4480H56C4D429NPF2C5RB84', 'O1J0IT4480H56CP0429NPF2C5RB84', 'O1J0IT4480H56C4D429NPF2C5R*84', 'Z1J0IT4480H56C4D4A9NPF2C5RB84', 'O1J0IT4480H56C4D429NPF2C5RB84', 'O1J0IT4480H56C4D429NPF2C5RB84', 'O1J0IT448QH5*H4DB29NPF2C5AB84', 'O1C06T4470H56C4D429NPFYC5RB84', 'OIJ0MT4485H56C4D429NPF2C5RB84', 'O1J0TT4480R56C4D4Q9NPF2C5RB84', 'O1J0IT448RH56C4D429NPF2J0RB84', 'O1J0IT4480H56CLD429NPF2C5RB84', 'O1J0IT4480H56C4D42LNPF2C5RB84', 'O1J0IT4480H56C4D42KNPF2C5RB84', 'O1J0IT4480H56C4D429NWF2C5KB84', 'O1JGIT4480H56C4D4298PF2C5RB84', 'O1J0IT4480H56C4D429NPF2C5RB84', 'O1G0IT8480H56C4D429NPF2C5RB84', 'O1J0IT4480H5HC*D429NPF2C5RB84', 'O1J0IT4480H56C4D429NPF2B5RB84', 'O1J0IT4480H56C4D429XP82C5RB84', 'O1J0IT4480H56C4D429NPF2C5RB84', 'O1J0IT4480H56C4D429NPF2C5RB84', 'O1J0IT4480H56C4D429NPF2M5RB84', '41J0IZ4Z80H56C4D429CPF2C5RB84', 'OPJ0IT4480H5634D429NPF2C5RB84', 'O1J0IT4480H56C4D429NPF2C5RB84', 'O2J0IT4480H56C4O429NPF2C5RB84', 'O1J0IT4*80H56C4D429NPF2C5RB84', 'O7J01T4480956C4D429NPFOC5RB84', 'O1J0IU4480H57C4D429NPF2C5RB84', 'O1J0IT4480H56C4D4G9NPF2C5RB84', 'O1J0IT44N0H56C4D429NPF2CARB84', 'O1J0DT4480H56C4D429NPF2C5RV84', 'O1J0IT44L0H56C4D429NPF2C5RB84', 'O1J0IT4L80H56C4D429NPF235RB84']\n"
     ]
    }
   ],
   "source": [
    "pop = mutation(pop, MUTATION_RATE)\n",
    "print(pop)"
   ]
  },
  {
   "cell_type": "code",
   "execution_count": 282,
   "metadata": {},
   "outputs": [],
   "source": [
    "def analisaCaso(palavra):\n",
    "    gabarito = 'ME*THINKS*IT*IS*LIKE*A*WEASEL'\n",
    "    fitness = 0\n",
    "    for tam in range(0,29):\n",
    "        if gabarito[tam] == palavra[tam]:\n",
    "            fitness+=1\n",
    "    return fitness"
   ]
  },
  {
   "cell_type": "code",
   "execution_count": 283,
   "metadata": {},
   "outputs": [
    {
     "data": {
      "text/plain": [
       "29"
      ]
     },
     "execution_count": 283,
     "metadata": {},
     "output_type": "execute_result"
    }
   ],
   "source": [
    "#TESTE DA FUNÇÃO ACIMA\n",
    "analisaCaso('ME*THINKS*IT*IS*LIKE*A*WEASEL')  "
   ]
  },
  {
   "cell_type": "code",
   "execution_count": 284,
   "metadata": {},
   "outputs": [],
   "source": [
    "#ANALISA O FITNESS DE CADA INDIVIDUO DA POPULAÇÃO\n",
    "def popFitness(x):\n",
    "    pop_fitness = [analisaCaso(each_solution) for each_solution in x]                  \n",
    "    return pop_fitness"
   ]
  },
  {
   "cell_type": "code",
   "execution_count": 285,
   "metadata": {},
   "outputs": [
    {
     "data": {
      "text/plain": [
       "[0,\n",
       " 0,\n",
       " 0,\n",
       " 0,\n",
       " 0,\n",
       " 0,\n",
       " 0,\n",
       " 0,\n",
       " 0,\n",
       " 0,\n",
       " 0,\n",
       " 0,\n",
       " 0,\n",
       " 0,\n",
       " 0,\n",
       " 0,\n",
       " 0,\n",
       " 0,\n",
       " 0,\n",
       " 0,\n",
       " 0,\n",
       " 0,\n",
       " 0,\n",
       " 0,\n",
       " 0,\n",
       " 0,\n",
       " 0,\n",
       " 0,\n",
       " 0,\n",
       " 0,\n",
       " 0,\n",
       " 0,\n",
       " 0,\n",
       " 0,\n",
       " 0,\n",
       " 0,\n",
       " 0,\n",
       " 0,\n",
       " 0,\n",
       " 0,\n",
       " 0,\n",
       " 0,\n",
       " 0,\n",
       " 0,\n",
       " 0,\n",
       " 0,\n",
       " 0,\n",
       " 0,\n",
       " 0,\n",
       " 0,\n",
       " 0,\n",
       " 0,\n",
       " 0,\n",
       " 1,\n",
       " 0,\n",
       " 0,\n",
       " 0,\n",
       " 0,\n",
       " 0,\n",
       " 0,\n",
       " 0,\n",
       " 0,\n",
       " 0,\n",
       " 0,\n",
       " 0,\n",
       " 0,\n",
       " 0,\n",
       " 0,\n",
       " 0,\n",
       " 0,\n",
       " 2,\n",
       " 0,\n",
       " 0,\n",
       " 0,\n",
       " 0,\n",
       " 0,\n",
       " 0,\n",
       " 1,\n",
       " 0,\n",
       " 0,\n",
       " 0,\n",
       " 0,\n",
       " 0,\n",
       " 0,\n",
       " 0,\n",
       " 0,\n",
       " 0,\n",
       " 0,\n",
       " 0,\n",
       " 0,\n",
       " 0,\n",
       " 0,\n",
       " 0,\n",
       " 0,\n",
       " 0,\n",
       " 0,\n",
       " 0,\n",
       " 0,\n",
       " 0,\n",
       " 0]"
      ]
     },
     "execution_count": 285,
     "metadata": {},
     "output_type": "execute_result"
    }
   ],
   "source": [
    "popFitness(pop)\n"
   ]
  },
  {
   "cell_type": "code",
   "execution_count": 286,
   "metadata": {},
   "outputs": [
    {
     "name": "stdout",
     "output_type": "stream",
     "text": [
      "Palavra inicial: YL0SY7V4W0NETC5LMWPWYGDX8Y4ND\n",
      "Melhor indíviduo da 1º geração: YL0TY7V4W0NETC5LMWPWYGDX8Y4ND\n",
      "Melhor indíviduo da 2º geração: YLBTY7V4W0NETC9LMWDWYGDX8Y4ND\n",
      "Melhor indíviduo da 3º geração: YLBTY7C4W0NETC9LM0DWYTDW8Y46D\n",
      "Melhor indíviduo da 4º geração: YLBTY7C4W0NETC9LM0DWYTDW8Y4ED\n",
      "Melhor indíviduo da 5º geração: YLBTY7C4W*NETC9LM0DWYTDW8Y4ED\n",
      "Melhor indíviduo da 6º geração: YLBTY7C4W*1TTC9LM0DWYTDW8Y4ED\n",
      "Melhor indíviduo da 7º geração: YLBTYICYW*1TT19LM0DWYTDW804ED\n",
      "Melhor indíviduo da 8º geração: YL*TYICYW*1TT19LM0DWYTDW804ED\n",
      "Melhor indíviduo da 9º geração: YL*TYICKW*1TT19LM0DMYTDW80BED\n",
      "Melhor indíviduo da 10º geração: YL*TYICKW*1TT19LM0DMYT*W80LED\n",
      "Melhor indíviduo da 11º geração: YL*TYICKW*RT*19LM0DMYJ*W80LED\n",
      "Melhor indíviduo da 12º geração: YL*TYICKW*RT*19LM0DMYA*W80LED\n",
      "Melhor indíviduo da 13º geração: YL*TYICKW*RT*19LL0DMYA*W80LED\n",
      "Melhor indíviduo da 14º geração: YO*TYICKW*RT*19LL0DMYA*W80LED\n",
      "Melhor indíviduo da 15º geração: YO*TYICKW*RT*19*L0DPYA*W80LED\n",
      "Melhor indíviduo da 16º geração: YO*TYICKW*RT*19*L0DYYA*W80LED\n",
      "Melhor indíviduo da 17º geração: YO*THICKW*RT*19*L0DYYA*W80LED\n",
      "Melhor indíviduo da 18º geração: YO*THICKW*RT*19*LJDYYA*W80LEL\n",
      "Melhor indíviduo da 19º geração: YO*THICKW*RT*19*LJDYYA*W80LEL\n",
      "Melhor indíviduo da 20º geração: YE*THICKW*RT*19*LJDYYA*W80LEL\n",
      "Melhor indíviduo da 21º geração: YE*THICK6*RT*I9*LJDYYA*W80LEL\n",
      "Melhor indíviduo da 22º geração: YE*THICK6*RT*I9*LJDYYA*WI0LEL\n",
      "Melhor indíviduo da 23º geração: YE*THICK6*RT*I9*LJDEYA*WI0LEL\n",
      "Melhor indíviduo da 24º geração: YE*THICK6*RT*I9*LIDEYA*WI0LEL\n",
      "Melhor indíviduo da 25º geração: YE*THICK6*RT*I9*LIGEYA*W60LEL\n",
      "Melhor indíviduo da 26º geração: YE*THICK6*RT*I9*LIGEYA*W60LEL\n",
      "Melhor indíviduo da 27º geração: YE*THICK6*RT*I9*LIGEYA*W60LEL\n",
      "Melhor indíviduo da 28º geração: YE*THICK6*RT*I9*LIGE5A*W60LEL\n",
      "Melhor indíviduo da 29º geração: YE*THICK6*RT*I9*LIGE5A*W60LEL\n",
      "Melhor indíviduo da 30º geração: YE*THICK6*RT*I9*LIKE5A*W60LEL\n",
      "Melhor indíviduo da 31º geração: YE*THICK6*RT*I9*LIKE5A*W60LEL\n",
      "Melhor indíviduo da 32º geração: YE*THICK6*RT*I9*LIKE5A*W60LEL\n",
      "Melhor indíviduo da 33º geração: YE*THICK6*ST*I9*LIKE*A*W600EL\n",
      "Melhor indíviduo da 34º geração: YE*THICK6*ST*I9*LIKE*A*W600EL\n",
      "Melhor indíviduo da 35º geração: YE*THICK6*ST*I9*LIKE*A*W600EL\n",
      "Melhor indíviduo da 36º geração: QE*THICK6*ST*I9*LIKE*A*W600EL\n",
      "Melhor indíviduo da 37º geração: QE*THICK6*ST*I9*LIKE*A*WE00EL\n",
      "Melhor indíviduo da 38º geração: QE*THICK6*ST*I9*LIKE*A*WE0SEL\n",
      "Melhor indíviduo da 39º geração: QE*THICK6*ST*II*LIKE*A*WE7SEL\n",
      "Melhor indíviduo da 40º geração: QE*THICK6*ST*II*LIKE*A*WE7SEL\n",
      "Melhor indíviduo da 41º geração: QE*THICK6*ST*II*LIKE*A*WE7SEL\n",
      "Melhor indíviduo da 42º geração: TE*THICK6*ST*II*LIKE*A*WE7SEL\n",
      "Melhor indíviduo da 43º geração: TE*THICKZ*ST*II*LIKE*A*WE7SEL\n",
      "Melhor indíviduo da 44º geração: TE*THICKZ*ST*I4*LIKE*A*WE7SEL\n",
      "Melhor indíviduo da 45º geração: TE*THI1KZ*ST*I4*LIKE*A*WE7SEL\n",
      "Melhor indíviduo da 46º geração: TE*THIFKZ*ST*I4*LIKE*A*WE7SEL\n",
      "Melhor indíviduo da 47º geração: TE*THIFKZ*ST*I4*LIKE*A*WE7SEL\n",
      "Melhor indíviduo da 48º geração: TE*THIFKZ*ST*I4*LIKE*A*WE7SEL\n",
      "Melhor indíviduo da 49º geração: TE*THIFKZ*ST*IS*LIKE*A*WE7SEL\n",
      "Melhor indíviduo da 50º geração: TE*THIFKZ*ST*IS*LIKE*A*WE7SEL\n",
      "Melhor indíviduo da 51º geração: TE*THIFKZ*ST*IS*LIKE*A*WE7SEL\n",
      "Melhor indíviduo da 52º geração: TE*THIFKZ*ST*IS*LIKE*A*WE7SEL\n",
      "Melhor indíviduo da 53º geração: TE*THIFKZ*ST*IS*LIKE*A*WE7SEL\n",
      "Melhor indíviduo da 54º geração: TE*THIFKZ*ST*IS*LIKE*A*WE7SEL\n",
      "Melhor indíviduo da 55º geração: TE*THIFKZ*ST*IS*LIKE*A*WE7SEL\n",
      "Melhor indíviduo da 56º geração: TE*THIFKZ*ST*IS*LIKE*A*WE7SEL\n",
      "Melhor indíviduo da 57º geração: TE*THIFKZ*ST*IS*LIKE*A*WE7SEL\n",
      "Melhor indíviduo da 58º geração: TE*THIFKZ*ST*IS*LIKE*A*WE7SEL\n",
      "Melhor indíviduo da 59º geração: TE*THINKZ*ST*IS*LIKE*A*WE7SEL\n",
      "Melhor indíviduo da 60º geração: TE*THINKZ*ST*IS*LIKE*A*WE7SEL\n",
      "Melhor indíviduo da 61º geração: TE*THINKZ*ST*IS*LIKE*A*WE7SEL\n",
      "Melhor indíviduo da 62º geração: TE*THINKZ*IT*IS*LIKE*A*WE7SEL\n",
      "Melhor indíviduo da 63º geração: TE*THINKZ*IT*IS*LIKE*A*WE7SEL\n",
      "Melhor indíviduo da 64º geração: TE*THINKZ*IT*IS*LIKE*A*WE7SEL\n",
      "Melhor indíviduo da 65º geração: TE*THINKZ*IT*IS*LIKE*A*WE7SEL\n",
      "Melhor indíviduo da 66º geração: TE*THINKZ*IT*IS*LIKE*A*WE7SEL\n",
      "Melhor indíviduo da 67º geração: TE*THINKZ*IT*IS*LIKE*A*WE7SEL\n",
      "Melhor indíviduo da 68º geração: TE*THINKZ*IT*IS*LIKE*A*WE7SEL\n",
      "Melhor indíviduo da 69º geração: TE*THINKZ*IT*IS*LIKE*A*WE7SEL\n",
      "Melhor indíviduo da 70º geração: TE*THINKZ*IT*IS*LIKE*A*WE7SEL\n",
      "Melhor indíviduo da 71º geração: TE*THINKZ*IT*IS*LIKE*A*WE7SEL\n",
      "Melhor indíviduo da 72º geração: TE*THINKZ*IT*IS*LIKE*A*WE7SEL\n",
      "Melhor indíviduo da 73º geração: TE*THINKZ*IT*IS*LIKE*A*WE7SEL\n",
      "Melhor indíviduo da 74º geração: TE*THINKZ*IT*IS*LIKE*A*WEASEL\n",
      "Melhor indíviduo da 75º geração: TE*THINKZ*IT*IS*LIKE*A*WEASEL\n",
      "Melhor indíviduo da 76º geração: TE*THINKZ*IT*IS*LIKE*A*WEASEL\n",
      "Melhor indíviduo da 77º geração: TE*THINKZ*IT*IS*LIKE*A*WEASEL\n",
      "Melhor indíviduo da 78º geração: TE*THINKZ*IT*IS*LIKE*A*WEASEL\n",
      "Melhor indíviduo da 79º geração: TE*THINKZ*IT*IS*LIKE*A*WEASEL\n",
      "Melhor indíviduo da 80º geração: TE*THINKF*IT*IS*LIKE*A*WEASEL\n",
      "Melhor indíviduo da 81º geração: ME*THINKF*IT*IS*LIKE*A*WEASEL\n",
      "Melhor indíviduo da 82º geração: ME*THINKF*IT*IS*LIKE*A*WEASEL\n",
      "Melhor indíviduo da 83º geração: ME*THINKF*IT*IS*LIKE*A*WEASEL\n",
      "Melhor indíviduo da 84º geração: ME*THINKF*IT*IS*LIKE*A*WEASEL\n",
      "Melhor indíviduo da 85º geração: ME*THINKF*IT*IS*LIKE*A*WEASEL\n",
      "Melhor indíviduo da 86º geração: ME*THINKF*IT*IS*LIKE*A*WEASEL\n",
      "Melhor indíviduo da 87º geração: ME*THINKF*IT*IS*LIKE*A*WEASEL\n",
      "Melhor indíviduo da 88º geração: ME*THINKF*IT*IS*LIKE*A*WEASEL\n",
      "Melhor indíviduo da 89º geração: ME*THINKF*IT*IS*LIKE*A*WEASEL\n",
      "Melhor indíviduo da 90º geração: ME*THINKF*IT*IS*LIKE*A*WEASEL\n",
      "Melhor indíviduo da 91º geração: ME*THINKF*IT*IS*LIKE*A*WEASEL\n",
      "Melhor indíviduo da 92º geração: ME*THINKF*IT*IS*LIKE*A*WEASEL\n",
      "Melhor indíviduo da 93º geração: ME*THINKF*IT*IS*LIKE*A*WEASEL\n",
      "Melhor indíviduo da 94º geração: ME*THINKF*IT*IS*LIKE*A*WEASEL\n",
      "Melhor indíviduo da 95º geração: ME*THINKS*IT*IS*LIKE*A*WEASEL\n",
      "String final: ME*THINKS*IT*IS*LIKE*A*WEASEL\n",
      "Número de caracteres iguais: 29\n",
      "Geração que encontrou a solução: 95º\n"
     ]
    }
   ],
   "source": [
    "#ALGORITMO GENÉTICO COMPLETO\n",
    "palavra = criaString()\n",
    "print(f'Palavra inicial: {palavra}')      \n",
    "i = best =  0                                                              \n",
    "while best!=29:\n",
    "    pop = criaPop(palavra)                                    \n",
    "    pop = mutation(pop, MUTATION_RATE)\n",
    "    pop_fitness = popFitness(pop)\n",
    "    best = max(pop_fitness)\n",
    "    pos_best = pop_fitness.index(best)\n",
    "    palavra = pop[pos_best]\n",
    "    i+=1\n",
    "    print(f'Melhor indíviduo da {i}º geração: {palavra}')\n",
    "print(f'String final: {palavra}')\n",
    "print(f'Número de caracteres iguais: {best}')\n",
    "print(f'Geração que encontrou a solução: {i}º')\n"
   ]
  }
 ],
 "metadata": {
  "interpreter": {
   "hash": "20099c77346fa184342f5a0e1dc2579955983be62f07a7f263c863d4bded7e85"
  },
  "kernelspec": {
   "display_name": "Python 3.10.0 64-bit (windows store)",
   "language": "python",
   "name": "python3"
  },
  "language_info": {
   "codemirror_mode": {
    "name": "ipython",
    "version": 3
   },
   "file_extension": ".py",
   "mimetype": "text/x-python",
   "name": "python",
   "nbconvert_exporter": "python",
   "pygments_lexer": "ipython3",
   "version": "3.10.0"
  },
  "orig_nbformat": 4
 },
 "nbformat": 4,
 "nbformat_minor": 2
}
