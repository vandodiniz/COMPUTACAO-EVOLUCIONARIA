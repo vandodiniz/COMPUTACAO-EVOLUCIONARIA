{
 "cells": [
  {
   "cell_type": "code",
   "execution_count": 37,
   "metadata": {},
   "outputs": [],
   "source": [
    "import random as rd\n",
    "import numpy as np\n",
    "import string\n",
    "\n",
    "#VARIÁVEIS GLOBAIS QUE DITAM O COMPORTAMENTO DA POPULAÇÃO\n",
    "CROSSOVER_RATE = 0.5\n",
    "MUTATION_RATE = 0.05\n",
    "COPIAS = 100\n",
    "GABARITO = 'ME*THINKS*IT*IS*LIKE*A*WEASEL'\n",
    "TAMANHO = len(GABARITO)"
   ]
  },
  {
   "cell_type": "code",
   "execution_count": null,
   "metadata": {},
   "outputs": [],
   "source": [
    "def criaString():\n",
    "    #sorteia N caracteres aleatórios para ser a palavra inicial\n",
    "    palavra = ''                                                               #palavra inicia vazia\n",
    "    for tam in range(0,TAMANHO):                                                                         \n",
    "        letra = rd.choice(string.ascii_uppercase + string.digits + '*')        #sorteia um caractere       \n",
    "        palavra = palavra + letra                                              #concatena o caractere com a palavra\n",
    "    return palavra"
   ]
  },
  {
   "cell_type": "code",
   "execution_count": null,
   "metadata": {},
   "outputs": [
    {
     "name": "stdout",
     "output_type": "stream",
     "text": [
      "1CKWFQMSI15QGA8YNOWAH6BCMAODL\n"
     ]
    }
   ],
   "source": [
    "#TESTE DA FUNÇÃO ACIMA\n",
    "palavra = criaString()\n",
    "print(palavra)"
   ]
  },
  {
   "cell_type": "code",
   "execution_count": null,
   "metadata": {},
   "outputs": [],
   "source": [
    "def criaPop(individuo):\n",
    "    pop = list()                                                    #cria uma lista para armazenar a população\n",
    "    for tam in range(0,COPIAS):\n",
    "        pop.append(individuo)                                       #cria um número X de cópias do individuo\n",
    "    return pop"
   ]
  },
  {
   "cell_type": "code",
   "execution_count": null,
   "metadata": {},
   "outputs": [
    {
     "name": "stdout",
     "output_type": "stream",
     "text": [
      "['1CKWFQMSI15QGA8YNOWAH6BCMAODL', '1CKWFQMSI15QGA8YNOWAH6BCMAODL', '1CKWFQMSI15QGA8YNOWAH6BCMAODL', '1CKWFQMSI15QGA8YNOWAH6BCMAODL', '1CKWFQMSI15QGA8YNOWAH6BCMAODL', '1CKWFQMSI15QGA8YNOWAH6BCMAODL', '1CKWFQMSI15QGA8YNOWAH6BCMAODL', '1CKWFQMSI15QGA8YNOWAH6BCMAODL', '1CKWFQMSI15QGA8YNOWAH6BCMAODL', '1CKWFQMSI15QGA8YNOWAH6BCMAODL', '1CKWFQMSI15QGA8YNOWAH6BCMAODL', '1CKWFQMSI15QGA8YNOWAH6BCMAODL', '1CKWFQMSI15QGA8YNOWAH6BCMAODL', '1CKWFQMSI15QGA8YNOWAH6BCMAODL', '1CKWFQMSI15QGA8YNOWAH6BCMAODL', '1CKWFQMSI15QGA8YNOWAH6BCMAODL', '1CKWFQMSI15QGA8YNOWAH6BCMAODL', '1CKWFQMSI15QGA8YNOWAH6BCMAODL', '1CKWFQMSI15QGA8YNOWAH6BCMAODL', '1CKWFQMSI15QGA8YNOWAH6BCMAODL', '1CKWFQMSI15QGA8YNOWAH6BCMAODL', '1CKWFQMSI15QGA8YNOWAH6BCMAODL', '1CKWFQMSI15QGA8YNOWAH6BCMAODL', '1CKWFQMSI15QGA8YNOWAH6BCMAODL', '1CKWFQMSI15QGA8YNOWAH6BCMAODL', '1CKWFQMSI15QGA8YNOWAH6BCMAODL', '1CKWFQMSI15QGA8YNOWAH6BCMAODL', '1CKWFQMSI15QGA8YNOWAH6BCMAODL', '1CKWFQMSI15QGA8YNOWAH6BCMAODL', '1CKWFQMSI15QGA8YNOWAH6BCMAODL', '1CKWFQMSI15QGA8YNOWAH6BCMAODL', '1CKWFQMSI15QGA8YNOWAH6BCMAODL', '1CKWFQMSI15QGA8YNOWAH6BCMAODL', '1CKWFQMSI15QGA8YNOWAH6BCMAODL', '1CKWFQMSI15QGA8YNOWAH6BCMAODL', '1CKWFQMSI15QGA8YNOWAH6BCMAODL', '1CKWFQMSI15QGA8YNOWAH6BCMAODL', '1CKWFQMSI15QGA8YNOWAH6BCMAODL', '1CKWFQMSI15QGA8YNOWAH6BCMAODL', '1CKWFQMSI15QGA8YNOWAH6BCMAODL', '1CKWFQMSI15QGA8YNOWAH6BCMAODL', '1CKWFQMSI15QGA8YNOWAH6BCMAODL', '1CKWFQMSI15QGA8YNOWAH6BCMAODL', '1CKWFQMSI15QGA8YNOWAH6BCMAODL', '1CKWFQMSI15QGA8YNOWAH6BCMAODL', '1CKWFQMSI15QGA8YNOWAH6BCMAODL', '1CKWFQMSI15QGA8YNOWAH6BCMAODL', '1CKWFQMSI15QGA8YNOWAH6BCMAODL', '1CKWFQMSI15QGA8YNOWAH6BCMAODL', '1CKWFQMSI15QGA8YNOWAH6BCMAODL', '1CKWFQMSI15QGA8YNOWAH6BCMAODL', '1CKWFQMSI15QGA8YNOWAH6BCMAODL', '1CKWFQMSI15QGA8YNOWAH6BCMAODL', '1CKWFQMSI15QGA8YNOWAH6BCMAODL', '1CKWFQMSI15QGA8YNOWAH6BCMAODL', '1CKWFQMSI15QGA8YNOWAH6BCMAODL', '1CKWFQMSI15QGA8YNOWAH6BCMAODL', '1CKWFQMSI15QGA8YNOWAH6BCMAODL', '1CKWFQMSI15QGA8YNOWAH6BCMAODL', '1CKWFQMSI15QGA8YNOWAH6BCMAODL', '1CKWFQMSI15QGA8YNOWAH6BCMAODL', '1CKWFQMSI15QGA8YNOWAH6BCMAODL', '1CKWFQMSI15QGA8YNOWAH6BCMAODL', '1CKWFQMSI15QGA8YNOWAH6BCMAODL', '1CKWFQMSI15QGA8YNOWAH6BCMAODL', '1CKWFQMSI15QGA8YNOWAH6BCMAODL', '1CKWFQMSI15QGA8YNOWAH6BCMAODL', '1CKWFQMSI15QGA8YNOWAH6BCMAODL', '1CKWFQMSI15QGA8YNOWAH6BCMAODL', '1CKWFQMSI15QGA8YNOWAH6BCMAODL', '1CKWFQMSI15QGA8YNOWAH6BCMAODL', '1CKWFQMSI15QGA8YNOWAH6BCMAODL', '1CKWFQMSI15QGA8YNOWAH6BCMAODL', '1CKWFQMSI15QGA8YNOWAH6BCMAODL', '1CKWFQMSI15QGA8YNOWAH6BCMAODL', '1CKWFQMSI15QGA8YNOWAH6BCMAODL', '1CKWFQMSI15QGA8YNOWAH6BCMAODL', '1CKWFQMSI15QGA8YNOWAH6BCMAODL', '1CKWFQMSI15QGA8YNOWAH6BCMAODL', '1CKWFQMSI15QGA8YNOWAH6BCMAODL', '1CKWFQMSI15QGA8YNOWAH6BCMAODL', '1CKWFQMSI15QGA8YNOWAH6BCMAODL', '1CKWFQMSI15QGA8YNOWAH6BCMAODL', '1CKWFQMSI15QGA8YNOWAH6BCMAODL', '1CKWFQMSI15QGA8YNOWAH6BCMAODL', '1CKWFQMSI15QGA8YNOWAH6BCMAODL', '1CKWFQMSI15QGA8YNOWAH6BCMAODL', '1CKWFQMSI15QGA8YNOWAH6BCMAODL', '1CKWFQMSI15QGA8YNOWAH6BCMAODL', '1CKWFQMSI15QGA8YNOWAH6BCMAODL', '1CKWFQMSI15QGA8YNOWAH6BCMAODL', '1CKWFQMSI15QGA8YNOWAH6BCMAODL', '1CKWFQMSI15QGA8YNOWAH6BCMAODL', '1CKWFQMSI15QGA8YNOWAH6BCMAODL', '1CKWFQMSI15QGA8YNOWAH6BCMAODL', '1CKWFQMSI15QGA8YNOWAH6BCMAODL', '1CKWFQMSI15QGA8YNOWAH6BCMAODL', '1CKWFQMSI15QGA8YNOWAH6BCMAODL', '1CKWFQMSI15QGA8YNOWAH6BCMAODL', '1CKWFQMSI15QGA8YNOWAH6BCMAODL']\n"
     ]
    }
   ],
   "source": [
    "#TESTE DA FUNÇÃO ACIMA\n",
    "pop = criaPop(palavra)\n",
    "print(pop)"
   ]
  },
  {
   "cell_type": "code",
   "execution_count": null,
   "metadata": {},
   "outputs": [],
   "source": [
    "def mutation(pop, MUTATION_RATE):\n",
    "    new_pop = list()                                                                            #cria uma lista para armazenar a nova população\n",
    "    cont = 1                                                                                    #cria um contador para diferenciar o primeiro individuo dos demais\n",
    "    for c in pop:                                                                               #laço que varre todas as cópias\n",
    "        if cont == 1:                                                                           #analisa o primeiro inidivíduo\n",
    "            new_pop.append(c)                                                                   #o primeiro individuo é adicionado a nova população sem sofrer nenhuma mutação\n",
    "        else:                                                                                   #analisa os demais indivíduos\n",
    "            caracteres = list()                                                                 #cria uma lista vazia para armazenar os caracteres do indivíduo\n",
    "            for i in range (0,TAMANHO):                                                         #varre todos os caracteres do indivíduo\n",
    "                letra = c[i]                                                                    #armazena o caractere atual na variavel LETRA\n",
    "                if(rd.random() < MUTATION_RATE):                                                #analisa se terá mutação ou não\n",
    "                    letra = rd.choice(string.ascii_uppercase + string.digits + '*')             #caso tenha, sorteia uma letra aleatória para a variável LETRA\n",
    "                    while letra == c[i]:                                                        #laço que garante que a letra sorteada será diferente da atual\n",
    "                        letra = rd.choice(string.ascii_uppercase + string.digits + '*')\n",
    "                caracteres.append(letra)                                                        #adiciona a variavel LETRA na lista caracteres\n",
    "            palavra = ''.join(caracteres)                                                       #junta todos os caracteres da lista em uma string\n",
    "            new_pop.append(palavra)                                                             #adiciona essa nova string a nova população\n",
    "            caracteres.clear()                                                                  #limpa a lista caracteres\n",
    "        cont +=1                                                                                #incrementa o contador de individuos\n",
    "    return new_pop"
   ]
  },
  {
   "cell_type": "code",
   "execution_count": null,
   "metadata": {},
   "outputs": [
    {
     "name": "stdout",
     "output_type": "stream",
     "text": [
      "['1CKWFQMSI15QGA8YNOWAH6BCMAODL', '1CKWFQMSI15QGA8YNOWA96BCMAODL', '1CKWFQMSI15QGA8YNOWAH6BCMACDL', '1CKWFQOSI15QGA8YNOWAH6BCMAODL', '1CKWFQMSI15QGA8YNOWAH6BCMAODL', '1CKWFQMSI15QGA8YNOWAH6BCMAODP', '1CKWFQMSW15QGA8YNOWAH6BCKAODL', '1CKWFQMSI15QGA8YNOZAH6BCMAODL', '1CKWFQMSI15QGA8YNOWAH6BCMAODL', '1CKWFQMSI15QGA8YNOWAH6BCVMODL', '1CKWFQMSI15QGA8YNOWAH6BCMAODL', '1CKWFQMSI15QGA8YNOWAH6BCMAODL', '1CKW3QMSI15Q8A8YNOWAH6BCMAODL', '1CKWFQMSI15QGA8YNOWAH6BCMAODL', '1CKWFQMSI15QGA8YNOWAH6BC1AOEL', '1CKWFQMSI15QGA8YNOWAH6BCMAODL', '1CKWFLMSI1ZQGA8YNOWAH6BCMAODT', '1CKW0QMSI15QGA8YNO6AH6BCMAODL', '1CKWFQMSI15QGA8YN0WAH6BCMAODL', '1CKWFQMSI15QGA8YNOWA76BCMAODL', '1CKWFQMSI15Q3A8YNOWAHXXCMAVDL', '1CKWFQMSI15QGA8YNDWAH6BCMAODL', '1CKWFQMSI15QGA8UNOWAH6BCMAODL', '1CKWFQMSI15QGA8YNOWAH6BCMAODL', '1CKWFQMSI15KGA8YNOWAH6BCMAODL', '1CKWFQMSI15QGA8YNOWAH6BCMAODL', '1CKT8QMSI1CQGA86NOWAH6BCMA5DL', '1CKWFQMSI15QGA8YNOWAH6BCMAODL', '1CKWFQMSI15QGA83NOWAH6BCMAOBL', '1CKWFGMSI15QGA8YNOWAH6BCMAODL', '1CKWFQMSI15Q6A8YNOWIH6BCM8ODL', '1COWFQMSL1QQGA8YN4*AH6BCMAODL', '1CKWFQMSI15QGA8YNOWAH6BCMAOXL', '1CKWFQMSJ15QGA8KNOWAH6BCMAODL', '3CK2FQMSI15QGH8YNOWAH6BCMAIDL', '1CKZFQMSI15QGA8YNO0AH6BCMAODL', '1CKWFQMSI15QGA8YNKWAH6BCMAODL', '1CKWFQMSI15QGA8YNOWAH6BCMAOCL', '1CKWFQMSI15QGD8YNOWAH6BCMAODL', '1CKWFQMSI15QGA8YNOWAH6BCMAODL', '1CKWFQMSI15QGA8YVYWAH6BCM48WL', '1CKWFQMS*15QGA8YNOWAH6BCMAODL', '1CKWFQMSI15QAA8YNOWAH6BCMAODL', '1CKWFQMSI15QGA8YNOWAQ6BCMAODL', '1CKWFQMSI15QGA2YNOWAHBBCMAODL', '1CKWFQMSI15QGA8UNOWAH6BCMAODL', 'CCKWFQMSI15QGA8YN1WAH6BCMAODL', '1CKWF9MSI15QGA8YNOWAH6BCMAADL', '1CKWFQMSI1NFGA8YNOWAH6BCMAODL', '1CKWFQMSI15QGA8YNOWAH6BCMAODL', '1CKWFQMSI15QGARYNOWAH6BCMAODO', '1CKWFQMSI15QGA8YNOWAH6BCMAODL', '1CKWFQMSI15QGA8YNUWAH6BCMAODL', '1CKWFQMSI15QGA8YNOWAH6BCMAODL', '1CKWFQMSI15QGA3YNOWAH6BCMAODL', '1CKWF4MSI15QGA8YNOW8H6OCMUODV', '1CKWFQMSI45QGA8YNOGAH6BCMAODL', '1CKWF8MSI15QGA8YNOWAH6BCMAODL', '1CKWFQMSI15QGA8YNOWAH6OCMAW6L', '1CKWFQMSIS5QGA8YNOWAH6BCMAODL', '1CKWFQKSI15ZGA8YNOWAH6BCMACD8', '1CKWFQMSI15QGA8YNOWAH6BCMAODD', '1CKWFQMSI15QGA8YIOWAH6BCMAODL', '1CKWFQMSI15QG88MNOWAH6BCMAODL', '1CKWFQ0SI15QGQ8YNOWAH6BCMGODL', '1CKWFQMSI15QGA8YNOWAHDBCMAOPL', '1CKWFQMSI15QGA8YNOUAH6BCMAODL', '1CKWFQMSI35QGA8YNOWAH6BCMAODL', '1CKWFQMSI15QGA8YXOWAK6BCMAODL', '1CKWFQMSI15QGA8YNOWAH6BCMAODL', '1CRWFQMSI15QGA8YNOWAH6BCMAOEL', '1CKW*QMSI15QGA8YNOWAH6BCMAODL', '1CKWFQGSI15QGA8YNOWAH6BCMAODL', '1C2WFQMSI15QGA8YNOWAH6BCMAODL', '1CKWFQMSI15QGA8YN2WAH6BCMAOD8', '1CKWFQMSI15QGA8YNOWAH6BCMAODL', '1CKWFQMSI15QGA8YNOWAH6BCMAODL', '1CKWFQMSI15QGA8YNOWAH6BCMAODL', '1CBWFQMSI1HQGA8YNOWAH6BCM7ODL', '1CKWFQMSI15QGA8YNOPQH6BCMAODL', '1CWWFQMSI15QGA8YNOWAH6BCMAODL', '1CKWFQMSI15QGAMYNOWAH6BCMAODL', '1CKWFQMSI15QGA8ZNOWAH6BCMAODL', '1CKWFQMSI15QGA8YNOWAH6BCMAODL', 'GCKWFQMSI15QGA8YNOWAH6BCMAOTL', 'ACKWFQMSI15QGA8YNOWAH6BCMAOD2', '1CKW7QMSI15QG*8YNOWAH6BCMAODL', '1CKWFQMSI15QGA8YNOWAH6BCMAODL', '1CKWFQMSI15QFA8YNOWAH6BDMAODL', '1CKWFQMSI15QGA8YNO3AH62CMAODL', '1CKWFQMST15QGA8YNOWAH6BCMAODL', '1CKWFQMSI15QGY8YNOWAH6BCMAODL', '1CKWFQMSI15QGA8YNOWAH6BGMAODL', '5CKWFQMSI15QGA8YNOWAA6BCMAODL', '1CKWFQMSI15QGA8YNOWAH6BCMAODL', '1CKWFQMSI15QGA8YNOWAH6BCMAOPL', '1CUWFQMSI15QGA8YNOWAH6BCMAODL', '1CAWFQMSI15QGA8YNOWAH6BCMAODL', '1CKWEQMSI15QJA8YNOBAH6BCMAODQ', '1CLWFQMSI15QGA8YNOWAH6BCMAODL']\n"
     ]
    }
   ],
   "source": [
    "#TESTE DA FUNÇÃO ACIMA\n",
    "pop = mutation(pop, MUTATION_RATE)\n",
    "print(pop)"
   ]
  },
  {
   "cell_type": "code",
   "execution_count": null,
   "metadata": {},
   "outputs": [],
   "source": [
    "def analisaCaso(palavra, gabarito=GABARITO):\n",
    "    fitness = 0                                             #inicia fitness com 0\n",
    "    for tam in range(0,TAMANHO):                            #varre todos os caracteres da palavra\n",
    "        if gabarito[tam] == palavra[tam]:                   #compara o enésimo-caractere da palavra com o enésimo-caractere do string desejada\n",
    "            fitness+=1                                      #incrementa o fitness caso os caracteres sejam iguais\n",
    "    return fitness"
   ]
  },
  {
   "cell_type": "code",
   "execution_count": null,
   "metadata": {},
   "outputs": [
    {
     "name": "stdout",
     "output_type": "stream",
     "text": [
      "29\n"
     ]
    }
   ],
   "source": [
    "#TESTE DA FUNÇÃO ACIMA\n",
    "fitness = analisaCaso('ME*THINKS*IT*IS*LIKE*A*WEASEL')  \n",
    "print(fitness)"
   ]
  },
  {
   "cell_type": "code",
   "execution_count": null,
   "metadata": {},
   "outputs": [],
   "source": [
    "def popFitness(pop):\n",
    "    pop_fitness = [analisaCaso(each_solution) for each_solution in pop]      #analisa o fitness de todos os elementos de pop e o armazena em uma lista      \n",
    "    return pop_fitness"
   ]
  },
  {
   "cell_type": "code",
   "execution_count": null,
   "metadata": {},
   "outputs": [
    {
     "name": "stdout",
     "output_type": "stream",
     "text": [
      "[2, 2, 2, 2, 2, 1, 2, 2, 2, 1, 2, 2, 2, 2, 3, 2, 1, 2, 2, 2, 2, 2, 2, 2, 2, 2, 3, 2, 2, 2, 1, 2, 2, 2, 2, 2, 2, 2, 2, 2, 1, 2, 2, 2, 2, 2, 2, 2, 2, 2, 1, 2, 2, 2, 2, 0, 2, 2, 2, 2, 1, 1, 2, 2, 1, 2, 2, 2, 2, 2, 3, 2, 2, 2, 1, 2, 2, 2, 1, 2, 2, 2, 2, 2, 2, 1, 2, 2, 2, 2, 2, 2, 2, 2, 2, 2, 2, 2, 1, 2]\n"
     ]
    }
   ],
   "source": [
    "#TESTE DA FUNÇÃO ACIMA\n",
    "pop_fitness = popFitness(pop)\n",
    "print(pop_fitness)\n"
   ]
  },
  {
   "cell_type": "code",
   "execution_count": null,
   "metadata": {},
   "outputs": [
    {
     "name": "stdout",
     "output_type": "stream",
     "text": [
      "Palavra inicial: 6390IWTY2IHQMSB8P9VCRWX1*89TS\n",
      "Melhor indíviduo da 1º geração: 6390IIGY2IH8MSB8P9VC0WX1*K9TS\n",
      "Melhor indíviduo da 2º geração: 6390II*Y2IH8MSB8P9VC0AX1*K9TS\n",
      "Melhor indíviduo da 3º geração: 6390IIYY2IH8MSB8L9VC0AW1*K9TS\n",
      "Melhor indíviduo da 4º geração: 639DIIYY2IH8MSBJL9VC0A*1*K9TS\n",
      "Melhor indíviduo da 5º geração: 639DIIYY2II8VSBJLPVC0A*1*K9TS\n",
      "Melhor indíviduo da 6º geração: 639DIIYY2II8*SBJLPVC0A*1*K9TS\n",
      "Melhor indíviduo da 7º geração: 639DIIYY2II8*SBJLPVP0A*W*KATS\n",
      "Melhor indíviduo da 8º geração: 639DQIYY2II8*SBJLPVP0A*WEKATS\n",
      "Melhor indíviduo da 9º geração: 639DQIYY2II8*SBJLPVP0A*WEKATS\n",
      "Melhor indíviduo da 10º geração: 639DQIYYSII8*SBJLPVP0A*WEKATS\n",
      "Melhor indíviduo da 11º geração: 639DHIYYSII8*SBJLPVP0A*WEKATS\n",
      "Melhor indíviduo da 12º geração: 639DHINYSII8*SBJLPVP0A*WEKASS\n",
      "Melhor indíviduo da 13º geração: 6R*DHINYSII8*SBJLPVP0A*WEKASN\n",
      "Melhor indíviduo da 14º geração: 6E*DHINYSII8*SBJLPVP0A*WEKASN\n",
      "Melhor indíviduo da 15º geração: 6E*DHINYSII8*SBJLPVP0A*WEKASN\n",
      "Melhor indíviduo da 16º geração: *E*DHINYSII8*SBJLPVP0A*WEKASL\n",
      "Melhor indíviduo da 17º geração: *E*THINYSII8*SBJLPVP0A*WEFASL\n",
      "Melhor indíviduo da 18º geração: *E*THINYSII8*SB*LPVS0A*WEFASL\n",
      "Melhor indíviduo da 19º geração: *E*THINYSIIF*SB*LIVS0A*WEFASL\n",
      "Melhor indíviduo da 20º geração: *E*THINYSIIF*SB*LIVS0A*WEFASL\n",
      "Melhor indíviduo da 21º geração: *E*THINYSIIF*SB*LIVS0A*WEFASL\n",
      "Melhor indíviduo da 22º geração: *E*THINYSIIF*SB*LIVS0A*WEFASL\n",
      "Melhor indíviduo da 23º geração: *E*THINYSIIF*SB*LIVS0A*WEFASL\n",
      "Melhor indíviduo da 24º geração: *E*THINYSIIF*SB*LIVS0A*WEFASL\n",
      "Melhor indíviduo da 25º geração: *E*THINYSIIF*SB*LI8S0A*WEFSSL\n",
      "Melhor indíviduo da 26º geração: *E*THINYSIIF*SB*LI8S0A*WEFSSL\n",
      "Melhor indíviduo da 27º geração: *E*THINYSIIF*SB*LIKS0A*WEFSSL\n",
      "Melhor indíviduo da 28º geração: *E*THINYSIIF*SB*LIKS0A*WEFSSL\n",
      "Melhor indíviduo da 29º geração: *E*THINYSIIF*SB*LIKS0A*WEFSSL\n",
      "Melhor indíviduo da 30º geração: *E*THINYSIIF*SB*LIKS0A*WEFSSL\n",
      "Melhor indíviduo da 31º geração: *E*THINYSIIF*SB*LIKS0A*WEFSSL\n",
      "Melhor indíviduo da 32º geração: *E*THINYSIIF*SB*LIKS0A*WEFSSL\n",
      "Melhor indíviduo da 33º geração: *E*THINYSIIF*SB*LIKS0A*WEFSSL\n",
      "Melhor indíviduo da 34º geração: *E*THINYSIIF*SB*LIKS0A*WEFSSL\n",
      "Melhor indíviduo da 35º geração: *E*THINYSIIF*SB*LIKS0A*WEFSSL\n",
      "Melhor indíviduo da 36º geração: *E*THINYSIIF*LW*LIKE0A*WEFSSL\n",
      "Melhor indíviduo da 37º geração: *E*THINYSIIF*LW*LIKE0A*WEFSSL\n",
      "Melhor indíviduo da 38º geração: *E*THINYSIIF*IW*LIKE0A*WEFSSL\n",
      "Melhor indíviduo da 39º geração: *E*THINYSIIF*IW*LIKE0A*WEFSSL\n",
      "Melhor indíviduo da 40º geração: *E*THINYSIIF*IW*LIKE0A*WEFSSL\n",
      "Melhor indíviduo da 41º geração: *E*THINYSIIF*IW*LIKE0A*WEFSSL\n",
      "Melhor indíviduo da 42º geração: *E*THINYSIIF*IW*LIKE0A*WEFSSL\n",
      "Melhor indíviduo da 43º geração: *E*THINYSIIF*IW*LIKE0A*WEFSSL\n",
      "Melhor indíviduo da 44º geração: *E*THINYSIIF*IW*LIKE0A*WEFSSL\n",
      "Melhor indíviduo da 45º geração: *E*THINYSIIF*IW*LIKE0A*WEFSSL\n",
      "Melhor indíviduo da 46º geração: *E*THINYSIIF*IW*LIKE0A*WEFSSL\n",
      "Melhor indíviduo da 47º geração: *E*THINYSIIF*IW*LIKE0A*WEFSSL\n",
      "Melhor indíviduo da 48º geração: *E*THINYSIIF*IW*LIKE0A*WEFSSL\n",
      "Melhor indíviduo da 49º geração: *E*THINYSIIF*IW*LIKE0A*WEFSSL\n",
      "Melhor indíviduo da 50º geração: *E*THINYSIIF*IW*LIKE0A*WEFSSL\n",
      "Melhor indíviduo da 51º geração: *E*THINYSIIF*IW*LIKE0A*WEFSSL\n",
      "Melhor indíviduo da 52º geração: *E*THINYSIIF*IW*LIKE0A*WEFSSL\n",
      "Melhor indíviduo da 53º geração: *E*THINYSIIF*IW*LIKE0A*WEFSSL\n",
      "Melhor indíviduo da 54º geração: *E*THINYS*IF*IW*LIKE0A*WEFSSL\n",
      "Melhor indíviduo da 55º geração: *E*THINYS*IF*IW*LIKE0A*WEFSSL\n",
      "Melhor indíviduo da 56º geração: ME*THINYS*IF*IW*LIKE0A*WEFS*L\n",
      "Melhor indíviduo da 57º geração: ME*THINKS*IX*IW*LIKE0A*WEFS*L\n",
      "Melhor indíviduo da 58º geração: ME*THINKS*IX*IW*LIKE0A*WEFS*L\n",
      "Melhor indíviduo da 59º geração: ME*THINKS*IX*IW*LIKE0A*WEFS*L\n",
      "Melhor indíviduo da 60º geração: ME*THINKS*IX*IW*LIKE0A*WEFS*L\n",
      "Melhor indíviduo da 61º geração: ME*THINKS*IX*IW*LIKE0A*WEFS*L\n",
      "Melhor indíviduo da 62º geração: ME*THINKS*IX*IW*LIKE0A*WEFS*L\n",
      "Melhor indíviduo da 63º geração: ME*THINKS*IX*IW*LIKE0A*WEFS*L\n",
      "Melhor indíviduo da 64º geração: ME*THINKS*IX*IW*LIKE*A*WEFS*L\n",
      "Melhor indíviduo da 65º geração: ME*THINKS*IX*IW*LIKE*A*WEFS*L\n",
      "Melhor indíviduo da 66º geração: ME*THINKS*IX*IW*LIKE*A*WEFS*L\n",
      "Melhor indíviduo da 67º geração: ME*THINKS*IX*IW*LIKE*A*WEFS*L\n",
      "Melhor indíviduo da 68º geração: ME*THINKS*IX*IW*LIKE*A*WEFS*L\n",
      "Melhor indíviduo da 69º geração: ME*THINKS*IX*IW*LIKE*A*WEFS*L\n",
      "Melhor indíviduo da 70º geração: ME*THINKS*IX*IW*LIKE*A*WEFS*L\n",
      "Melhor indíviduo da 71º geração: ME*THINKS*IX*IW*LIKE*A*WEFS*L\n",
      "Melhor indíviduo da 72º geração: ME*THINKS*IX*IW*LIKE*A*WEFS*L\n",
      "Melhor indíviduo da 73º geração: ME*THINKS*IX*IW*LIKE*A*WEFS*L\n",
      "Melhor indíviduo da 74º geração: ME*THINKS*IX*IW*LIKE*A*WEFS*L\n",
      "Melhor indíviduo da 75º geração: ME*THINKS*IX*IW*LIKE*A*WEFS*L\n",
      "Melhor indíviduo da 76º geração: ME*THINKS*IX*IW*LIKE*A*WEFS*L\n",
      "Melhor indíviduo da 77º geração: ME*THINKS*IX*IW*LIKE*A*WEFS*L\n",
      "Melhor indíviduo da 78º geração: ME*THINKS*IX*IW*LIKE*A*WEFS*L\n",
      "Melhor indíviduo da 79º geração: ME*THINKS*IX*IW*LIKE*A*WEFS*L\n",
      "Melhor indíviduo da 80º geração: ME*THINKS*IX*IW*LIKE*A*WEFS*L\n",
      "Melhor indíviduo da 81º geração: ME*THINKS*IX*IW*LIKE*A*WEAS*L\n",
      "Melhor indíviduo da 82º geração: ME*THINKS*IX*IW*LIKE*A*WEAS*L\n",
      "Melhor indíviduo da 83º geração: ME*THINKS*IX*IW*LIKE*A*WEAS*L\n",
      "Melhor indíviduo da 84º geração: ME*THINKS*IX*IW*LIKE*A*WEAS*L\n",
      "Melhor indíviduo da 85º geração: ME*THINKS*IX*IW*LIKE*A*WEASEL\n",
      "Melhor indíviduo da 86º geração: ME*THINKS*IX*IW*LIKE*A*WEASEL\n",
      "Melhor indíviduo da 87º geração: ME*THINKS*IX*IW*LIKE*A*WEASEL\n",
      "Melhor indíviduo da 88º geração: ME*THINKS*IX*IW*LIKE*A*WEASEL\n",
      "Melhor indíviduo da 89º geração: ME*THINKS*IX*IW*LIKE*A*WEASEL\n",
      "Melhor indíviduo da 90º geração: ME*THINKS*IX*IW*LIKE*A*WEASEL\n",
      "Melhor indíviduo da 91º geração: ME*THINKS*IX*IW*LIKE*A*WEASEL\n",
      "Melhor indíviduo da 92º geração: ME*THINKS*IX*IW*LIKE*A*WEASEL\n",
      "Melhor indíviduo da 93º geração: ME*THINKS*IX*IW*LIKE*A*WEASEL\n",
      "Melhor indíviduo da 94º geração: ME*THINKS*IX*IW*LIKE*A*WEASEL\n",
      "Melhor indíviduo da 95º geração: ME*THINKS*IX*IW*LIKE*A*WEASEL\n",
      "Melhor indíviduo da 96º geração: ME*THINKS*IX*IW*LIKE*A*WEASEL\n",
      "Melhor indíviduo da 97º geração: ME*THINKS*IX*IW*LIKE*A*WEASEL\n",
      "Melhor indíviduo da 98º geração: ME*THINKS*IX*IW*LIKE*A*WEASEL\n",
      "Melhor indíviduo da 99º geração: ME*THINKS*IX*IW*LIKE*A*WEASEL\n",
      "Melhor indíviduo da 100º geração: ME*THINKS*IX*IW*LIKE*A*WEASEL\n",
      "Melhor indíviduo da 101º geração: ME*THINKS*IX*IW*LIKE*A*WEASEL\n",
      "Melhor indíviduo da 102º geração: ME*THINKS*IX*IW*LIKE*A*WEASEL\n",
      "Melhor indíviduo da 103º geração: ME*THINKS*IX*IW*LIKE*A*WEASEL\n",
      "Melhor indíviduo da 104º geração: ME*THINKS*IX*IW*LIKE*A*WEASEL\n",
      "Melhor indíviduo da 105º geração: ME*THINKS*IX*IW*LIKE*A*WEASEL\n",
      "Melhor indíviduo da 106º geração: ME*THINKS*IX*IW*LIKE*A*WEASEL\n",
      "Melhor indíviduo da 107º geração: ME*THINKS*IX*IW*LIKE*A*WEASEL\n",
      "Melhor indíviduo da 108º geração: ME*THINKS*IX*IW*LIKE*A*WEASEL\n",
      "Melhor indíviduo da 109º geração: ME*THINKS*IX*IW*LIKE*A*WEASEL\n",
      "Melhor indíviduo da 110º geração: ME*THINKS*IX*IW*LIKE*A*WEASEL\n",
      "Melhor indíviduo da 111º geração: ME*THINKS*IX*IW*LIKE*A*WEASEL\n",
      "Melhor indíviduo da 112º geração: ME*THINKS*IX*IW*LIKE*A*WEASEL\n",
      "Melhor indíviduo da 113º geração: ME*THINKS*IX*IW*LIKE*A*WEASEL\n",
      "Melhor indíviduo da 114º geração: ME*THINKS*IX*IW*LIKE*A*WEASEL\n",
      "Melhor indíviduo da 115º geração: ME*THINKS*IX*IW*LIKE*A*WEASEL\n",
      "Melhor indíviduo da 116º geração: ME*THINKS*IX*IW*LIKE*A*WEASEL\n",
      "Melhor indíviduo da 117º geração: ME*THINKS*IX*IW*LIKE*A*WEASEL\n",
      "Melhor indíviduo da 118º geração: ME*THINKS*IX*IW*LIKE*A*WEASEL\n",
      "Melhor indíviduo da 119º geração: ME*THINKS*IX*IW*LIKE*A*WEASEL\n",
      "Melhor indíviduo da 120º geração: ME*THINKS*IX*IW*LIKE*A*WEASEL\n",
      "Melhor indíviduo da 121º geração: ME*THINKS*IX*IW*LIKE*A*WEASEL\n",
      "Melhor indíviduo da 122º geração: ME*THINKS*IX*IW*LIKE*A*WEASEL\n",
      "Melhor indíviduo da 123º geração: ME*THINKS*IX*IW*LIKE*A*WEASEL\n",
      "Melhor indíviduo da 124º geração: ME*THINKS*IX*IW*LIKE*A*WEASEL\n",
      "Melhor indíviduo da 125º geração: ME*THINKS*IX*IS*LIKE*A*WEASEL\n",
      "Melhor indíviduo da 126º geração: ME*THINKS*IX*IS*LIKE*A*WEASEL\n",
      "Melhor indíviduo da 127º geração: ME*THINKS*IX*IS*LIKE*A*WEASEL\n",
      "Melhor indíviduo da 128º geração: ME*THINKS*IT*IS*LIKE*A*WEASEL\n",
      "String final: ME*THINKS*IT*IS*LIKE*A*WEASEL\n",
      "Número de caracteres iguais: 29\n",
      "Geração que encontrou a solução: 128º\n"
     ]
    }
   ],
   "source": [
    "#ALGORITMO GENÉTICO COMPLETO\n",
    "palavra = criaString()                                                   #gera uma palavra aleatória\n",
    "best = analisaCaso(palavra)                                              #analisa o fitness da palavra\n",
    "pop = [palavra]                                                          #população inicial contém apenas a palavra sorteada    \n",
    "i = 0                                                                    #contador de gerações\n",
    "print(f'Palavra inicial: {palavra}')  \n",
    "while best!=TAMANHO:\n",
    "    i+=1                                                                 #incrementa um ao número da geração\n",
    "    if(rd.random()<CROSSOVER_RATE):                                      #analisa se tem cruzamento ou não\n",
    "        pop = criaPop(palavra)                                           #cria as 100 cópias\n",
    "        pop = mutation(pop, MUTATION_RATE)                               #aplica as mutações nas 100 cópias\n",
    "    pop_fitness = popFitness(pop)                                        #analisa o fitness da população\n",
    "    best = max(pop_fitness)                                              #descobre o melhor fitness\n",
    "    pos_best = pop_fitness.index(best)                                   #descobre a posição do melhor fitness\n",
    "    palavra = pop[pos_best]                                              #descobre o indivíduo com melhor fitness\n",
    "    print(f'Melhor indíviduo da {i}º geração: {palavra}')\n",
    "print(f'String final: {palavra}')\n",
    "print(f'Número de caracteres iguais: {best}')\n",
    "print(f'Geração que encontrou a solução: {i}º')\n"
   ]
  }
 ],
 "metadata": {
  "interpreter": {
   "hash": "20099c77346fa184342f5a0e1dc2579955983be62f07a7f263c863d4bded7e85"
  },
  "kernelspec": {
   "display_name": "Python 3.10.0 64-bit (windows store)",
   "language": "python",
   "name": "python3"
  },
  "language_info": {
   "codemirror_mode": {
    "name": "ipython",
    "version": 3
   },
   "file_extension": ".py",
   "mimetype": "text/x-python",
   "name": "python",
   "nbconvert_exporter": "python",
   "pygments_lexer": "ipython3",
   "version": "3.10.1"
  },
  "orig_nbformat": 4
 },
 "nbformat": 4,
 "nbformat_minor": 2
}
