{
 "cells": [
  {
   "cell_type": "code",
   "execution_count": 12,
   "metadata": {},
   "outputs": [
    {
     "name": "stdout",
     "output_type": "stream",
     "text": [
      "String inicial: RXTFAY6F9SKEE381N592M2H2NCRG4\n",
      "Melhor indíviduo da 10º geração: SX1KM1NFSSHTE38*N5K2*HHW6ASE4\n",
      "Melhor indíviduo da 20º geração: 9E1TM1NFSSHT*38*LFK2*A*W6ASEL\n",
      "Melhor indíviduo da 30º geração: ME*TH1NFSSHT*38*LFK2*A*W6ASEL\n",
      "Melhor indíviduo da 40º geração: ME*THINFS*IT*3S*LFKE*A*W6ASEL\n",
      "Melhor indíviduo da 50º geração: ME*THINFS*IT*3S*LFKE*A*W6ASEL\n",
      "Melhor indíviduo da 60º geração: ME*THINCS*IT*3S*LFKE*A*WEASEL\n",
      "Melhor indíviduo da 70º geração: ME*THINKS*IT*3S*LFKE*A*WEASEL\n",
      "Melhor indíviduo da 80º geração: ME*THINKS*IT*3S*LFKE*A*WEASEL\n",
      "Melhor indíviduo da 90º geração: ME*THINKS*IT*3S*LIKE*A*WEASEL\n",
      "Melhor indíviduo da 100º geração: ME*THINKS*IT*3S*LIKE*A*WEASEL\n",
      "Melhor indíviduo da 110º geração: ME*THINKS*IT*3S*LIKE*A*WEASEL\n",
      "String final: ME*THINKS*IT*IS*LIKE*A*WEASEL\n",
      "Número de caracteres iguais: 29\n",
      "Geração final: 113º\n"
     ]
    },
    {
     "data": {
      "image/png": "[encoded data removed]",
      "text/plain": [
       "<Figure size 1440x288 with 1 Axes>"
      ]
     },
     "metadata": {
      "needs_background": "light"
     },
     "output_type": "display_data"
    }
   ],
   "source": [
    "import modulo as md\n",
    "from random import random\n",
    "#ALGORITMO GENÉTICO COMPLETO\n",
    "bests = list()                                                           #lista de dados\n",
    "geracoes = list()                                                        #lista de dados\n",
    "palavra = md.criaString()                                                #gera uma palavra aleatória\n",
    "best = md.analisaCaso(palavra)                                           #analisa o fitness da palavra\n",
    "pop = [palavra]                                                          #população inicial contém apenas a palavra sorteada    \n",
    "i = 0                                                                    #contador de gerações\n",
    "print(f'String inicial: {palavra}')  \n",
    "while best!=md.TAMANHO:\n",
    "    i+=1                                                                 #incrementa um ao número da geração\n",
    "    if(random()<md.CROSSOVER_RATE):                                      #analisa se tem cruzamento ou não\n",
    "        pop = md.criaPop(palavra)                                        #cria as 100 cópias\n",
    "        pop = md.mutation(pop, md.MUTATION_RATE)                         #aplica as mutações nas 100 cópias\n",
    "    pop_fitness = md.popFitness(pop)                                     #analisa o fitness da população\n",
    "    best = max(pop_fitness)                                              #descobre o melhor fitness\n",
    "    pos_best = pop_fitness.index(best)                                   #descobre a posição do melhor fitness\n",
    "    palavra = pop[pos_best]                                              #descobre o indivíduo com melhor fitness\n",
    "    bests.append(best)                                                   #adiciona o melhor individuo numa lista de dados\n",
    "    geracoes.append(i)                                                   #adiciona a geração numa lista de dados\n",
    "    if(i%10 == 0):\n",
    "        print(f'Melhor indíviduo da {i}º geração: {palavra}')\n",
    "print(f'String final: {palavra}')\n",
    "print(f'Número de caracteres iguais: {best}')\n",
    "print(f'Geração final: {i}º')\n",
    "md.grafico(geracoes,bests)\n"
   ]
  }
 ],
 "metadata": {
  "interpreter": {
   "hash": "20099c77346fa184342f5a0e1dc2579955983be62f07a7f263c863d4bded7e85"
  },
  "kernelspec": {
   "display_name": "Python 3.10.0 64-bit (windows store)",
   "language": "python",
   "name": "python3"
  },
  "language_info": {
   "codemirror_mode": {
    "name": "ipython",
    "version": 3
   },
   "file_extension": ".py",
   "mimetype": "text/x-python",
   "name": "python",
   "nbconvert_exporter": "python",
   "pygments_lexer": "ipython3",
   "version": "3.10.1"
  },
  "orig_nbformat": 4
 },
 "nbformat": 4,
 "nbformat_minor": 2
}
