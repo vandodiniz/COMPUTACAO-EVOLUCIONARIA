{
 "cells": [
  {
   "cell_type": "code",
   "execution_count": 186,
   "metadata": {},
   "outputs": [
    {
     "name": "stdout",
     "output_type": "stream",
     "text": [
      "String inicial: QU1HHN5KZ0UZS1JWBC546Z08Y735I\n",
      "Melhor indíviduo da 10º geração: JU1AHQNKS0UMSISWBG54*A0W0735L\n",
      "Melhor indíviduo da 20º geração: J4HAHINKS*U2SIS*LFU4*A*WEA35L\n",
      "Melhor indíviduo da 30º geração: JEHTHINKS*UTSIS*LFK4*A*WEA35L\n",
      "Melhor indíviduo da 40º geração: MEHTHINKS*UTSIS*LIKE*A*WEA35L\n",
      "Melhor indíviduo da 50º geração: MEHTHINKS*UTSIS*LIKE*A*WEA35L\n",
      "Melhor indíviduo da 60º geração: MEHTHINKS*UTPIS*LIKE*A*WEASEL\n",
      "Melhor indíviduo da 70º geração: MEHTHINKS*UTPIS*LIKE*A*WEASEL\n",
      "Melhor indíviduo da 80º geração: MEHTHINKS*UT*IS*LIKE*A*WEASEL\n",
      "Melhor indíviduo da 90º geração: MEHTHINKS*IT*IS*LIKE*A*WEASEL\n",
      "Melhor indíviduo da 100º geração: MEHTHINKS*IT*IS*LIKE*A*WEASEL\n",
      "String final: ME*THINKS*IT*IS*LIKE*A*WEASEL\n",
      "Número de caracteres iguais: 29\n",
      "Geração final: 106º\n"
     ]
    },
    {
     "data": {
      "image/png": "[encoded data removed]",
      "text/plain": [
       "<Figure size 1440x288 with 1 Axes>"
      ]
     },
     "metadata": {
      "needs_background": "light"
     },
     "output_type": "display_data"
    }
   ],
   "source": [
    "import modulo as md\n",
    "from random import random\n",
    "#ALGORITMO GENÉTICO COMPLETO\n",
    "bests = list()\n",
    "geracoes = list()\n",
    "palavra = md.criaString()                                                #gera uma palavra aleatória\n",
    "best = md.analisaCaso(palavra)                                           #analisa o fitness da palavra\n",
    "pop = [palavra]                                                          #população inicial contém apenas a palavra sorteada    \n",
    "i = 0                                                                    #contador de gerações\n",
    "print(f'String inicial: {palavra}')  \n",
    "while best!=md.TAMANHO:\n",
    "    i+=1                                                                 #incrementa um ao número da geração\n",
    "    if(random()<md.CROSSOVER_RATE):                                      #analisa se tem cruzamento ou não\n",
    "        pop = md.criaPop(palavra)                                        #cria as 100 cópias\n",
    "        pop = md.mutation(pop, md.MUTATION_RATE)                         #aplica as mutações nas 100 cópias\n",
    "    pop_fitness = md.popFitness(pop)                                     #analisa o fitness da população\n",
    "    best = max(pop_fitness)                                              #descobre o melhor fitness\n",
    "    pos_best = pop_fitness.index(best)                                   #descobre a posição do melhor fitness\n",
    "    palavra = pop[pos_best]                                              #descobre o indivíduo com melhor fitness\n",
    "    if(i%10 == 0):\n",
    "        print(f'Melhor indíviduo da {i}º geração: {palavra}')\n",
    "print(f'String final: {palavra}')\n",
    "print(f'Número de caracteres iguais: {best}')\n",
    "print(f'Geração final: {i}º')\n",
    "grafico(geracoes,bests)\n"
   ]
  }
 ],
 "metadata": {
  "interpreter": {
   "hash": "20099c77346fa184342f5a0e1dc2579955983be62f07a7f263c863d4bded7e85"
  },
  "kernelspec": {
   "display_name": "Python 3.10.0 64-bit (windows store)",
   "language": "python",
   "name": "python3"
  },
  "language_info": {
   "codemirror_mode": {
    "name": "ipython",
    "version": 3
   },
   "file_extension": ".py",
   "mimetype": "text/x-python",
   "name": "python",
   "nbconvert_exporter": "python",
   "pygments_lexer": "ipython3",
   "version": "3.10.1"
  },
  "orig_nbformat": 4
 },
 "nbformat": 4,
 "nbformat_minor": 2
}
