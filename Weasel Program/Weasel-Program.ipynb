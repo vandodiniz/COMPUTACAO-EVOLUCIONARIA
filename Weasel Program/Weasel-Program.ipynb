{
 "cells": [
  {
   "cell_type": "code",
   "execution_count": 25,
   "metadata": {},
   "outputs": [],
   "source": [
    "import random as rd\n",
    "import numpy as np\n",
    "import string\n",
    "\n",
    "#VARIÁVEIS GLOBAIS QUE DITAM O COMPORTAMENTO DA POPULAÇÃO\n",
    "CROSSOVER_RATE = 1\n",
    "MUTATION_RATE = 0.05\n",
    "COPIAS = 100\n",
    "GABARITO = 'ME*THINKS*IT*IS*LIKE*A*WEASEL'\n",
    "TAMANHO = len(GABARITO)"
   ]
  },
  {
   "cell_type": "code",
   "execution_count": 26,
   "metadata": {},
   "outputs": [],
   "source": [
    "def criaString():\n",
    "    #sorteia N caracteres aleatórios para ser a palavra inicial\n",
    "    palavra = ''                                                               #palavra inicia vazia\n",
    "    for tam in range(0,TAMANHO):                                                                         \n",
    "        letra = rd.choice(string.ascii_uppercase + string.digits + '*')        #sorteia um caractere       \n",
    "        palavra = palavra + letra                                              #concatena o caractere com a palavra\n",
    "    return palavra"
   ]
  },
  {
   "cell_type": "code",
   "execution_count": 27,
   "metadata": {},
   "outputs": [
    {
     "name": "stdout",
     "output_type": "stream",
     "text": [
      "F77NNWEQ3FX0FPSH9JX5OKCG2VLRG\n"
     ]
    }
   ],
   "source": [
    "#TESTE DA FUNÇÃO ACIMA\n",
    "palavra = criaString()\n",
    "print(palavra)"
   ]
  },
  {
   "cell_type": "code",
   "execution_count": 28,
   "metadata": {},
   "outputs": [],
   "source": [
    "def criaPop(individuo):\n",
    "    pop = list()                                                    #cria uma lista para armazenar a população\n",
    "    for tam in range(0,COPIAS):\n",
    "        pop.append(individuo)                                       #cria um número X de cópias do individuo\n",
    "    return pop"
   ]
  },
  {
   "cell_type": "code",
   "execution_count": 29,
   "metadata": {},
   "outputs": [
    {
     "name": "stdout",
     "output_type": "stream",
     "text": [
      "['F77NNWEQ3FX0FPSH9JX5OKCG2VLRG', 'F77NNWEQ3FX0FPSH9JX5OKCG2VLRG', 'F77NNWEQ3FX0FPSH9JX5OKCG2VLRG', 'F77NNWEQ3FX0FPSH9JX5OKCG2VLRG', 'F77NNWEQ3FX0FPSH9JX5OKCG2VLRG', 'F77NNWEQ3FX0FPSH9JX5OKCG2VLRG', 'F77NNWEQ3FX0FPSH9JX5OKCG2VLRG', 'F77NNWEQ3FX0FPSH9JX5OKCG2VLRG', 'F77NNWEQ3FX0FPSH9JX5OKCG2VLRG', 'F77NNWEQ3FX0FPSH9JX5OKCG2VLRG', 'F77NNWEQ3FX0FPSH9JX5OKCG2VLRG', 'F77NNWEQ3FX0FPSH9JX5OKCG2VLRG', 'F77NNWEQ3FX0FPSH9JX5OKCG2VLRG', 'F77NNWEQ3FX0FPSH9JX5OKCG2VLRG', 'F77NNWEQ3FX0FPSH9JX5OKCG2VLRG', 'F77NNWEQ3FX0FPSH9JX5OKCG2VLRG', 'F77NNWEQ3FX0FPSH9JX5OKCG2VLRG', 'F77NNWEQ3FX0FPSH9JX5OKCG2VLRG', 'F77NNWEQ3FX0FPSH9JX5OKCG2VLRG', 'F77NNWEQ3FX0FPSH9JX5OKCG2VLRG', 'F77NNWEQ3FX0FPSH9JX5OKCG2VLRG', 'F77NNWEQ3FX0FPSH9JX5OKCG2VLRG', 'F77NNWEQ3FX0FPSH9JX5OKCG2VLRG', 'F77NNWEQ3FX0FPSH9JX5OKCG2VLRG', 'F77NNWEQ3FX0FPSH9JX5OKCG2VLRG', 'F77NNWEQ3FX0FPSH9JX5OKCG2VLRG', 'F77NNWEQ3FX0FPSH9JX5OKCG2VLRG', 'F77NNWEQ3FX0FPSH9JX5OKCG2VLRG', 'F77NNWEQ3FX0FPSH9JX5OKCG2VLRG', 'F77NNWEQ3FX0FPSH9JX5OKCG2VLRG', 'F77NNWEQ3FX0FPSH9JX5OKCG2VLRG', 'F77NNWEQ3FX0FPSH9JX5OKCG2VLRG', 'F77NNWEQ3FX0FPSH9JX5OKCG2VLRG', 'F77NNWEQ3FX0FPSH9JX5OKCG2VLRG', 'F77NNWEQ3FX0FPSH9JX5OKCG2VLRG', 'F77NNWEQ3FX0FPSH9JX5OKCG2VLRG', 'F77NNWEQ3FX0FPSH9JX5OKCG2VLRG', 'F77NNWEQ3FX0FPSH9JX5OKCG2VLRG', 'F77NNWEQ3FX0FPSH9JX5OKCG2VLRG', 'F77NNWEQ3FX0FPSH9JX5OKCG2VLRG', 'F77NNWEQ3FX0FPSH9JX5OKCG2VLRG', 'F77NNWEQ3FX0FPSH9JX5OKCG2VLRG', 'F77NNWEQ3FX0FPSH9JX5OKCG2VLRG', 'F77NNWEQ3FX0FPSH9JX5OKCG2VLRG', 'F77NNWEQ3FX0FPSH9JX5OKCG2VLRG', 'F77NNWEQ3FX0FPSH9JX5OKCG2VLRG', 'F77NNWEQ3FX0FPSH9JX5OKCG2VLRG', 'F77NNWEQ3FX0FPSH9JX5OKCG2VLRG', 'F77NNWEQ3FX0FPSH9JX5OKCG2VLRG', 'F77NNWEQ3FX0FPSH9JX5OKCG2VLRG', 'F77NNWEQ3FX0FPSH9JX5OKCG2VLRG', 'F77NNWEQ3FX0FPSH9JX5OKCG2VLRG', 'F77NNWEQ3FX0FPSH9JX5OKCG2VLRG', 'F77NNWEQ3FX0FPSH9JX5OKCG2VLRG', 'F77NNWEQ3FX0FPSH9JX5OKCG2VLRG', 'F77NNWEQ3FX0FPSH9JX5OKCG2VLRG', 'F77NNWEQ3FX0FPSH9JX5OKCG2VLRG', 'F77NNWEQ3FX0FPSH9JX5OKCG2VLRG', 'F77NNWEQ3FX0FPSH9JX5OKCG2VLRG', 'F77NNWEQ3FX0FPSH9JX5OKCG2VLRG', 'F77NNWEQ3FX0FPSH9JX5OKCG2VLRG', 'F77NNWEQ3FX0FPSH9JX5OKCG2VLRG', 'F77NNWEQ3FX0FPSH9JX5OKCG2VLRG', 'F77NNWEQ3FX0FPSH9JX5OKCG2VLRG', 'F77NNWEQ3FX0FPSH9JX5OKCG2VLRG', 'F77NNWEQ3FX0FPSH9JX5OKCG2VLRG', 'F77NNWEQ3FX0FPSH9JX5OKCG2VLRG', 'F77NNWEQ3FX0FPSH9JX5OKCG2VLRG', 'F77NNWEQ3FX0FPSH9JX5OKCG2VLRG', 'F77NNWEQ3FX0FPSH9JX5OKCG2VLRG', 'F77NNWEQ3FX0FPSH9JX5OKCG2VLRG', 'F77NNWEQ3FX0FPSH9JX5OKCG2VLRG', 'F77NNWEQ3FX0FPSH9JX5OKCG2VLRG', 'F77NNWEQ3FX0FPSH9JX5OKCG2VLRG', 'F77NNWEQ3FX0FPSH9JX5OKCG2VLRG', 'F77NNWEQ3FX0FPSH9JX5OKCG2VLRG', 'F77NNWEQ3FX0FPSH9JX5OKCG2VLRG', 'F77NNWEQ3FX0FPSH9JX5OKCG2VLRG', 'F77NNWEQ3FX0FPSH9JX5OKCG2VLRG', 'F77NNWEQ3FX0FPSH9JX5OKCG2VLRG', 'F77NNWEQ3FX0FPSH9JX5OKCG2VLRG', 'F77NNWEQ3FX0FPSH9JX5OKCG2VLRG', 'F77NNWEQ3FX0FPSH9JX5OKCG2VLRG', 'F77NNWEQ3FX0FPSH9JX5OKCG2VLRG', 'F77NNWEQ3FX0FPSH9JX5OKCG2VLRG', 'F77NNWEQ3FX0FPSH9JX5OKCG2VLRG', 'F77NNWEQ3FX0FPSH9JX5OKCG2VLRG', 'F77NNWEQ3FX0FPSH9JX5OKCG2VLRG', 'F77NNWEQ3FX0FPSH9JX5OKCG2VLRG', 'F77NNWEQ3FX0FPSH9JX5OKCG2VLRG', 'F77NNWEQ3FX0FPSH9JX5OKCG2VLRG', 'F77NNWEQ3FX0FPSH9JX5OKCG2VLRG', 'F77NNWEQ3FX0FPSH9JX5OKCG2VLRG', 'F77NNWEQ3FX0FPSH9JX5OKCG2VLRG', 'F77NNWEQ3FX0FPSH9JX5OKCG2VLRG', 'F77NNWEQ3FX0FPSH9JX5OKCG2VLRG', 'F77NNWEQ3FX0FPSH9JX5OKCG2VLRG', 'F77NNWEQ3FX0FPSH9JX5OKCG2VLRG', 'F77NNWEQ3FX0FPSH9JX5OKCG2VLRG', 'F77NNWEQ3FX0FPSH9JX5OKCG2VLRG']\n"
     ]
    }
   ],
   "source": [
    "#TESTE DA FUNÇÃO ACIMA\n",
    "pop = criaPop(palavra)\n",
    "print(pop)"
   ]
  },
  {
   "cell_type": "code",
   "execution_count": 30,
   "metadata": {},
   "outputs": [],
   "source": [
    "def mutation(pop, MUTATION_RATE):\n",
    "    new_pop = list()                                                                            #cria uma lista para armazenar a nova população\n",
    "    cont = 1                                                                                    #cria um contador para diferenciar o primeiro individuo dos demais\n",
    "    for c in pop:                                                                               #laço que varre todas as cópias\n",
    "        if cont == 1:                                                                           #analisa o primeiro inidivíduo\n",
    "            new_pop.append(c)                                                                   #o primeiro individuo é adicionado a nova população sem sofrer nenhuma mutação\n",
    "        else:                                                                                   #analisa os demais indivíduos\n",
    "            caracteres = list()                                                                 #cria uma lista vazia para armazenar os caracteres do indivíduo\n",
    "            for i in range (0,TAMANHO):                                                         #varre todos os caracteres do indivíduo\n",
    "                letra = c[i]                                                                    #armazena o caractere atual na variavel LETRA\n",
    "                if(rd.random() < MUTATION_RATE):                                                #analisa se terá mutação ou não\n",
    "                    letra = rd.choice(string.ascii_uppercase + string.digits + '*')             #caso tenha, sorteia uma letra aleatória para a variável LETRA\n",
    "                    while letra == c[i]:                                                        #laço que garante que a letra sorteada será diferente da atual\n",
    "                        letra = rd.choice(string.ascii_uppercase + string.digits + '*')\n",
    "                caracteres.append(letra)                                                        #adiciona a variavel LETRA na lista caracteres\n",
    "            palavra = ''.join(caracteres)                                                       #junta todos os caracteres da lista em uma string\n",
    "            new_pop.append(palavra)                                                             #adiciona essa nova string a nova população\n",
    "            caracteres.clear()                                                                  #limpa a lista caracteres\n",
    "        cont +=1                                                                                #incrementa o contador de individuos\n",
    "    return new_pop"
   ]
  },
  {
   "cell_type": "code",
   "execution_count": 31,
   "metadata": {},
   "outputs": [
    {
     "name": "stdout",
     "output_type": "stream",
     "text": [
      "['F77NNWEQ3FX0FPSH9JX5OKCG2VLRG', 'T77NNWEQ3FX0FPSH9JX5OKCG2VLRG', 'F77NNW1Q3FX0FPSH9JX5OKCG2VLRG', 'F77NNWEQ3FT0FPSH9JX5OKCG2VLOG', 'F77NZWEQ3FX0FPSH9JX5OKCG2VLRG', 'F77NNQEQRFX0FPSY9JX5OKCR2VLRG', 'F77NNWEQ3FX0FPSH9JX5OKCG2VLRG', 'F77NNWEQ3FX0FPSH9JX5OKCG2VLRG', 'F77NNWEQ3WX0FPSH9JXEOKCG2VLRG', 'F77NDWEQ3FQ0F9SH8JX5OKCG2VLRG', 'F77XNBEQ3FX0FPSH9JX5OKHG2VLRG', 'F77NNWEQ3FX0FPSH9JX5MKCG2VLRG', 'F77NNWEQTFX0FPSH9JX5OKCG2VLRG', 'F77NNWEQ3FX0FPSH9JX5OKCG2ULRG', 'F77NNWEQ3FX0FPSH9JX5OKCG2VLRG', 'F77NUWEQ3FX*FPSH9JX5OKCGDVLRG', 'F77WNWEQ3FX0FPSH9JX5OKCG2VLRG', 'F77NNWEQ3FX0FPSH9JX5OKCG2VLRG', 'F76NNWEQ3FX0FPSH9JX5OKCG3VLRG', 'F77*NWEQ3FX0FPSH9JX5OKCG2VLRG', 'F77NNWEQ3FX0FPSH9JZ5OKCG2VLRG', 'F77NNWEQ3FX0FPSA9KX5OKCG2VLRG', 'F77NNWEQ3FX09PSH9JX5OKCG2VLRG', 'F77ZNWEQMFX0FPSH9JX5OKCG2VLRG', 'F77NNWEQ3FX0*PSH9JX5OKCG2VLZG', 'F77NNWEQ3FX0FPSH9JX5OKSG2VLRG', 'F77KNWEQ3FX0FPSH9JX5OKCG2VLRG', 'F77NNWEF3FX0FPSH9JX5OKCG2VLR1', 'F7BNNWEQAFX0FPS49JX5OKCG2VLRG', 'F77NNWEQ3FX0FPCH9JX5OKCG2VLRG', 'F77NNWEQ3FX0FPSH9JX5OKCG2VLRG', 'F77NNWEQ3FX0FPSH9JX5OKCG2VLRG', 'F77NNWEQ3FX0FPSH9JX5OKCG2V4RG', 'F77NNWEQ3FX0FPHH9JX5OKCU2VLRG', 'F77NNWEQ3FX0DPSE9JI5OKCGYVLRG', 'F77JNSEQ3FX0FPSH9JX5OKUG2VLRG', 'F77NNWEQ3FX0FPSH9JX5OKNG2VLRG', 'F77NNWEQ3FX0FPSH9JX5OKCG2VLRG', 'F77NNWEQ3FX*FPSH9JX5OKCG2VLRG', 'F77NNWEQ3FX0FPSH9JXWOK8A2VLRG', 'F77NNUEQ3FX0FPSH9JX5OKCG2VLRO', 'F77NNWEQ3FX0FPSH95X5OKCG2VLRG', 'F77NNWEQ3F10RPSH9JX5CKCG2VLRG', 'F77NNWEQ3FX0FPSH9JX5OKCG2VLRG', 'F77NNWEQ3FX0FPSH9JX5OCCG2VLRG', 'F77NNWEQ3FX0FPSH9JX5OKCG2VLRG', 'F77NNWEQ3FX0FPSH9JX5OKCG2VLRV', 'F77NNWEQ3FX0FPSH9JXCOKCG2VLRG', 'F77NNWEQ3FX0FPSH9JX5OKCG2VLRG', 'F77NWWEQ3UX0FPSH9D05OKCG2VLRG', 'F77NNWEQDFXBFPSH9JX5OKCG2VLRG', 'F77NNWEQ3FX0FPSH9JX5OKCG2VTRG', 'F77NNWEQ3FX0FPSH9JX5OKCG2VLRG', 'F77NNWEQ3GX0F1SH9JX5OKCG2VLRG', 'F77NNWEQ3FX0FPSH9JX5OKCG2VLRG', 'G77NNWEQ3FX0FPSH9JXYOKQG2VLRG', 'F77NNWEQ3FXUFPSH9JX5OKCG2VLRG', 'F77NNWEQ3FX0FPSH9JX5OKCG2VLIG', 'F77NNWEQ3FX0FPSH9JX5OKCG2VURG', 'F77NNYEQ3FX00PSH9JX5UKCG2VLRG', 'F77NNWEQ3FX0FPSH9275OKCL2VLRG', '177NNWEQ3FM0FPS69JX5OKCG2V4RG', 'F77NN5EQ8FX0FPSH9JX5OKC22VLRG', 'F77FNWEQMFX4FPSH9JX5OKCJ2VLRG', 'F77NNWJQ3FX0FPSH9JX5OKCG4TLRG', 'F77RNWEQ3FX0FPSH9JX5OKCG2VLRG', 'C77NNWEQ3FX0FPSA9JX5LKC*2VLRG', 'F77NNWEQ3FX0FPSH9J75OKCG2VLRG', 'F77NNWEQ3FX0FPSH9JX5OKCG2VLRG', 'F77NNWEQ3FX0FPSH9JX5OKCGUVLRG', 'F77NNBEQ3FX0FPSH9JX5OKCG2VLRG', 'F77NNWEQ3FX0FPSH9JX5OKCG2VLRG', 'F77NNWEQ3FX0FPRH9JX5OKCG2VLRG', 'F77NNWEQ3FX0FPSH9J95OKCG2VLRG', 'F77NNWEQ3FX0FPSH9JX5OKCG2VLRG', 'F77NNW6Q3FX0FPSH9JX5OKCG2VLRG', 'F77NNWEQ3FX0FPSH9JX5OKCG2VLRG', 'F77NNWEQ3FX0FPSH9JX5OKCG2PLRG', 'F77NNWIQ3FX0FPSH9JX5OKCG2VLRG', 'T77NNWEQ3FX0FPSH9JX5OKCG2V0RG', 'F77NNWEQ3FX0FPSH9JX5OKCG2VLRG', 'LX7NNWVQ3FX02YSH9JX5OKCG2VLRG', 'F77NNWEQ3FX0FPSH9JX5OKCG2VLRG', 'F77NNWEQ3FX0FPSH9JX5OKCG2VLRG', 'F77NNWEQBFX0FPSH9JX5OKCG2VLRG', 'F77NNWEQ3FX0FPSH9JX5OKCGJVLRG', 'F77NNWEQ3FX0FP*H9JX5OKCG9VLRG', 'F77JNWE43FX0FPSH9JX5OKCG2VLRG', 'F77NNWEQ3FXRFPSH9GX5OKCG2VLRG', 'F77NNWEQ3FX0FPSH9JX5OKCG2VLRG', 'F77NNWEQ3FX0FPSH9JX5OKCG2FLRG', 'F77NNWEQ3FX0FPJH92X5OKCG2VKRG', 'F77NNWEQ3FX0FPSH9JX5ODCG2VRRG', 'F778N5EQ3FX0FPSH9YX5OKCG29LRG', 'F77NNWEQ3FX0EPSH9JX5OKCG2VLRG', 'FF7NNWEQ3FX0FPSH9JC5OKCG2DLRG', 'F77NNWE33FN0LPSH9JX5OKCG2VLRG', 'F77NNWEQ3FX0FPSHYJX5OKCG2VLRG', 'F77NNWEQ3FX0FPSH9JXWOKCG2VLRG', 'F77NNWEQ3FX0FPSH9JX5OKCG2VLRG']\n"
     ]
    }
   ],
   "source": [
    "#TESTE DA FUNÇÃO ACIMA\n",
    "pop = mutation(pop, MUTATION_RATE)\n",
    "print(pop)"
   ]
  },
  {
   "cell_type": "code",
   "execution_count": 32,
   "metadata": {},
   "outputs": [],
   "source": [
    "def analisaCaso(palavra, gabarito=GABARITO):\n",
    "    fitness = 0                                             #inicia fitness com 0\n",
    "    for tam in range(0,TAMANHO):                            #varre todos os caracteres da palavra\n",
    "        if gabarito[tam] == palavra[tam]:                   #compara o enésimo-caractere da palavra com o enésimo-caractere do string desejada\n",
    "            fitness+=1                                      #incrementa o fitness caso os caracteres sejam iguais\n",
    "    return fitness"
   ]
  },
  {
   "cell_type": "code",
   "execution_count": 33,
   "metadata": {},
   "outputs": [
    {
     "name": "stdout",
     "output_type": "stream",
     "text": [
      "29\n"
     ]
    }
   ],
   "source": [
    "#TESTE DA FUNÇÃO ACIMA\n",
    "fitness = analisaCaso('ME*THINKS*IT*IS*LIKE*A*WEASEL')  \n",
    "print(fitness)"
   ]
  },
  {
   "cell_type": "code",
   "execution_count": 34,
   "metadata": {},
   "outputs": [],
   "source": [
    "def popFitness(pop):\n",
    "    pop_fitness = [analisaCaso(each_solution) for each_solution in pop]      #analisa o fitness de todos os elementos de pop e o armazena em uma lista      \n",
    "    return pop_fitness"
   ]
  },
  {
   "cell_type": "code",
   "execution_count": 35,
   "metadata": {},
   "outputs": [
    {
     "name": "stdout",
     "output_type": "stream",
     "text": [
      "[1, 1, 1, 1, 1, 1, 1, 1, 2, 1, 1, 1, 1, 1, 1, 1, 1, 1, 1, 1, 1, 1, 1, 1, 2, 1, 1, 1, 1, 0, 1, 1, 1, 0, 1, 1, 1, 1, 1, 1, 1, 1, 1, 1, 1, 1, 1, 1, 1, 1, 1, 1, 1, 1, 1, 1, 1, 1, 1, 1, 1, 1, 1, 1, 1, 1, 1, 1, 1, 1, 1, 1, 0, 1, 1, 1, 1, 1, 1, 1, 1, 1, 1, 1, 1, 1, 0, 1, 1, 1, 1, 0, 1, 1, 1, 1, 1, 1, 1, 1]\n"
     ]
    }
   ],
   "source": [
    "#TESTE DA FUNÇÃO ACIMA\n",
    "pop_fitness = popFitness(pop)\n",
    "print(pop_fitness)\n"
   ]
  },
  {
   "cell_type": "code",
   "execution_count": 36,
   "metadata": {},
   "outputs": [
    {
     "name": "stdout",
     "output_type": "stream",
     "text": [
      "Palavra inicial: 1UX9BDCUUWJU3OXUQUZR3IIQC9MG5\n",
      "Melhor indíviduo da 1º geração: 1UX9BDCUUWJU3OXUQUZR*IIQC9MG5\n",
      "Melhor indíviduo da 2º geração: 1UX9BDCUUWJU3OXUQUZR*IIWC9MGR\n",
      "Melhor indíviduo da 3º geração: 1UX9BDCUUWJU3OXULUZR*IIWC9MGR\n",
      "Melhor indíviduo da 4º geração: 1UX9BDCKUWJU3OXULUZR*IIWC9MGR\n",
      "Melhor indíviduo da 5º geração: 1UX9BDCKUWJU3OXULUZR*IIWE9MBR\n",
      "Melhor indíviduo da 6º geração: 1UX9BDCKUWJU3OXULUZR*GIWE9MBL\n",
      "Melhor indíviduo da 7º geração: 1L69BDCKUWJU3OXULUZR*AIWE9MBL\n",
      "Melhor indíviduo da 8º geração: 1L69BDCKUWJU3OXULUZR*AIWE9MBL\n",
      "Melhor indíviduo da 9º geração: 1E69BDCKUWJU3OKULUZR*AIWE9MBL\n",
      "Melhor indíviduo da 10º geração: 1E69HDCKUWJU3OKULUZR*AIWE9MBL\n",
      "Melhor indíviduo da 11º geração: 1E69HDCKU*JU3OKULUZR*AIWE9MBL\n",
      "Melhor indíviduo da 12º geração: ME69HDCKU*JU3OKULUZR*AIWE9MBL\n",
      "Melhor indíviduo da 13º geração: ME69HDCKU*JU3OKULUZR*AIWE9MBL\n",
      "Melhor indíviduo da 14º geração: ME69HDCKU*JU3OKXLIZR*AIWE9MBL\n",
      "Melhor indíviduo da 15º geração: ME69HDCKU*JU3OKXLIZR*AIWE9MBL\n",
      "Melhor indíviduo da 16º geração: ME69HDCKU*JT3OKXLIZR*AIWE9MBL\n",
      "Melhor indíviduo da 17º geração: ME69HDCKU*JT3OSXLIZR*AIWE9XBL\n",
      "Melhor indíviduo da 18º geração: ME69HDCKU*JT3OSXLIZR*AIWE9XBL\n",
      "Melhor indíviduo da 19º geração: ME69HICKU*JT3OSXLIZR*AIWE9XBL\n",
      "Melhor indíviduo da 20º geração: ME69HICKS*JT0OSXLIZ2*A9WE9XBL\n",
      "Melhor indíviduo da 21º geração: ME69HICKS*JT0OS0LIZ2*A*WE9XBL\n",
      "Melhor indíviduo da 22º geração: ME69HICKS*JT0OS0LIZ2*A*WE9XBL\n",
      "Melhor indíviduo da 23º geração: ME*9HICKS*JT0LS0LIZ2*A*WE9XBL\n",
      "Melhor indíviduo da 24º geração: ME*9HICKS*JT0LS0LIZ2*A*WE9XBL\n",
      "Melhor indíviduo da 25º geração: ME*THICKS*JT0LS0LIZ2*A*WE9XBL\n",
      "Melhor indíviduo da 26º geração: ME*THICKS*JT0LS0LIZ2*A*WE9XBL\n",
      "Melhor indíviduo da 27º geração: ME*THICKS*JT0LS0LIZ2*A*WE9XBL\n",
      "Melhor indíviduo da 28º geração: ME*THICKS*JT0LS0LIZ2*A*WE9XBL\n",
      "Melhor indíviduo da 29º geração: ME*THICKS*JT0LS0LIZ2*A*WE9XBL\n",
      "Melhor indíviduo da 30º geração: ME*THICKS*JT0LS0LIZ2*A*WE9XBL\n",
      "Melhor indíviduo da 31º geração: ME*THICKS*JT0LS0LIZ2*A*WE9XBL\n",
      "Melhor indíviduo da 32º geração: ME*THICKS*JT0LS0LIZ2*A*WE9XBL\n",
      "Melhor indíviduo da 33º geração: ME*THICKS*JT0LS0LIZ2*A*WE9XBL\n",
      "Melhor indíviduo da 34º geração: ME*THICKS*JT0LS0LIZ2*A*WE9XBL\n",
      "Melhor indíviduo da 35º geração: ME*THICKS*JT0LS0LIZ2*A*WE9XBL\n",
      "Melhor indíviduo da 36º geração: ME*THICKS*JT0LS0LIK2*A*WE9XBL\n",
      "Melhor indíviduo da 37º geração: ME*THICKS*JT0LS0LIK2*A*WE9XBL\n",
      "Melhor indíviduo da 38º geração: ME*THICKS*JT0LS0LIKE*A*WE9*BL\n",
      "Melhor indíviduo da 39º geração: ME*THICKS*JT*LS0LIKE*A*WE9*BL\n",
      "Melhor indíviduo da 40º geração: ME*THICKS*JT*LS0LIKE*A*WE9*BL\n",
      "Melhor indíviduo da 41º geração: ME*THICKS*JT*LS0LIKE*A*WE9*BL\n",
      "Melhor indíviduo da 42º geração: ME*THICKS*JT*LS0LIKE*A*WE9*BL\n",
      "Melhor indíviduo da 43º geração: ME*THICKS*JT*LS0LIKE*A*WE9*BL\n",
      "Melhor indíviduo da 44º geração: ME*THICKS*JT*LS0LIKE*A*WEA*BL\n",
      "Melhor indíviduo da 45º geração: ME*THICKS*JT*LS0LIKE*A*WEA*BL\n",
      "Melhor indíviduo da 46º geração: ME*THICKS*IT*LS0LIKE*A*WEA*BL\n",
      "Melhor indíviduo da 47º geração: ME*THICKS*IT*LS0LIKE*A*WEA*BL\n",
      "Melhor indíviduo da 48º geração: ME*THICKS*IT*LS0LIKE*A*WEA*BL\n",
      "Melhor indíviduo da 49º geração: ME*THITKS*IT*IS0LIKE*A*WEA*BL\n",
      "Melhor indíviduo da 50º geração: ME*THITKS*IT*IS0LIKE*A*WEA*BL\n",
      "Melhor indíviduo da 51º geração: ME*THITKS*IT*IS0LIKE*A*WEASBL\n",
      "Melhor indíviduo da 52º geração: ME*THITKS*IT*IS0LIKE*A*WEASBL\n",
      "Melhor indíviduo da 53º geração: ME*THITKS*IT*IS0LIKE*A*WEASBL\n",
      "Melhor indíviduo da 54º geração: ME*THITKS*IT*IS*LIKE*A*WEASBL\n",
      "Melhor indíviduo da 55º geração: ME*THITKS*IT*IS*LIKE*A*WEASBL\n",
      "Melhor indíviduo da 56º geração: ME*THITKS*IT*IS*LIKE*A*WEASBL\n",
      "Melhor indíviduo da 57º geração: ME*THITKS*IT*IS*LIKE*A*WEASBL\n",
      "Melhor indíviduo da 58º geração: ME*THITKS*IT*IS*LIKE*A*WEASBL\n",
      "Melhor indíviduo da 59º geração: ME*THITKS*IT*IS*LIKE*A*WEASBL\n",
      "Melhor indíviduo da 60º geração: ME*THINKS*IT*IS*LIKE*A*WEASBL\n",
      "Melhor indíviduo da 61º geração: ME*THINKS*IT*IS*LIKE*A*WEASBL\n",
      "Melhor indíviduo da 62º geração: ME*THINKS*IT*IS*LIKE*A*WEASBL\n",
      "Melhor indíviduo da 63º geração: ME*THINKS*IT*IS*LIKE*A*WEASBL\n",
      "Melhor indíviduo da 64º geração: ME*THINKS*IT*IS*LIKE*A*WEASBL\n",
      "Melhor indíviduo da 65º geração: ME*THINKS*IT*IS*LIKE*A*WEASBL\n",
      "Melhor indíviduo da 66º geração: ME*THINKS*IT*IS*LIKE*A*WEASBL\n",
      "Melhor indíviduo da 67º geração: ME*THINKS*IT*IS*LIKE*A*WEASBL\n",
      "Melhor indíviduo da 68º geração: ME*THINKS*IT*IS*LIKE*A*WEASBL\n",
      "Melhor indíviduo da 69º geração: ME*THINKS*IT*IS*LIKE*A*WEASBL\n",
      "Melhor indíviduo da 70º geração: ME*THINKS*IT*IS*LIKE*A*WEASBL\n",
      "Melhor indíviduo da 71º geração: ME*THINKS*IT*IS*LIKE*A*WEASBL\n",
      "Melhor indíviduo da 72º geração: ME*THINKS*IT*IS*LIKE*A*WEASBL\n",
      "Melhor indíviduo da 73º geração: ME*THINKS*IT*IS*LIKE*A*WEASBL\n",
      "Melhor indíviduo da 74º geração: ME*THINKS*IT*IS*LIKE*A*WEASBL\n",
      "Melhor indíviduo da 75º geração: ME*THINKS*IT*IS*LIKE*A*WEASBL\n",
      "Melhor indíviduo da 76º geração: ME*THINKS*IT*IS*LIKE*A*WEASBL\n",
      "Melhor indíviduo da 77º geração: ME*THINKS*IT*IS*LIKE*A*WEASBL\n",
      "Melhor indíviduo da 78º geração: ME*THINKS*IT*IS*LIKE*A*WEASBL\n",
      "Melhor indíviduo da 79º geração: ME*THINKS*IT*IS*LIKE*A*WEASBL\n",
      "Melhor indíviduo da 80º geração: ME*THINKS*IT*IS*LIKE*A*WEASBL\n",
      "Melhor indíviduo da 81º geração: ME*THINKS*IT*IS*LIKE*A*WEASBL\n",
      "Melhor indíviduo da 82º geração: ME*THINKS*IT*IS*LIKE*A*WEASBL\n",
      "Melhor indíviduo da 83º geração: ME*THINKS*IT*IS*LIKE*A*WEASBL\n",
      "Melhor indíviduo da 84º geração: ME*THINKS*IT*IS*LIKE*A*WEASBL\n",
      "Melhor indíviduo da 85º geração: ME*THINKS*IT*IS*LIKE*A*WEASBL\n",
      "Melhor indíviduo da 86º geração: ME*THINKS*IT*IS*LIKE*A*WEASBL\n",
      "Melhor indíviduo da 87º geração: ME*THINKS*IT*IS*LIKE*A*WEASBL\n",
      "Melhor indíviduo da 88º geração: ME*THINKS*IT*IS*LIKE*A*WEASBL\n",
      "Melhor indíviduo da 89º geração: ME*THINKS*IT*IS*LIKE*A*WEASBL\n",
      "Melhor indíviduo da 90º geração: ME*THINKS*IT*IS*LIKE*A*WEASBL\n",
      "Melhor indíviduo da 91º geração: ME*THINKS*IT*IS*LIKE*A*WEASBL\n",
      "Melhor indíviduo da 92º geração: ME*THINKS*IT*IS*LIKE*A*WEASBL\n",
      "Melhor indíviduo da 93º geração: ME*THINKS*IT*IS*LIKE*A*WEASBL\n",
      "Melhor indíviduo da 94º geração: ME*THINKS*IT*IS*LIKE*A*WEASBL\n",
      "Melhor indíviduo da 95º geração: ME*THINKS*IT*IS*LIKE*A*WEASBL\n",
      "Melhor indíviduo da 96º geração: ME*THINKS*IT*IS*LIKE*A*WEASBL\n",
      "Melhor indíviduo da 97º geração: ME*THINKS*IT*IS*LIKE*A*WEASBL\n",
      "Melhor indíviduo da 98º geração: ME*THINKS*IT*IS*LIKE*A*WEASBL\n",
      "Melhor indíviduo da 99º geração: ME*THINKS*IT*IS*LIKE*A*WEASBL\n",
      "Melhor indíviduo da 100º geração: ME*THINKS*IT*IS*LIKE*A*WEASEL\n",
      "String final: ME*THINKS*IT*IS*LIKE*A*WEASEL\n",
      "Número de caracteres iguais: 29\n",
      "Geração que encontrou a solução: 100º\n"
     ]
    }
   ],
   "source": [
    "#ALGORITMO GENÉTICO COMPLETO\n",
    "palavra = criaString()                                                   #gera uma palavra aleatória\n",
    "best = analisaCaso(palavra)                                              #analisa o fitness da palavra\n",
    "pop = [palavra]                                                          #população inicial contém apenas a palavra sorteada    \n",
    "i = 0                                                                    #contador de gerações\n",
    "print(f'Palavra inicial: {palavra}')  \n",
    "while best!=TAMANHO:\n",
    "    i+=1                                                                 #incrementa um ao número da geração\n",
    "    if(rd.random()<CROSSOVER_RATE):                                      #analisa se tem cruzamento ou não\n",
    "        pop = criaPop(palavra)                                           #cria as 100 cópias\n",
    "        pop = mutation(pop, MUTATION_RATE)                               #aplica as mutações nas 100 cópias\n",
    "    pop_fitness = popFitness(pop)                                        #analisa o fitness da população\n",
    "    best = max(pop_fitness)                                              #descobre o melhor fitness\n",
    "    pos_best = pop_fitness.index(best)                                   #descobre a posição do melhor fitness\n",
    "    palavra = pop[pos_best]                                              #descobre o indivíduo com melhor fitness\n",
    "    print(f'Melhor indíviduo da {i}º geração: {palavra}')\n",
    "print(f'String final: {palavra}')\n",
    "print(f'Número de caracteres iguais: {best}')\n",
    "print(f'Geração que encontrou a solução: {i}º')\n"
   ]
  }
 ],
 "metadata": {
  "interpreter": {
   "hash": "20099c77346fa184342f5a0e1dc2579955983be62f07a7f263c863d4bded7e85"
  },
  "kernelspec": {
   "display_name": "Python 3.10.0 64-bit (windows store)",
   "language": "python",
   "name": "python3"
  },
  "language_info": {
   "codemirror_mode": {
    "name": "ipython",
    "version": 3
   },
   "file_extension": ".py",
   "mimetype": "text/x-python",
   "name": "python",
   "nbconvert_exporter": "python",
   "pygments_lexer": "ipython3",
   "version": "3.10.1"
  },
  "orig_nbformat": 4
 },
 "nbformat": 4,
 "nbformat_minor": 2
}
