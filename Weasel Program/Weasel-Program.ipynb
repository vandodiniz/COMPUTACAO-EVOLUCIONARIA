{
 "cells": [
  {
   "cell_type": "code",
   "execution_count": 1,
   "metadata": {},
   "outputs": [],
   "source": [
    "import random as rd\n",
    "import numpy as np\n",
    "import string\n",
    "\n",
    "COPIAS = 100\n",
    "CROSSOVER_RATE = 1\n",
    "MUTATION_RATE = 0.05"
   ]
  },
  {
   "cell_type": "code",
   "execution_count": 2,
   "metadata": {},
   "outputs": [],
   "source": [
    "def criaString():\n",
    "    palavra = ''\n",
    "    for tam in range(0,29):\n",
    "        letra = rd.choice(string.ascii_uppercase + string.digits + '*')\n",
    "        palavra = palavra + letra\n",
    "    return palavra"
   ]
  },
  {
   "cell_type": "code",
   "execution_count": 3,
   "metadata": {},
   "outputs": [
    {
     "name": "stdout",
     "output_type": "stream",
     "text": [
      "YTLTCJ4ODVOH256OTTTK7GEH3U7JA\n"
     ]
    }
   ],
   "source": [
    "#TESTE DA FUNÇÃO ACIMA\n",
    "palavra = criaString()\n",
    "print(palavra)"
   ]
  },
  {
   "cell_type": "code",
   "execution_count": 4,
   "metadata": {},
   "outputs": [],
   "source": [
    "def criaPop(individuo):\n",
    "    pop = list()\n",
    "    for tam in range(0,COPIAS):\n",
    "        pop.append(individuo)\n",
    "    return pop"
   ]
  },
  {
   "cell_type": "code",
   "execution_count": 7,
   "metadata": {},
   "outputs": [
    {
     "name": "stdout",
     "output_type": "stream",
     "text": [
      "['YTLTCJ4ODVOH256OTTTK7GEH3U7JA', 'YTLTCJ4ODVOH256OTTTK7GEH3U7JA', 'YTLTCJ4ODVOH256OTTTK7GEH3U7JA', 'YTLTCJ4ODVOH256OTTTK7GEH3U7JA', 'YTLTCJ4ODVOH256OTTTK7GEH3U7JA', 'YTLTCJ4ODVOH256OTTTK7GEH3U7JA', 'YTLTCJ4ODVOH256OTTTK7GEH3U7JA', 'YTLTCJ4ODVOH256OTTTK7GEH3U7JA', 'YTLTCJ4ODVOH256OTTTK7GEH3U7JA', 'YTLTCJ4ODVOH256OTTTK7GEH3U7JA', 'YTLTCJ4ODVOH256OTTTK7GEH3U7JA', 'YTLTCJ4ODVOH256OTTTK7GEH3U7JA', 'YTLTCJ4ODVOH256OTTTK7GEH3U7JA', 'YTLTCJ4ODVOH256OTTTK7GEH3U7JA', 'YTLTCJ4ODVOH256OTTTK7GEH3U7JA', 'YTLTCJ4ODVOH256OTTTK7GEH3U7JA', 'YTLTCJ4ODVOH256OTTTK7GEH3U7JA', 'YTLTCJ4ODVOH256OTTTK7GEH3U7JA', 'YTLTCJ4ODVOH256OTTTK7GEH3U7JA', 'YTLTCJ4ODVOH256OTTTK7GEH3U7JA', 'YTLTCJ4ODVOH256OTTTK7GEH3U7JA', 'YTLTCJ4ODVOH256OTTTK7GEH3U7JA', 'YTLTCJ4ODVOH256OTTTK7GEH3U7JA', 'YTLTCJ4ODVOH256OTTTK7GEH3U7JA', 'YTLTCJ4ODVOH256OTTTK7GEH3U7JA', 'YTLTCJ4ODVOH256OTTTK7GEH3U7JA', 'YTLTCJ4ODVOH256OTTTK7GEH3U7JA', 'YTLTCJ4ODVOH256OTTTK7GEH3U7JA', 'YTLTCJ4ODVOH256OTTTK7GEH3U7JA', 'YTLTCJ4ODVOH256OTTTK7GEH3U7JA', 'YTLTCJ4ODVOH256OTTTK7GEH3U7JA', 'YTLTCJ4ODVOH256OTTTK7GEH3U7JA', 'YTLTCJ4ODVOH256OTTTK7GEH3U7JA', 'YTLTCJ4ODVOH256OTTTK7GEH3U7JA', 'YTLTCJ4ODVOH256OTTTK7GEH3U7JA', 'YTLTCJ4ODVOH256OTTTK7GEH3U7JA', 'YTLTCJ4ODVOH256OTTTK7GEH3U7JA', 'YTLTCJ4ODVOH256OTTTK7GEH3U7JA', 'YTLTCJ4ODVOH256OTTTK7GEH3U7JA', 'YTLTCJ4ODVOH256OTTTK7GEH3U7JA', 'YTLTCJ4ODVOH256OTTTK7GEH3U7JA', 'YTLTCJ4ODVOH256OTTTK7GEH3U7JA', 'YTLTCJ4ODVOH256OTTTK7GEH3U7JA', 'YTLTCJ4ODVOH256OTTTK7GEH3U7JA', 'YTLTCJ4ODVOH256OTTTK7GEH3U7JA', 'YTLTCJ4ODVOH256OTTTK7GEH3U7JA', 'YTLTCJ4ODVOH256OTTTK7GEH3U7JA', 'YTLTCJ4ODVOH256OTTTK7GEH3U7JA', 'YTLTCJ4ODVOH256OTTTK7GEH3U7JA', 'YTLTCJ4ODVOH256OTTTK7GEH3U7JA', 'YTLTCJ4ODVOH256OTTTK7GEH3U7JA', 'YTLTCJ4ODVOH256OTTTK7GEH3U7JA', 'YTLTCJ4ODVOH256OTTTK7GEH3U7JA', 'YTLTCJ4ODVOH256OTTTK7GEH3U7JA', 'YTLTCJ4ODVOH256OTTTK7GEH3U7JA', 'YTLTCJ4ODVOH256OTTTK7GEH3U7JA', 'YTLTCJ4ODVOH256OTTTK7GEH3U7JA', 'YTLTCJ4ODVOH256OTTTK7GEH3U7JA', 'YTLTCJ4ODVOH256OTTTK7GEH3U7JA', 'YTLTCJ4ODVOH256OTTTK7GEH3U7JA', 'YTLTCJ4ODVOH256OTTTK7GEH3U7JA', 'YTLTCJ4ODVOH256OTTTK7GEH3U7JA', 'YTLTCJ4ODVOH256OTTTK7GEH3U7JA', 'YTLTCJ4ODVOH256OTTTK7GEH3U7JA', 'YTLTCJ4ODVOH256OTTTK7GEH3U7JA', 'YTLTCJ4ODVOH256OTTTK7GEH3U7JA', 'YTLTCJ4ODVOH256OTTTK7GEH3U7JA', 'YTLTCJ4ODVOH256OTTTK7GEH3U7JA', 'YTLTCJ4ODVOH256OTTTK7GEH3U7JA', 'YTLTCJ4ODVOH256OTTTK7GEH3U7JA', 'YTLTCJ4ODVOH256OTTTK7GEH3U7JA', 'YTLTCJ4ODVOH256OTTTK7GEH3U7JA', 'YTLTCJ4ODVOH256OTTTK7GEH3U7JA', 'YTLTCJ4ODVOH256OTTTK7GEH3U7JA', 'YTLTCJ4ODVOH256OTTTK7GEH3U7JA', 'YTLTCJ4ODVOH256OTTTK7GEH3U7JA', 'YTLTCJ4ODVOH256OTTTK7GEH3U7JA', 'YTLTCJ4ODVOH256OTTTK7GEH3U7JA', 'YTLTCJ4ODVOH256OTTTK7GEH3U7JA', 'YTLTCJ4ODVOH256OTTTK7GEH3U7JA', 'YTLTCJ4ODVOH256OTTTK7GEH3U7JA', 'YTLTCJ4ODVOH256OTTTK7GEH3U7JA', 'YTLTCJ4ODVOH256OTTTK7GEH3U7JA', 'YTLTCJ4ODVOH256OTTTK7GEH3U7JA', 'YTLTCJ4ODVOH256OTTTK7GEH3U7JA', 'YTLTCJ4ODVOH256OTTTK7GEH3U7JA', 'YTLTCJ4ODVOH256OTTTK7GEH3U7JA', 'YTLTCJ4ODVOH256OTTTK7GEH3U7JA', 'YTLTCJ4ODVOH256OTTTK7GEH3U7JA', 'YTLTCJ4ODVOH256OTTTK7GEH3U7JA', 'YTLTCJ4ODVOH256OTTTK7GEH3U7JA', 'YTLTCJ4ODVOH256OTTTK7GEH3U7JA', 'YTLTCJ4ODVOH256OTTTK7GEH3U7JA', 'YTLTCJ4ODVOH256OTTTK7GEH3U7JA', 'YTLTCJ4ODVOH256OTTTK7GEH3U7JA', 'YTLTCJ4ODVOH256OTTTK7GEH3U7JA', 'YTLTCJ4ODVOH256OTTTK7GEH3U7JA', 'YTLTCJ4ODVOH256OTTTK7GEH3U7JA', 'YTLTCJ4ODVOH256OTTTK7GEH3U7JA', 'YTLTCJ4ODVOH256OTTTK7GEH3U7JA']\n"
     ]
    }
   ],
   "source": [
    "#TESTE DA FUNÇÃO ACIMA\n",
    "pop = criaPop(palavra)\n",
    "print(pop)"
   ]
  },
  {
   "cell_type": "code",
   "execution_count": 8,
   "metadata": {},
   "outputs": [],
   "source": [
    "def analisaCaso(palavra):\n",
    "    gabarito = 'ME*THINKS*IT*IS*LIKE*A*WEASEL'\n",
    "    fitness = 0\n",
    "    for tam in range(0,29):\n",
    "        if gabarito[tam] == palavra[tam]:\n",
    "            fitness+=1\n",
    "    return fitness"
   ]
  },
  {
   "cell_type": "code",
   "execution_count": 9,
   "metadata": {},
   "outputs": [
    {
     "data": {
      "text/plain": [
       "29"
      ]
     },
     "execution_count": 9,
     "metadata": {},
     "output_type": "execute_result"
    }
   ],
   "source": [
    "#TESTE DA FUNÇÃO ACIMA\n",
    "analisaCaso('ME*THINKS*IT*IS*LIKE*A*WEASEL')  "
   ]
  },
  {
   "cell_type": "code",
   "execution_count": 10,
   "metadata": {},
   "outputs": [],
   "source": [
    "#ANALISA O FITNESS DE CADA INDIVIDUO DA POPULAÇÃO\n",
    "def popFitness(x):\n",
    "    pop_fitness = [analisaCaso(each_solution) for each_solution in x]                  \n",
    "    return pop_fitness"
   ]
  },
  {
   "cell_type": "code",
   "execution_count": 11,
   "metadata": {},
   "outputs": [
    {
     "data": {
      "text/plain": [
       "[1,\n",
       " 1,\n",
       " 1,\n",
       " 1,\n",
       " 1,\n",
       " 1,\n",
       " 1,\n",
       " 1,\n",
       " 1,\n",
       " 1,\n",
       " 1,\n",
       " 1,\n",
       " 1,\n",
       " 1,\n",
       " 1,\n",
       " 1,\n",
       " 1,\n",
       " 1,\n",
       " 1,\n",
       " 1,\n",
       " 1,\n",
       " 1,\n",
       " 1,\n",
       " 1,\n",
       " 1,\n",
       " 1,\n",
       " 1,\n",
       " 1,\n",
       " 1,\n",
       " 1,\n",
       " 1,\n",
       " 1,\n",
       " 1,\n",
       " 1,\n",
       " 1,\n",
       " 1,\n",
       " 1,\n",
       " 1,\n",
       " 1,\n",
       " 1,\n",
       " 1,\n",
       " 1,\n",
       " 1,\n",
       " 1,\n",
       " 1,\n",
       " 1,\n",
       " 1,\n",
       " 1,\n",
       " 1,\n",
       " 1,\n",
       " 1,\n",
       " 1,\n",
       " 1,\n",
       " 1,\n",
       " 1,\n",
       " 1,\n",
       " 1,\n",
       " 1,\n",
       " 1,\n",
       " 1,\n",
       " 1,\n",
       " 1,\n",
       " 1,\n",
       " 1,\n",
       " 1,\n",
       " 1,\n",
       " 1,\n",
       " 1,\n",
       " 1,\n",
       " 1,\n",
       " 1,\n",
       " 1,\n",
       " 1,\n",
       " 1,\n",
       " 1,\n",
       " 1,\n",
       " 1,\n",
       " 1,\n",
       " 1,\n",
       " 1,\n",
       " 1,\n",
       " 1,\n",
       " 1,\n",
       " 1,\n",
       " 1,\n",
       " 1,\n",
       " 1,\n",
       " 1,\n",
       " 1,\n",
       " 1,\n",
       " 1,\n",
       " 1,\n",
       " 1,\n",
       " 1,\n",
       " 1,\n",
       " 1,\n",
       " 1,\n",
       " 1,\n",
       " 1,\n",
       " 1]"
      ]
     },
     "execution_count": 11,
     "metadata": {},
     "output_type": "execute_result"
    }
   ],
   "source": [
    "popFitness(pop)"
   ]
  },
  {
   "cell_type": "code",
   "execution_count": null,
   "metadata": {},
   "outputs": [],
   "source": [
    "def mutation(pop, MUTATION_RATE):\n",
    "    for c in pop:\n",
    "        for i in range (0,29):\n",
    "            c[i]"
   ]
  }
 ],
 "metadata": {
  "interpreter": {
   "hash": "20099c77346fa184342f5a0e1dc2579955983be62f07a7f263c863d4bded7e85"
  },
  "kernelspec": {
   "display_name": "Python 3.10.0 64-bit (windows store)",
   "language": "python",
   "name": "python3"
  },
  "language_info": {
   "codemirror_mode": {
    "name": "ipython",
    "version": 3
   },
   "file_extension": ".py",
   "mimetype": "text/x-python",
   "name": "python",
   "nbconvert_exporter": "python",
   "pygments_lexer": "ipython3",
   "version": "3.10.0"
  },
  "orig_nbformat": 4
 },
 "nbformat": 4,
 "nbformat_minor": 2
}
